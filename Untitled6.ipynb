{
 "cells": [
  {
   "cell_type": "code",
   "execution_count": 1,
   "id": "09e0d7a0-ed61-4cf0-aa81-ea6d76adddfd",
   "metadata": {},
   "outputs": [
    {
     "data": {
      "application/javascript": [
       "\n",
       "console.log(\"=== SIMPLE TEST START ===\");\n",
       "\n",
       "// Remove existing\n",
       "document.querySelectorAll('[id*=\"shm-dropdown\"]').forEach(el => el.remove());\n",
       "\n",
       "// Simple insert function\n",
       "function simpleInsert(code) {\n",
       "    console.log(\"simpleInsert called with:\", code);\n",
       "    \n",
       "    // Try different APIs\n",
       "    console.log(\"window.IPython:\", typeof window.IPython);\n",
       "    \n",
       "    if (window.IPython && window.IPython.notebook) {\n",
       "        console.log(\"Found IPython.notebook\");\n",
       "        try {\n",
       "            const nb = window.IPython.notebook;\n",
       "            console.log(\"notebook object:\", nb);\n",
       "            \n",
       "            // Try kernel execute method\n",
       "            if (nb.kernel) {\n",
       "                console.log(\"Using kernel.execute method\");\n",
       "                const cmd = 'get_ipython().set_next_input(\"\"\"' + code + '\"\"\")';\n",
       "                nb.kernel.execute(cmd);\n",
       "                console.log(\"✅ Executed kernel command\");\n",
       "                return true;\n",
       "            }\n",
       "        } catch (e) {\n",
       "            console.log(\"❌ IPython method failed:\", e);\n",
       "        }\n",
       "    }\n",
       "    \n",
       "    console.log(\"❌ All methods failed, no insertion\");\n",
       "    return false;\n",
       "}\n",
       "\n",
       "// Create simple test button\n",
       "const btn = document.createElement('button');\n",
       "btn.textContent = 'Test Insert Code';\n",
       "btn.style.cssText = `\n",
       "    position: fixed;\n",
       "    top: 100px;\n",
       "    right: 20px;\n",
       "    background: red;\n",
       "    color: white;\n",
       "    border: none;\n",
       "    padding: 10px 20px;\n",
       "    font-size: 14px;\n",
       "    cursor: pointer;\n",
       "    z-index: 9999;\n",
       "`;\n",
       "\n",
       "btn.onclick = function() {\n",
       "    console.log(\"=== BUTTON CLICKED ===\");\n",
       "    const testCode = 'print(\"Hello from auto-insert!\")';\n",
       "    simpleInsert(testCode);\n",
       "};\n",
       "\n",
       "document.body.appendChild(btn);\n",
       "console.log(\"=== SIMPLE TEST READY - Click red button ===\");\n"
      ],
      "text/plain": [
       "<IPython.core.display.Javascript object>"
      ]
     },
     "metadata": {},
     "output_type": "display_data"
    },
    {
     "name": "stdout",
     "output_type": "stream",
     "text": [
      "🔴 Simple test loaded - click RED button and check console\n"
     ]
    }
   ],
   "source": [
    "%run simple_test.py"
   ]
  },
  {
   "cell_type": "code",
   "execution_count": null,
   "id": "577cbdfa-4b4b-4c00-8685-a091f4890c18",
   "metadata": {},
   "outputs": [],
   "source": [
    "# Remove mean from signal.\n",
    "result = shmtools.demean(\n",
    "    x=data,  # np.ndarray Input signal.\n",
    "    axis=0,  # int, optional Axis along which to remove mean. Default is 0. (optional)\n",
    ")"
   ]
  },
  {
   "cell_type": "code",
   "execution_count": null,
   "id": "5a7ea126-5053-458c-b786-c2d622e21511",
   "metadata": {},
   "outputs": [],
   "source": [
    "# Receiver operating characteristic (ROC) curve.\n",
    "result = shmtools.roc(\n",
    "    scores=data,  # array_like Vector composed of scores for each instance.\n",
    "    damage_states=data,  # array_like Binary classification vector of known damage states (0-undamaged and 1-damaged) corresponding to vector of scores.\n",
    "    num_pts=1,  # int, optional Number of points to evaluate ROC curve at. If None (recommended), each score value from a damaged state is used as a threshold. (optional)\n",
    "    threshold_type=below,  # str, optional 'above' or 'below' to define if scores above or below a given (optional)\n",
    ")"
   ]
  }
 ],
 "metadata": {
  "kernelspec": {
   "display_name": "Python 3 (ipykernel)",
   "language": "python",
   "name": "python3"
  },
  "language_info": {
   "codemirror_mode": {
    "name": "ipython",
    "version": 3
   },
   "file_extension": ".py",
   "mimetype": "text/x-python",
   "name": "python",
   "nbconvert_exporter": "python",
   "pygments_lexer": "ipython3",
   "version": "3.9.6"
  }
 },
 "nbformat": 4,
 "nbformat_minor": 5
}
