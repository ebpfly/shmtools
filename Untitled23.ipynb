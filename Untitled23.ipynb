{
 "cells": [
  {
   "cell_type": "code",
   "execution_count": null,
   "id": "35a52f27-56ea-48fa-bd4d-e41b6a7a425c",
   "metadata": {},
   "outputs": [],
   "source": [
    "# Determine optimal AR model order.\n",
    "ar_coeffs, rmse = shmtools.ar_model_order(\n",
    "    x=data,  # np.ndarray Input time series.\n",
    "    max_order=20,  # int, optional Maximum order to test. Default is 20. (optional)\n",
    "    criterion=aic,  # str, optional Information criterion ('aic', 'bic'). Default is 'aic'. (optional)\n",
    ")"
   ]
  },
  {
   "cell_type": "code",
   "execution_count": null,
   "id": "601f5924-d7e3-4ecc-a070-139d19f0a09d",
   "metadata": {},
   "outputs": [],
   "source": [
    "# Estimate autoregressive model parameters and compute RMSE.\n",
    "ar_coeffs, rmse = shmtools.ar_model(\n",
    "    X=data,  # array_like Input time series data of shape (TIME, CHANNELS, INSTANCES).\n",
    "    ar_order=5,  # int, optional AR model order. (optional)\n",
    ")"
   ]
  },
  {
   "cell_type": "code",
   "execution_count": null,
   "id": "357c3385-6a6f-497f-9914-9d1ae6b8d84e",
   "metadata": {},
   "outputs": [],
   "source": [
    "# Estimate autoregressive model parameters and compute RMSE.\n",
    "ar_coeffs, rmse = shmtools.ar_model(\n",
    "    X=data,  # array_like Input time series data of shape (TIME, CHANNELS, INSTANCES).\n",
    "    ar_order=ar_coeffs)"
   ]
  }
 ],
 "metadata": {
  "kernelspec": {
   "display_name": "Python 3 (ipykernel)",
   "language": "python",
   "name": "python3"
  },
  "language_info": {
   "codemirror_mode": {
    "name": "ipython",
    "version": 3
   },
   "file_extension": ".py",
   "mimetype": "text/x-python",
   "name": "python",
   "nbconvert_exporter": "python",
   "pygments_lexer": "ipython3",
   "version": "3.9.6"
  }
 },
 "nbformat": 4,
 "nbformat_minor": 5
}
