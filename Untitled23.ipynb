{
 "cells": [
  {
   "cell_type": "code",
   "execution_count": 3,
   "id": "52758060-9739-402b-b8f4-a5fb5402df75",
   "metadata": {},
   "outputs": [
    {
     "name": "stderr",
     "output_type": "stream",
     "text": [
      "/Users/eric/repo/shm/shmtools-python/venv/lib/python3.9/site-packages/urllib3/__init__.py:35: NotOpenSSLWarning: urllib3 v2 only supports OpenSSL 1.1.1+, currently the 'ssl' module is compiled with 'LibreSSL 2.8.3'. See: https://github.com/urllib3/urllib3/issues/3020\n",
      "  warnings.warn(\n"
     ]
    }
   ],
   "source": [
    "import shmtools"
   ]
  },
  {
   "cell_type": "code",
   "execution_count": 4,
   "id": "c6a09a19-d838-4da1-93d7-008f76c26098",
   "metadata": {},
   "outputs": [
    {
     "ename": "AttributeError",
     "evalue": "module 'shmtools' has no attribute 'setup_notebook_environment'",
     "output_type": "error",
     "traceback": [
      "\u001b[0;31m---------------------------------------------------------------------------\u001b[0m",
      "\u001b[0;31mAttributeError\u001b[0m                            Traceback (most recent call last)",
      "Cell \u001b[0;32mIn[4], line 2\u001b[0m\n\u001b[1;32m      1\u001b[0m \u001b[38;5;66;03m# Setup imports and paths for Jupyter notebooks.\u001b[39;00m\n\u001b[0;32m----> 2\u001b[0m result \u001b[38;5;241m=\u001b[39m \u001b[43mshmtools\u001b[49m\u001b[38;5;241;43m.\u001b[39;49m\u001b[43msetup_notebook_environment\u001b[49m()\n",
      "\u001b[0;31mAttributeError\u001b[0m: module 'shmtools' has no attribute 'setup_notebook_environment'"
     ]
    }
   ],
   "source": [
    "# Setup imports and paths for Jupyter notebooks.\n",
    "result = shmtools.setup_notebook_environment()"
   ]
  },
  {
   "cell_type": "code",
   "execution_count": 5,
   "id": "5d5859e6-3e26-4a8f-b337-ab74777117c5",
   "metadata": {},
   "outputs": [
    {
     "ename": "AttributeError",
     "evalue": "module 'shmtools' has no attribute 'load_3story_data'",
     "output_type": "error",
     "traceback": [
      "\u001b[0;31m---------------------------------------------------------------------------\u001b[0m",
      "\u001b[0;31mAttributeError\u001b[0m                            Traceback (most recent call last)",
      "Cell \u001b[0;32mIn[5], line 2\u001b[0m\n\u001b[1;32m      1\u001b[0m \u001b[38;5;66;03m# Load 3-story structure dataset.\u001b[39;00m\n\u001b[0;32m----> 2\u001b[0m result \u001b[38;5;241m=\u001b[39m \u001b[43mshmtools\u001b[49m\u001b[38;5;241;43m.\u001b[39;49m\u001b[43mload_3story_data\u001b[49m()\n",
      "\u001b[0;31mAttributeError\u001b[0m: module 'shmtools' has no attribute 'load_3story_data'"
     ]
    }
   ],
   "source": [
    "# Load 3-story structure dataset.\n",
    "result = shmtools.load_3story_data()"
   ]
  },
  {
   "cell_type": "code",
   "execution_count": null,
   "id": "601f5924-d7e3-4ecc-a070-139d19f0a09d",
   "metadata": {},
   "outputs": [],
   "source": []
  },
  {
   "cell_type": "code",
   "execution_count": null,
   "id": "357c3385-6a6f-497f-9914-9d1ae6b8d84e",
   "metadata": {},
   "outputs": [],
   "source": []
  }
 ],
 "metadata": {
  "kernelspec": {
   "display_name": "Python 3 (ipykernel)",
   "language": "python",
   "name": "python3"
  },
  "language_info": {
   "codemirror_mode": {
    "name": "ipython",
    "version": 3
   },
   "file_extension": ".py",
   "mimetype": "text/x-python",
   "name": "python",
   "nbconvert_exporter": "python",
   "pygments_lexer": "ipython3",
   "version": "3.9.6"
  }
 },
 "nbformat": 4,
 "nbformat_minor": 5
}
