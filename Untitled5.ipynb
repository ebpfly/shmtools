{
 "cells": [
  {
   "cell_type": "code",
   "execution_count": 1,
   "id": "a525601d-43c7-4373-a141-7bc3614e1f07",
   "metadata": {},
   "outputs": [
    {
     "data": {
      "application/javascript": [
       "document.querySelectorAll('[id*=\"shm-dropdown\"]').forEach(el=>el.remove());function insertCodeIntoCell(code){try{let notebook;if(typeof Jupyter!=='undefined'&&Jupyter.notebook){notebook=Jupyter.notebook;}else if(window.IPython&&window.IPython.notebook){notebook=window.IPython.notebook;}else{const event=new CustomEvent('execute_code',{detail:{code:code}});document.dispatchEvent(event);return true;}const selectedCell=notebook.get_selected_cell();let targetCell;if(selectedCell&&selectedCell.cell_type==='code'&&selectedCell.get_text().trim()===''){targetCell=selectedCell;}else{const index=notebook.get_selected_index();targetCell=notebook.insert_cell_below('code',index);notebook.select(notebook.find_cell_index(targetCell));}targetCell.set_text(code);if(targetCell.focus_editor){targetCell.focus_editor();}console.log('✅ Code inserted successfully');return true;}catch(e){console.log('❌ Insert failed:',e);try{const kernel=IPython.notebook.kernel;kernel.execute('get_ipython().set_next_input(\"'+code.replace(/\"/g,'\\\\\"')+'\")');console.log('✅ Used kernel.execute fallback');return true;}catch(e2){console.log('❌ All methods failed');return false;}}}const funcs={'Spectral':[{name:'PSD Welch',code:'frequencies, psd = shmtools.psd_welch(x=data, fs=fs, nperseg=1024)'},{name:'Spectrogram',code:'f, t, Sxx = shmtools.spectrogram(x=data, fs=fs, nperseg=1024)'}],'Time Series':[{name:'AR Model',code:'features, residuals = shmtools.ar_model(X=data, ar_order=15)'}],'Outlier Detection':[{name:'Learn PCA',code:'model = shmtools.learn_pca(X=features, per_var=0.95)'},{name:'Score PCA',code:'scores, outliers = shmtools.score_pca(Y=test_data, model=model)'}],'Filtering':[{name:'Bandpass',code:'filtered = shmtools.bandpass_filter(x=signal, lowcut=10, highcut=100, fs=fs)'}]};const panel=document.createElement('div');panel.id='shm-dropdown-panel';panel.style.cssText='position:fixed; top:60px; right:20px; background:white; border:2px solid #007bff; border-radius:8px; box-shadow:0 4px 20px rgba(0,0,0,0.15); z-index:1000; width:280px; font-family:Arial,sans-serif;';const header=document.createElement('div');header.innerHTML='🔧 SHM Functions';header.style.cssText='background:#007bff; color:white; padding:12px 16px; font-weight:bold; font-size:14px; border-radius:6px 6px 0 0; cursor:move;';let isDragging=false,dragOffset={x:0,y:0};header.onmousedown=e=>{isDragging=true;dragOffset.x=e.clientX-panel.offsetLeft;dragOffset.y=e.clientY-panel.offsetTop;};document.onmousemove=e=>{if(isDragging){panel.style.left=(e.clientX-dragOffset.x)+'px';panel.style.top=(e.clientY-dragOffset.y)+'px';panel.style.right='auto';}};document.onmouseup=()=>isDragging=false;panel.appendChild(header);const content=document.createElement('div');content.style.cssText='max-height:400px; overflow-y:auto;';Object.keys(funcs).forEach(category=>{const catHeader=document.createElement('div');catHeader.textContent=category;catHeader.style.cssText='padding:10px 16px; background:#f8f9fa; font-weight:bold; color:#495057; font-size:12px; border-bottom:1px solid #dee2e6;';content.appendChild(catHeader);funcs[category].forEach(func=>{const item=document.createElement('div');item.textContent=func.name;item.style.cssText='padding:10px 16px; cursor:pointer; border-bottom:1px solid #f1f3f4; transition:background-color 0.2s;';item.onmouseover=()=>item.style.backgroundColor='#e3f2fd';item.onmouseout=()=>item.style.backgroundColor='transparent';item.onclick=()=>{insertCodeIntoCell(func.code);};content.appendChild(item);});});panel.appendChild(content);document.body.appendChild(panel);console.log('✅ SHM Extension loaded - click functions to insert code directly!');"
      ],
      "text/plain": [
       "<IPython.core.display.Javascript object>"
      ]
     },
     "metadata": {},
     "output_type": "display_data"
    },
    {
     "name": "stdout",
     "output_type": "stream",
     "text": [
      "🔧 SHM Function Selector loaded! Look for blue panel in top-right corner.\n",
      "💡 Click any function to automatically insert code into current/new cell!\n"
     ]
    }
   ],
   "source": [
    "import shmtools\n",
    "shmtools.gui()"
   ]
  },
  {
   "cell_type": "code",
   "execution_count": null,
   "id": "0f5ea492-e5b0-4065-82ab-ce962f47035f",
   "metadata": {},
   "outputs": [],
   "source": []
  }
 ],
 "metadata": {
  "kernelspec": {
   "display_name": "Python 3 (ipykernel)",
   "language": "python",
   "name": "python3"
  },
  "language_info": {
   "codemirror_mode": {
    "name": "ipython",
    "version": 3
   },
   "file_extension": ".py",
   "mimetype": "text/x-python",
   "name": "python",
   "nbconvert_exporter": "python",
   "pygments_lexer": "ipython3",
   "version": "3.9.6"
  }
 },
 "nbformat": 4,
 "nbformat_minor": 5
}
