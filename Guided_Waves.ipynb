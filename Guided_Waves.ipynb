{
 "cells": [
  {
   "cell_type": "code",
   "execution_count": null,
   "id": "0172874d-6f14-44bd-b70d-25619706d034",
   "metadata": {},
   "outputs": [],
   "source": [
    "# Split feature vectors into training and scoring sets.\n",
    "training_features, scoring_features, all_features = shmtools.features.time_series.split_features_shm(\n",
    "    features=None,  # Features (required)\n",
    "    training_indices=None,  # Training Indices (optional)\n",
    "    scoring_indices=None,  # Scoring Indices (optional)\n",
    "    features_to_use=None  # Feature Indices to Use (optional)\n",
    ")\n",
    "import LADPackage\n",
    "import examples\n",
    "import shmtools"
   ]
  },
  {
   "cell_type": "code",
   "execution_count": null,
   "id": "b478249e-e8e7-4aeb-bec6-58b2a16796f6",
   "metadata": {},
   "outputs": [],
   "source": [
    "# Import active sensing dataset.\n",
    "waveform_base, waveform_test, sensor_layout, pair_list, border_struct, sample_rate, actuation_waveform, damage_location = LADPackage.active_sensing.active_sensing_utils.import_active_sense_data(\n",
    "    filename=None  # File Name (optional)\n",
    ")"
   ]
  },
  {
   "cell_type": "code",
   "execution_count": null,
   "id": "a1e6771d-bca8-4a16-8a5d-4364bcf399a3",
   "metadata": {},
   "outputs": [],
   "source": [
    "# Process active sensing waveforms with baseline subtraction and matched filtering.\n",
    "filter_result, layout_subset, pair_subset = LADPackage.active_sensing.active_sensing_utils.process_active_sensing_waveforms(\n",
    "    sensor_subset=None,  # Sensor Subset List (required)\n",
    "    sensor_layout=None,  # Sensor Layout (required)\n",
    "    pair_list=None,  # Sensor Pair List (required)\n",
    "    waveform_base=None,  # Baseline Waveforms (required)\n",
    "    waveform_test=None,  # Test Waveforms (required)\n",
    "    matched_waveform=None  # Excitation Waveform (required)\n",
    ")"
   ]
  },
  {
   "cell_type": "code",
   "execution_count": null,
   "id": "8eb02b05-0170-49a0-ab3f-8f171c62339b",
   "metadata": {},
   "outputs": [],
   "source": [
    "# Filter guided wave envelopes to first arrival.\n",
    "filtered_waveforms = LADPackage.active_sensing.active_sensing_utils.arrival_filter(\n",
    "    waveforms=waveform_base,  # <class 'numpy.ndarray'> (required)\n",
    "    front_clip=0,  # frontClip (optional)\n",
    "    arrival_offset=0  # arrivalOffset (optional)\n",
    ")"
   ]
  },
  {
   "cell_type": "code",
   "execution_count": null,
   "id": "eb79b500-8235-4477-9567-bf1c7dc3a97e",
   "metadata": {},
   "outputs": [],
   "source": [
    "# Map processed active sensing waveforms to geometry.\n",
    "x_matrix, y_matrix, combined_geometry, data_map_2d = LADPackage.active_sensing.active_sensing_utils.map_active_sensing_geometry(\n",
    "    velocity=1.0,  # Velocity (required)\n",
    "    subset_window=None,  # Subset Window (required)\n",
    "    distance_allowance=1.0,  # Distance Allowance (required)\n",
    "    border_struct=None,  # Geometry (required)\n",
    "    x_spacing=1.0,  # X Spacing (required)\n",
    "    y_spacing=1.0,  # Y Spacing (required)\n",
    "    sample_rate=1000.0,  # Sample Rate Hz (required)\n",
    "    offset=None,  # Actuation Waveform (required)\n",
    "    data=None,  # Data (required)\n",
    "    pair_list=None,  # Sensor Pair List (required)\n",
    "    sensor_layout=None  # Sensor Layout (required)\n",
    ")"
   ]
  },
  {
   "cell_type": "code",
   "execution_count": null,
   "id": "e04f9ae5-a5b6-44d3-a773-3214730173c8",
   "metadata": {},
   "outputs": [],
   "source": [
    "# Plot active sensing map with geometry.\n",
    "result = LADPackage.active_sensing.active_sensing_utils.plot_as_result(\n",
    "    x_matrix=None,  # <class 'numpy.ndarray'> (required)\n",
    "    y_matrix=None,  # <class 'numpy.ndarray'> (required)\n",
    "    data_map_2d=None,  # <class 'numpy.ndarray'> (required)\n",
    "    border=None,  # <class 'numpy.ndarray'> (required)\n",
    "    sensor_layout=None  # <class 'numpy.ndarray'> (required)\n",
    ")"
   ]
  },
  {
   "cell_type": "code",
   "execution_count": null,
   "id": "2037c7c5-315e-448e-be80-dd6e5202fd31",
   "metadata": {},
   "outputs": [],
   "source": [
    "# Fit ARX (autoregressive with exogenous input) model.\n",
    "model, Dictionarycontaining, a, b, variance = shmtools.features.time_series.arx_model(\n",
    "    y=None,  # <class 'numpy.ndarray'> (required)\n",
    "    x=None,  # typing.Optional[numpy.ndarray] (optional)\n",
    "    na=2,  # <class 'int'> (optional)\n",
    "    nb=2,  # <class 'int'> (optional)\n",
    "    nk=1  # <class 'int'> (optional)\n",
    ")"
   ]
  },
  {
   "cell_type": "code",
   "execution_count": null,
   "id": "b297c054-11d2-44a5-b293-ff987f35dff3",
   "metadata": {},
   "outputs": [],
   "source": [
    "# Fit ARX (autoregressive with exogenous input) model.\n",
    "model, Dictionarycontaining, a, b, variance = shmtools.features.time_series.arx_model(\n",
    "    y=None,  # <class 'numpy.ndarray'> (required)\n",
    "    x=None,  # typing.Optional[numpy.ndarray] (optional)\n",
    "    na=2,  # <class 'int'> (optional)\n",
    "    nb=2,  # <class 'int'> (optional)\n",
    "    nk=1  # <class 'int'> (optional)\n",
    ")"
   ]
  },
  {
   "cell_type": "code",
   "execution_count": null,
   "id": "99823cf3-faf4-4b7e-b184-5a03f42f947c",
   "metadata": {},
   "outputs": [],
   "source": [
    "# Import 3-story structure experimental data.\n",
    "dataset, damage_states, state_list = examples.data.import_3story_structure_shm()"
   ]
  },
  {
   "cell_type": "code",
   "execution_count": null,
   "id": "0be0ee08-fed2-419f-b483-0f112fd3b3bf",
   "metadata": {},
   "outputs": [],
   "source": []
  },
  {
   "cell_type": "code",
   "execution_count": null,
   "id": "76152fad-cbb4-44d7-bcf0-8b396e89886f",
   "metadata": {},
   "outputs": [],
   "source": [
    "# Compute analytic signal using Hilbert transform.\n",
    "z = shmtools.core.preprocessing.analytic_signal(\n",
    "    x=None  # <class 'numpy.ndarray'> (required)\n",
    ")"
   ]
  },
  {
   "cell_type": "code",
   "execution_count": null,
   "id": "56d8083d-82e1-4a40-aa4f-b3e9a5826e74",
   "metadata": {},
   "outputs": [],
   "source": []
  },
  {
   "cell_type": "code",
   "execution_count": null,
   "id": "176cfcbd-5813-491b-831f-9d7da12457d8",
   "metadata": {},
   "outputs": [],
   "source": []
  }
 ],
 "metadata": {
  "kernelspec": {
   "display_name": "Python 3 (ipykernel)",
   "language": "python",
   "name": "python3"
  },
  "language_info": {
   "codemirror_mode": {
    "name": "ipython",
    "version": 3
   },
   "file_extension": ".py",
   "mimetype": "text/x-python",
   "name": "python",
   "nbconvert_exporter": "python",
   "pygments_lexer": "ipython3",
   "version": "3.11.13"
  }
 },
 "nbformat": 4,
 "nbformat_minor": 5
}
