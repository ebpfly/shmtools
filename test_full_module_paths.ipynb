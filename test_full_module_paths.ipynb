{
 "cells": [
  {
   "cell_type": "markdown",
   "metadata": {},
   "source": [
    "# Test Full Module Paths in Extension\n",
    "\n",
    "This notebook tests that the JupyterLab extension now generates code snippets with full module paths."
   ]
  },
  {
   "cell_type": "code",
   "execution_count": null,
   "metadata": {},
   "outputs": [],
   "source": [
    "# Test cell - use the SHM Function Selector extension\n",
    "# The generated code should now include full module paths like:\n",
    "# result = shmtools.core.spectral.psd_welch(...)\n",
    "# instead of:\n",
    "# result = shmtools.psd_welch(...)\n"
   ]
  }
 ],
 "metadata": {
  "kernelspec": {
   "display_name": "Python 3",
   "language": "python",
   "name": "python3"
  },
  "language_info": {
   "codemirror_mode": {
    "name": "ipython",
    "version": 3
   },
   "file_extension": ".py",
   "mimetype": "text/x-python",
   "name": "python",
   "nbconvert_exporter": "python",
   "pygments_lexer": "ipython3",
   "version": "3.9.0"
  }
 },
 "nbformat": 4,
 "nbformat_minor": 4
}