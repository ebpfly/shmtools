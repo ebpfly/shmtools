{
 "cells": [
  {
   "cell_type": "code",
   "execution_count": null,
   "id": "d43fd0dd-55ab-4c38-b2ec-093b9d2ff376",
   "metadata": {},
   "outputs": [],
   "source": [
    "a,b = func(c,d)"
   ]
  },
  {
   "cell_type": "code",
   "execution_count": null,
   "id": "b3476969-4a62-4005-8e4d-9cd431c17342",
   "metadata": {},
   "outputs": [],
   "source": [
    "d,e = func( g=a, h=b)"
   ]
  },
  {
   "cell_type": "code",
   "execution_count": null,
   "id": "48e568e6-54cc-4949-b8ea-3adeb8b1dfad",
   "metadata": {},
   "outputs": [],
   "source": [
    "alpha,beta,charlie = newfunc(val = dummy)"
   ]
  },
  {
   "cell_type": "code",
   "execution_count": null,
   "id": "7aa3d603-9752-4beb-a72b-e7f361065706",
   "metadata": {},
   "outputs": [],
   "source": [
    "gamma = wow(bbb=None)"
   ]
  }
 ],
 "metadata": {
  "kernelspec": {
   "display_name": "Python 3 (ipykernel)",
   "language": "python",
   "name": "python3"
  },
  "language_info": {
   "codemirror_mode": {
    "name": "ipython",
    "version": 3
   },
   "file_extension": ".py",
   "mimetype": "text/x-python",
   "name": "python",
   "nbconvert_exporter": "python",
   "pygments_lexer": "ipython3",
   "version": "3.9.6"
  }
 },
 "nbformat": 4,
 "nbformat_minor": 5
}
