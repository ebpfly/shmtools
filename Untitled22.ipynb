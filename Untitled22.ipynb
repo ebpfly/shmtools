{
 "cells": [
  {
   "cell_type": "code",
   "execution_count": null,
   "id": "69b8fb6a-332d-43e3-857b-21d2539fcf39",
   "metadata": {},
   "outputs": [],
   "source": [
    "# Estimate autoregressive model parameters and compute RMSE.\n",
    "ar_coeffs, rmse = shmtools.ar_model(\n",
    "    X=data,  # array_like Input time series data of shape (TIME, CHANNELS, INSTANCES).\n",
    "    ar_order=5,  # int, optional AR model order. (optional)\n",
    ")"
   ]
  },
  {
   "cell_type": "code",
   "execution_count": null,
   "id": "38edfddc-9f5d-4b33-a98b-fa1de0b9f4f9",
   "metadata": {},
   "outputs": [],
   "source": [
    "# Estimate autoregressive model parameters and compute RMSE.\n",
    "ar_coeffs, rmse = shmtools.ar_model(\n",
    "    X=ar_coeffs,  # array_like Input time series data of shape (TIME, CHANNELS, INSTANCES).\n",
    "    ar_order=None  # int, optional AR model order. (optional)\n",
    ")"
   ]
  },
  {
   "cell_type": "code",
   "execution_count": null,
   "id": "49ad62e8-5ab8-4934-9025-62325d1ef0f1",
   "metadata": {},
   "outputs": [],
   "source": [
    "# Learn SVD-based outlier detection model from training features.\n",
    "result = shmtools.learn_svd(\n",
    "    X=rmse,  # array_like Training features where each row is a feature vector.\n",
    "    param_stand=True,  # bool, optional (optional)\n",
    ")"
   ]
  },
  {
   "cell_type": "code",
   "execution_count": null,
   "id": "3573c292-6411-489f-84f7-59b11334c27f",
   "metadata": {},
   "outputs": [],
   "source": []
  },
  {
   "cell_type": "code",
   "execution_count": null,
   "id": "a32240a5-3a3a-4d70-91ee-1812adc10846",
   "metadata": {},
   "outputs": [],
   "source": []
  },
  {
   "cell_type": "code",
   "execution_count": null,
   "id": "62736258-330e-40d3-ae8b-8da32c759283",
   "metadata": {},
   "outputs": [],
   "source": []
  }
 ],
 "metadata": {
  "kernelspec": {
   "display_name": "Python 3 (ipykernel)",
   "language": "python",
   "name": "python3"
  },
  "language_info": {
   "codemirror_mode": {
    "name": "ipython",
    "version": 3
   },
   "file_extension": ".py",
   "mimetype": "text/x-python",
   "name": "python",
   "nbconvert_exporter": "python",
   "pygments_lexer": "ipython3",
   "version": "3.9.6"
  }
 },
 "nbformat": 4,
 "nbformat_minor": 5
}
