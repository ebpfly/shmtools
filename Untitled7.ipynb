{
 "cells": [
  {
   "cell_type": "code",
   "execution_count": 1,
   "id": "102b8eb8-67e9-4930-ae33-6f6cd579a4c2",
   "metadata": {},
   "outputs": [
    {
     "name": "stdout",
     "output_type": "stream",
     "text": [
      "Testing Python-based insertion...\n",
      "Run the next cell after this completes:\n",
      "✅ Code queued for next cell: # Auto-inserted test code\n",
      "import numpy as np\n",
      "print...\n",
      "\n",
      "🔴 Now execute the next cell - it should contain the auto-inserted code!\n"
     ]
    }
   ],
   "source": [
    "%run kernel_test.py"
   ]
  },
  {
   "cell_type": "code",
   "execution_count": 2,
   "id": "6cbdc240-e2b5-4298-8e90-cabe997eb156",
   "metadata": {},
   "outputs": [
    {
     "name": "stdout",
     "output_type": "stream",
     "text": [
      "Hello from auto-inserted code!\n",
      "Generated 1000 random samples\n"
     ]
    }
   ],
   "source": [
    "# Auto-inserted test code\n",
    "import numpy as np\n",
    "print(\"Hello from auto-inserted code!\")\n",
    "data = np.random.randn(1000)\n",
    "print(f\"Generated {len(data)} random samples\")"
   ]
  },
  {
   "cell_type": "code",
   "execution_count": null,
   "id": "db37853a-2f22-4abe-8cc7-09a45ee6436d",
   "metadata": {},
   "outputs": [],
   "source": []
  }
 ],
 "metadata": {
  "kernelspec": {
   "display_name": "Python 3 (ipykernel)",
   "language": "python",
   "name": "python3"
  },
  "language_info": {
   "codemirror_mode": {
    "name": "ipython",
    "version": 3
   },
   "file_extension": ".py",
   "mimetype": "text/x-python",
   "name": "python",
   "nbconvert_exporter": "python",
   "pygments_lexer": "ipython3",
   "version": "3.9.6"
  }
 },
 "nbformat": 4,
 "nbformat_minor": 5
}
