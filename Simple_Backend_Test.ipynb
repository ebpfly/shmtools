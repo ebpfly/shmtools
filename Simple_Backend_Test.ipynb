{
 "cells": [
  {
   "cell_type": "code",
   "execution_count": 1,
   "metadata": {},
   "outputs": [
    {
     "name": "stderr",
     "output_type": "stream",
     "text": [
      "/Users/eric/repo/shm/shmtools-python/venv/lib/python3.9/site-packages/urllib3/__init__.py:35: NotOpenSSLWarning: urllib3 v2 only supports OpenSSL 1.1.1+, currently the 'ssl' module is compiled with 'LibreSSL 2.8.3'. See: https://github.com/urllib3/urllib3/issues/3020\n",
      "  warnings.warn(\n"
     ]
    }
   ],
   "source": [
    "import numpy as np\n",
    "import shmtools  # This enables the introspection functionality"
   ]
  },
  {
   "cell_type": "code",
   "execution_count": null,
   "metadata": {},
   "outputs": [],
   "source": [
    "# Cell 1: Simple function call with variable assignment\n",
    "def dummy_function(inputA, inputB):\n",
    "    return np.random.randn(100, 4), {'result': 'success', 'params': [inputA, inputB]}\n",
    "\n",
    "inputA = np.random.randn(1000, 3)\n",
    "inputB = 42.5\n",
    "var1, var2 = dummy_function(inputA, inputB)"
   ]
  },
  {
   "cell_type": "code",
   "execution_count": 2,
   "metadata": {},
   "outputs": [
    {
     "name": "stdout",
     "output_type": "stream",
     "text": [
      "🔍 SHM Extension Backend Introspection\n",
      "==================================================\n",
      "📋 Parsing SOURCE CODE from notebook cells (not execution history)\n",
      "📝 Reading notebook file structure...\n",
      "✅ Found 3 executed code cells\n",
      "\\n🔍 Parsing variables...\n",
      "✅ Discovered 4 variables:\n",
      "\\n  📍 Cell 2:\n",
      "     • inputA     (numpy.ndarray  ) ← np.random.randn(1000, 3)...\n",
      "     • inputB     (float          ) ← 42.5...\n",
      "     • var1       (tuple          ) ← dummy_function(inputA, inputB)...\n",
      "     • var2       (tuple          ) ← dummy_function(inputA, inputB)...\n",
      "\\n🔍 Discovering SHM functions...\n",
      "✅ Discovered 31 SHM functions:\n",
      "\\n  📁 Core - Spectral Analysis: 7 functions\n",
      "     • cepstrum             (1 parameters)\n",
      "     • cwt_analysis         (5 parameters)\n",
      "     • fast_kurtogram       (2 parameters)\n",
      "     ... and 4 more functions\n",
      "\\n  📁 Core - Statistics: 10 functions\n",
      "     • clearance_factor     (2 parameters)\n",
      "     • compute_damage_features (3 parameters)\n",
      "     • crest_factor         (2 parameters)\n",
      "     ... and 7 more functions\n",
      "\\n  📁 Core - Filtering: 4 functions\n",
      "     • bandpass_filter      (7 parameters)\n",
      "     • filter_signal        (5 parameters)\n",
      "     • highpass_filter      (6 parameters)\n",
      "     ... and 1 more functions\n",
      "\\n  📁 Features - Time Series Models: 3 functions\n",
      "     • ar_model             (2 parameters)\n",
      "     • ar_model_order       (3 parameters)\n",
      "     • arx_model            (5 parameters)\n",
      "\\n  📁 Classification - Outlier Detection: 7 functions\n",
      "     • learn_mahalanobis    (1 parameters)\n",
      "     • learn_pca            (3 parameters)\n",
      "     • learn_svd            (2 parameters)\n",
      "     ... and 4 more functions\n",
      "\\n==================================================\n",
      "📊 EXTENSION BACKEND SUMMARY:\n",
      "   • Variables parsed: 4\n",
      "   • SHM functions found: 31\n",
      "   • Ready for context menu integration\n",
      "\\n✅ Backend introspection is working perfectly!\n",
      "   The extension can discover both variables and functions\n",
      "   behind the scenes from the notebook content.\n"
     ]
    }
   ],
   "source": [
    "# Cell 2: Single function call that summarizes discovered parameters\n",
    "summarize_discovered_parameters()"
   ]
  },
  {
   "cell_type": "code",
   "execution_count": null,
   "metadata": {},
   "outputs": [],
   "source": []
  }
 ],
 "metadata": {
  "kernelspec": {
   "display_name": "Python 3 (ipykernel)",
   "language": "python",
   "name": "python3"
  },
  "language_info": {
   "codemirror_mode": {
    "name": "ipython",
    "version": 3
   },
   "file_extension": ".py",
   "mimetype": "text/x-python",
   "name": "python",
   "nbconvert_exporter": "python",
   "pygments_lexer": "ipython3",
   "version": "3.9.6"
  }
 },
 "nbformat": 4,
 "nbformat_minor": 4
}
