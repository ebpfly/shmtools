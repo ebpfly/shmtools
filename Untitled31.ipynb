{
 "cells": [
  {
   "cell_type": "code",
   "execution_count": 1,
   "id": "204bb7a5-dcb5-47b4-a3f0-2ddd0a35c590",
   "metadata": {},
   "outputs": [
    {
     "name": "stderr",
     "output_type": "stream",
     "text": [
      "/Users/eric/repo/shm/shmtools-python/shmtools/classification/nlpca.py:27: UserWarning: TensorFlow not available. NLPCA functions will not work. Install TensorFlow: pip install tensorflow\n",
      "  warnings.warn(\n"
     ]
    }
   ],
   "source": [
    "import shmtools"
   ]
  },
  {
   "cell_type": "code",
   "execution_count": 2,
   "id": "b72a1709-0a93-4a37-af17-2996ed1f13ff",
   "metadata": {},
   "outputs": [],
   "source": [
    "# Data Import: Import 3 story structure data\n",
    "dataset, damageStates, stateList = shmtools.utils.data_io.import_3StoryStructure_shm()"
   ]
  },
  {
   "cell_type": "code",
   "execution_count": null,
   "id": "d2023f34-a855-4030-a521-c3b117aa4e4a",
   "metadata": {},
   "outputs": [],
   "source": []
  }
 ],
 "metadata": {
  "kernelspec": {
   "display_name": "Python 3 (ipykernel)",
   "language": "python",
   "name": "python3"
  },
  "language_info": {
   "codemirror_mode": {
    "name": "ipython",
    "version": 3
   },
   "file_extension": ".py",
   "mimetype": "text/x-python",
   "name": "python",
   "nbconvert_exporter": "python",
   "pygments_lexer": "ipython3",
   "version": "3.9.6"
  }
 },
 "nbformat": 4,
 "nbformat_minor": 5
}
