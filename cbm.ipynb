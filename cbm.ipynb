{
 "cells": [
  {
   "cell_type": "code",
   "execution_count": null,
   "metadata": {},
   "outputs": [],
   "source": [
    "import LADPackage\n",
    "import examples\n",
    "import shmtools\n"
   ]
  },
  {
   "cell_type": "code",
   "execution_count": null,
   "metadata": {},
   "outputs": [],
   "source": [
    "# Import condition-based monitoring experimental data.\n",
    "dataset, damage_states, state_list, fs = examples.data.import_cbm_data_shm()\n"
   ]
  },
  {
   "cell_type": "code",
   "execution_count": null,
   "metadata": {},
   "outputs": [],
   "source": [
    "# Feature Extraction: Estimate power spectral density via Welch's method.\n",
    "psd_matrix, f, use_one_sided = shmtools.psd_welch_shm(\n",
    "    X=dataset,  # <class 'numpy.ndarray'> (required)\n",
    "    n_win=None,  # typing.Optional[int] (optional)\n",
    "    n_ovlap=None,  # typing.Optional[int] (optional)\n",
    "    n_fft=None,  # typing.Optional[int] (optional)\n",
    "    fs=fs,  # typing.Optional[float] Hz (optional)\n",
    "    use_one_sided=True  # typing.Optional[bool] (optional)\n",
    ")\n"
   ]
  },
  {
   "cell_type": "code",
   "execution_count": null,
   "metadata": {},
   "outputs": [],
   "source": [
    "# Plot power spectral density with various visualization options.\n",
    "axes = shmtools.plot_psd_shm(\n",
    "    psd_matrix=psd_matrix,  # <class 'numpy.ndarray'> (required)\n",
    "    channel=3,  # <class 'int'> (optional)\n",
    "    is_one_sided=use_one_sided,  # <class 'bool'> (optional)\n",
    "    f=f,  # typing.Optional[numpy.ndarray] (optional)\n",
    "    use_colormap=False,  # <class 'bool'> (optional)\n",
    "    use_subplots=False,  # <class 'bool'> (optional)\n",
    "    ax=None,  # typing.Optional[matplotlib.axes._axes.Axes] (optional)\n",
    "    kwargs=None  # Any (required)\n",
    ")\n"
   ]
  },
  {
   "cell_type": "code",
   "execution_count": null,
   "metadata": {},
   "outputs": [],
   "source": [
    "\n",
    "\n",
    "\n"
   ]
  }
 ],
 "metadata": {
  "language_info": {
   "codemirror_mode": {
    "name": "ipython",
    "version": 3
   },
   "file_extension": ".py",
   "mimetype": "text/x-python",
   "name": "python",
   "nbconvert_exporter": "python",
   "pygments_lexer": "ipython3",
   "version": 3
  }
 },
 "nbformat": 4,
 "nbformat_minor": 2
}
