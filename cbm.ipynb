{
 "cells": [
  {
   "cell_type": "code",
   "execution_count": null,
   "id": "37a862f3-c21b-4d9e-a501-3ee1ecae599e",
   "metadata": {},
   "outputs": [],
   "source": "# Import condition-based monitoring experimental data.\ndataset, damage_states, state_list, fs = examples.data.import_cbm_data_shm()"
  },
  {
   "cell_type": "code",
   "execution_count": null,
   "id": "f6be6136-83ae-4953-85c2-692c1b8cd7df",
   "metadata": {},
   "outputs": [],
   "source": [
    "# Feature Extraction: Estimate power spectral density via Welch's method.\n",
    "psd_matrix, f, use_one_sided = shmtools.core.spectral.psd_welch_shm(\n",
    "    X=dataset,  # <class 'numpy.ndarray'> (required)\n",
    "    n_win=1,  # typing.Optional[int] (optional)\n",
    "    n_ovlap=1,  # typing.Optional[int] (optional)\n",
    "    n_fft=1,  # typing.Optional[int] (optional)\n",
    "    fs=1000.0  # Hz,  # typing.Optional[float] (optional)\n",
    "    use_one_sided=True,  # typing.Optional[bool] (optional)\n",
    ")"
   ]
  },
  {
   "cell_type": "code",
   "execution_count": null,
   "id": "41766647-5df7-4afb-be09-d28d94de4cb3",
   "metadata": {},
   "outputs": [],
   "source": [
    "psd\n",
    "# Feature Extraction: Estimate power spectral density via Welch's method.\n",
    "psd_matrix, f, use_one_sided = shmtools.core.spectral.psd_welch_shm(\n",
    "    X=None,  # <class 'numpy.ndarray'> (required)\n",
    "    n_win=1,  # typing.Optional[int] (optional)\n",
    "    n_ovlap=1,  # typing.Optional[int] (optional)\n",
    "    n_fft=1,  # typing.Optional[int] (optional)\n",
    "    fs=1000.0  # Hz,  # typing.Optional[float] (optional)\n",
    "    use_one_sided=True,  # typing.Optional[bool] (optional)\n",
    ")"
   ]
  },
  {
   "cell_type": "code",
   "execution_count": null,
   "id": "a54daf3d-cd05-4d64-b2f2-8fb8ea68af20",
   "metadata": {},
   "outputs": [],
   "source": [
    "# Feature Extraction: Estimate power spectral density via Welch's method.\n",
    "psd_matrix, f, use_one_sided = shmtools.core.spectral.psd_welch_shm(\n",
    "    X=None,  # <class 'numpy.ndarray'> (required)\n",
    "    n_win=1,  # typing.Optional[int] (optional)\n",
    "    n_ovlap=1,  # typing.Optional[int] (optional)\n",
    "    n_fft=1,  # typing.Optional[int] (optional)\n",
    "    fs=1000.0,  # Hz,  # typing.Optional[float] (optional)\n",
    "    use_one_sided=True  # typing.Optional[bool] (optional)\n",
    ")"
   ]
  },
  {
   "cell_type": "code",
   "execution_count": null,
   "id": "a624f8aa-0fd4-424c-a9ab-e4a71ce19a82",
   "metadata": {},
   "outputs": [],
   "source": [
    "# Feature Extraction: Estimate power spectral density via Welch's method.\n",
    "psd_matrix, f, use_one_sided = shmtools.core.spectral.psd_welch_shm(\n",
    "    X=None,  # <class 'numpy.ndarray'> (required)\n",
    "    n_win=1,  # typing.Optional[int] (optional)\n",
    "    n_ovlap=1,  # typing.Optional[int] (optional)\n",
    "    n_fft=1,  # typing.Optional[int] (optional)\n",
    "    fs=1000.0,  # typing.Optional[float] Hz (optional)\n",
    "    use_one_sided=True  # typing.Optional[bool] (optional)\n",
    ")"
   ]
  },
  {
   "cell_type": "code",
   "execution_count": null,
   "id": "50d86a93-7c2e-482d-84a2-6c97b4085f56",
   "metadata": {},
   "outputs": [],
   "source": [
    "# Feature Extraction: Estimate power spectral density via Welch's method.\n",
    "psd_matrix, f, use_one_sided = shmtools.core.spectral.psd_welch_shm(\n",
    "    X=None,  # <class 'numpy.ndarray'> (required)\n",
    "    n_win=1,  # typing.Optional[int] (optional)\n",
    "    n_ovlap=1,  # typing.Optional[int] (optional)\n",
    "    n_fft=1,  # typing.Optional[int] (optional)\n",
    "    fs=1000.0,  # typing.Optional[float] Hz (optional)\n",
    "    use_one_sided=True  # typing.Optional[bool] (optional)\n",
    ")"
   ]
  },
  {
   "cell_type": "code",
   "execution_count": null,
   "id": "849c00e3-69d7-43f4-b25b-c84f170f053f",
   "metadata": {},
   "outputs": [],
   "source": []
  },
  {
   "cell_type": "code",
   "execution_count": null,
   "id": "51e2ca0a-f298-487c-a640-71431eec6fd0",
   "metadata": {},
   "outputs": [],
   "source": [
    "# Learn Mahalanobis distance model from training data.\n",
    "model, Parametersofthemodelwithfields, dataMean, dataCov = shmtools.classification.outlier_detection.learn_mahalanobis_shm(\n",
    "    X=None  # Training Features (required)\n",
    ")"
   ]
  },
  {
   "cell_type": "code",
   "execution_count": null,
   "id": "51dee100-dafe-4118-9238-b7891d198b67",
   "metadata": {},
   "outputs": [],
   "source": "# Import 3-story structure experimental data.\ndataset, damage_states, state_list = examples.data.import_3story_structure_shm()"
  },
  {
   "cell_type": "code",
   "execution_count": null,
   "id": "29b210ec-ef47-4b0d-b34b-e0c8579b01b4",
   "metadata": {},
   "outputs": [],
   "source": []
  },
  {
   "cell_type": "code",
   "execution_count": null,
   "id": "72b98eb6-e99f-426d-8cf8-209c0a0922c0",
   "metadata": {},
   "outputs": [],
   "source": []
  }
 ],
 "metadata": {
  "kernelspec": {
   "display_name": "Python 3 (ipykernel)",
   "language": "python",
   "name": "python3"
  },
  "language_info": {
   "codemirror_mode": {
    "name": "ipython",
    "version": 3
   },
   "file_extension": ".py",
   "mimetype": "text/x-python",
   "name": "python",
   "nbconvert_exporter": "python",
   "pygments_lexer": "ipython3",
   "version": "3.11.13"
  }
 },
 "nbformat": 4,
 "nbformat_minor": 5
}