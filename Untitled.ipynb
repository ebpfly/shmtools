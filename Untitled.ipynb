{
 "cells": [
  {
   "cell_type": "code",
   "execution_count": 1,
   "id": "54dbb485-6aec-490b-ac73-e1ef146b7acd",
   "metadata": {},
   "outputs": [
    {
     "data": {
      "application/javascript": [
       "document.querySelectorAll('[id*=\"shm-dropdown\"]').forEach(el=>el.remove());function insertCodeIntoCell(code){const cells=Jupyter.notebook.get_cells();let targetCell=null;const selectedIndex=Jupyter.notebook.get_selected_index();if(selectedIndex>=0){const selectedCell=cells[selectedIndex];if(selectedCell.cell_type==='code'&&selectedCell.get_text().trim()===''){targetCell=selectedCell;}else{targetCell=Jupyter.notebook.insert_cell_below('code',selectedIndex);Jupyter.notebook.select_next();}}else{targetCell=Jupyter.notebook.insert_cell_at_bottom('code');}if(targetCell){targetCell.set_text(code);targetCell.focus_editor();return true;}return false;}const funcs={'Spectral':[{name:'PSD Welch',code:'frequencies, psd = shmtools.psd_welch(x=data, fs=fs, nperseg=1024)'},{name:'Spectrogram',code:'f, t, Sxx = shmtools.spectrogram(x=data, fs=fs, nperseg=1024)'}],'Time Series':[{name:'AR Model',code:'features, residuals = shmtools.ar_model(X=data, ar_order=15)'}],'Outlier Detection':[{name:'Learn PCA',code:'model = shmtools.learn_pca(X=features, per_var=0.95)'},{name:'Score PCA',code:'scores, outliers = shmtools.score_pca(Y=test_data, model=model)'}],'Filtering':[{name:'Bandpass',code:'filtered = shmtools.bandpass_filter(x=signal, lowcut=10, highcut=100, fs=fs)'}]};const panel=document.createElement('div');panel.id='shm-dropdown-panel';panel.style.cssText='position:fixed; top:60px; right:20px; background:white; border:2px solid #007bff; border-radius:8px; box-shadow:0 4px 20px rgba(0,0,0,0.15); z-index:1000; width:280px; font-family:Arial,sans-serif;';const header=document.createElement('div');header.innerHTML='🔧 SHM Functions';header.style.cssText='background:#007bff; color:white; padding:12px 16px; font-weight:bold; font-size:14px; border-radius:6px 6px 0 0; cursor:move;';let isDragging=false,dragOffset={x:0,y:0};header.onmousedown=e=>{isDragging=true;dragOffset.x=e.clientX-panel.offsetLeft;dragOffset.y=e.clientY-panel.offsetTop;};document.onmousemove=e=>{if(isDragging){panel.style.left=(e.clientX-dragOffset.x)+'px';panel.style.top=(e.clientY-dragOffset.y)+'px';panel.style.right='auto';}};document.onmouseup=()=>isDragging=false;panel.appendChild(header);const content=document.createElement('div');content.style.cssText='max-height:400px; overflow-y:auto;';Object.keys(funcs).forEach(category=>{const catHeader=document.createElement('div');catHeader.textContent=category;catHeader.style.cssText='padding:10px 16px; background:#f8f9fa; font-weight:bold; color:#495057; font-size:12px; border-bottom:1px solid #dee2e6;';content.appendChild(catHeader);funcs[category].forEach(func=>{const item=document.createElement('div');item.textContent=func.name;item.style.cssText='padding:10px 16px; cursor:pointer; border-bottom:1px solid #f1f3f4; transition:background-color 0.2s;';item.onmouseover=()=>item.style.backgroundColor='#e3f2fd';item.onmouseout=()=>item.style.backgroundColor='transparent';item.onclick=()=>{if(typeof Jupyter!=='undefined'&&Jupyter.notebook){if(insertCodeIntoCell(func.code)){console.log(`✅ ${func.name} inserted into cell!`);}}else{navigator.clipboard.writeText(func.code).then(()=>{alert(`✅ ${func.name} code copied!\\n\\n${func.code}\\n\\nPaste into new cell.`);}).catch(()=>{alert(`📋 ${func.name}:\\n\\n${func.code}`);});}};content.appendChild(item);});});panel.appendChild(content);document.body.appendChild(panel);console.log('✅ SHM Extension loaded!');"
      ],
      "text/plain": [
       "<IPython.core.display.Javascript object>"
      ]
     },
     "metadata": {},
     "output_type": "display_data"
    },
    {
     "name": "stdout",
     "output_type": "stream",
     "text": [
      "🔧 SHM loaded with auto-insert!\n"
     ]
    }
   ],
   "source": [
    "%run shm.py"
   ]
  },
  {
   "cell_type": "code",
   "execution_count": 2,
   "id": "2628ab0b-249b-471a-8ec9-bcacd0e7e174",
   "metadata": {},
   "outputs": [
    {
     "ename": "NameError",
     "evalue": "name 'shmtools' is not defined",
     "output_type": "error",
     "traceback": [
      "\u001b[0;31m---------------------------------------------------------------------------\u001b[0m",
      "\u001b[0;31mNameError\u001b[0m                                 Traceback (most recent call last)",
      "Cell \u001b[0;32mIn[2], line 1\u001b[0m\n\u001b[0;32m----> 1\u001b[0m frequencies, psd \u001b[38;5;241m=\u001b[39m \u001b[43mshmtools\u001b[49m\u001b[38;5;241m.\u001b[39mpsd_welch(x\u001b[38;5;241m=\u001b[39mdata, fs\u001b[38;5;241m=\u001b[39mfs, nperseg\u001b[38;5;241m=\u001b[39m\u001b[38;5;241m1024\u001b[39m)\n",
      "\u001b[0;31mNameError\u001b[0m: name 'shmtools' is not defined"
     ]
    }
   ],
   "source": [
    "frequencies, psd = shmtools.psd_welch(x=data, fs=fs, nperseg=1024)"
   ]
  },
  {
   "cell_type": "code",
   "execution_count": null,
   "id": "fa7ab9d7-4858-45e7-b6af-cfc65485780b",
   "metadata": {},
   "outputs": [],
   "source": []
  }
 ],
 "metadata": {
  "kernelspec": {
   "display_name": "Python 3 (ipykernel)",
   "language": "python",
   "name": "python3"
  },
  "language_info": {
   "codemirror_mode": {
    "name": "ipython",
    "version": 3
   },
   "file_extension": ".py",
   "mimetype": "text/x-python",
   "name": "python",
   "nbconvert_exporter": "python",
   "pygments_lexer": "ipython3",
   "version": "3.9.6"
  }
 },
 "nbformat": 4,
 "nbformat_minor": 5
}
