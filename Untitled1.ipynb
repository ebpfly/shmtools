{
 "cells": [
  {
   "cell_type": "code",
   "execution_count": null,
   "id": "e89b68c6-a4c4-4aa2-a8c3-8de2dd82a13f",
   "metadata": {},
   "outputs": [],
   "source": []
  }
 ],
 "metadata": {
  "kernelspec": {
   "display_name": "",
   "name": ""
  },
  "language_info": {
   "name": ""
  }
 },
 "nbformat": 4,
 "nbformat_minor": 5
}
