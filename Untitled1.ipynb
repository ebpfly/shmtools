{
 "cells": [
  {
   "cell_type": "code",
   "execution_count": 2,
   "id": "a3254f08-5688-4b18-bfc5-2f83968568b8",
   "metadata": {},
   "outputs": [
    {
     "name": "stderr",
     "output_type": "stream",
     "text": [
      "/Users/eric/repo/shm/shmtools-python/shmtools/classification/nlpca.py:27: UserWarning: TensorFlow not available. NLPCA functions will not work. Install TensorFlow: pip install tensorflow\n",
      "  warnings.warn(\n",
      "/Users/eric/repo/shm/shmtools-python/venv/lib/python3.9/site-packages/urllib3/__init__.py:35: NotOpenSSLWarning: urllib3 v2 only supports OpenSSL 1.1.1+, currently the 'ssl' module is compiled with 'LibreSSL 2.8.3'. See: https://github.com/urllib3/urllib3/issues/3020\n",
      "  warnings.warn(\n"
     ]
    }
   ],
   "source": [
    "import shmtools\n"
   ]
  },
  {
   "cell_type": "code",
   "execution_count": 3,
   "id": "c4d4fe80-5ded-4a7a-866d-a88fd14c33cd",
   "metadata": {},
   "outputs": [],
   "source": [
    "# Data Import: Import 3 story structure data\n",
    "\n",
    "dataset, damageStates, stateList = shmtools.utils.data_io.import_3StoryStructure_shm()"
   ]
  },
  {
   "cell_type": "code",
   "execution_count": null,
   "id": "8d4a3605-459a-4fab-9194-3d45e761fe0d",
   "metadata": {},
   "outputs": [
    {
     "name": "stderr",
     "output_type": "stream",
     "text": [
      "/Users/eric/repo/shm/shmtools-python/shmtools/classification/nlpca.py:27: UserWarning: TensorFlow not available. NLPCA functions will not work. Install TensorFlow: pip install tensorflow\n",
      "  warnings.warn(\n",
      "/Users/eric/repo/shm/shmtools-python/venv/lib/python3.9/site-packages/urllib3/__init__.py:35: NotOpenSSLWarning: urllib3 v2 only supports OpenSSL 1.1.1+, currently the 'ssl' module is compiled with 'LibreSSL 2.8.3'. See: https://github.com/urllib3/urllib3/issues/3020\n",
      "  warnings.warn(\n"
     ]
    }
   ],
   "source": [
    "# Feature Extraction: Estimate power spectral density via Welch's method.\n",
    "psd_matrix, f, use_one_sided = shmtools.core.spectral.psd_welch_shm(\n",
    "    X=None  # TODO: Provide input data,  # <class 'numpy.ndarray'> (required)\n",
    "    n_win=1,  # typing.Optional[int] (optional)\n",
    "    n_ovlap=1,  # typing.Optional[int] (optional)\n",
    "    n_fft=1,  # typing.Optional[int] (optional)\n",
    "    fs=1000.0  # Hz,  # typing.Optional[float] (optional)\n",
    "    use_one_sided=True,  # typing.Optional[bool] (optional)\n",
    ")"
   ]
  },
  {
   "cell_type": "code",
   "execution_count": 3,
   "id": "f2cddd90-0622-4c59-ab61-b636174c90ad",
   "metadata": {},
   "outputs": [
    {
     "ename": "NameError",
     "evalue": "name 'undefined' is not defined",
     "output_type": "error",
     "traceback": [
      "\u001b[0;31m---------------------------------------------------------------------------\u001b[0m",
      "\u001b[0;31mNameError\u001b[0m                                 Traceback (most recent call last)",
      "Cell \u001b[0;32mIn[3], line 2\u001b[0m\n\u001b[1;32m      1\u001b[0m \u001b[38;5;66;03m# Data Import: Import 3 story structure data\u001b[39;00m\n\u001b[0;32m----> 2\u001b[0m dataset, damageStates, stateList \u001b[38;5;241m=\u001b[39m \u001b[43mundefined\u001b[49m\u001b[38;5;241m.\u001b[39mimport_3StoryStructure_shm()\n",
      "\u001b[0;31mNameError\u001b[0m: name 'undefined' is not defined"
     ]
    }
   ],
   "source": [
    "# Data Import: Import 3 story structure data\n",
    "dataset, damageStates, stateList = undefined.import_3StoryStructure_shm()"
   ]
  },
  {
   "cell_type": "code",
   "execution_count": null,
   "id": "0152306d-ce68-42e2-9f1b-26556f2f577d",
   "metadata": {},
   "outputs": [],
   "source": [
    "# Feature Extraction: Estimate power spectral density via Welch's method.\n",
    "psd_matrix, f, use_one_sided = undefined.psd_welch_shm(\n",
    "    X=dataset,  # typing.Optional[int] (optional)\n",
    "    n_ovlap=1,  # typing.Optional[int] (optional)\n",
    "    n_fft=1,  # typing.Optional[int] (optional)\n",
    "    fs=1000.0  # Hz,  # typing.Optional[float] (optional)\n",
    "    use_one_sided=True,  # typing.Optional[bool] (optional)\n",
    ")"
   ]
  }
 ],
 "metadata": {
  "kernelspec": {
   "display_name": "Python 3 (ipykernel)",
   "language": "python",
   "name": "python3"
  },
  "language_info": {
   "codemirror_mode": {
    "name": "ipython",
    "version": 3
   },
   "file_extension": ".py",
   "mimetype": "text/x-python",
   "name": "python",
   "nbconvert_exporter": "python",
   "pygments_lexer": "ipython3",
   "version": "3.9.6"
  }
 },
 "nbformat": 4,
 "nbformat_minor": 5
}
