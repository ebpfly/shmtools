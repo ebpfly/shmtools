{
 "cells": [
  {
   "cell_type": "code",
   "execution_count": 1,
   "id": "7bd968be-7f34-47e0-8f85-7000db645821",
   "metadata": {},
   "outputs": [
    {
     "name": "stdout",
     "output_type": "stream",
     "text": [
      "Testing direct insertion...\n",
      "✅ Inserted: # This should appear in next cell\n",
      "print('Direct in...\n",
      "👆 Check if code appeared in next cell\n"
     ]
    },
    {
     "data": {
      "application/javascript": [
       "\n",
       "// Remove existing\n",
       "document.querySelectorAll('[id*=\"test-panel\"]').forEach(el => el.remove());\n",
       "\n",
       "// Create simple test panel\n",
       "const panel = document.createElement('div');\n",
       "panel.id = 'test-panel';\n",
       "panel.style.cssText = `\n",
       "    position: fixed;\n",
       "    top: 100px;\n",
       "    right: 20px;\n",
       "    background: red;\n",
       "    color: white;\n",
       "    padding: 20px;\n",
       "    border-radius: 8px;\n",
       "    z-index: 9999;\n",
       "    font-family: Arial;\n",
       "`;\n",
       "\n",
       "// Create test button\n",
       "const btn = document.createElement('button');\n",
       "btn.textContent = 'Test Auto Insert';\n",
       "btn.style.cssText = `\n",
       "    background: white;\n",
       "    color: black;\n",
       "    border: none;\n",
       "    padding: 10px;\n",
       "    margin: 10px 0;\n",
       "    cursor: pointer;\n",
       "    border-radius: 4px;\n",
       "    display: block;\n",
       "    width: 100%;\n",
       "`;\n",
       "\n",
       "btn.onclick = function() {\n",
       "    console.log('Button clicked - attempting insert');\n",
       "    \n",
       "    const testCode = '# Auto-inserted from JS\\nprint(\"JavaScript insertion works!\")';\n",
       "    \n",
       "    // Try the exact Python function call\n",
       "    try {\n",
       "        // Method 1: Direct execution in the current kernel\n",
       "        console.log('Trying direct kernel execution...');\n",
       "        \n",
       "        // This should work if IPython kernel is available\n",
       "        const kernelCmd = `insert_shm_code(\"\"\"${testCode}\"\"\")`;\n",
       "        \n",
       "        // Look for kernel in various places\n",
       "        let kernel = null;\n",
       "        \n",
       "        if (window.IPython && window.IPython.notebook && window.IPython.notebook.kernel) {\n",
       "            kernel = window.IPython.notebook.kernel;\n",
       "            console.log('Found IPython kernel');\n",
       "        } else if (window.Jupyter && window.Jupyter.notebook && window.Jupyter.notebook.kernel) {\n",
       "            kernel = window.Jupyter.notebook.kernel;\n",
       "            console.log('Found Jupyter kernel');\n",
       "        }\n",
       "        \n",
       "        if (kernel) {\n",
       "            kernel.execute(kernelCmd);\n",
       "            console.log('✅ Executed:', kernelCmd);\n",
       "        } else {\n",
       "            console.log('❌ No kernel found');\n",
       "            // Show what's available\n",
       "            console.log('window.IPython:', typeof window.IPython);\n",
       "            console.log('window.Jupyter:', typeof window.Jupyter);\n",
       "            console.log('Available on window:', Object.keys(window).filter(k => k.toLowerCase().includes('jupyter') || k.toLowerCase().includes('ipython')));\n",
       "        }\n",
       "        \n",
       "    } catch (e) {\n",
       "        console.log('❌ Error:', e);\n",
       "    }\n",
       "};\n",
       "\n",
       "panel.appendChild(btn);\n",
       "document.body.appendChild(panel);\n",
       "\n",
       "console.log('🔴 Red test panel created');\n"
      ],
      "text/plain": [
       "<IPython.core.display.Javascript object>"
      ]
     },
     "metadata": {},
     "output_type": "display_data"
    },
    {
     "name": "stdout",
     "output_type": "stream",
     "text": [
      "🔴 Red test panel created - click button and check console\n"
     ]
    }
   ],
   "source": [
    "%run working_test.py"
   ]
  },
  {
   "cell_type": "code",
   "execution_count": null,
   "id": "138d1fa5-12cf-4f29-bcb1-b0678e171973",
   "metadata": {},
   "outputs": [],
   "source": [
    "# This should appear in next cell\n",
    "print('Direct insertion works!')"
   ]
  },
  {
   "cell_type": "code",
   "execution_count": null,
   "id": "78e1a375-1d38-463f-8040-04013c0cdbdd",
   "metadata": {},
   "outputs": [],
   "source": []
  }
 ],
 "metadata": {
  "kernelspec": {
   "display_name": "Python 3 (ipykernel)",
   "language": "python",
   "name": "python3"
  },
  "language_info": {
   "codemirror_mode": {
    "name": "ipython",
    "version": 3
   },
   "file_extension": ".py",
   "mimetype": "text/x-python",
   "name": "python",
   "nbconvert_exporter": "python",
   "pygments_lexer": "ipython3",
   "version": "3.9.6"
  }
 },
 "nbformat": 4,
 "nbformat_minor": 5
}
