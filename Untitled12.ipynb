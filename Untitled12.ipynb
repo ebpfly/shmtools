{
 "cells": [
  {
   "cell_type": "code",
   "execution_count": 1,
   "id": "fca32eac-6352-4236-a5e2-9811269ace63",
   "metadata": {},
   "outputs": [
    {
     "data": {
      "application/javascript": [
       "\n",
       "console.log(\"=== KERNEL DETECTION DEBUG ===\");\n",
       "\n",
       "// List all window properties that might contain jupyter/ipython\n",
       "const windowProps = Object.keys(window);\n",
       "console.log(\"Window properties containing 'jupyter' or 'ipython':\", \n",
       "    windowProps.filter(prop => \n",
       "        prop.toLowerCase().includes('jupyter') || \n",
       "        prop.toLowerCase().includes('ipython')\n",
       "    )\n",
       ");\n",
       "\n",
       "// Check common locations\n",
       "const checks = [\n",
       "    'window.IPython',\n",
       "    'window.Jupyter', \n",
       "    'IPython',\n",
       "    'Jupyter',\n",
       "    'window._',\n",
       "    'window.require',\n",
       "    'window.requirejs'\n",
       "];\n",
       "\n",
       "checks.forEach(path => {\n",
       "    try {\n",
       "        const obj = eval(path);\n",
       "        console.log(`${path}:`, typeof obj, obj ? Object.keys(obj) : 'null');\n",
       "        \n",
       "        if (obj && obj.notebook) {\n",
       "            console.log(`${path}.notebook:`, typeof obj.notebook);\n",
       "            if (obj.notebook.kernel) {\n",
       "                console.log(`${path}.notebook.kernel:`, typeof obj.notebook.kernel);\n",
       "                console.log(`FOUND KERNEL AT: ${path}.notebook.kernel`);\n",
       "            }\n",
       "        }\n",
       "    } catch (e) {\n",
       "        console.log(`${path}: not found`);\n",
       "    }\n",
       "});\n",
       "\n",
       "// Try to find kernel through different paths\n",
       "console.log(\"=== SEARCHING FOR KERNEL ===\");\n",
       "\n",
       "// Method 1: Look in document\n",
       "const scripts = document.scripts;\n",
       "for (let i = 0; i < scripts.length; i++) {\n",
       "    if (scripts[i].src && scripts[i].src.includes('kernel')) {\n",
       "        console.log('Found kernel-related script:', scripts[i].src);\n",
       "    }\n",
       "}\n",
       "\n",
       "// Method 2: Check if we can access notebook cells\n",
       "try {\n",
       "    const cells = document.querySelectorAll('.code_cell, .cell');\n",
       "    console.log('Found cells:', cells.length);\n",
       "} catch (e) {\n",
       "    console.log('Cannot access cells');\n",
       "}\n",
       "\n",
       "// Method 3: Try require.js if available\n",
       "if (typeof require !== 'undefined') {\n",
       "    console.log('RequireJS available, trying to load services...');\n",
       "    try {\n",
       "        require(['services/kernels/kernel'], function(kernel) {\n",
       "            console.log('Loaded kernel service:', kernel);\n",
       "        });\n",
       "    } catch (e) {\n",
       "        console.log('Cannot load kernel via require:', e);\n",
       "    }\n",
       "}\n",
       "\n",
       "console.log(\"=== DEBUG COMPLETE ===\");\n"
      ],
      "text/plain": [
       "<IPython.core.display.Javascript object>"
      ]
     },
     "metadata": {},
     "output_type": "display_data"
    },
    {
     "name": "stdout",
     "output_type": "stream",
     "text": [
      "🔍 Kernel detection debug running - check console for detailed output\n"
     ]
    }
   ],
   "source": [
    " %run find_kernel.py"
   ]
  },
  {
   "cell_type": "code",
   "execution_count": null,
   "id": "7b82824a-ee29-4271-8b6a-65ded7c84932",
   "metadata": {},
   "outputs": [],
   "source": []
  }
 ],
 "metadata": {
  "kernelspec": {
   "display_name": "Python 3 (ipykernel)",
   "language": "python",
   "name": "python3"
  },
  "language_info": {
   "codemirror_mode": {
    "name": "ipython",
    "version": 3
   },
   "file_extension": ".py",
   "mimetype": "text/x-python",
   "name": "python",
   "nbconvert_exporter": "python",
   "pygments_lexer": "ipython3",
   "version": "3.9.6"
  }
 },
 "nbformat": 4,
 "nbformat_minor": 5
}
