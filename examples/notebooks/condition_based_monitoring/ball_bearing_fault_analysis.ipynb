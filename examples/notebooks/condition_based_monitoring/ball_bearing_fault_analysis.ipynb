{
 "cells": [
  {
   "cell_type": "markdown",
   "metadata": {},
   "source": [
    "# Ball Bearing Fault Analysis\n",
    "\n",
    "This notebook demonstrates condition-based monitoring techniques for detecting and diagnosing faults in ball bearings using vibration data analysis."
   ]
  },
  {
   "cell_type": "code",
   "execution_count": null,
   "metadata": {},
   "outputs": [],
   "source": [
    "import numpy as np\n",
    "import matplotlib.pyplot as plt\n",
    "from scipy import signal\n",
    "from scipy.fft import fft, fftfreq\n",
    "from shmtools.features import SpectralFeatures, EnvelopeAnalysis\n",
    "from shmtools.cbm import BearingFaultDetector"
   ]
  },
  {
   "cell_type": "markdown",
   "metadata": {},
   "source": [
    "## 1. Generate Simulated Bearing Vibration Data"
   ]
  },
  {
   "cell_type": "code",
   "execution_count": null,
   "metadata": {},
   "outputs": [],
   "source": [
    "# Simulation parameters\n",
    "fs = 10000  # Sampling frequency (Hz)\n",
    "duration = 2  # Duration (seconds)\n",
    "shaft_speed = 30  # Hz (1800 RPM)\n",
    "\n",
    "# Bearing geometry parameters\n",
    "n_balls = 9\n",
    "ball_diameter = 7.94  # mm\n",
    "pitch_diameter = 39.04  # mm\n",
    "contact_angle = 0  # degrees\n",
    "\n",
    "# Calculate characteristic frequencies\n",
    "BPFO = n_balls * shaft_speed * 0.5 * (1 - (ball_diameter/pitch_diameter) * np.cos(np.radians(contact_angle)))\n",
    "BPFI = n_balls * shaft_speed * 0.5 * (1 + (ball_diameter/pitch_diameter) * np.cos(np.radians(contact_angle)))\n",
    "BSF = (pitch_diameter/ball_diameter) * shaft_speed * 0.5 * (1 - (ball_diameter/pitch_diameter)**2 * np.cos(np.radians(contact_angle))**2)\n",
    "FTF = shaft_speed * 0.5 * (1 - (ball_diameter/pitch_diameter) * np.cos(np.radians(contact_angle)))\n",
    "\n",
    "print(f\"Characteristic Frequencies:\")\n",
    "print(f\"BPFO (Outer race): {BPFO:.2f} Hz\")\n",
    "print(f\"BPFI (Inner race): {BPFI:.2f} Hz\")\n",
    "print(f\"BSF (Ball spin): {BSF:.2f} Hz\")\n",
    "print(f\"FTF (Cage): {FTF:.2f} Hz\")"
   ]
  },
  {
   "cell_type": "code",
   "execution_count": null,
   "metadata": {},
   "outputs": [],
   "source": [
    "# Generate time vector\n",
    "t = np.linspace(0, duration, int(fs * duration))\n",
    "\n",
    "# Simulate healthy bearing signal\n",
    "healthy_signal = np.random.randn(len(t)) * 0.1  # Background noise\n",
    "healthy_signal += 0.5 * np.sin(2 * np.pi * shaft_speed * t)  # Shaft rotation\n",
    "\n",
    "# Simulate outer race fault\n",
    "fault_signal = healthy_signal.copy()\n",
    "# Add periodic impacts at BPFO frequency\n",
    "impact_period = int(fs / BPFO)\n",
    "for i in range(0, len(t), impact_period):\n",
    "    if i + 50 < len(t):\n",
    "        # Create exponentially decaying impact\n",
    "        impact = 2 * np.exp(-100 * t[:50]) * np.sin(2 * np.pi * 2000 * t[:50])\n",
    "        fault_signal[i:i+50] += impact\n",
    "\n",
    "print(f\"Generated {len(t)} samples at {fs} Hz\")"
   ]
  },
  {
   "cell_type": "markdown",
   "metadata": {},
   "source": [
    "## 2. Time Domain Analysis"
   ]
  },
  {
   "cell_type": "code",
   "execution_count": null,
   "metadata": {},
   "outputs": [],
   "source": [
    "# Calculate time domain features\n",
    "def calculate_time_features(signal):\n",
    "    features = {\n",
    "        'RMS': np.sqrt(np.mean(signal**2)),\n",
    "        'Peak': np.max(np.abs(signal)),\n",
    "        'Crest Factor': np.max(np.abs(signal)) / np.sqrt(np.mean(signal**2)),\n",
    "        'Kurtosis': np.mean((signal - np.mean(signal))**4) / np.var(signal)**2\n",
    "    }\n",
    "    return features\n",
    "\n",
    "healthy_features = calculate_time_features(healthy_signal)\n",
    "fault_features = calculate_time_features(fault_signal)\n",
    "\n",
    "print(\"Time Domain Features:\")\n",
    "print(\"\\nHealthy Bearing:\")\n",
    "for key, value in healthy_features.items():\n",
    "    print(f\"  {key}: {value:.4f}\")\n",
    "print(\"\\nFaulty Bearing:\")\n",
    "for key, value in fault_features.items():\n",
    "    print(f\"  {key}: {value:.4f}\")"
   ]
  },
  {
   "cell_type": "code",
   "execution_count": null,
   "metadata": {},
   "outputs": [],
   "source": [
    "# Plot time domain signals\n",
    "fig, axes = plt.subplots(2, 1, figsize=(12, 8))\n",
    "\n",
    "# Healthy signal\n",
    "axes[0].plot(t[:1000], healthy_signal[:1000], 'b', alpha=0.7)\n",
    "axes[0].set_title('Healthy Bearing Vibration')\n",
    "axes[0].set_xlabel('Time (s)')\n",
    "axes[0].set_ylabel('Acceleration (g)')\n",
    "axes[0].grid(True)\n",
    "\n",
    "# Fault signal\n",
    "axes[1].plot(t[:1000], fault_signal[:1000], 'r', alpha=0.7)\n",
    "axes[1].set_title('Bearing with Outer Race Fault')\n",
    "axes[1].set_xlabel('Time (s)')\n",
    "axes[1].set_ylabel('Acceleration (g)')\n",
    "axes[1].grid(True)\n",
    "\n",
    "plt.tight_layout()\n",
    "plt.show()"
   ]
  },
  {
   "cell_type": "markdown",
   "metadata": {},
   "source": [
    "## 3. Frequency Domain Analysis"
   ]
  },
  {
   "cell_type": "code",
   "execution_count": null,
   "metadata": {},
   "outputs": [],
   "source": [
    "# Compute FFT\n",
    "def compute_spectrum(signal, fs):\n",
    "    N = len(signal)\n",
    "    yf = fft(signal)\n",
    "    xf = fftfreq(N, 1/fs)[:N//2]\n",
    "    spectrum = 2.0/N * np.abs(yf[:N//2])\n",
    "    return xf, spectrum\n",
    "\n",
    "freq_healthy, spec_healthy = compute_spectrum(healthy_signal, fs)\n",
    "freq_fault, spec_fault = compute_spectrum(fault_signal, fs)\n",
    "\n",
    "# Plot frequency spectra\n",
    "fig, axes = plt.subplots(2, 1, figsize=(12, 8))\n",
    "\n",
    "# Healthy spectrum\n",
    "axes[0].plot(freq_healthy[:2000], spec_healthy[:2000], 'b', alpha=0.7)\n",
    "axes[0].set_title('Frequency Spectrum - Healthy Bearing')\n",
    "axes[0].set_xlabel('Frequency (Hz)')\n",
    "axes[0].set_ylabel('Amplitude')\n",
    "axes[0].grid(True)\n",
    "axes[0].set_xlim([0, 500])\n",
    "\n",
    "# Fault spectrum with characteristic frequencies marked\n",
    "axes[1].plot(freq_fault[:2000], spec_fault[:2000], 'r', alpha=0.7)\n",
    "axes[1].axvline(x=BPFO, color='g', linestyle='--', label=f'BPFO ({BPFO:.1f} Hz)')\n",
    "axes[1].axvline(x=2*BPFO, color='g', linestyle=':', alpha=0.5, label=f'2×BPFO')\n",
    "axes[1].set_title('Frequency Spectrum - Bearing with Outer Race Fault')\n",
    "axes[1].set_xlabel('Frequency (Hz)')\n",
    "axes[1].set_ylabel('Amplitude')\n",
    "axes[1].legend()\n",
    "axes[1].grid(True)\n",
    "axes[1].set_xlim([0, 500])\n",
    "\n",
    "plt.tight_layout()\n",
    "plt.show()"
   ]
  },
  {
   "cell_type": "markdown",
   "metadata": {},
   "source": [
    "## 4. Envelope Analysis"
   ]
  },
  {
   "cell_type": "code",
   "execution_count": null,
   "metadata": {},
   "outputs": [],
   "source": [
    "# Perform envelope analysis\n",
    "def envelope_analysis(signal, fs, fc=2000, bw=1000):\n",
    "    # Band-pass filter around resonance frequency\n",
    "    nyq = fs / 2\n",
    "    low = (fc - bw/2) / nyq\n",
    "    high = (fc + bw/2) / nyq\n",
    "    b, a = signal.butter(4, [low, high], btype='band')\n",
    "    filtered = signal.filtfilt(b, a, signal)\n",
    "    \n",
    "    # Compute envelope using Hilbert transform\n",
    "    analytic_signal = signal.hilbert(filtered)\n",
    "    envelope = np.abs(analytic_signal)\n",
    "    \n",
    "    return envelope\n",
    "\n",
    "# Compute envelopes\n",
    "envelope_healthy = envelope_analysis(healthy_signal, fs)\n",
    "envelope_fault = envelope_analysis(fault_signal, fs)\n",
    "\n",
    "# Compute envelope spectra\n",
    "freq_env_healthy, spec_env_healthy = compute_spectrum(envelope_healthy, fs)\n",
    "freq_env_fault, spec_env_fault = compute_spectrum(envelope_fault, fs)"
   ]
  },
  {
   "cell_type": "code",
   "execution_count": null,
   "metadata": {},
   "outputs": [],
   "source": [
    "# Plot envelope spectra\n",
    "fig, axes = plt.subplots(2, 1, figsize=(12, 8))\n",
    "\n",
    "# Healthy envelope spectrum\n",
    "axes[0].plot(freq_env_healthy[:1000], spec_env_healthy[:1000], 'b', alpha=0.7)\n",
    "axes[0].set_title('Envelope Spectrum - Healthy Bearing')\n",
    "axes[0].set_xlabel('Frequency (Hz)')\n",
    "axes[0].set_ylabel('Amplitude')\n",
    "axes[0].grid(True)\n",
    "axes[0].set_xlim([0, 200])\n",
    "\n",
    "# Fault envelope spectrum\n",
    "axes[1].plot(freq_env_fault[:1000], spec_env_fault[:1000], 'r', alpha=0.7)\n",
    "axes[1].axvline(x=BPFO, color='g', linestyle='--', linewidth=2, label=f'BPFO ({BPFO:.1f} Hz)')\n",
    "axes[1].axvline(x=2*BPFO, color='g', linestyle=':', alpha=0.7, label=f'2×BPFO')\n",
    "axes[1].axvline(x=3*BPFO, color='g', linestyle=':', alpha=0.5, label=f'3×BPFO')\n",
    "axes[1].set_title('Envelope Spectrum - Bearing with Outer Race Fault')\n",
    "axes[1].set_xlabel('Frequency (Hz)')\n",
    "axes[1].set_ylabel('Amplitude')\n",
    "axes[1].legend()\n",
    "axes[1].grid(True)\n",
    "axes[1].set_xlim([0, 200])\n",
    "\n",
    "plt.tight_layout()\n",
    "plt.show()"
   ]
  },
  {
   "cell_type": "markdown",
   "metadata": {},
   "source": [
    "## 5. Fault Severity Assessment"
   ]
  },
  {
   "cell_type": "code",
   "execution_count": null,
   "metadata": {},
   "outputs": [],
   "source": [
    "# Calculate fault indicators\n",
    "def calculate_fault_indicators(envelope_spectrum, freq, char_freq, harmonics=3):\n",
    "    indicators = {}\n",
    "    \n",
    "    for h in range(1, harmonics + 1):\n",
    "        target_freq = h * char_freq\n",
    "        # Find amplitude at characteristic frequency\n",
    "        idx = np.argmin(np.abs(freq - target_freq))\n",
    "        indicators[f'{h}×BPFO'] = envelope_spectrum[idx]\n",
    "    \n",
    "    # Calculate total energy at fault frequencies\n",
    "    total_energy = sum(indicators.values())\n",
    "    indicators['Total Energy'] = total_energy\n",
    "    \n",
    "    return indicators\n",
    "\n",
    "healthy_indicators = calculate_fault_indicators(spec_env_healthy, freq_env_healthy, BPFO)\n",
    "fault_indicators = calculate_fault_indicators(spec_env_fault, freq_env_fault, BPFO)\n",
    "\n",
    "print(\"Fault Indicators:\")\n",
    "print(\"\\nHealthy Bearing:\")\n",
    "for key, value in healthy_indicators.items():\n",
    "    print(f\"  {key}: {value:.6f}\")\n",
    "print(\"\\nFaulty Bearing:\")\n",
    "for key, value in fault_indicators.items():\n",
    "    print(f\"  {key}: {value:.6f}\")\n",
    "\n",
    "# Calculate severity ratio\n",
    "severity_ratio = fault_indicators['Total Energy'] / healthy_indicators['Total Energy']\n",
    "print(f\"\\nFault Severity Ratio: {severity_ratio:.2f}\")\n",
    "\n",
    "if severity_ratio > 10:\n",
    "    print(\"Status: SEVERE FAULT - Immediate maintenance required\")\n",
    "elif severity_ratio > 5:\n",
    "    print(\"Status: MODERATE FAULT - Schedule maintenance soon\")\n",
    "elif severity_ratio > 2:\n",
    "    print(\"Status: EARLY FAULT - Monitor closely\")\n",
    "else:\n",
    "    print(\"Status: HEALTHY - Continue normal operation\")"
   ]
  },
  {
   "cell_type": "markdown",
   "metadata": {},
   "source": [
    "## 6. Trending Analysis"
   ]
  },
  {
   "cell_type": "code",
   "execution_count": null,
   "metadata": {},
   "outputs": [],
   "source": [
    "# Simulate fault progression over time\n",
    "days = np.arange(0, 30)\n",
    "fault_progression = 1 + np.exp((days - 20) / 5)  # Exponential degradation\n",
    "fault_progression[fault_progression < 1] = 1\n",
    "\n",
    "# Add some noise\n",
    "fault_progression += np.random.randn(len(days)) * 0.2\n",
    "\n",
    "# Plot trending\n",
    "fig, ax = plt.subplots(figsize=(12, 6))\n",
    "\n",
    "ax.plot(days, fault_progression, 'b-o', label='Fault Indicator')\n",
    "ax.axhline(y=2, color='y', linestyle='--', label='Warning Threshold')\n",
    "ax.axhline(y=5, color='orange', linestyle='--', label='Alert Threshold')\n",
    "ax.axhline(y=10, color='r', linestyle='--', label='Critical Threshold')\n",
    "\n",
    "ax.fill_between(days, 0, 2, alpha=0.2, color='green', label='Normal')\n",
    "ax.fill_between(days, 2, 5, alpha=0.2, color='yellow')\n",
    "ax.fill_between(days, 5, 10, alpha=0.2, color='orange')\n",
    "ax.fill_between(days, 10, max(fault_progression) + 1, alpha=0.2, color='red')\n",
    "\n",
    "ax.set_xlabel('Days')\n",
    "ax.set_ylabel('Fault Severity Indicator')\n",
    "ax.set_title('Bearing Fault Progression Trending')\n",
    "ax.legend(loc='upper left')\n",
    "ax.grid(True, alpha=0.3)\n",
    "\n",
    "plt.tight_layout()\n",
    "plt.show()\n",
    "\n",
    "# Estimate remaining useful life\n",
    "critical_day = np.where(fault_progression > 10)[0]\n",
    "if len(critical_day) > 0:\n",
    "    rul = critical_day[0]\n",
    "    print(f\"Estimated Remaining Useful Life: {rul} days\")\n",
    "else:\n",
    "    print(\"Bearing is healthy - RUL not applicable\")"
   ]
  },
  {
   "cell_type": "markdown",
   "metadata": {},
   "source": [
    "## Conclusion\n",
    "\n",
    "This notebook demonstrated comprehensive ball bearing fault analysis including:\n",
    "\n",
    "1. **Time Domain Analysis**: RMS, Peak, Crest Factor, and Kurtosis indicators\n",
    "2. **Frequency Domain Analysis**: FFT spectrum showing characteristic fault frequencies\n",
    "3. **Envelope Analysis**: Demodulation technique to enhance fault signatures\n",
    "4. **Fault Severity Assessment**: Quantitative evaluation of bearing condition\n",
    "5. **Trending Analysis**: Monitoring fault progression and estimating remaining useful life\n",
    "\n",
    "Key findings:\n",
    "- Outer race faults manifest at BPFO and its harmonics\n",
    "- Envelope analysis effectively isolates bearing fault signatures\n",
    "- Time domain features increase with fault severity\n",
    "- Trending enables predictive maintenance scheduling"
   ]
  }
 ],
 "metadata": {
  "kernelspec": {
   "display_name": "Python 3",
   "language": "python",
   "name": "python3"
  },
  "language_info": {
   "codemirror_mode": {
    "name": "ipython",
    "version": 3
   },
   "file_extension": ".py",
   "mimetype": "text/x-python",
   "name": "python",
   "nbconvert_exporter": "python",
   "pygments_lexer": "ipython3",
   "version": "3.8.0"
  }
 },
 "nbformat": 4,
 "nbformat_minor": 4
}