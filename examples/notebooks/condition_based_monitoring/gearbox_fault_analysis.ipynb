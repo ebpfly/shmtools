{
 "cells": [
  {
   "cell_type": "markdown",
   "metadata": {},
   "source": [
    "# Condition Based Monitoring Gearbox Fault Analysis"
   ]
  },
  {
   "cell_type": "markdown",
   "metadata": {},
   "source": [
    "## Introduction:\n",
    "\n",
    "This usage script focuses on extracting a number of damage features for gearbox diagnostics and compares them statistically to determine which would be a good candidate for detecting worn tooth damage of a gearbox vibrations signal. Vibration signals were collected of over a number of instances for a baseline healthy state as well as worn tooth damage state. The bearings on the main shaft used were fluid film bearings which supported the main shaft that drove the gear box. The usage script begins by loading the vibration signals and angular resampling the vibration signal to a specified samples per revolution of the gear shaft. The resampled signal is compared to the raw time signal to demonstrate the improvement of the gear mesh components. The power spectral densities are looked at to see if any visible damage has occurred between the damage state and the baseline state. The residual difference and band pass mesh signals are filtered for the angular resampled signal using fir filtering methods which are used by various gearbox damage features. Then the script plots some time frequency domain figures of merit to see if any useful information can be extracted. Of the four time frequency domains presented the continuous wavelet scalogram is chosen for further processing. The Hoelder exponent is computed from the continuous wavelet scalogram for damage detection in a later damage feature extraction method. Ten damage features are computed from the signals processed earlier on and compared using receiver operating characteristic curves to see which have better performance for the data set.\n",
    "\n",
    "Requires data_CBM.mat dataset.\n",
    "\n",
    "**References:**\n",
    "\n",
    "[1] Randall, Robert., Vibration-based Condition Monitoring, Wiley and Sons, 2011.\n",
    "\n",
    "[2] Lebold, M.; McClintic, K.; Campbell, R.; Byington, C.; Maynard, K., Review of Vibration Analysis Methods for Gearbox Diagnostics and Prognostics, Proceedings of the 54th Meeting of the Society for Machinery Failure Prevention Technology, Virginia Beach, VA, May 1-4, 2000, p. 623-634.\n",
    "\n",
    "**SHMTools functions called:**\n",
    "\n",
    "arsTach_shm, crestFactor_shm, cwtScalogram_shm, demean_shm, dwvd_shm, filter_shm, fir1_shm, fm0_shm, fm4_shm, hoelderExp_shm, import_CBMData_shm, lpcSpectrogram_shm, m6a_shm, m8a_shm, na4m_shm, nb4m_shm, rms_shm, plotPSD_shm, plotROC_shm, plotTimeFreq_shm, plotScalogram_shm, psdWelch_shm, ROC_shm, statMoments_shm, stft_shm, window_shm\n",
    "\n",
    "**Author:** Luke Robinson\n",
    "\n",
    "**Date Created:** July 25, 2013\n",
    "\n",
    "**LA-CC-14-046**  \n",
    "Copyright (c) 2014, Los Alamos National Security, LLC  \n",
    "All rights reserved."
   ]
  },
  {
   "cell_type": "code",
   "execution_count": null,
   "metadata": {},
   "outputs": [],
   "source": "import numpy as np\nimport matplotlib.pyplot as plt\n\n# Import shmtools (installed package)\nfrom examples.data import import_cbm_data_shm\nfrom shmtools.core.preprocessing import demean_shm, filter_shm, window_shm\nfrom shmtools.core.cbm_processing import ars_tach_shm\nfrom shmtools.core.signal_processing import fir1_shm\nfrom shmtools.core.spectral import (\n    psd_welch_shm, dwvd_shm, lpc_spectrogram_shm, stft_shm, cwt_scalogram_shm, hoelder_exp_shm\n)\nfrom shmtools.core.statistics import (\n    crest_factor_shm, stat_moments_shm, rms_shm, fm0_shm, fm4_shm, m6a_shm, m8a_shm, na4m_shm, nb4m_shm\n)\nfrom shmtools.classification.outlier_detection import roc_shm\nfrom shmtools.plotting.spectral_plots import (\n    plot_psd_shm, plot_time_freq_shm, plot_scalogram_shm, plot_features_shm\n)\n\n# Set up plotting\nplt.style.use('default')\nplt.rcParams['figure.figsize'] = (12, 8)\nplt.rcParams['font.size'] = 10"
  },
  {
   "cell_type": "markdown",
   "metadata": {},
   "source": [
    "## Begin Gear Box Damage Analysis Script"
   ]
  },
  {
   "cell_type": "code",
   "execution_count": null,
   "metadata": {},
   "outputs": [],
   "source": "# Load Desired Data States and Channels for Outter Race Bearing Damage w/\n# Channel 2: Accel Mounted on Gearbox\ndataset, damage_states, state_list, fs = import_cbm_data_shm()\n\n# Convert to boolean mask - ensure correct dimensions\nstates = (state_list.flatten() == 1) | (state_list.flatten() == 3)\nchannels = [0, 1]  # tachyometer and accel (Python 0-based indexing)\n\n# Extract data using proper indexing\nX = dataset[:, channels, :]  # First get the channels\nX = X[:, :, states]  # Then filter by states\ndamageStates = damage_states[states]\nstateList = state_list.flatten()[states]\n\niBaseline = np.where(stateList == 1)[0]\niDamage = np.where(stateList == 3)[0]\nX = demean_shm(X)\n\nprint(f\"Data loaded - Shape: {X.shape}\")\nprint(f\"Sampling frequency: {fs} Hz\")\nprint(f\"Baseline instances: {len(iBaseline)}\")\nprint(f\"Damage instances: {len(iDamage)}\")\nprint(f\"States shape: {states.shape}, sum: {np.sum(states)}\")\nprint(f\"Original stateList shape: {stateList.shape}\")"
  },
  {
   "cell_type": "markdown",
   "metadata": {},
   "source": [
    "## 1) Look at an Example Time and Frequency Series"
   ]
  },
  {
   "cell_type": "code",
   "execution_count": null,
   "metadata": {},
   "outputs": [],
   "source": [
    "# Plot instance Number\n",
    "instance = 2  # Python 0-based (MATLAB used 3)\n",
    "\n",
    "fig = plt.figure(figsize=(12, 16))\n",
    "\n",
    "# Time Series Comparison\n",
    "plt.subplot(4, 1, 1)\n",
    "plt.plot(X[:, 1, iBaseline[instance]], 'b', label='Baseline')\n",
    "plt.plot(X[:, 1, iDamage[instance]], 'r', label='Damaged')\n",
    "plt.xlim([0, 1024])\n",
    "plt.title('Time Series Data, First 1024 points')\n",
    "plt.xlabel('Sample')\n",
    "plt.ylabel('Acceleration (g)')\n",
    "plt.legend()\n",
    "\n",
    "# Frequency Domain Comparison\n",
    "plt.subplot(4, 1, 2)\n",
    "test_data = X[:, 1:2, [iBaseline[instance], iDamage[instance]]]\n",
    "psdMatrix, f, is1sided = psd_welch_shm(test_data, None, None, None, Fs, None)\n",
    "plt.plot(f, psdMatrix[:, 0, 0], 'b', label='Baseline')\n",
    "plt.plot(f, psdMatrix[:, 0, 1], 'r', label='Damaged')\n",
    "plt.grid(True)\n",
    "plt.title('PSD Magnitude Plot')\n",
    "plt.xlabel('Frequency (Hz)')\n",
    "plt.ylabel('Magnitude')\n",
    "plt.legend()\n",
    "\n",
    "print(\"Initial time and frequency domain plots complete\")"
   ]
  },
  {
   "cell_type": "markdown",
   "metadata": {},
   "source": [
    "## 2) Order Track using ARSTach and ARSAccel for further refinement.\n",
    "\n",
    "The data in this example was retrieved from a system that had minor speed fluctuations in the main shaft speed. The shaft speed variation was on the order or +/- 3RPM. signalARSTach uses a single pulse per rotation signal to resample a time domain signal that may have large speed fluctuations into a vibration signal tracked to orders of the shaft rotation in an equally space angular domain. This improves periodic frequency components that would have smeared from shaft speed fluctuations. The tachometer is located on the main shaft but the gear box is separated by a belt drive with a gear ratio equal to 1:3.71 and must be accounted for to resample to the gearbox shaft. nFilter is used for various anti-aliasing functionality in signalARSTach. signalARSTach by default uses a Kaiser windowed fir filter with a beta shape function set to 4 as its filter type."
   ]
  },
  {
   "cell_type": "code",
   "execution_count": null,
   "metadata": {},
   "outputs": [],
   "source": "# arsTach_shm Input:\nnFilter = 255        # Anti-Alias Filter Length\nsamplesPerRev = 512  # Desired Samples per Rev\ngearRatio = 1/3.71   # Main Shaft:Gear Shaft Ratio\n\nxARSMatrixT, samplesPerRev = ars_tach_shm(X, nFilter, samplesPerRev, gearRatio)\n\nprint(f\"Angular resampling complete - Samples per revolution: {samplesPerRev}\")\nprint(f\"Resampled data shape: {xARSMatrixT.shape}\")"
  },
  {
   "cell_type": "markdown",
   "metadata": {},
   "source": [
    "## Compare Resampled Angular Series and Frequency Domain Content"
   ]
  },
  {
   "cell_type": "code",
   "execution_count": null,
   "metadata": {},
   "outputs": [],
   "source": [
    "# Angular Series Comparison\n",
    "plt.subplot(4, 1, 3)\n",
    "rev_range = np.arange(1, samplesPerRev + 1) / samplesPerRev\n",
    "plt.plot(rev_range, xARSMatrixT[:samplesPerRev, 0, iBaseline[instance]], 'b', label='Baseline')\n",
    "plt.plot(rev_range, xARSMatrixT[:samplesPerRev, 0, iDamage[instance]], 'r', label='Damaged')\n",
    "plt.title(f'Angular Resampled using Tachometer\\n1 Gear Revolution, SPR: {samplesPerRev}')\n",
    "plt.xlabel('Revolutions')\n",
    "plt.ylabel('Acceleration (g)')\n",
    "plt.legend()\n",
    "\n",
    "# Frequency Domain Comparison\n",
    "plt.subplot(4, 1, 4)\n",
    "test_ars_data = xARSMatrixT[:, 0:1, [iBaseline[instance], iDamage[instance]]]\n",
    "psdMatrix, f, is1sided = psd_welch_shm(test_ars_data, None, None, None, samplesPerRev/27, None)\n",
    "plt.plot(f, psdMatrix[:, 0, 0], 'b', label='Baseline')\n",
    "plt.plot(f, psdMatrix[:, 0, 1], 'r', label='Damaged')\n",
    "plt.grid(True)\n",
    "plt.title(f'PSD Magnitude Plot\\nFirst 10 Orders SPR: {samplesPerRev}')\n",
    "plt.xlabel('Frequency (Harmonic Orders)')\n",
    "plt.ylabel('Magnitude')\n",
    "plt.legend()\n",
    "\n",
    "plt.tight_layout()\n",
    "plt.show()\n",
    "\n",
    "print(\"Angular resampling comparison complete\")"
   ]
  },
  {
   "cell_type": "markdown",
   "metadata": {},
   "source": [
    "## 3) Look at Average Power Spectral Density for the Baseline Case\n",
    "\n",
    "Comparing the power spectral densities it can be seen that the periodic gear mesh harmonics begin to smear and frequency energy not associated with the gear meshing increases as the gear teeth begin to wear."
   ]
  },
  {
   "cell_type": "code",
   "execution_count": null,
   "metadata": {},
   "outputs": [],
   "source": [
    "# psdWelch_shm Input:\n",
    "nWin = 2**(int(np.log2(xARSMatrixT.shape[0])) - 1)\n",
    "nOvlap = int(nWin * 0.75)\n",
    "nFFT = nWin * 2\n",
    "Fs_psd = samplesPerRev / 27\n",
    "\n",
    "psdMatrix, f, is1sided = psd_welch_shm(xARSMatrixT, nWin, nOvlap, nFFT, Fs_psd, None)\n",
    "\n",
    "# Plot baseline condition\n",
    "fig, axes = plt.subplots(2, 2, figsize=(15, 10))\n",
    "\n",
    "ax1 = plotPSD_shm(psdMatrix[:, :, iBaseline], 1, is1sided, f, True, True, axes[0, 0])\n",
    "axes[0, 0].set_title('Power Spectral Density\\nBaseline Condition')\n",
    "axes[0, 0].set_ylabel('Frequency (Harmonic Orders)')\n",
    "\n",
    "ax2 = plotPSD_shm(psdMatrix[:, :, iDamage], 1, is1sided, f, True, True, axes[0, 1])\n",
    "axes[0, 1].set_title('Power Spectral Density\\nWorntooth Condition')\n",
    "axes[0, 1].set_ylabel('Frequency (Harmonic Orders)')\n",
    "\n",
    "plt.tight_layout()\n",
    "plt.show()\n",
    "\n",
    "print(\"Power spectral density analysis complete\")"
   ]
  },
  {
   "cell_type": "markdown",
   "metadata": {},
   "source": [
    "## 4) Filter xARS to get Residual, Difference and Band Pass Signal.\n",
    "\n",
    "Filtering of the angular resampled signal is used to determine three traditional processed signals used in gearbox damage detection. Here the signals are filtered and plotted for comparison. The residual signal consists of the angular resampled signal with the shaft and gear mesh frequencies filtered out. To do this a narrow band fir filter is used and set to filter ate gear mesh orders with a width of an estimate of the first order sideband. The difference signal is similar to the residual signal but its band width is set to be a little larger than that of the residual signal filter to also filter out first order sidebands. The band pass gear mesh signal is the angular resampled signal with all frequency components filtered out except gear mesh harmonics and the first order sidebands."
   ]
  },
  {
   "cell_type": "code",
   "execution_count": null,
   "metadata": {},
   "outputs": [],
   "source": "# Filter Out Drive Shaft\nnGearTeeth = 27\nFs_filter = samplesPerRev        # Cycles/Rev\nfDrive = 1                       # Cycles/Rev\nfHarmonic = nGearTeeth          # Cycles/Rev\nfSideBand = 1                   # Cycles/Rev\n\n# Constant Filtering Parameters  \nnFilter = 511  # Odd number of filter coefficients\nnDelay = int(np.ceil((nFilter - 1) / 2))\n\n# Filter Out Drive Shaft Frequency\nWn = fDrive / Fs_filter\nfilterType = 'high'\n\n# Use scipy directly to avoid window compatibility issues\nfrom scipy import signal\nfilterCoef = signal.firwin(nFilter, Wn, pass_zero='highpass', window=('kaiser', 4))\ny = filter_shm(xARSMatrixT, filterCoef)\n\nprint(f\"Drive shaft filtering complete - Filter length: {nFilter}\")\nprint(f\"Filtered signal shape: {y.shape}\")"
  },
  {
   "cell_type": "code",
   "execution_count": null,
   "metadata": {},
   "outputs": [],
   "source": "# Residual Signal Filtering out Gear Mesh (Initialize Filter)\nindex = 1\nFc = index * fHarmonic\nxResidual = y.copy()\nfilterType = 'bandstop'\nfilterContinue = True\n\nwhile filterContinue:\n    Wn = np.array([Fc - fSideBand, Fc + fSideBand]) / Fs_filter\n    # Ensure valid frequency range\n    Wn = np.clip(Wn, 0.001, 0.999)\n    \n    # Use scipy directly\n    from scipy import signal\n    filterCoef = signal.firwin(nFilter, Wn, pass_zero='bandstop', window=('kaiser', 4))\n    xResidual = filter_shm(xResidual, filterCoef)\n    \n    index += 1\n    Fc = fHarmonic * index\n    \n    if (Fc + fSideBand) >= Fs_filter / 2:\n        filterContinue = False\n\n# Remove Filter Delay\nxResidual = xResidual[nDelay:, :, :]\n\nprint(f\"Residual signal filtering complete - {index-1} harmonics filtered\")\nprint(f\"Residual signal shape: {xResidual.shape}\")"
  },
  {
   "cell_type": "code",
   "execution_count": null,
   "metadata": {},
   "outputs": [],
   "source": "# Difference Signal Filtering out Gear Mesh (Initialize Filter)\nindex = 1\nFc = index * fHarmonic\nxDifference = y.copy()\nfilterType = 'bandstop'\nfilterContinue = True\n\nwhile filterContinue:\n    Wn = np.array([Fc - 2*fSideBand, Fc + 2*fSideBand]) / Fs_filter\n    # Ensure valid frequency range\n    Wn = np.clip(Wn, 0.001, 0.999)\n    \n    # Use scipy directly\n    from scipy import signal\n    filterCoef = signal.firwin(nFilter, Wn, pass_zero='bandstop', window=('kaiser', 4))\n    xDifference = filter_shm(xDifference, filterCoef)\n    \n    index += 1\n    Fc = fHarmonic * index\n    \n    if (Fc + 2*fSideBand) >= Fs_filter / 2:\n        filterContinue = False\n\n# Remove Filter Delay\nxDifference = xDifference[nDelay:, :, :]\n\nprint(f\"Difference signal filtering complete - {index-1} harmonics filtered\")\nprint(f\"Difference signal shape: {xDifference.shape}\")"
  },
  {
   "cell_type": "code",
   "execution_count": null,
   "metadata": {},
   "outputs": [],
   "source": "# Band Pass Mesh Signal Filtering out All but Gear Mesh (Initialize Filter)\nindex = 0\nFc = fHarmonic / 2\nxBandPassMesh = y.copy()\nfilterType = 'bandstop'\nfilterContinue = True\n\nwhile filterContinue:\n    if index == 0:\n        Wn = np.array([0.00001, Fc + (fHarmonic/2 - fSideBand)]) / Fs_filter\n    else:\n        Wn = np.array([Fc - (fHarmonic/2 - fSideBand), Fc + (fHarmonic/2 - fSideBand)]) / Fs_filter\n    \n    # Ensure valid frequency range\n    Wn = np.clip(Wn, 0.001, 0.999)\n    \n    # Use scipy directly\n    from scipy import signal\n    filterCoef = signal.firwin(nFilter, Wn, pass_zero='bandstop', window=('kaiser', 4))\n    xBandPassMesh = filter_shm(xBandPassMesh, filterCoef)\n    \n    index += 1\n    Fc = fHarmonic * (index + 0.5)\n    \n    if ((Fc + (fHarmonic/2 - fSideBand)) / Fs_filter) >= 0.5:\n        Wn = np.array([Fc - (fHarmonic/2 - fSideBand), Fs_filter/2 - 0.0001]) / Fs_filter\n        Wn = np.clip(Wn, 0.001, 0.999)\n        filterCoef = signal.firwin(nFilter, Wn, pass_zero='bandstop', window=('kaiser', 4))\n        xBandPassMesh = filter_shm(xBandPassMesh, filterCoef)\n        filterContinue = False\n\n# Remove Filter Delay\nxBandPassMesh = xBandPassMesh[nDelay:, :, :]\n\nprint(f\"Band-pass mesh signal filtering complete\")\nprint(f\"Band-pass mesh signal shape: {xBandPassMesh.shape}\")"
  },
  {
   "cell_type": "markdown",
   "metadata": {},
   "source": [
    "## Look at Average Power Spectral Density for New Signals\n",
    "\n",
    "Of the four time frequency plots shown, the continuous wavelet scalogram presents the best option for detection nonlinearities in a signal. The gear mesh impulses can be detected in the high frequency bin. By design continuous wavelet scalograms have good frequency resolution and poor time resolution for low frequencies and good time resolution but poor frequency resolution at high frequencies. Impulses create broad band noise and this can be seen in the high frequency range of the scalogram which directly corresponds to gear teeth impacts that are extracted using the Hoelder exponent. The other time frequency plots, in order to get good time resolution the must use small window sizes which cause a lot of smearing in the frequency content."
   ]
  },
  {
   "cell_type": "code",
   "execution_count": null,
   "metadata": {},
   "outputs": [],
   "source": [
    "# psdWelch_shm Input:\n",
    "nWin = 2**(int(np.log2(xResidual.shape[0])) - 1)\n",
    "nOvlap = int(nWin * 0.75)\n",
    "nFFT = nWin * 2\n",
    "Fs_filtered = samplesPerRev / nGearTeeth\n",
    "\n",
    "fig, axes = plt.subplots(1, 3, figsize=(18, 6))\n",
    "\n",
    "# Plot PSD of all instances of the residual signal\n",
    "psdMatrix, f, is1sided = psd_welch_shm(xResidual, nWin, nOvlap, nFFT, Fs_filtered, None)\n",
    "\n",
    "ax = plotPSD_shm(psdMatrix, 1, is1sided, f, True, False, axes[0])\n",
    "axes[0].set_title('Power Spectral Density: Residual Signal\\nBaseline and Worntooth Damage')\n",
    "axes[0].set_ylabel('Frequency (Harmonic Orders)')\n",
    "\n",
    "# Plot PSD of all instances of the difference signal\n",
    "psdMatrix, f, is1sided = psd_welch_shm(xDifference, nWin, nOvlap, nFFT, Fs_filtered, None)\n",
    "\n",
    "ax = plotPSD_shm(psdMatrix, 1, is1sided, f, True, False, axes[1])\n",
    "axes[1].set_title('Power Spectral Density: Difference Signal\\nBaseline and Worntooth Damage')\n",
    "axes[1].set_ylabel('Frequency (Harmonic Orders)')\n",
    "\n",
    "# Plot PSD of all instances of the band pass mesh signal\n",
    "psdMatrix, f, is1sided = psd_welch_shm(xBandPassMesh, nWin, nOvlap, nFFT, Fs_filtered, None)\n",
    "\n",
    "ax = plotPSD_shm(psdMatrix, 1, is1sided, f, True, False, axes[2])\n",
    "axes[2].set_title('Power Spectral Density: BandPass Mesh Signal\\nBaseline and Worntooth Damage')\n",
    "axes[2].set_ylabel('Frequency (Harmonic Orders)')\n",
    "\n",
    "plt.tight_layout()\n",
    "plt.show()\n",
    "\n",
    "print(\"Filtered signal PSD analysis complete\")"
   ]
  },
  {
   "cell_type": "markdown",
   "metadata": {},
   "source": [
    "## 5) Look at Time Frequency Domain"
   ]
  },
  {
   "cell_type": "code",
   "execution_count": null,
   "metadata": {},
   "outputs": [],
   "source": "for i in range(2):\n    index = 3  # Python 0-based (MATLAB used 4)\n    instance = [iBaseline[index], iDamage[index]]\n    stateTitle = ['Baseline', 'Damaged']\n    \n    print(f\"\\nProcessing {stateTitle[i]} condition:\")\n    \n    # dwvd_shm Input:\n    nWin = 65\n    nOvlap = nWin - 1\n    nFFT = nWin * 2\n    Fs_tf = samplesPerRev\n    \n    signal_segment = xARSMatrixT[:samplesPerRev, :, instance[i]]\n    # Fix: reshape to add instance dimension for spectral functions\n    signal_segment = signal_segment.reshape(signal_segment.shape[0], signal_segment.shape[1], 1)\n    \n    dwvdMatrix, f, t = dwvd_shm(signal_segment, nWin, nOvlap, nFFT, Fs_tf)\n    \n    # Plot Discrete Wigner-Ville\n    fig, ax = plt.subplots(figsize=(10, 6))\n    plot_time_freq_shm(dwvdMatrix[:, :, 0, 0], None, None, t, f, None, ax)\n    ax.set_title(f'DWVD Time-Frequency Plot\\n{stateTitle[i]}')\n    ax.set_ylabel('Frequency (Cycles/Rev)')\n    ax.set_xlabel('Revolutions')\n    plt.show()\n    \n    # lpcSpectrogram_shm Input:\n    modelOrder = 42\n    nWin = 64\n    nOvlap = nWin - 1\n    nFFT = nWin * 2\n    Fs_tf = samplesPerRev\n    \n    try:\n        lpcSpecMatrix, f, t = lpc_spectrogram_shm(signal_segment, modelOrder, nWin, nOvlap, nFFT, Fs_tf)\n        \n        # Plot LPC Spectrogram\n        fig, ax = plt.subplots(figsize=(10, 6))\n        plot_time_freq_shm(lpcSpecMatrix[:, :, 0, 0], None, None, t, f, None, ax)\n        ax.set_title(f'LPC Spectrogram Time-Frequency Plot\\n{stateTitle[i]}')\n        ax.set_ylabel('Frequency (Cycles/Rev)')\n        ax.set_xlabel('Revolutions')\n        plt.show()\n    except Exception as e:\n        print(f\"LPC Spectrogram failed: {e}\")\n    \n    # stft_shm Input:\n    nWin = 64\n    nOvlap = nWin - 1\n    nFFT = nWin * 2\n    Fs_tf = samplesPerRev\n    \n    stftMatrix, f, t = stft_shm(signal_segment, nWin, nOvlap, nFFT, Fs_tf)\n    \n    # Plot STFT\n    fig, ax = plt.subplots(figsize=(10, 6))\n    plot_time_freq_shm(stftMatrix[:, :, 0, 0], None, None, t, f, None, ax)\n    ax.set_title(f'STFT Time-Frequency Plot\\n{stateTitle[i]}')\n    ax.set_ylabel('Frequency (Cycles/Rev)')\n    ax.set_xlabel('Revolutions')\n    plt.show()\n    \n    # cwtScalogram_shm Input:\n    Fs_cwt = samplesPerRev\n    fMin = None\n    fMax = None\n    nScale = 256\n    waveOrder = None\n    waveType = None\n    useAnalytic = True\n    \n    scaloMatrix, f, timeVector = cwt_scalogram_shm(signal_segment, Fs_cwt, fMin, fMax, nScale, waveOrder, waveType, useAnalytic)\n    \n    # Plot CWT\n    fig, ax = plt.subplots(figsize=(10, 6))\n    plot_scalogram_shm(scaloMatrix[:, :, 0, 0], None, None, timeVector, f, ax)\n    ax.set_title(f'CWT Scalogram\\n{stateTitle[i]}')\n    ax.set_ylabel('Frequency (Cycles/Rev)')\n    ax.set_xlabel('Revolutions')\n    plt.show()\n\nprint(\"\\nTime-frequency domain analysis complete\")"
  },
  {
   "cell_type": "markdown",
   "metadata": {},
   "source": [
    "## 6) Get Hoelder Series from CWTScalo\n",
    "\n",
    "The Hoelder exponent is a measure of the slope of the energy content in a time frequency domain. As high frequency energy rises and falls so too does the value of the Hoelder exponent. As previously stated this picks up on impacts or nonlinearities in a signal that cause increases in high energy content. By looking at the frequency domain of the Hoelder exponent for a gear it is possible to track the impulses of gear teeth and as the wear the magnitude of these impulses in the Hoelder domain will begin to decay making it useful in monitoring gear teeth wear."
   ]
  },
  {
   "cell_type": "code",
   "execution_count": null,
   "metadata": {},
   "outputs": [],
   "source": [
    "# cwtScalogram_shm Input:\n",
    "Fs_hoelder = samplesPerRev\n",
    "fMin = None\n",
    "fMax = None\n",
    "nScale = 64\n",
    "waveOrder = None\n",
    "waveType = None\n",
    "useAnalytic = True\n",
    "\n",
    "scaloMatrix, f, t = cwt_scalogram_shm(xARSMatrixT, Fs_hoelder, fMin, fMax, nScale, waveOrder, waveType, useAnalytic)\n",
    "hoelderMatrix = hoelder_exp_shm(scaloMatrix, f)\n",
    "hoelderMatrix = demean_shm(hoelderMatrix)\n",
    "\n",
    "print(f\"Hoelder exponent computation complete\")\n",
    "print(f\"Hoelder matrix shape: {hoelderMatrix.shape}\")"
   ]
  },
  {
   "cell_type": "markdown",
   "metadata": {},
   "source": [
    "## Plot Hoelder Series in Time and Frequency Domain"
   ]
  },
  {
   "cell_type": "code",
   "execution_count": null,
   "metadata": {},
   "outputs": [],
   "source": [
    "# psdWelch Input:\n",
    "nWin = 2**(int(np.log2(xResidual.shape[0])) - 1)\n",
    "nOvlap = int(nWin * 0.75)\n",
    "nFFT = nWin * 2\n",
    "Fs_hoelder_psd = samplesPerRev / nGearTeeth\n",
    "\n",
    "psdMatrix, f = psd_welch_shm(hoelderMatrix, nWin, nOvlap, nFFT, Fs_hoelder_psd, None)[:2]\n",
    "psdMatrix = 10 * np.log10(psdMatrix + 1e-12)\n",
    "\n",
    "fig, axes = plt.subplots(2, 1, figsize=(12, 10))\n",
    "\n",
    "instance = 5  # Python 0-based (MATLAB used 6)\n",
    "\n",
    "# Angular Series Comparison\n",
    "rev_range = np.arange(1, samplesPerRev + 1) / samplesPerRev\n",
    "axes[0].plot(rev_range, hoelderMatrix[:samplesPerRev, 0, iBaseline[instance]], 'b', label='Baseline')\n",
    "axes[0].plot(rev_range, hoelderMatrix[:samplesPerRev, 0, iDamage[instance]], 'r', label='Damaged')\n",
    "axes[0].grid(True)\n",
    "axes[0].set_title(f'Hoelder Exponent Series\\n1 Gear Revolution SPR: {samplesPerRev}')\n",
    "axes[0].set_xlabel('Revolutions')\n",
    "axes[0].set_ylabel('Acceleration (g)')\n",
    "axes[0].legend()\n",
    "\n",
    "# Frequency Domain Comparison\n",
    "axes[1].plot(f, psdMatrix[:, 0, iBaseline[instance]], 'b', label='Baseline')\n",
    "axes[1].plot(f, psdMatrix[:, 0, iDamage[instance]], 'r', label='Damaged')\n",
    "axes[1].grid(True)\n",
    "axes[1].set_xlim([0, 5])\n",
    "axes[1].set_title(f'Hoelder PSD Magnitude Plot\\nFirst 5 Orders SPR: {samplesPerRev}')\n",
    "axes[1].set_xlabel('Frequency (Gear Mesh Orders)')\n",
    "axes[1].set_ylabel('Magnitude')\n",
    "axes[1].legend()\n",
    "\n",
    "plt.tight_layout()\n",
    "plt.show()\n",
    "\n",
    "print(\"Hoelder exponent time and frequency domain analysis complete\")"
   ]
  },
  {
   "cell_type": "markdown",
   "metadata": {},
   "source": [
    "## 7) Look at Some Common Feature Types\n",
    "\n",
    "Several features are compared here. Raw signal features like crest factor kurtosis and root mean square are good at detection damage but the damage features suffer from a lack of localization in determining the cause of change. Increases in load and speed can cause a large change in the value of these features. FM0 uses the resampled signal and track the gear mesh orders which makes it tuned to the gear in question. FMH is similar to FM0 but uses the Hoelder series instead giving it improved separation in the damage features between baseline and worn tooth states. The residual and difference signals monitor changes in the frequency content other than that of gear mesh harmonics and sidebands and the band pass mesh signal features monitor the kurtosis of the enveloped signal of primarily gear mesh harmonics."
   ]
  },
  {
   "cell_type": "code",
   "execution_count": null,
   "metadata": {},
   "outputs": [],
   "source": [
    "# Raw Signal Damage Features\n",
    "cf = crest_factor_shm(X[:, 1:2, :])\n",
    "statisticsFV = stat_moments_shm(X[:, 1:2, :])\n",
    "kurt = statisticsFV[:, 3]  # Kurtosis (4th moment, 0-based indexing)\n",
    "rms = rms_shm(X[:, 1:2, :])\n",
    "\n",
    "# Resampled Signal Damage Features\n",
    "fundMeshFreq = fHarmonic / samplesPerRev\n",
    "trackOrders = [1, 2, 3]\n",
    "nFFT = None\n",
    "nBinSearch = 3\n",
    "fm0 = fm0_shm(xARSMatrixT, fundMeshFreq, trackOrders, nFFT, nBinSearch)\n",
    "\n",
    "# Residual Signal Damage Features\n",
    "fm4 = fm4_shm(xResidual)\n",
    "m6a = m6a_shm(xResidual)\n",
    "m8a = m8a_shm(xResidual)\n",
    "\n",
    "# Difference Signal Damage Features\n",
    "na4mBase, m2 = na4m_shm(xDifference[:, :, iBaseline], None)\n",
    "na4mDamage, temp = na4m_shm(xDifference[:, :, iDamage], m2)\n",
    "na4m = np.concatenate([na4mBase, na4mDamage])\n",
    "\n",
    "# Bandpass Mesh Signal\n",
    "nb4mBase, m2 = nb4m_shm(xBandPassMesh[:, :, iBaseline], None)\n",
    "nb4mDamage, temp = nb4m_shm(xBandPassMesh[:, :, iDamage], m2)\n",
    "nb4m = np.concatenate([nb4mBase, nb4mDamage])\n",
    "\n",
    "# Hoelder Signal Damage Features\n",
    "fundMeshFreq = fHarmonic / samplesPerRev\n",
    "trackOrders = [1, 2, 3]\n",
    "nFFT = None\n",
    "nBinSearch = 3\n",
    "fmH = fm0_shm(hoelderMatrix, fundMeshFreq, trackOrders, nFFT, nBinSearch)\n",
    "\n",
    "# Plot Damage Features\n",
    "features = np.column_stack([cf.flatten(), kurt, rms.flatten(), fm0.flatten(), fm4.flatten(),\n",
    "                           m6a.flatten(), m8a.flatten(), na4m.flatten(), nb4m.flatten(), fmH.flatten()])\n",
    "featNames = ['Crest Factor', 'Kurtosis', 'Root Mean Square', 'FM0', 'FM4',\n",
    "             'M6A', 'M8A', 'NA4M', 'NB4M', 'FMH']\n",
    "\n",
    "plot_features_shm(features, None, None, featNames, None, None)\n",
    "plt.suptitle('Damage Features', fontsize=16)\n",
    "plt.show()\n",
    "\n",
    "print(f\"Feature extraction complete - {len(featNames)} features extracted\")"
   ]
  },
  {
   "cell_type": "markdown",
   "metadata": {},
   "source": [
    "## 8) Compare Damage Features Statistically - Plot ROC Curves\n",
    "\n",
    "To compare the damage features detectability statistically, receiver operating characteristic curves can be used to show the probability of detection vs. the probability of false alarm. Damage features with a high probability of detection to false alarm rate are optimal detectors. From the ROC curves the four best performing damage features for the data provided were NA4M, root mean square, FM0 and FMH which all had perfect detection in this data set."
   ]
  },
  {
   "cell_type": "code",
   "execution_count": null,
   "metadata": {},
   "outputs": [],
   "source": [
    "fig, axes = plt.subplots(2, 5, figsize=(20, 10))\n",
    "axes = axes.flatten()\n",
    "\n",
    "thresholdTypes = ['below', 'below', 'above', 'above', 'below', 'below',\n",
    "                  'below', 'above', 'below', 'above']\n",
    "\n",
    "for i in range(len(featNames)):\n",
    "    ax = axes[i]\n",
    "    \n",
    "    # Create damage state labels (0 for baseline, 1 for damage)\n",
    "    damage_labels = np.concatenate([np.zeros(len(iBaseline)), np.ones(len(iDamage))])\n",
    "    \n",
    "    TPR, FPR = roc_shm(features[:, i], damage_labels, None, thresholdTypes[i])\n",
    "    \n",
    "    # Plot ROC curve using basic matplotlib since plot_roc_shm might have different signature\n",
    "    ax.plot(FPR, TPR, 'b-', linewidth=2, label='ROC Curve')\n",
    "    ax.plot([0, 1], [0, 1], '--k', linewidth=1, label='Random')\n",
    "    ax.grid(True)\n",
    "    ax.set_xlim([0, 1])\n",
    "    ax.set_ylim([0, 1])\n",
    "    ax.set_xlabel('False Positive Rate')\n",
    "    ax.set_ylabel('True Positive Rate')\n",
    "    ax.set_title(f'Receiver Operating Characteristic:\\n{featNames[i]}')\n",
    "\n",
    "plt.tight_layout()\n",
    "plt.show()\n",
    "\n",
    "print(\"ROC curve analysis complete\")\n",
    "print(\"Phase 17: CBM Gear Box Analysis - COMPLETE\")"
   ]
  }
 ],
 "metadata": {
  "kernelspec": {
   "display_name": "Python 3",
   "language": "python",
   "name": "python3"
  },
  "language_info": {
   "codemirror_mode": {
    "name": "ipython",
    "version": 3
   },
   "file_extension": ".py",
   "mimetype": "text/x-python",
   "name": "python",
   "nbconvert_exporter": "python",
   "pygments_lexer": "ipython3",
   "version": "3.8.5"
  }
 },
 "nbformat": 4,
 "nbformat_minor": 4
}