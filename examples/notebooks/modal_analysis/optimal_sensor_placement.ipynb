{
 "cells": [
  {
   "cell_type": "markdown",
   "metadata": {},
   "source": [
    "# Optimal Sensor Placement Using Modal Analysis Based Approaches\n",
    "\n",
    "This notebook demonstrates optimal sensor placement algorithms for structural health monitoring using modal analysis data. We explore two methods:\n",
    "\n",
    "1. **Fisher Information Matrix with Effective Independence (EI) Method**\n",
    "2. **Maximum Norm Method with spatial constraints**\n",
    "\n",
    "## Introduction\n",
    "\n",
    "Computes the 12-sensor optimal arrangements using the Fisher information method and the maximum norm method, plotting the resulting arrangements on the structure's geometry.\n",
    "\n",
    "### References\n",
    "\n",
    "- D. Kammer, \"Sensor placement for on-orbit modal identification and correlation of large space structures,\" *Journal of Guidance, Control, and Dynamics*, vol. 14, pp. 251-259, 1991.\n",
    "- M. Meo and G. Zumpano, \"On the optimal sensor placement techniques for a bridge structure,\" *Engineering Structures*, vol. 27, pp. 1488-1497, 2005.\n",
    "\n",
    "### SHMTools functions demonstrated\n",
    "\n",
    "- `response_interp_shm`: Convert DOF response to node XYZ coordinates\n",
    "- `add_resp_2_geom_shm`: Add response to geometry for deformed shape visualization\n",
    "- `osp_fisher_info_eiv_shm`: Fisher Information Matrix optimization\n",
    "- `get_sensor_layout_shm`: Convert optimal DOFs to sensor locations\n",
    "- `osp_max_norm_shm`: Maximum norm optimization with spatial constraints"
   ]
  },
  {
   "cell_type": "markdown",
   "metadata": {},
   "source": [
    "## Setup and Imports"
   ]
  },
  {
   "cell_type": "code",
   "execution_count": null,
   "metadata": {},
   "outputs": [],
   "source": "# Standard imports\nimport numpy as np\nimport matplotlib.pyplot as plt\nfrom mpl_toolkits.mplot3d import Axes3D\n\n# Import shmtools (installed package)\nfrom examples.data import import_modal_osp_shm\nfrom shmtools.modal import (\n    response_interp_shm,\n    add_resp_2_geom_shm,\n    osp_fisher_info_eiv_shm,\n    get_sensor_layout_shm,\n    osp_max_norm_shm\n)\n\n# Configure plotting\nplt.style.use('default')\nplt.rcParams['figure.figsize'] = (12, 8)\nplt.rcParams['font.size'] = 10\n\nprint(\"Setup complete!\")"
  },
  {
   "cell_type": "markdown",
   "metadata": {},
   "source": [
    "## Load Example Modal Data\n",
    "\n",
    "Loads nodeLayout, elements, modeshapes, and respDOF from the example dataset."
   ]
  },
  {
   "cell_type": "code",
   "execution_count": null,
   "metadata": {},
   "outputs": [],
   "source": "# Load modal OSP example data\nnode_layout, elements, mode_shapes, resp_dof = import_modal_osp_shm()\n\nprint(f\"Loaded data:\")\nprint(f\"  Node layout shape: {node_layout.shape}\")\nprint(f\"  Elements shape: {elements.shape}\")\nprint(f\"  Mode shapes: {mode_shapes.shape}\")\nprint(f\"  Response DOF: {resp_dof.shape}\")\nprint(f\"\\nNumber of nodes: {node_layout.shape[1]}\")\nprint(f\"Number of modes: {mode_shapes.shape[1]}\")\nprint(f\"Number of DOFs: {mode_shapes.shape[0]}\")"
  },
  {
   "cell_type": "markdown",
   "metadata": {},
   "source": [
    "## Visualization Functions\n",
    "\n",
    "Define functions for plotting the structure, mode shapes, and sensor locations."
   ]
  },
  {
   "cell_type": "code",
   "execution_count": null,
   "metadata": {},
   "outputs": [],
   "source": "def plot_structure_3d(node_layout, elements, ax=None, color='blue', alpha=0.3):\n    \"\"\"Plot 3D structure using nodes and elements with proper hexahedron connectivity.\"\"\"\n    if ax is None:\n        fig = plt.figure(figsize=(10, 8))\n        ax = fig.add_subplot(111, projection='3d')\n    \n    # Handle different node layout formats\n    if node_layout.shape[0] == 4:\n        # Format: [node_indices; X; Y; Z]\n        node_xyz = node_layout[1:4, :].T  # Extract X,Y,Z and transpose\n    else:\n        # Format: [X, Y, Z] per row\n        node_xyz = node_layout\n    \n    # Plot elements with proper 8-node hexahedron connectivity\n    if elements.size > 0:\n        # MATLAB 8-node hexahedron face definitions (0-based indexing)\n        hex_faces = [\n            [0, 1, 2, 3],  # Bottom face: nodes 1-2-3-4\n            [4, 5, 6, 7],  # Top face: nodes 5-6-7-8\n            [0, 1, 5, 4],  # Front face: nodes 1-2-6-5  \n            [2, 6, 7, 3],  # Back face: nodes 3-7-8-4\n            [0, 4, 7, 3],  # Left face: nodes 1-5-8-4\n            [1, 5, 6, 2],  # Right face: nodes 2-6-7-3\n        ]\n        \n        for elem_idx in range(elements.shape[1]):\n            # Extract element nodes (skip first row which is element ID)\n            elem_nodes = elements[1:, elem_idx].astype(int) - 1  # Convert to 0-based\n            \n            # Check if all nodes are valid (8-node hexahedron)\n            if len(elem_nodes) == 8 and np.all(elem_nodes >= 0) and np.all(elem_nodes < len(node_xyz)):\n                # Draw each face of the hexahedron\n                for face in hex_faces:\n                    # Get the 4 nodes that define this face\n                    face_nodes = [elem_nodes[i] for i in face]\n                    \n                    # Draw the face edges: 0->1->2->3->0\n                    for i in range(4):\n                        n1 = face_nodes[i]\n                        n2 = face_nodes[(i + 1) % 4]  # Next node (wrap around)\n                        \n                        # Plot edge\n                        ax.plot([node_xyz[n1, 0], node_xyz[n2, 0]], \n                               [node_xyz[n1, 1], node_xyz[n2, 1]], \n                               [node_xyz[n1, 2], node_xyz[n2, 2]], \n                               color=color, alpha=alpha, linewidth=0.5)\n    \n    # Plot nodes\n    ax.scatter(node_xyz[:, 0],\n               node_xyz[:, 1], \n               node_xyz[:, 2],\n               c='red', s=20, alpha=0.6)\n    \n    return ax\n\n\ndef plot_mode_shape(node_layout, elements, mode_shape, resp_dof, mode_num, scale=None):\n    \"\"\"Plot deformed shape for a given mode.\"\"\"\n    # Convert mode shape DOF vector to node XYZ response\n    resp_xyz = response_interp_shm(node_layout, mode_shape, resp_dof, use_3d_interp=False)\n    \n    # Add response to geometry for deformed shape\n    deformed_layout, resp_scale = add_resp_2_geom_shm(node_layout, resp_xyz, scale)\n    \n    # Create figure\n    fig = plt.figure(figsize=(12, 5))\n    \n    # Plot original shape\n    ax1 = fig.add_subplot(121, projection='3d')\n    plot_structure_3d(node_layout, elements, ax1, color='blue', alpha=0.3)\n    ax1.set_xlabel('X')\n    ax1.set_ylabel('Y')\n    ax1.set_zlabel('Z')\n    ax1.set_title(f'Original Structure')\n    \n    # Plot deformed shape\n    ax2 = fig.add_subplot(122, projection='3d')\n    plot_structure_3d(deformed_layout, elements, ax2, color='red', alpha=0.5)\n    ax2.set_xlabel('X')\n    ax2.set_ylabel('Y')\n    ax2.set_zlabel('Z')\n    ax2.set_title(f'Mode {mode_num} (scale: {resp_scale:.2f})')\n    \n    plt.tight_layout()\n    return fig\n\n\ndef plot_sensors_on_structure(node_layout, elements, sensor_layout, title='Sensor Placement'):\n    \"\"\"Plot sensor locations on the structure.\"\"\"\n    fig = plt.figure(figsize=(10, 8))\n    ax = fig.add_subplot(111, projection='3d')\n    \n    # Plot structure\n    plot_structure_3d(node_layout, elements, ax, color='blue', alpha=0.2)\n    \n    # Plot sensors\n    ax.scatter(sensor_layout[:, 0],\n               sensor_layout[:, 1],\n               sensor_layout[:, 2],\n               c='red', s=200, marker='o', edgecolors='black', linewidth=2,\n               label=f'{len(sensor_layout)} sensors')\n    \n    # Add sensor numbers\n    for i, pos in enumerate(sensor_layout):\n        ax.text(pos[0], pos[1], pos[2], f'  S{i+1}', fontsize=8)\n    \n    ax.set_xlabel('X')\n    ax.set_ylabel('Y')\n    ax.set_zlabel('Z')\n    ax.set_title(title)\n    ax.legend()\n    \n    return fig"
  },
  {
   "cell_type": "markdown",
   "metadata": {},
   "source": [
    "## Plot Mode Shapes\n",
    "\n",
    "Convert the 3rd and 10th 1D mode vectors to 2D response arrays using degree of freedom (DOF) definitions in respDOF."
   ]
  },
  {
   "cell_type": "code",
   "execution_count": null,
   "metadata": {},
   "outputs": [],
   "source": [
    "# Plot Mode 3\n",
    "mode3 = mode_shapes[:, 2]  # 3rd mode (0-based indexing)\n",
    "fig3 = plot_mode_shape(node_layout, elements, mode3, resp_dof, mode_num=3)\n",
    "plt.show()\n",
    "\n",
    "# Plot Mode 10  \n",
    "mode10 = mode_shapes[:, 9]  # 10th mode (0-based indexing)\n",
    "fig10 = plot_mode_shape(node_layout, elements, mode10, resp_dof, mode_num=10)\n",
    "plt.show()"
   ]
  },
  {
   "cell_type": "markdown",
   "metadata": {},
   "source": [
    "## OSP Fisher Information Matrix, Effective Independence Method\n",
    "\n",
    "Calculate the 12 optimal DOFs to place sensors by maximizing the determinant of the Fisher Information Matrix using the Effective Independence Method.\n",
    "\n",
    "The Effective Independence (EI) method iteratively removes degrees of freedom that contribute least to the observability of the target modes."
   ]
  },
  {
   "cell_type": "code",
   "execution_count": null,
   "metadata": {},
   "outputs": [],
   "source": [
    "# Set parameters\n",
    "num_sensors = 12\n",
    "cov_matrix = None  # Use identity matrix\n",
    "\n",
    "# Run Fisher Information EI optimization\n",
    "print(\"Running Fisher Information EI optimization...\")\n",
    "op_list_fisher, det_q = osp_fisher_info_eiv_shm(num_sensors, mode_shapes, cov_matrix)\n",
    "\n",
    "print(f\"\\nOptimal DOF indices (1-based): {op_list_fisher}\")\n",
    "print(f\"Number of iterations: {len(det_q)}\")\n",
    "print(f\"Final determinant of Q: {det_q[-1]:.2e}\")"
   ]
  },
  {
   "cell_type": "code",
   "execution_count": null,
   "metadata": {},
   "outputs": [],
   "source": [
    "# Plot convergence of determinant\n",
    "plt.figure(figsize=(8, 5))\n",
    "plt.semilogy(det_q, 'b.-')\n",
    "plt.xlabel('Iteration')\n",
    "plt.ylabel('det(Q)')\n",
    "plt.title('Fisher Information Matrix Determinant Convergence')\n",
    "plt.grid(True, alpha=0.3)\n",
    "plt.show()"
   ]
  },
  {
   "cell_type": "code",
   "execution_count": null,
   "metadata": {},
   "outputs": [],
   "source": [
    "# Convert optimal DOF indices to sensor XYZ locations\n",
    "sensor_layout_fisher = get_sensor_layout_shm(op_list_fisher, resp_dof, node_layout)\n",
    "\n",
    "# Plot sensors on structure\n",
    "fig_fisher = plot_sensors_on_structure(node_layout, elements, sensor_layout_fisher,\n",
    "                                      title='Fisher Information EI Method')\n",
    "plt.show()\n",
    "\n",
    "print(f\"\\nSensor coordinates (Fisher Information EI):\")\n",
    "for i, pos in enumerate(sensor_layout_fisher):\n",
    "    print(f\"  Sensor {i+1}: X={pos[0]:.2f}, Y={pos[1]:.2f}, Z={pos[2]:.2f}\")"
   ]
  },
  {
   "cell_type": "markdown",
   "metadata": {},
   "source": [
    "## OSP Maximum Norm Method\n",
    "\n",
    "Calculate the 12 optimal DOFs to place sensors by maximizing the norm of the response. The influence of the modes are weighted linearly. Sensors which are closer than a distance of 20 are \"dueled\" to maintain a minimum separation.\n",
    "\n",
    "This method prioritizes locations with high modal response while ensuring sensors are spatially distributed."
   ]
  },
  {
   "cell_type": "code",
   "execution_count": null,
   "metadata": {},
   "outputs": [],
   "source": [
    "# Set parameters for Maximum Norm method\n",
    "num_sensors = 12\n",
    "weights = np.arange(13, 0, -1)  # Linear weights: 13, 12, 11, ..., 1\n",
    "dualing_distance = 20.0  # Minimum separation between sensors\n",
    "\n",
    "print(f\"Mode weights: {weights}\")\n",
    "print(f\"Minimum sensor separation: {dualing_distance}\")\n",
    "\n",
    "# Run Maximum Norm optimization\n",
    "print(\"\\nRunning Maximum Norm optimization...\")\n",
    "op_list_maxnorm = osp_max_norm_shm(num_sensors, mode_shapes, weights, \n",
    "                                   dualing_distance, resp_dof, node_layout)\n",
    "\n",
    "print(f\"\\nOptimal DOF indices (1-based): {op_list_maxnorm}\")"
   ]
  },
  {
   "cell_type": "code",
   "execution_count": null,
   "metadata": {},
   "outputs": [],
   "source": [
    "# Convert optimal DOF indices to sensor XYZ locations\n",
    "sensor_layout_maxnorm = get_sensor_layout_shm(op_list_maxnorm, resp_dof, node_layout)\n",
    "\n",
    "# Plot sensors on structure\n",
    "fig_maxnorm = plot_sensors_on_structure(node_layout, elements, sensor_layout_maxnorm,\n",
    "                                       title='Maximum Norm Method')\n",
    "plt.show()\n",
    "\n",
    "print(f\"\\nSensor coordinates (Maximum Norm):\")\n",
    "for i, pos in enumerate(sensor_layout_maxnorm):\n",
    "    print(f\"  Sensor {i+1}: X={pos[0]:.2f}, Y={pos[1]:.2f}, Z={pos[2]:.2f}\")"
   ]
  },
  {
   "cell_type": "markdown",
   "metadata": {},
   "source": [
    "## Compare Methods\n",
    "\n",
    "Compare the sensor placements from both methods side by side."
   ]
  },
  {
   "cell_type": "code",
   "execution_count": null,
   "metadata": {},
   "outputs": [],
   "source": [
    "# Create comparison plot\n",
    "fig = plt.figure(figsize=(16, 7))\n",
    "\n",
    "# Fisher Information method\n",
    "ax1 = fig.add_subplot(121, projection='3d')\n",
    "plot_structure_3d(node_layout, elements, ax1, color='blue', alpha=0.2)\n",
    "ax1.scatter(sensor_layout_fisher[:, 0],\n",
    "            sensor_layout_fisher[:, 1],\n",
    "            sensor_layout_fisher[:, 2],\n",
    "            c='red', s=200, marker='o', edgecolors='black', linewidth=2)\n",
    "ax1.set_xlabel('X')\n",
    "ax1.set_ylabel('Y')\n",
    "ax1.set_zlabel('Z')\n",
    "ax1.set_title('Fisher Information EI Method')\n",
    "\n",
    "# Maximum Norm method\n",
    "ax2 = fig.add_subplot(122, projection='3d')\n",
    "plot_structure_3d(node_layout, elements, ax2, color='blue', alpha=0.2)\n",
    "ax2.scatter(sensor_layout_maxnorm[:, 0],\n",
    "            sensor_layout_maxnorm[:, 1],\n",
    "            sensor_layout_maxnorm[:, 2],\n",
    "            c='green', s=200, marker='s', edgecolors='black', linewidth=2)\n",
    "ax2.set_xlabel('X')\n",
    "ax2.set_ylabel('Y')\n",
    "ax2.set_zlabel('Z')\n",
    "ax2.set_title('Maximum Norm Method')\n",
    "\n",
    "plt.tight_layout()\n",
    "plt.show()"
   ]
  },
  {
   "cell_type": "markdown",
   "metadata": {},
   "source": [
    "## Analysis of Results\n",
    "\n",
    "Calculate metrics to compare the two sensor placement methods."
   ]
  },
  {
   "cell_type": "code",
   "execution_count": null,
   "metadata": {},
   "outputs": [],
   "source": [
    "# Calculate average minimum distance between sensors for each method\n",
    "def calc_min_distances(sensor_layout):\n",
    "    \"\"\"Calculate minimum distance from each sensor to its nearest neighbor.\"\"\"\n",
    "    n_sensors = len(sensor_layout)\n",
    "    min_distances = np.zeros(n_sensors)\n",
    "    \n",
    "    for i in range(n_sensors):\n",
    "        distances = []\n",
    "        for j in range(n_sensors):\n",
    "            if i != j:\n",
    "                dist = np.linalg.norm(sensor_layout[i] - sensor_layout[j])\n",
    "                distances.append(dist)\n",
    "        min_distances[i] = np.min(distances)\n",
    "    \n",
    "    return min_distances\n",
    "\n",
    "# Calculate metrics for Fisher Information method\n",
    "min_dist_fisher = calc_min_distances(sensor_layout_fisher)\n",
    "avg_min_dist_fisher = np.mean(min_dist_fisher)\n",
    "std_min_dist_fisher = np.std(min_dist_fisher)\n",
    "\n",
    "print(\"Fisher Information EI Method:\")\n",
    "print(f\"  Average minimum distance: {avg_min_dist_fisher:.2f}\")\n",
    "print(f\"  Std deviation: {std_min_dist_fisher:.2f}\")\n",
    "print(f\"  Min distance: {np.min(min_dist_fisher):.2f}\")\n",
    "print(f\"  Max distance: {np.max(min_dist_fisher):.2f}\")\n",
    "\n",
    "# Calculate metrics for Maximum Norm method\n",
    "min_dist_maxnorm = calc_min_distances(sensor_layout_maxnorm)\n",
    "avg_min_dist_maxnorm = np.mean(min_dist_maxnorm)\n",
    "std_min_dist_maxnorm = np.std(min_dist_maxnorm)\n",
    "\n",
    "print(\"\\nMaximum Norm Method:\")\n",
    "print(f\"  Average minimum distance: {avg_min_dist_maxnorm:.2f}\")\n",
    "print(f\"  Std deviation: {std_min_dist_maxnorm:.2f}\")\n",
    "print(f\"  Min distance: {np.min(min_dist_maxnorm):.2f}\")\n",
    "print(f\"  Max distance: {np.max(min_dist_maxnorm):.2f}\")\n",
    "print(f\"  Enforced minimum: {dualing_distance:.2f}\")"
   ]
  },
  {
   "cell_type": "code",
   "execution_count": null,
   "metadata": {},
   "outputs": [],
   "source": [
    "# Calculate observability metrics\n",
    "def calc_observability_metric(mode_shapes, dof_indices):\n",
    "    \"\"\"Calculate observability metric for selected DOFs.\"\"\"\n",
    "    # Convert to 0-based indexing\n",
    "    dof_idx_0 = dof_indices.astype(int) - 1\n",
    "    \n",
    "    # Extract mode shapes at selected DOFs\n",
    "    phi_selected = mode_shapes[dof_idx_0, :]\n",
    "    \n",
    "    # Calculate Fisher Information Matrix\n",
    "    q_matrix = phi_selected.T @ phi_selected\n",
    "    \n",
    "    # Calculate metrics\n",
    "    det_q = np.linalg.det(q_matrix)\n",
    "    cond_q = np.linalg.cond(q_matrix)\n",
    "    \n",
    "    return det_q, cond_q\n",
    "\n",
    "# Calculate for both methods\n",
    "det_fisher, cond_fisher = calc_observability_metric(mode_shapes, op_list_fisher)\n",
    "det_maxnorm, cond_maxnorm = calc_observability_metric(mode_shapes, op_list_maxnorm)\n",
    "\n",
    "print(\"\\nObservability Metrics:\")\n",
    "print(f\"\\nFisher Information EI:\")\n",
    "print(f\"  det(Q): {det_fisher:.2e}\")\n",
    "print(f\"  cond(Q): {cond_fisher:.2e}\")\n",
    "print(f\"\\nMaximum Norm:\")\n",
    "print(f\"  det(Q): {det_maxnorm:.2e}\")\n",
    "print(f\"  cond(Q): {cond_maxnorm:.2e}\")"
   ]
  },
  {
   "cell_type": "markdown",
   "metadata": {},
   "source": [
    "## Summary\n",
    "\n",
    "This notebook demonstrated two optimal sensor placement methods for structural health monitoring:\n",
    "\n",
    "### Fisher Information EI Method\n",
    "- **Objective**: Maximize determinant of Fisher Information Matrix\n",
    "- **Approach**: Iteratively remove DOFs with smallest contribution to observability\n",
    "- **Advantages**: Optimal from information theory perspective, maximizes mode observability\n",
    "- **Disadvantages**: May cluster sensors in high-response regions\n",
    "\n",
    "### Maximum Norm Method\n",
    "- **Objective**: Maximize weighted modal response norm with spatial constraints\n",
    "- **Approach**: Greedy selection with minimum separation enforcement\n",
    "- **Advantages**: Ensures spatial distribution, practical for real installations\n",
    "- **Disadvantages**: May sacrifice some observability for spatial coverage\n",
    "\n",
    "### Key Findings\n",
    "1. Fisher Information method typically achieves higher observability metrics (det(Q))\n",
    "2. Maximum Norm method provides better spatial distribution with enforced minimum separation\n",
    "3. Choice of method depends on application priorities (information vs. coverage)\n",
    "\n",
    "Both methods are valuable tools for designing sensor networks in structural health monitoring applications."
   ]
  }
 ],
 "metadata": {
  "kernelspec": {
   "display_name": "Python 3",
   "language": "python",
   "name": "python3"
  },
  "language_info": {
   "codemirror_mode": {
    "name": "ipython",
    "version": 3
   },
   "file_extension": ".py",
   "mimetype": "text/x-python",
   "name": "python",
   "nbconvert_exporter": "python",
   "pygments_lexer": "ipython3",
   "version": "3.9.0"
  }
 },
 "nbformat": 4,
 "nbformat_minor": 4
}