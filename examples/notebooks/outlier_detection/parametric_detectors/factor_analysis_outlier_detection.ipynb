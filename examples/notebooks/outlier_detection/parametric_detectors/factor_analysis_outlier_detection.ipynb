{
 "cells": [
  {
   "cell_type": "markdown",
   "id": "cell-0",
   "metadata": {},
   "source": [
    "# Outlier Detection based on Factor Analysis\n",
    "\n",
    "## Introduction\n",
    "\n",
    "The goal of this example usage is to discriminate time histories from undamaged and damaged condition based on outlier detection. The parameters from an autoregressive (AR) model are used as damage-sensitive features and a machine learning algorithm based on the factor analysis (FA) model is used to create damage indicators (DIs) invariant for feature vectors from normal structural condition and that increase when feature vectors are from damaged structural condition.\n",
    "\n",
    "Data sets from Channel 5 of the 3-story structure are used in this example usage. More details about the data sets can be found in [3-Story Data Sets](https://www.lanl.gov/projects/ei).\n",
    "\n",
    "Requires data3SS.mat dataset.\n",
    "\n",
    "**References:**\n",
    "\n",
    "Kullaa, J. (2003). Is Temperature Measurement Essential in Structural Health Monitoring? Proceedings of the 4th International Workshop on Structural Health Monitoring 2003: From Diagnostic & Prognostics to Structural Health Monitoring (pp. 717-724). DEStech Publications, Inc.\n",
    "\n",
    "**SHMTools functions called:**\n",
    "- `ar_model_shm`\n",
    "- `learn_factor_analysis_shm`\n",
    "- `score_factor_analysis_shm`"
   ]
  },
  {
   "cell_type": "code",
   "execution_count": null,
   "id": "cell-1",
   "metadata": {},
   "outputs": [],
   "source": [
    "import numpy as np\n",
    "import matplotlib.pyplot as plt\n",
    "\n",
    "# Import shmtools (installed package)\n",
    "from examples.data import import_3story_structure_shm\n",
    "from shmtools.features.time_series import ar_model_shm\n",
    "from shmtools.classification.outlier_detection import learn_factor_analysis_shm, score_factor_analysis_shm\n",
    "\n",
    "# Set up plotting\n",
    "plt.style.use('default')\n",
    "plt.rcParams['figure.figsize'] = (12, 8)\n",
    "plt.rcParams['font.size'] = 10"
   ]
  },
  {
   "cell_type": "markdown",
   "id": "cell-2",
   "metadata": {},
   "source": [
    "## Load Raw Data\n",
    "\n",
    "Load data set composed of acceleration time histories:"
   ]
  },
  {
   "cell_type": "code",
   "execution_count": null,
   "id": "cell-3",
   "metadata": {},
   "outputs": [],
   "source": [
    "# Load data set\n",
    "dataset, damage_states, state_list = import_3story_structure_shm()\n",
    "\n",
    "print(f\"Dataset shape: {dataset.shape}\")\n",
    "print(f\"Channel 5 data will be used for analysis\")"
   ]
  },
  {
   "cell_type": "markdown",
   "id": "cell-4",
   "metadata": {},
   "source": [
    "Plot one acceleration time history from four state conditions:"
   ]
  },
  {
   "cell_type": "code",
   "execution_count": null,
   "id": "cell-5",
   "metadata": {},
   "outputs": [],
   "source": [
    "# Plot one acceleration time history from four state conditions\n",
    "states = [1, 3, 11, 16]\n",
    "\n",
    "fig, axes = plt.subplots(2, 2, figsize=(12, 8))\n",
    "axes = axes.flatten()\n",
    "\n",
    "for i in range(4):\n",
    "    # Use state*10 index to match MATLAB indexing pattern\n",
    "    signal = dataset[:, 4, states[i]*10-1]  # Channel 5, convert to 0-based indexing\n",
    "    \n",
    "    axes[i].plot(signal, 'k-', linewidth=0.8)\n",
    "    axes[i].set_title(f'State#{states[i]}')\n",
    "    axes[i].set_ylim([-2, 2])\n",
    "    axes[i].set_xlim([1, 8192])\n",
    "    axes[i].set_yticks([-2, 0, 2])\n",
    "    axes[i].grid(True, alpha=0.3)\n",
    "    \n",
    "    if i == 2 or i == 3:  # Bottom row\n",
    "        axes[i].set_xlabel('Observations')\n",
    "    if i == 0 or i == 2:  # Left column\n",
    "        axes[i].set_ylabel('Acceleration (g)')\n",
    "\n",
    "plt.tight_layout()\n",
    "plt.show()"
   ]
  },
  {
   "cell_type": "markdown",
   "id": "cell-6",
   "metadata": {},
   "source": [
    "## Extraction of Damage-Sensitive Features\n",
    "\n",
    "AR parameters are extracted from acceleration time histories. It is assumed an AR(15) model. The order of the model was picked from the lower-bound of the range given by the optimization methods available in this package. (For more details see example usage)\n",
    "\n",
    "AR model order:"
   ]
  },
  {
   "cell_type": "code",
   "execution_count": null,
   "id": "cell-7",
   "metadata": {},
   "outputs": [],
   "source": [
    "# AR model order\n",
    "ar_order = 15\n",
    "\n",
    "# Estimation of the AR parameters\n",
    "ar_parameters_fv, rmse_fv, ar_parameters, ar_residuals, ar_prediction = ar_model_shm(dataset[:, 4:5, :], ar_order)\n",
    "\n",
    "print(f\"AR parameters extracted with shape: {ar_parameters.shape}\")\n",
    "print(f\"AR parameters FV shape: {ar_parameters_fv.shape}\")"
   ]
  },
  {
   "cell_type": "markdown",
   "id": "cell-8",
   "metadata": {},
   "source": [
    "Training data (undamaged feature vectors):"
   ]
  },
  {
   "cell_type": "code",
   "execution_count": null,
   "id": "cell-9",
   "metadata": {},
   "outputs": [],
   "source": [
    "# Training data (undamaged feature vectors)\n",
    "# MATLAB: for i=1:9; learnData(i*9-8:i*9,:)=arParameters(i*10-9:i*10-1,:); end\n",
    "learn_data = []\n",
    "for i in range(9):  # MATLAB states 1-9\n",
    "    start_idx = i * 10  # State i+1 starts at index i*10\n",
    "    end_idx = start_idx + 9  # Take 9 samples from each state\n",
    "    learn_data.extend(ar_parameters_fv[start_idx:end_idx, :])\n",
    "learn_data = np.array(learn_data)\n",
    "\n",
    "# Test data (9 undamaged and 8 damaged feature vectors)\n",
    "# MATLAB: scoreData=arParameters(10:10:170,:);\n",
    "score_data = ar_parameters_fv[9::10, :]  # Every 10th sample starting from index 9\n",
    "\n",
    "print(f\"Training data shape: {learn_data.shape}\")\n",
    "print(f\"Test data shape: {score_data.shape}\")"
   ]
  },
  {
   "cell_type": "markdown",
   "id": "cell-10",
   "metadata": {},
   "source": [
    "Plot test data:"
   ]
  },
  {
   "cell_type": "code",
   "execution_count": null,
   "id": "cell-11",
   "metadata": {},
   "outputs": [],
   "source": [
    "# Plot test data\n",
    "plt.figure(figsize=(12, 8))\n",
    "plt.plot(range(1, ar_order+1), score_data[:9, :].T, '.-k', label='Undamaged')\n",
    "plt.plot(range(1, ar_order+1), score_data[9:17, :].T, '.-r', label='Damaged')\n",
    "plt.title(f'AR({ar_order}) Parameters from the Test Data')\n",
    "plt.xlabel('AR Parameters')\n",
    "plt.ylabel('Amplitude')\n",
    "plt.xlim([1, ar_order])\n",
    "plt.xticks(range(1, ar_order+1))\n",
    "plt.legend()\n",
    "plt.grid(True, alpha=0.3)\n",
    "plt.show()\n",
    "\n",
    "print(\"Note: The curves in the figure above correspond to 17 feature vectors\")\n",
    "print(\"from the undamaged (State#1-9) and damaged conditions (State#10-17).\")"
   ]
  },
  {
   "cell_type": "markdown",
   "id": "cell-12",
   "metadata": {},
   "source": [
    "## Statistical Modeling for Feature Classification\n",
    "\n",
    "The FA-based machine learning algorithm is used to create DIs invariant under feature vectors from the undamaged condition. In this case, two unobserved variables are assumed to quantify the influence of the operational and environmental variations (the changes in mass and stiffness).\n",
    "\n",
    "Training:"
   ]
  },
  {
   "cell_type": "code",
   "execution_count": null,
   "id": "cell-13",
   "metadata": {},
   "outputs": [],
   "source": [
    "# Training\n",
    "model = learn_factor_analysis_shm(learn_data, num_factors=2, est_method='thomson')\n",
    "\n",
    "# Scoring\n",
    "DI, unique_factors, factor_scores = score_factor_analysis_shm(score_data, model)\n",
    "\n",
    "print(f\"Damage indicators computed for {len(DI)} test instances\")"
   ]
  },
  {
   "cell_type": "markdown",
   "id": "cell-14",
   "metadata": {},
   "source": [
    "## Plot Damage Indicators\n",
    "\n",
    "Threshold based on the 95% cut-off over the training data:"
   ]
  },
  {
   "cell_type": "code",
   "execution_count": null,
   "id": "cell-15",
   "metadata": {},
   "outputs": [],
   "source": [
    "# Threshold based on the 95% cut-off over the training data\n",
    "threshold_DI, _, _ = score_factor_analysis_shm(learn_data, model)\n",
    "threshold = np.sort(-threshold_DI)\n",
    "UCL = threshold[int(np.round(len(threshold) * 0.95)) - 1]  # 95% confidence limit\n",
    "\n",
    "print(f\"95% Upper Control Limit: {UCL:.4f}\")"
   ]
  },
  {
   "cell_type": "markdown",
   "id": "cell-16",
   "metadata": {},
   "source": [
    "Plot DIs:"
   ]
  },
  {
   "cell_type": "code",
   "execution_count": null,
   "id": "cell-17",
   "metadata": {},
   "outputs": [],
   "source": [
    "# Plot DIs\n",
    "plt.figure(figsize=(12, 8))\n",
    "plt.bar(range(1, 10), -DI[:9], color='k', label='Undamaged')\n",
    "plt.bar(range(10, 18), -DI[9:17], color='r', label='Damaged')\n",
    "plt.title('Damage Indicators of the Test Data')\n",
    "plt.xlabel('State Condition\\n[Undamaged(1-9) and Damaged (10-17)]')\n",
    "plt.ylabel(\"DI's Amplitude\")\n",
    "plt.axhline(y=UCL, color='b', linestyle='-.', linewidth=1, label=f'95% UCL ({UCL:.3f})')\n",
    "plt.xticks(range(1, 18))\n",
    "plt.legend()\n",
    "plt.grid(True, alpha=0.3)\n",
    "plt.show()\n",
    "\n",
    "print(\"\\nThe figure shows that the FA-based machine learning algorithm is able to\")\n",
    "print(\"discriminate all the damaged state conditions. However, it cannot avoid\")\n",
    "print(\"one false-positive indication of damaged (State#4). Note however that\")\n",
    "print(\"this result can be improved by increasing either the number of unobserved\")\n",
    "print(\"variables or the number of feature vectors in the training data.\")"
   ]
  },
  {
   "cell_type": "markdown",
   "id": "cell-18",
   "metadata": {},
   "source": [
    "## See also:\n",
    "\n",
    "[Outlier Detection Based on Nonlinear Principal Component Analysis](nlpca_outlier_detection.ipynb)\n",
    "\n",
    "[Outlier Detection Based on Principal Component Analysis](pca_outlier_detection.ipynb)\n",
    "\n",
    "[Outlier Detection Based on the Singular Value Decomposition](svd_outlier_detection.ipynb)\n",
    "\n",
    "[Outlier Detection Based on the Mahalanobis Distance](mahalanobis_outlier_detection.ipynb)"
   ]
  }
 ],
 "metadata": {
  "kernelspec": {
   "display_name": "Python 3 (ipykernel)",
   "language": "python",
   "name": "python3"
  },
  "language_info": {
   "codemirror_mode": {
    "name": "ipython",
    "version": 3
   },
   "file_extension": ".py",
   "name": "python",
   "nbconvert_exporter": "python",
   "pygments_lexer": "ipython3",
   "version": "3.11.0"
  }
 },
 "nbformat": 4,
 "nbformat_minor": 5
}