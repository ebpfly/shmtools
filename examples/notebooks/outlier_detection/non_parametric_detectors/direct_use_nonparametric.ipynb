{
 "cells": [
  {
   "cell_type": "markdown",
   "metadata": {},
   "source": "# Direct Use of Nonparametric Outlier Detection\n\n## Introduction\n\nThis example demonstrates nonparametric outlier detection using kernel density estimation (KDE). The algorithm learns a nonparametric probability density function from undamaged baseline data and identifies outliers as points with low probability density.\n\nData from the **3-story structure** dataset are used to extract AR model features, which are then analyzed using kernel density estimation for damage detection.\n\n**Key Concepts:**\n- **Kernel Density Estimation**: Nonparametric density estimation using various kernel functions\n- **Bandwidth Selection**: Automatic methods for optimal smoothing parameter selection\n- **Threshold Determination**: Statistical approach using normal distribution fitting\n- **Multiple Kernel Functions**: Comparison of different kernel shapes (Gaussian, Epanechnikov, etc.)\n\n**References:**\n\nFigueiredo, E., Park, G., Figueiras, J., Farrar, C., & Worden, K. (2009). Structural Health Monitoring Algorithm Comparisons using Standard Data Sets. Los Alamos National Laboratory Report: LA-14393.\n\n**SHMTools functions used:**\n- `ar_model_shm`\n- `learn_kernel_density_shm`\n- `score_kernel_density_shm`\n- `roc_shm`\n- `epanechnikov_kernel_shm`"
  },
  {
   "cell_type": "code",
   "execution_count": null,
   "metadata": {},
   "outputs": [],
   "source": [
    "import numpy as np",
    "import matplotlib.pyplot as plt",
    "",
    "# Import shmtools (installed package)",
    "from shmtools.utils.data_loading import load_3story_data",
    "from shmtools.features.time_series import ar_model_shm",
    "from shmtools.classification.nonparametric import (",
    "",
    "# Set up plotting",
    "plt.style.use('default')",
    "plt.rcParams['figure.figsize'] = (12, 8)",
    "plt.rcParams['font.size'] = 10"
   ]
  },
  {
   "cell_type": "markdown",
   "metadata": {},
   "source": [
    "## Load data"
   ]
  },
  {
   "cell_type": "code",
   "execution_count": null,
   "metadata": {},
   "outputs": [],
   "source": [
    "data = load_3story_data()\n",
    "dataset = data['dataset']\n",
    "states = data['damage_states']"
   ]
  },
  {
   "cell_type": "code",
   "execution_count": null,
   "metadata": {},
   "outputs": [],
   "source": [
    "time_data = np.zeros((2048, 5, 680))\n",
    "time_data_states = np.zeros(680)\n",
    "for i in range(4):\n",
    "    start_idx = 2048 * i\n",
    "    end_idx = 2048 * (i + 1)\n",
    "    time_data[:, :, i::4] = dataset[start_idx:end_idx, :, :]\n",
    "    time_data_states[i::4] = states"
   ]
  },
  {
   "cell_type": "code",
   "execution_count": null,
   "metadata": {},
   "outputs": [],
   "source": [
    "N = 400\n",
    "np.random.seed(42)\n",
    "idx = np.random.permutation(time_data.shape[2])[:N]\n",
    "X_data = ar_model_shm(time_data[:, :, idx])[1]\n",
    "X_states = time_data_states[idx]"
   ]
  },
  {
   "cell_type": "code",
   "execution_count": null,
   "metadata": {},
   "outputs": [],
   "source": [
    "idx = np.isin(X_states, range(1, 10))\n",
    "X_undamaged = X_data[idx, :]\n",
    "n_undamaged = X_undamaged.shape[0]\n",
    "n_train = round(0.8 * n_undamaged)\n",
    "X_train = X_undamaged[:n_train, :]\n",
    "X_test = np.vstack([X_undamaged[n_train:, :], X_data[~idx, :]])\n",
    "n_test = X_test.shape[0]"
   ]
  },
  {
   "cell_type": "code",
   "execution_count": null,
   "metadata": {},
   "outputs": [],
   "source": [
    "n_test_0 = n_undamaged - n_train"
   ]
  },
  {
   "cell_type": "code",
   "execution_count": null,
   "metadata": {},
   "outputs": [],
   "source": [
    "test_labels = np.concatenate([np.zeros(n_test_0), np.ones(n_test - n_test_0)])"
   ]
  },
  {
   "cell_type": "markdown",
   "metadata": {},
   "source": [
    "## Train a model over the undamaged data"
   ]
  },
  {
   "cell_type": "code",
   "execution_count": null,
   "metadata": {},
   "outputs": [],
   "source": [
    "kernel_fun = epanechnikov_kernel_shm\n",
    "H = None\n",
    "bs_method = 2\n",
    "d_model = learn_kernel_density_shm(X_train, H, kernel_fun, bs_method)"
   ]
  },
  {
   "cell_type": "markdown",
   "metadata": {},
   "source": [
    "## Pick a threshold from the training data"
   ]
  },
  {
   "cell_type": "code",
   "execution_count": null,
   "metadata": {},
   "outputs": [],
   "source": [
    "likelihoods = score_kernel_density_shm(X_train, d_model)"
   ]
  },
  {
   "cell_type": "code",
   "execution_count": null,
   "metadata": {},
   "outputs": [],
   "source": [
    "model_p = stats.norm.fit(likelihoods)"
   ]
  },
  {
   "cell_type": "code",
   "execution_count": null,
   "metadata": {},
   "outputs": [],
   "source": [
    "confidence = 0.9\n",
    "threshold = stats.norm.ppf(1 - confidence, model_p[0], model_p[1])"
   ]
  },
  {
   "cell_type": "markdown",
   "metadata": {},
   "source": [
    "## Test the detector"
   ]
  },
  {
   "cell_type": "code",
   "execution_count": null,
   "metadata": {},
   "outputs": [],
   "source": [
    "scores = score_kernel_density_shm(X_test, d_model)"
   ]
  },
  {
   "cell_type": "code",
   "execution_count": null,
   "metadata": {},
   "outputs": [],
   "source": [
    "results = scores <= threshold"
   ]
  },
  {
   "cell_type": "markdown",
   "metadata": {},
   "source": [
    "## Report the detector's performance"
   ]
  },
  {
   "cell_type": "code",
   "execution_count": null,
   "metadata": {},
   "outputs": [],
   "source": [
    "total_err = np.sum(results != test_labels) / n_test\n",
    "false_positive_err = np.sum(results[:n_test_0] != 0) / n_test_0\n",
    "false_negative_err = np.sum(results[n_test_0:] != 1) / (n_test - n_test_0)\n",
    "print(f'\\n Total error: {total_err:.2f}\\n False Positive rate: {false_positive_err:.2f}\\n False Negative rate: {false_negative_err:.2f}')"
   ]
  },
  {
   "cell_type": "code",
   "execution_count": null,
   "metadata": {},
   "outputs": [],
   "source": [
    "true_positives, false_positives = roc_shm(scores, test_labels)"
   ]
  },
  {
   "cell_type": "code",
   "execution_count": null,
   "metadata": {},
   "outputs": [],
   "source": [
    "plt.figure()\n",
    "plt.plot(false_positives, true_positives)\n",
    "plt.xlabel('falsePositives')\n",
    "plt.ylabel('truePositives')\n",
    "plt.title('ROC curve')\n",
    "plt.show()"
   ]
  }
 ],
 "metadata": {
  "kernelspec": {
   "display_name": "Python 3",
   "language": "python",
   "name": "python3"
  },
  "language_info": {
   "codemirror_mode": {
    "name": "ipython",
    "version": 3
   },
   "file_extension": ".py",
   "mimetype": "text/x-python",
   "name": "python",
   "nbconvert_exporter": "python",
   "pygments_lexer": "ipython3",
   "version": "3.8.5"
  }
 },
 "nbformat": 4,
 "nbformat_minor": 4
}