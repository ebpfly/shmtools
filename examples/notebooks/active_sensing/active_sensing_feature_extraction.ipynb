{
 "cells": [
  {
   "cell_type": "markdown",
   "metadata": {},
   "source": [
    "# Active Sensing Feature Extraction\n",
    "\n",
    "## Introduction\n",
    "\n",
    "In this example we load in a raw set of active sensing data, process it according to the geometry of the plate structure, and extract features relative to the presence of damage.\n",
    "\n",
    "The test structure was a 0.01 inch concave-shaped plate approximately 48 inches on one side. The plate was instrumented with 32 piezoelectric transducers which served as both actuators and sensors to form 492 actuator-sensor pairs. Damage was simulated using a two inch neodymium magnet.\n",
    "\n",
    "The data acquisition system cycled through the actuator-sensor pairs, one at a time, inducing a gaussian windowed sinusoid at the actuator and sensing the propagated wave at the sensor. This was done once before damage was applied and then again after damage. It is assumed that the damage modifies the received waveform through scattering.\n",
    "\n",
    "This example builds an array of points on the structure for detecting damage at. Individual features are then extracted from the measured waveforms by estimating the wave group velocity and establishing line-of-sight constraints. The final result is a map of the sums of the feature vectors at each point on the structure.\n",
    "\n",
    "For proper structural health monitoring, the features produced in this example need to be used to build and test against a statistical model in order to decide the damage state of the structure.\n",
    "\n",
    "**SHMTools functions used:**\n",
    "- `import_ActiveSense1_shm`\n",
    "- `struct_cell_2_mat_shm`\n",
    "- `reduce_2_pair_subset_shm`\n",
    "- `build_contained_grid_shm`\n",
    "- `propagation_dist_2_points_shm`\n",
    "- `get_prop_dist_2_boundary_shm`\n",
    "- `sensor_pair_line_of_sight_shm`\n",
    "- `estimate_group_velocity_shm`\n",
    "- `distance_2_index_shm`\n",
    "- `incoherent_matched_filter_shm`\n",
    "- `extract_subsets_shm`\n",
    "- `flex_logic_filter_shm`\n",
    "- `sum_mult_dims_shm`\n",
    "- `fill_2d_map_shm`"
   ]
  },
  {
   "cell_type": "code",
   "execution_count": null,
   "metadata": {},
   "outputs": [],
   "source": "import numpy as np\nimport matplotlib.pyplot as plt\n\n# Import shmtools (installed package)\nfrom examples.data import import_active_sense1_shm\nfrom shmtools.active_sensing import (\n    struct_cell_2_mat_shm, reduce_2_pair_subset_shm, build_contained_grid_shm,\n    propagation_dist_2_points_shm, get_prop_dist_2_boundary_shm,\n    sensor_pair_line_of_sight_shm, estimate_group_velocity_shm,\n    distance_2_index_shm, incoherent_matched_filter_shm,\n    extract_subsets_shm, flex_logic_filter_shm, sum_mult_dims_shm,\n    fill_2d_map_shm\n)\n\n# Set up plotting\nplt.style.use('default')\nplt.rcParams['figure.figsize'] = (12, 8)\nplt.rcParams['font.size'] = 10"
  },
  {
   "cell_type": "markdown",
   "metadata": {},
   "source": [
    "## Configuration Parameters"
   ]
  },
  {
   "cell_type": "code",
   "execution_count": null,
   "metadata": {},
   "outputs": [],
   "source": [
    "# Select subset (or all) of sensors to process (0-31) - MATLAB: [0 2 5 7 11 12 15 17 19 21 24 25 27 28 30]\n",
    "sensor_subset = np.array([0, 2, 5, 7, 11, 12, 15, 17, 19, 21, 24, 25, 27, 28, 30])\n",
    "\n",
    "# Resolution, in inches, of imaging on plate\n",
    "POI_spacing = 0.5\n",
    "\n",
    "# Sample actuator-sensor pair index for plotting\n",
    "sample_pair_i = 4\n",
    "\n",
    "print(f\"Sensor subset: {sensor_subset}\")\n",
    "print(f\"POI spacing: {POI_spacing} inches\")\n",
    "print(f\"Sample pair index: {sample_pair_i}\")"
   ]
  },
  {
   "cell_type": "markdown",
   "metadata": {},
   "source": [
    "## Load Data and DAQ Parameters"
   ]
  },
  {
   "cell_type": "code",
   "execution_count": null,
   "metadata": {},
   "outputs": [],
   "source": "# Load the data - MATLAB: load('data_example_ActiveSense.mat',...)\n(\n    waveform_base,\n    waveform_test,\n    sensor_layout,\n    pair_list,\n    border_struct,\n    sample_rate,\n    actuation_waveform,\n    damage_location,\n) = import_active_sense1_shm()\n\nprint(f\"Data loaded successfully!\")\nprint(f\"Waveform base shape: {waveform_base.shape}\")\nprint(f\"Waveform test shape: {waveform_test.shape}\")\nprint(f\"Sensor layout shape: {sensor_layout.shape}\")\nprint(f\"Pair list shape: {pair_list.shape}\")\nprint(f\"Sample rate: {sample_rate} Hz\")\nprint(f\"Actuation waveform shape: {actuation_waveform.shape}\")\nprint(f\"Damage location: {damage_location.flatten()}\")"
  },
  {
   "cell_type": "markdown",
   "metadata": {},
   "source": [
    "## Collect Border Line Segments into One Array"
   ]
  },
  {
   "cell_type": "code",
   "execution_count": null,
   "metadata": {},
   "outputs": [],
   "source": [
    "# The line segments defining the border are stored as a structure.\n",
    "# Combine them into a single array by concatenating them.\n",
    "# MATLAB: borderComb=structCell2Mat_shm(borderStruct);\n",
    "border_comb = struct_cell_2_mat_shm(border_struct)\n",
    "\n",
    "print(f\"Border combined shape: {border_comb.shape}\")\n",
    "print(f\"Border structure keys: {list(border_struct.keys()) if isinstance(border_struct, dict) else 'Not a dict'}\")"
   ]
  },
  {
   "cell_type": "code",
   "execution_count": null,
   "metadata": {},
   "outputs": [],
   "source": [
    "# Plot the boundaries, sensors, and damage location\n",
    "plt.figure(figsize=(10, 8))\n",
    "\n",
    "# Plot sensors (MATLAB format: sensor_layout is 3 x N_SENSORS)\n",
    "if sensor_layout.shape[0] == 3:  # [sensorID, xCoord, yCoord]\n",
    "    sensor_x = sensor_layout[1, :]\n",
    "    sensor_y = sensor_layout[2, :]\n",
    "else:  # Transposed format\n",
    "    sensor_x = sensor_layout[:, 1]\n",
    "    sensor_y = sensor_layout[:, 2]\n",
    "\n",
    "plt.scatter(sensor_x, sensor_y, c='blue', s=50, marker='o', label='Sensors')\n",
    "\n",
    "# Plot damage location\n",
    "if damage_location.ndim > 1:\n",
    "    damage_x, damage_y = damage_location[0, 0], damage_location[1, 0]\n",
    "else:\n",
    "    damage_x, damage_y = damage_location[0], damage_location[1]\n",
    "    \n",
    "plt.plot(damage_x, damage_y, 'xr', markersize=15, linewidth=4, label='Damage Location')\n",
    "\n",
    "# Plot border if available\n",
    "if border_comb.size > 0:\n",
    "    if border_comb.shape[0] == 4:  # [x1, y1, x2, y2] format\n",
    "        for i in range(border_comb.shape[1]):\n",
    "            x1, y1, x2, y2 = border_comb[:, i]\n",
    "            plt.plot([x1, x2], [y1, y2], 'k-', linewidth=2)\n",
    "\n",
    "plt.xlabel('in')\n",
    "plt.ylabel('in')\n",
    "plt.legend()\n",
    "plt.axis('equal')\n",
    "plt.title('Structure Layout with Sensors and Damage Location')\n",
    "plt.grid(True, alpha=0.3)\n",
    "plt.show()"
   ]
  },
  {
   "cell_type": "markdown",
   "metadata": {},
   "source": [
    "## Extract Data for Sensor Subset"
   ]
  },
  {
   "cell_type": "code",
   "execution_count": null,
   "metadata": {},
   "outputs": [],
   "source": [
    "# Extract the data relevant to the chosen subset of sensors\n",
    "# MATLAB: [pairListSub, sensorLayoutSub, waveformBaseSub, waveformTestSub] = \n",
    "#         reduce2PairSubset_shm(sensorSubset, sensorLayout, pairList, waveformBase, waveformTest);\n",
    "\n",
    "pair_list_sub, sensor_layout_sub, waveform_base_sub, waveform_test_sub = reduce_2_pair_subset_shm(\n",
    "    sensor_subset, sensor_layout, pair_list, waveform_base, waveform_test\n",
    ")\n",
    "\n",
    "print(f\"Pair list subset shape: {pair_list_sub.shape}\")\n",
    "print(f\"Sensor layout subset shape: {sensor_layout_sub.shape}\")\n",
    "print(f\"Waveform base subset shape: {waveform_base_sub.shape if waveform_base_sub is not None else 'None'}\")\n",
    "print(f\"Waveform test subset shape: {waveform_test_sub.shape if waveform_test_sub is not None else 'None'}\")"
   ]
  },
  {
   "cell_type": "code",
   "execution_count": null,
   "metadata": {},
   "outputs": [],
   "source": [
    "# Plot an example waveform\n",
    "if waveform_base_sub is not None and waveform_test_sub is not None:\n",
    "    plt.figure(figsize=(10, 6))\n",
    "    \n",
    "    # MATLAB indexing: waveformBaseSub(:, samplePairI, 1)\n",
    "    if sample_pair_i < waveform_base_sub.shape[1]:\n",
    "        time_points = np.arange(waveform_base_sub.shape[0])\n",
    "        \n",
    "        if waveform_base_sub.ndim == 3:\n",
    "            baseline_signal = waveform_base_sub[:, sample_pair_i, 0]\n",
    "            test_signal = waveform_test_sub[:, sample_pair_i, 0]\n",
    "        else:\n",
    "            baseline_signal = waveform_base_sub[:, sample_pair_i]\n",
    "            test_signal = waveform_test_sub[:, sample_pair_i]\n",
    "        \n",
    "        plt.plot(time_points, baseline_signal, 'b-', label='Baseline')\n",
    "        plt.plot(time_points, test_signal, 'r-', label='Test')\n",
    "        \n",
    "        plt.xlabel('n')\n",
    "        plt.ylabel('Volts')\n",
    "        plt.legend()\n",
    "        plt.title(f'Example Waveform (Pair {sample_pair_i})')\n",
    "        plt.grid(True, alpha=0.3)\n",
    "        plt.show()\n",
    "    else:\n",
    "        print(f\"Sample pair index {sample_pair_i} exceeds number of pairs {waveform_base_sub.shape[1]}\")"
   ]
  },
  {
   "cell_type": "markdown",
   "metadata": {},
   "source": [
    "## Build Contained Grid of Points"
   ]
  },
  {
   "cell_type": "code",
   "execution_count": null,
   "metadata": {},
   "outputs": [],
   "source": [
    "# Construct uniform list of points of interest (POIs)\n",
    "# MATLAB: [pointList, pointMask, xMatrix, yMatrix] = buildContainedGrid_shm(borderStruct, xSpacing, ySpacing);\n",
    "\n",
    "x_spacing = POI_spacing\n",
    "y_spacing = POI_spacing\n",
    "\n",
    "# Convert border_struct to proper format for build_contained_grid_shm\n",
    "if isinstance(border_struct, dict):\n",
    "    border_list = []\n",
    "    for key, value in border_struct.items():\n",
    "        if hasattr(value, 'shape') and value.size > 0:\n",
    "            if value.shape[0] == 4:  # [x1, y1, x2, y2] format - convert to [x, y] vertex list\n",
    "                # Convert line segments to vertex list\n",
    "                vertices = []\n",
    "                for i in range(value.shape[1]):\n",
    "                    x1, y1, x2, y2 = value[:, i]\n",
    "                    if i == 0:\n",
    "                        vertices.append([x1, y1])\n",
    "                    vertices.append([x2, y2])\n",
    "                border_list.append(np.array(vertices))\n",
    "            else:\n",
    "                border_list.append(value)\n",
    "else:\n",
    "    border_list = [border_struct] if hasattr(border_struct, 'shape') else []\n",
    "\n",
    "try:\n",
    "    point_list, point_mask, x_matrix, y_matrix = build_contained_grid_shm(\n",
    "        border_list, x_spacing, y_spacing\n",
    "    )\n",
    "    print(f\"Grid built successfully\")\n",
    "    print(f\"Point list shape: {point_list.shape}\")\n",
    "    print(f\"Point mask shape: {point_mask.shape}\")\n",
    "    print(f\"X matrix shape: {x_matrix.shape}\")\n",
    "    print(f\"Y matrix shape: {y_matrix.shape}\")\n",
    "except Exception as e:\n",
    "    print(f\"Error building grid: {e}\")\n",
    "    # Create a simple rectangular grid as fallback\n",
    "    x_min, x_max = np.min(sensor_x), np.max(sensor_x)\n",
    "    y_min, y_max = np.min(sensor_y), np.max(sensor_y)\n",
    "    \n",
    "    x_range = np.arange(x_min, x_max + x_spacing, x_spacing)\n",
    "    y_range = np.arange(y_min, y_max + y_spacing, y_spacing)\n",
    "    x_matrix, y_matrix = np.meshgrid(x_range, y_range)\n",
    "    \n",
    "    point_list = np.column_stack([x_matrix.flatten(), y_matrix.flatten()])\n",
    "    point_mask = np.ones(x_matrix.shape, dtype=bool)\n",
    "    \n",
    "    print(f\"Created fallback grid: {point_list.shape[0]} points\")"
   ]
  },
  {
   "cell_type": "markdown",
   "metadata": {},
   "source": [
    "## Propagation Distance to Points"
   ]
  },
  {
   "cell_type": "code",
   "execution_count": null,
   "metadata": {},
   "outputs": [],
   "source": [
    "# Calculate propagation distance from transducer pairs to POIs\n",
    "# MATLAB: propDistance=propagationDist2Points_shm(pairListSub,sensorLayoutSub,pointList);\n",
    "\n",
    "# Ensure point_list is in the right format (2 x N_POINTS for MATLAB compatibility)\n",
    "if point_list.shape[1] == 2:\n",
    "    point_list_matlab = point_list.T  # Convert to 2 x N_POINTS\n",
    "else:\n",
    "    point_list_matlab = point_list\n",
    "\n",
    "prop_distance = propagation_dist_2_points_shm(pair_list_sub, sensor_layout_sub, point_list_matlab)\n",
    "\n",
    "print(f\"Propagation distance matrix shape: {prop_distance.shape}\")\n",
    "print(f\"Distance range: {np.min(prop_distance):.3f} - {np.max(prop_distance):.3f} inches\")"
   ]
  },
  {
   "cell_type": "markdown",
   "metadata": {},
   "source": [
    "## Propagation Distance to Boundary"
   ]
  },
  {
   "cell_type": "code",
   "execution_count": null,
   "metadata": {},
   "outputs": [],
   "source": [
    "# Calculate the propagation distance from transducer pairs to boundaries\n",
    "# MATLAB: [propDist,minPropDist] = getPropDist2Boundary_shm(pairListSub, sensorLayoutSub, borderComb);\n",
    "\n",
    "if border_comb.size > 0:\n",
    "    prop_dist, min_prop_dist = get_prop_dist_2_boundary_shm(pair_list_sub, sensor_layout_sub, border_comb)\n",
    "    \n",
    "    print(f\"Propagation distance to boundary shape: {prop_dist.shape}\")\n",
    "    print(f\"Min propagation distance shape: {min_prop_dist.shape}\")\n",
    "    print(f\"Boundary distance range: {np.min(min_prop_dist):.3f} - {np.max(min_prop_dist):.3f} inches\")\n",
    "else:\n",
    "    print(\"No border data available for boundary distance calculation\")\n",
    "    # Create dummy data\n",
    "    prop_dist = np.ones((pair_list_sub.shape[1], 1)) * 1000  # Large distances\n",
    "    min_prop_dist = np.ones(pair_list_sub.shape[1]) * 1000"
   ]
  },
  {
   "cell_type": "markdown",
   "metadata": {},
   "source": [
    "## Line of Sight"
   ]
  },
  {
   "cell_type": "code",
   "execution_count": null,
   "metadata": {},
   "outputs": [],
   "source": [
    "# Determine line of sight from transducer pairs to POIs\n",
    "# MATLAB: [pairLineOfSight sensorLineOfSight] = sensorPairLineOfSight_shm(pairListSub, sensorLayoutSub, pointList, borderComb);\n",
    "\n",
    "if border_list:\n",
    "    pair_line_of_sight = sensor_pair_line_of_sight_shm(\n",
    "        pair_list_sub, sensor_layout_sub, point_list_matlab, border_list\n",
    "    )\n",
    "    \n",
    "    print(f\"Pair line of sight shape: {pair_line_of_sight.shape}\")\n",
    "    print(f\"Line of sight fraction: {np.mean(pair_line_of_sight):.3f}\")\n",
    "else:\n",
    "    print(\"No border data available - assuming all pairs have line of sight\")\n",
    "    pair_line_of_sight = np.ones((pair_list_sub.shape[1], point_list_matlab.shape[1]), dtype=bool)"
   ]
  },
  {
   "cell_type": "markdown",
   "metadata": {},
   "source": [
    "## Distance Compare"
   ]
  },
  {
   "cell_type": "code",
   "execution_count": null,
   "metadata": {},
   "outputs": [],
   "source": [
    "# Compare the distance to the POIs to the distance to the nearest boundary\n",
    "# MATLAB: distance=propDistance; maxDistance=minPropDist; distanceAllowance=0;\n",
    "# MATLAB: [belowMaxDistance]=bsxfun(@lt,distance-distanceAllowance,maxDistance);\n",
    "\n",
    "distance = prop_distance\n",
    "max_distance = min_prop_dist\n",
    "distance_allowance = 0\n",
    "\n",
    "# Broadcasting comparison: distance - allowance < max_distance for each pair\n",
    "below_max_distance = (distance - distance_allowance) < max_distance[:, np.newaxis]\n",
    "\n",
    "print(f\"Below max distance shape: {below_max_distance.shape}\")\n",
    "print(f\"Fraction of points below max distance: {np.mean(below_max_distance):.3f}\")"
   ]
  },
  {
   "cell_type": "markdown",
   "metadata": {},
   "source": [
    "## Estimate Group Velocity"
   ]
  },
  {
   "cell_type": "code",
   "execution_count": null,
   "metadata": {},
   "outputs": [],
   "source": [
    "# Filter the waveforms and estimate group velocity\n",
    "# MATLAB: waveform=waveformBaseSub; matchedWaveform=actuationWaveform;\n",
    "# MATLAB: filteredWaveform2=incoherentMatchedFilter_shm(waveform,matchedWaveform);\n",
    "\n",
    "waveform = waveform_base_sub\n",
    "matched_waveform = actuation_waveform\n",
    "\n",
    "# Apply matched filter\n",
    "filtered_waveform2 = incoherent_matched_filter_shm(waveform, matched_waveform)\n",
    "\n",
    "print(f\"Filtered waveform shape: {filtered_waveform2.shape}\")\n",
    "\n",
    "# Calculate the group velocity\n",
    "# MATLAB: waveform=filteredWaveform2; actuationWidth=length(actuationWaveform); lineOfSight=[];\n",
    "# MATLAB: [estSpeed, speedList]=estimateGroupVelocity_shm(waveform, pairListSub, sensorLayoutSub, sampleRate, actuationWidth, lineOfSight);\n",
    "\n",
    "waveform_for_velocity = filtered_waveform2\n",
    "actuation_width = len(actuation_waveform)\n",
    "line_of_sight = None  # Empty in MATLAB\n",
    "\n",
    "est_speed, speed_list = estimate_group_velocity_shm(\n",
    "    waveform_for_velocity, pair_list_sub, sensor_layout_sub, sample_rate, actuation_width, line_of_sight\n",
    ")\n",
    "\n",
    "print(f\"Estimated speed: {est_speed:.0f} units/s\")\n",
    "print(f\"Speed list length: {len(speed_list)}\")\n",
    "if len(speed_list) > 0:\n",
    "    print(f\"Speed range: {np.min(speed_list):.0f} - {np.max(speed_list):.0f} units/s\")"
   ]
  },
  {
   "cell_type": "markdown",
   "metadata": {},
   "source": [
    "## Distance 2 Index"
   ]
  },
  {
   "cell_type": "code",
   "execution_count": null,
   "metadata": {},
   "outputs": [],
   "source": [
    "# Translate propagation distances to waveform indices using group velocity\n",
    "# MATLAB: wavespeed=estSpeed; offset=actuationWaveform;\n",
    "# MATLAB: indices=distance2Index_shm(propDistance,sampleRate,wavespeed,offset);\n",
    "\n",
    "wavespeed = est_speed\n",
    "offset = actuation_waveform  # This will be converted to time offset internally\n",
    "\n",
    "indices = distance_2_index_shm(prop_distance, sample_rate, wavespeed, offset=0.0)\n",
    "\n",
    "print(f\"Indices shape: {indices.shape}\")\n",
    "print(f\"Index range: {np.min(indices)} - {np.max(indices)}\")"
   ]
  },
  {
   "cell_type": "markdown",
   "metadata": {},
   "source": [
    "## Difference"
   ]
  },
  {
   "cell_type": "code",
   "execution_count": null,
   "metadata": {},
   "outputs": [],
   "source": [
    "# Subtract the baseline waveforms from the test waveforms\n",
    "# MATLAB: dataDifference=waveformTestSub-waveformBaseSub;\n",
    "\n",
    "data_difference = waveform_test_sub - waveform_base_sub\n",
    "\n",
    "print(f\"Data difference shape: {data_difference.shape}\")\n",
    "\n",
    "# Plot sample waveform difference\n",
    "if sample_pair_i < data_difference.shape[1]:\n",
    "    plt.figure(figsize=(10, 6))\n",
    "    \n",
    "    if data_difference.ndim == 3:\n",
    "        diff_signal = data_difference[:, sample_pair_i, 0]\n",
    "    else:\n",
    "        diff_signal = data_difference[:, sample_pair_i]\n",
    "    \n",
    "    plt.plot(diff_signal, 'g-', label='Test - Baseline')\n",
    "    plt.xlabel('n')\n",
    "    plt.ylabel('Volts')\n",
    "    plt.legend()\n",
    "    plt.title(f'Waveform Difference (Pair {sample_pair_i})')\n",
    "    plt.grid(True, alpha=0.3)\n",
    "    plt.show()"
   ]
  },
  {
   "cell_type": "markdown",
   "metadata": {},
   "source": [
    "## Incoherent Matched Filter"
   ]
  },
  {
   "cell_type": "code",
   "execution_count": null,
   "metadata": {},
   "outputs": [],
   "source": [
    "# Apply incoherent matched filter to waveform difference\n",
    "# MATLAB: waveform=dataDifference; matchedWaveform=actuationWaveform;\n",
    "# MATLAB: filteredWaveform=incoherentMatchedFilter_shm(waveform,matchedWaveform);\n",
    "\n",
    "waveform = data_difference\n",
    "matched_waveform = actuation_waveform\n",
    "\n",
    "filtered_waveform = incoherent_matched_filter_shm(waveform, matched_waveform)\n",
    "\n",
    "print(f\"Filtered waveform shape: {filtered_waveform.shape}\")\n",
    "\n",
    "# Plot sample filtered waveform difference\n",
    "if sample_pair_i < filtered_waveform.shape[1]:\n",
    "    plt.figure(figsize=(10, 6))\n",
    "    \n",
    "    if filtered_waveform.ndim == 3:\n",
    "        filtered_signal = filtered_waveform[:, sample_pair_i, 0]\n",
    "    else:\n",
    "        filtered_signal = filtered_waveform[:, sample_pair_i]\n",
    "    \n",
    "    plt.plot(filtered_signal, 'm-', label='Filtered (Test - Baseline)')\n",
    "    plt.xlabel('n')\n",
    "    plt.ylabel('Volts')\n",
    "    plt.legend()\n",
    "    plt.title(f'Filtered Waveform Difference (Pair {sample_pair_i})')\n",
    "    plt.grid(True, alpha=0.3)\n",
    "    plt.show()"
   ]
  },
  {
   "cell_type": "markdown",
   "metadata": {},
   "source": [
    "## Extract Subset"
   ]
  },
  {
   "cell_type": "code",
   "execution_count": null,
   "metadata": {},
   "outputs": [],
   "source": [
    "# Extract the matched filter value for each POI using time of flight indices\n",
    "# MATLAB: data=filteredWaveform; startIndices=indices; subsetLength=1;\n",
    "# MATLAB: dataSubset=extractSubsets_shm(data,startIndices,subsetLength);\n",
    "\n",
    "data = filtered_waveform\n",
    "start_indices = indices\n",
    "subset_length = 1\n",
    "\n",
    "data_subset = extract_subsets_shm(data, start_indices, subset_length)\n",
    "\n",
    "print(f\"Data subset shape: {data_subset.shape}\")\n",
    "print(f\"Data subset range: {np.min(data_subset):.2e} - {np.max(data_subset):.2e}\")"
   ]
  },
  {
   "cell_type": "markdown",
   "metadata": {},
   "source": [
    "## Apply Logic Filters"
   ]
  },
  {
   "cell_type": "code",
   "execution_count": null,
   "metadata": {},
   "outputs": [],
   "source": [
    "# Zero-out contributions from transducer pairs without line of sight\n",
    "# MATLAB: data=dataSubset; logicFilter=pairLineOfSight;\n",
    "# MATLAB: [filteredData]=flexLogicFilter_shm(data,logicFilter);\n",
    "\n",
    "data = data_subset\n",
    "logic_filter = pair_line_of_sight\n",
    "\n",
    "filtered_data = flex_logic_filter_shm(data, logic_filter)\n",
    "\n",
    "print(f\"Filtered data (line of sight) shape: {filtered_data.shape}\")\n",
    "print(f\"Non-zero fraction after LOS filter: {np.mean(filtered_data != 0):.3f}\")"
   ]
  },
  {
   "cell_type": "code",
   "execution_count": null,
   "metadata": {},
   "outputs": [],
   "source": [
    "# Zero-out contributions from transducer pairs that are closer to a boundary than the POIs\n",
    "# MATLAB: data=filteredData; logicFilter=belowMaxDistance;\n",
    "# MATLAB: [filteredData]=flexLogicFilter_shm(data,logicFilter);\n",
    "\n",
    "data = filtered_data\n",
    "logic_filter = below_max_distance\n",
    "\n",
    "filtered_data = flex_logic_filter_shm(data, logic_filter)\n",
    "\n",
    "print(f\"Filtered data (distance) shape: {filtered_data.shape}\")\n",
    "print(f\"Non-zero fraction after distance filter: {np.mean(filtered_data != 0):.3f}\")"
   ]
  },
  {
   "cell_type": "markdown",
   "metadata": {},
   "source": [
    "## Sum Dimensions"
   ]
  },
  {
   "cell_type": "code",
   "execution_count": null,
   "metadata": {},
   "outputs": [],
   "source": [
    "# Sum across transducer pairs for each POI\n",
    "# MATLAB: data=filteredData; dimensions=[1 2];\n",
    "# MATLAB: dataSum=sumMultDims_shm(data,dimensions);\n",
    "\n",
    "data = filtered_data\n",
    "dimensions = [0, 1]  # Python uses 0-based indexing\n",
    "\n",
    "data_sum = sum_mult_dims_shm(data, dimensions)\n",
    "\n",
    "print(f\"Data sum shape: {data_sum.shape}\")\n",
    "print(f\"Data sum range: {np.min(data_sum):.2e} - {np.max(data_sum):.2e}\")\n",
    "print(f\"Non-zero values: {np.sum(data_sum != 0)} / {len(data_sum)}\")"
   ]
  },
  {
   "cell_type": "markdown",
   "metadata": {},
   "source": [
    "## Fill 2D Map"
   ]
  },
  {
   "cell_type": "code",
   "execution_count": null,
   "metadata": {},
   "outputs": [],
   "source": [
    "# Translate POI list into 2D Map using mask\n",
    "# MATLAB: data1D=dataSum; mask=pointMask;\n",
    "# MATLAB: dataMap2D=fill2DMap_shm(data1D,mask);\n",
    "\n",
    "data_1d = data_sum\n",
    "mask = point_mask\n",
    "\n",
    "data_map_2d = fill_2d_map_shm(data_1d, mask)\n",
    "\n",
    "print(f\"2D data map shape: {data_map_2d.shape}\")\n",
    "print(f\"2D data map range: {np.min(data_map_2d):.2e} - {np.max(data_map_2d):.2e}\")"
   ]
  },
  {
   "cell_type": "markdown",
   "metadata": {},
   "source": [
    "## Plot 2D Map"
   ]
  },
  {
   "cell_type": "code",
   "execution_count": null,
   "metadata": {},
   "outputs": [],
   "source": [
    "# Plot 2D Map of POI levels\n",
    "# MATLAB equivalent: plot2DMap_shm with additional sensor and border overlays\n",
    "\n",
    "plt.figure(figsize=(12, 10))\n",
    "\n",
    "# Create the 2D map plot\n",
    "extent = [x_matrix.min(), x_matrix.max(), y_matrix.min(), y_matrix.max()]\n",
    "im = plt.imshow(data_map_2d, extent=extent, origin='lower', cmap='hot', alpha=0.8)\n",
    "plt.colorbar(im, label='Damage Indicator Level')\n",
    "\n",
    "# Overlay border\n",
    "if border_comb.size > 0 and border_comb.shape[0] == 4:\n",
    "    for i in range(border_comb.shape[1]):\n",
    "        x1, y1, x2, y2 = border_comb[:, i]\n",
    "        plt.plot([x1, x2], [y1, y2], 'k-', linewidth=2, alpha=0.7)\n",
    "\n",
    "# Overlay sensors\n",
    "if sensor_layout_sub.shape[0] == 3:\n",
    "    sensor_x_sub = sensor_layout_sub[1, :]\n",
    "    sensor_y_sub = sensor_layout_sub[2, :]\n",
    "else:\n",
    "    sensor_x_sub = sensor_layout_sub[:, 1]\n",
    "    sensor_y_sub = sensor_layout_sub[:, 2]\n",
    "\n",
    "plt.scatter(sensor_x_sub, sensor_y_sub, c='blue', s=30, marker='o', \n",
    "           edgecolors='white', linewidth=1, label='Sensors')\n",
    "\n",
    "# Overlay damage location\n",
    "plt.plot(damage_x, damage_y, 'xr', markersize=15, linewidth=4, label='Actual Damage')\n",
    "\n",
    "plt.xlabel('in')\n",
    "plt.ylabel('in')\n",
    "plt.title('Active Sensing Damage Detection Map')\n",
    "plt.legend()\n",
    "plt.axis('equal')\n",
    "plt.grid(True, alpha=0.3)\n",
    "plt.show()\n",
    "\n",
    "print(f\"\\nActive Sensing Feature Extraction Complete!\")\n",
    "print(f\"Maximum damage indicator: {np.max(data_map_2d):.3e}\")\n",
    "print(f\"Damage location: ({damage_x:.1f}, {damage_y:.1f}) inches\")\n",
    "print(f\"Processing used {len(sensor_subset)} sensors in {pair_list_sub.shape[1]} pairs\")"
   ]
  }
 ],
 "metadata": {
  "kernelspec": {
   "display_name": "Python 3",
   "language": "python",
   "name": "python3"
  },
  "language_info": {
   "codemirror_mode": {
    "name": "ipython",
    "version": 3
   },
   "file_extension": ".py",
   "mimetype": "text/x-python",
   "name": "python",
   "nbconvert_exporter": "python",
   "pygments_lexer": "ipython3",
   "version": "3.8.0"
  }
 },
 "nbformat": 4,
 "nbformat_minor": 4
}