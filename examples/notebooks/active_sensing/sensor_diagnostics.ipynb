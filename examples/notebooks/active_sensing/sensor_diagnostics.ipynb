{
 "cells": [
  {
   "cell_type": "markdown",
   "metadata": {},
   "source": [
    "# Piezoelectric Sensor Diagnostics\n",
    "\n",
    "This notebook demonstrates automated detection of sensor failures (fractures and debonding) in piezoelectric active-sensor arrays using electrical admittance measurements."
   ]
  },
  {
   "cell_type": "markdown",
   "metadata": {},
   "source": [
    "## Introduction\n",
    "\n",
    "The goal of this example is to perform the piezoelectric sensor diagnostic process to check the operational status of piezoelectric sensors in SHM applications. Both sensor fractures and debonding between the sensor and a host structure can be automatically identified. The basic principle of this technique is to track the changes in capacitance value of piezoelectric materials for sensor diagnostics. Because the capacitance is temperature sensitive, this algorithm uses an array of sensors to instantaneously establishes a baseline, which can be robust against temperature variations.\n",
    "\n",
    "The data sets are measured from twelve piezoelectric patches (1/2 inch diameter) installed on a thin (1/8th thickness) aluminum plates. Three of the sensors were improperly installed, one with 80% debonding, two with sensor fracture. The following process shows the identification of these faulty sensors."
   ]
  },
  {
   "cell_type": "markdown",
   "metadata": {},
   "source": [
    "### References\n",
    "\n",
    "1. Overly, T.G., Park, G., Farinholt, K.M., Farrar, C.R. \"Piezoelectric Active-Sensor Diagnostics and Validation Using Instantaneous Baseline Data,\" IEEE Sensors Journal, in press.\n",
    "\n",
    "2. Park, G., Farrar, C.R., Rutherford, C.A., Robertson, A.N., 2006, \"Piezoelectric Active Sensor Self-diagnostics using Electrical Admittance Measurements,\" ASME Journal of Vibration and Acoustics, 128(4), 469-476.\n",
    "\n",
    "3. Park, G., Farrar, C.R., Lanza di Scalea, F., Coccia, S., 2006, \"Performance Assessment and Validation of Piezoelectric Active Sensors in Structural Health Monitoring,\" Smart Materials and Structures, 15(6), 1673-1683.\n",
    "\n",
    "4. Park, S., Park, G., Yun, C.B., Farrar, C.R., 2009, \"Sensor Self-Diagnosis Using a Modified Impedance Model for Active-Sensing Structural Health Monitoring,\" International Journal of Structural Health Monitoring, 8(1),71-82."
   ]
  },
  {
   "cell_type": "code",
   "execution_count": null,
   "metadata": {},
   "outputs": [],
   "source": [
    "# Import required libraries\n",
    "import numpy as np\n",
    "import matplotlib.pyplot as plt\n",
    "from pathlib import Path\n",
    "import sys\n",
    "\n",
    "# Add shmtools to path if needed\n",
    "notebook_dir = Path.cwd()\n",
    "possible_paths = [\n",
    "    notebook_dir.parent.parent.parent,  # From examples/notebooks/specialized/\n",
    "    notebook_dir.parent.parent,          # From examples/notebooks/\n",
    "    notebook_dir,                        # From project root\n",
    "]\n",
    "\n",
    "for path in possible_paths:\n",
    "    if (path / 'shmtools').exists():\n",
    "        if str(path) not in sys.path:\n",
    "            sys.path.insert(0, str(path))\n",
    "        print(f\"Found shmtools at: {path}\")\n",
    "        break\n",
    "\n",
    "# Import SHMTools functions\n",
    "from shmtools.utils.data_loading import load_sensor_diagnostic_data\n",
    "from shmtools.sensor_diagnostics import sd_feature_shm, sd_autoclassify_shm, sd_plot_shm\n",
    "\n",
    "# Set up plotting parameters\n",
    "plt.rcParams['figure.figsize'] = (10, 6)\n",
    "plt.rcParams['font.size'] = 12"
   ]
  },
  {
   "cell_type": "markdown",
   "metadata": {},
   "source": [
    "## Load Raw Data\n",
    "\n",
    "Load the sensor diagnostic dataset containing admittance measurements from 12 piezoelectric sensors."
   ]
  },
  {
   "cell_type": "code",
   "execution_count": null,
   "metadata": {},
   "outputs": [],
   "source": [
    "# Load the sensor diagnostic data\n",
    "data = load_sensor_diagnostic_data()\n",
    "\n",
    "# Extract the admittance data with known sensor faults\n",
    "admittance_data = data['sd_ex_broken']\n",
    "\n",
    "print(f\"Data shape: {admittance_data.shape}\")\n",
    "print(f\"Number of frequency points: {admittance_data.shape[0]}\")\n",
    "print(f\"Number of sensors: {admittance_data.shape[1] - 1}\")\n",
    "print(f\"Frequency range: {admittance_data[0, 0]:.0f} - {admittance_data[-1, 0]:.0f} Hz\")"
   ]
  },
  {
   "cell_type": "markdown",
   "metadata": {},
   "source": [
    "### Visualize Raw Admittance Data\n",
    "\n",
    "Let's plot the imaginary part of the admittance for all sensors to see the raw data."
   ]
  },
  {
   "cell_type": "code",
   "execution_count": null,
   "metadata": {},
   "outputs": [],
   "source": [
    "# Plot admittance data for all sensors\n",
    "plt.figure(figsize=(12, 6))\n",
    "\n",
    "frequency = admittance_data[:, 0]\n",
    "\n",
    "for i in range(1, admittance_data.shape[1]):\n",
    "    plt.plot(frequency, admittance_data[:, i], label=f'Sensor {i}', alpha=0.7)\n",
    "\n",
    "plt.xlabel('Frequency (Hz)')\n",
    "plt.ylabel('Imaginary Admittance (S)')\n",
    "plt.title('Raw Admittance Data from Piezoelectric Sensors')\n",
    "plt.grid(True, alpha=0.3)\n",
    "plt.legend(bbox_to_anchor=(1.05, 1), loc='upper left')\n",
    "plt.tight_layout()\n",
    "plt.show()"
   ]
  },
  {
   "cell_type": "markdown",
   "metadata": {},
   "source": [
    "## Feature Extraction\n",
    "\n",
    "Extract the capacitance values by fitting a linear polynomial to the imaginary part of the admittance data."
   ]
  },
  {
   "cell_type": "code",
   "execution_count": null,
   "metadata": {},
   "outputs": [],
   "source": [
    "# Extract capacitance features\n",
    "capacitance = sd_feature_shm(admittance_data)\n",
    "\n",
    "# Convert to nF for display\n",
    "capacitance_nF = capacitance * 1e9\n",
    "\n",
    "print(\"Capacitance values for each sensor:\")\n",
    "print(\"-\" * 30)\n",
    "for i, cap in enumerate(capacitance_nF):\n",
    "    print(f\"Sensor {i+1:2d}: {cap:6.2f} nF\")"
   ]
  },
  {
   "cell_type": "markdown",
   "metadata": {},
   "source": [
    "### Visualize Capacitance Distribution\n",
    "\n",
    "Plot the distribution of capacitance values to identify potential outliers."
   ]
  },
  {
   "cell_type": "code",
   "execution_count": null,
   "metadata": {},
   "outputs": [],
   "source": [
    "# Create bar plot of capacitance values\n",
    "plt.figure(figsize=(10, 6))\n",
    "\n",
    "sensor_ids = np.arange(1, len(capacitance) + 1)\n",
    "bars = plt.bar(sensor_ids, capacitance_nF, color='skyblue', edgecolor='navy')\n",
    "\n",
    "# Add mean line\n",
    "mean_cap = np.mean(capacitance_nF)\n",
    "plt.axhline(y=mean_cap, color='red', linestyle='--', label=f'Mean: {mean_cap:.2f} nF')\n",
    "\n",
    "plt.xlabel('Sensor Number')\n",
    "plt.ylabel('Capacitance (nF)')\n",
    "plt.title('Extracted Capacitance Values')\n",
    "plt.grid(True, alpha=0.3)\n",
    "plt.legend()\n",
    "plt.xlim(0, len(capacitance) + 1)\n",
    "plt.show()"
   ]
  },
  {
   "cell_type": "markdown",
   "metadata": {},
   "source": [
    "## Sensor Status Classification\n",
    "\n",
    "Automatically classify sensors as healthy, de-bonded, or broken using the instantaneous baseline approach."
   ]
  },
  {
   "cell_type": "code",
   "execution_count": null,
   "metadata": {},
   "outputs": [],
   "source": [
    "# Classify sensor status with 2% threshold\n",
    "sensor_status, data_for_plotting = sd_autoclassify_shm(capacitance, threshold=0.02)\n",
    "\n",
    "# Display classification results\n",
    "print(\"Sensor Classification Results:\")\n",
    "print(\"=\" * 50)\n",
    "print(f\"{'Sensor ID':^10} | {'Status':^20} | {'Capacitance (nF)':^15}\")\n",
    "print(\"-\" * 50)\n",
    "\n",
    "status_names = {0: 'Healthy', 1: 'De-bonded', 2: 'Broken/Fractured'}\n",
    "\n",
    "for row in sensor_status:\n",
    "    sensor_id = int(row[0])\n",
    "    status = status_names[int(row[1])]\n",
    "    cap_value = row[2]\n",
    "    print(f\"{sensor_id:^10d} | {status:^20s} | {cap_value:^15.2f}\")"
   ]
  },
  {
   "cell_type": "markdown",
   "metadata": {},
   "source": [
    "### Summary of Results\n",
    "\n",
    "Count and display the number of sensors in each category."
   ]
  },
  {
   "cell_type": "code",
   "execution_count": null,
   "metadata": {},
   "outputs": [],
   "source": [
    "# Count sensors by status\n",
    "healthy_count = np.sum(sensor_status[:, 1] == 0)\n",
    "debonded_count = np.sum(sensor_status[:, 1] == 1)\n",
    "broken_count = np.sum(sensor_status[:, 1] == 2)\n",
    "\n",
    "print(\"\\nSummary:\")\n",
    "print(\"=\" * 30)\n",
    "print(f\"Total sensors: {len(sensor_status)}\")\n",
    "print(f\"Healthy sensors: {healthy_count}\")\n",
    "print(f\"De-bonded sensors: {debonded_count}\")\n",
    "print(f\"Broken/fractured sensors: {broken_count}\")"
   ]
  },
  {
   "cell_type": "markdown",
   "metadata": {},
   "source": [
    "## Plotting Results\n",
    "\n",
    "Visualize the classification process and results using the built-in plotting function."
   ]
  },
  {
   "cell_type": "code",
   "execution_count": null,
   "metadata": {},
   "outputs": [],
   "source": [
    "# Plot the diagnostic results\n",
    "sd_plot_shm(data_for_plotting)"
   ]
  },
  {
   "cell_type": "markdown",
   "metadata": {},
   "source": [
    "### Interpretation of Results\n",
    "\n",
    "The first figure shows the outcome of the automated identification process based on Overly et al. Sensors 3, 6, 10 are identified as faulty and the remaining sensors are healthy.\n",
    "\n",
    "The second figure shows the quantitative results. Blue bars are healthy sensors, red bars are broken sensors, and magenta bars are debonded sensors. This figure shows the percent deviations from the mean values of the healthy sensors."
   ]
  },
  {
   "cell_type": "markdown",
   "metadata": {},
   "source": [
    "## Sensitivity Analysis\n",
    "\n",
    "Let's examine how the threshold parameter affects the classification results."
   ]
  },
  {
   "cell_type": "code",
   "execution_count": null,
   "metadata": {},
   "outputs": [],
   "source": [
    "# Test different threshold values\n",
    "thresholds = [0.01, 0.02, 0.03, 0.05, 0.10]\n",
    "results = []\n",
    "\n",
    "for thresh in thresholds:\n",
    "    status, _ = sd_autoclassify_shm(capacitance, threshold=thresh)\n",
    "    healthy = np.sum(status[:, 1] == 0)\n",
    "    debonded = np.sum(status[:, 1] == 1)\n",
    "    broken = np.sum(status[:, 1] == 2)\n",
    "    results.append((thresh, healthy, debonded, broken))\n",
    "\n",
    "# Display results table\n",
    "print(\"Threshold Sensitivity Analysis:\")\n",
    "print(\"=\" * 60)\n",
    "print(f\"{'Threshold':^12} | {'Healthy':^10} | {'De-bonded':^12} | {'Broken':^10}\")\n",
    "print(\"-\" * 60)\n",
    "\n",
    "for thresh, healthy, debonded, broken in results:\n",
    "    print(f\"{thresh:^12.0%} | {healthy:^10d} | {debonded:^12d} | {broken:^10d}\")"
   ]
  },
  {
   "cell_type": "markdown",
   "metadata": {},
   "source": [
    "## Conclusions\n",
    "\n",
    "This example demonstrated the piezoelectric sensor diagnostic process for structural health monitoring applications. The key findings are:\n",
    "\n",
    "1. **Automatic Classification**: The algorithm successfully identified faulty sensors using an instantaneous baseline approach that is robust to temperature variations.\n",
    "\n",
    "2. **Feature Extraction**: Capacitance values extracted from the imaginary part of admittance data provide a reliable indicator of sensor health.\n",
    "\n",
    "3. **Fault Types**: The method can distinguish between two types of sensor failures:\n",
    "   - **De-bonded sensors**: Higher capacitance than healthy sensors\n",
    "   - **Broken/fractured sensors**: Lower capacitance than healthy sensors\n",
    "\n",
    "4. **Threshold Selection**: The 2% threshold provides good classification results, but the optimal value may depend on the specific application and sensor array.\n",
    "\n",
    "This diagnostic capability is essential for maintaining the reliability of SHM systems that depend on permanently installed piezoelectric sensors."
   ]
  }
 ],
 "metadata": {
  "kernelspec": {
   "display_name": "Python 3",
   "language": "python",
   "name": "python3"
  },
  "language_info": {
   "codemirror_mode": {
    "name": "ipython",
    "version": 3
   },
   "file_extension": ".py",
   "mimetype": "text/x-python",
   "name": "python",
   "nbconvert_exporter": "python",
   "pygments_lexer": "ipython3",
   "version": "3.9.0"
  }
 },
 "nbformat": 4,
 "nbformat_minor": 4
}