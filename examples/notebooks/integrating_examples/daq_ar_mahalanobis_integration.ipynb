{
 "cells": [
  {
   "cell_type": "markdown",
   "metadata": {},
   "source": [
    "# Example using DAQ plus AR Parameters plus Mahalanobis Distance\n",
    "\n",
    "This notebook demonstrates an integrated approach combining:\n",
    "- Data acquisition (DAQ) systems\n",
    "- Autoregressive (AR) parameter extraction\n",
    "- Mahalanobis distance-based outlier detection"
   ]
  },
  {
   "cell_type": "code",
   "execution_count": null,
   "metadata": {},
   "outputs": [],
   "source": "import numpy as np\nimport matplotlib.pyplot as plt\nfrom shmtools.features import ar_model_shm\nfrom shmtools.classification import learn_mahalanobis_shm, score_mahalanobis_shm"
  },
  {
   "cell_type": "markdown",
   "metadata": {},
   "source": [
    "## Step 1: Simulate DAQ Data Acquisition"
   ]
  },
  {
   "cell_type": "code",
   "execution_count": null,
   "metadata": {},
   "outputs": [],
   "source": "# Simulate data acquisition from multiple sensors\nfs = 1000  # Sampling frequency (Hz)\nduration = 1  # Duration (seconds) - reduced for numerical stability\nn_channels = 4  # Number of sensor channels\nn_instances = 20  # Number of data instances for feature extraction\n\n# Generate simulated sensor data with multiple instances\ntime = np.linspace(0, duration, int(fs * duration))\n\n# Create data in format expected by shmtools: (TIME, CHANNELS, INSTANCES)\n# Set random seed for reproducibility\nnp.random.seed(42)\n\ndata_instances = []\nfor instance in range(n_instances):\n    # Base random signal with smaller amplitude to avoid numerical issues\n    instance_data = 0.1 * np.random.randn(len(time), n_channels)\n    \n    # Add structural response characteristics with some variation per instance\n    for ch in range(n_channels):\n        freq = 10 + ch * 5 + instance * 0.1  # Slight frequency variation per instance\n        amplitude = 0.5 + np.random.normal(0, 0.05)  # Amplitude variation\n        instance_data[:, ch] += amplitude * np.sin(2 * np.pi * freq * time)\n    \n    data_instances.append(instance_data)\n\n# Stack into shape (TIME, CHANNELS, INSTANCES) as expected by ar_model_shm\ndata = np.stack(data_instances, axis=2)\n\nprint(f\"DAQ data shape: {data.shape}\")\nprint(f\"Sampling rate: {fs} Hz\")\nprint(f\"Number of channels: {n_channels}\")\nprint(f\"Number of instances: {n_instances}\")"
  },
  {
   "cell_type": "markdown",
   "metadata": {},
   "source": [
    "## Step 2: Extract AR Parameters"
   ]
  },
  {
   "cell_type": "code",
   "execution_count": null,
   "metadata": {},
   "outputs": [],
   "source": "# Extract AR model parameters using shmtools ar_model_shm function\nar_order = 5  # Reduced order for numerical stability\n\n# ar_model_shm expects data in shape (TIME, CHANNELS, INSTANCES)\n# It returns AR parameters as feature vectors\nar_parameters_fv, rms_residuals_fv, ar_params, ar_residuals, ar_prediction = ar_model_shm(\n    data, ar_order=ar_order\n)\n\n# ar_parameters_fv has shape (INSTANCES, FEATURES) where FEATURES = CHANNELS * ar_order\nprint(f\"AR feature vector shape: {ar_parameters_fv.shape}\")\nprint(f\"Expected features per instance: {n_channels * ar_order}\")\n\n# Use the AR parameter feature vectors for outlier detection\nar_features = ar_parameters_fv"
  },
  {
   "cell_type": "markdown",
   "metadata": {},
   "source": [
    "## Step 3: Apply Mahalanobis Distance Detection"
   ]
  },
  {
   "cell_type": "code",
   "execution_count": null,
   "metadata": {},
   "outputs": [],
   "source": "# Train Mahalanobis model on baseline features using shmtools functions\n# Use first half as training (baseline) data\ntrain_features = ar_features[:n_instances//2]\ntest_features = ar_features[n_instances//2:]\n\nprint(f\"Training features shape: {train_features.shape}\")\nprint(f\"Test features shape: {test_features.shape}\")\n\n# Learn Mahalanobis model from training data\nmahalanobis_model = learn_mahalanobis_shm(train_features)\n\n# Score test data using the learned model\nmahalanobis_scores_raw = score_mahalanobis_shm(test_features, mahalanobis_model)\n\n# Flatten to 1D array for easier handling (score_mahalanobis_shm returns shape (N, 1))\nmahalanobis_scores = mahalanobis_scores_raw.flatten()\n\n# Simple threshold-based classification (can be refined)\nthreshold = np.percentile(mahalanobis_scores, 95)  # 95th percentile as threshold\npredictions = (mahalanobis_scores > threshold).astype(int)\n\nprint(f\"Mahalanobis scores: {mahalanobis_scores}\")\nprint(f\"Threshold: {threshold:.3f}\")\nprint(f\"Outlier predictions (1=outlier): {predictions}\")"
  },
  {
   "cell_type": "markdown",
   "metadata": {},
   "source": [
    "## Step 4: Visualize Results"
   ]
  },
  {
   "cell_type": "code",
   "execution_count": null,
   "metadata": {},
   "outputs": [],
   "source": "# Plot the integrated results\nfig, axes = plt.subplots(3, 1, figsize=(12, 10))\n\n# Plot raw DAQ data sample from first instance\ntime_sample = time[:1000]  # First 1000 points for visualization\ndata_sample = data[:1000, :, 0]  # First instance, all channels\nfor ch in range(min(2, n_channels)):  # Plot first 2 channels\n    axes[0].plot(time_sample, data_sample[:, ch], label=f'Channel {ch+1}')\naxes[0].set_xlabel('Time (s)')\naxes[0].set_ylabel('Amplitude')\naxes[0].set_title('Raw DAQ Data Sample (Instance 1)')\naxes[0].legend()\naxes[0].grid(True)\n\n# Plot AR coefficients for the first test instance\nfirst_test_features = test_features[0]\naxes[1].bar(range(len(first_test_features)), first_test_features)\naxes[1].set_xlabel('AR Feature Index')\naxes[1].set_ylabel('Value')\naxes[1].set_title('AR Parameters for First Test Instance')\naxes[1].grid(True)\n\n# Plot Mahalanobis scores\ntest_indices = range(len(mahalanobis_scores))\ncolors = ['red' if p == 1 else 'green' for p in predictions]\naxes[2].bar(test_indices, mahalanobis_scores, color=colors)\naxes[2].set_xlabel('Test Sample Index')\naxes[2].set_ylabel('Mahalanobis Score')\naxes[2].set_title('Outlier Detection Results')\naxes[2].axhline(y=threshold, color='r', linestyle='--', label=f'Threshold ({threshold:.3f})')\naxes[2].legend()\naxes[2].grid(True)\n\nplt.tight_layout()\nplt.show()"
  },
  {
   "cell_type": "markdown",
   "metadata": {},
   "source": [
    "## Conclusion\n",
    "\n",
    "This integrated example demonstrates:\n",
    "1. Data acquisition from multiple sensor channels\n",
    "2. Feature extraction using AR model parameters\n",
    "3. Outlier detection using Mahalanobis distance\n",
    "4. Visualization of the complete pipeline\n",
    "\n",
    "This approach is commonly used in structural health monitoring to detect anomalies or damage in structures by combining signal processing with statistical outlier detection methods."
   ]
  }
 ],
 "metadata": {
  "kernelspec": {
   "display_name": "Python 3",
   "language": "python",
   "name": "python3"
  },
  "language_info": {
   "codemirror_mode": {
    "name": "ipython",
    "version": 3
   },
   "file_extension": ".py",
   "mimetype": "text/x-python",
   "name": "python",
   "nbconvert_exporter": "python",
   "pygments_lexer": "ipython3",
   "version": "3.8.0"
  }
 },
 "nbformat": 4,
 "nbformat_minor": 4
}