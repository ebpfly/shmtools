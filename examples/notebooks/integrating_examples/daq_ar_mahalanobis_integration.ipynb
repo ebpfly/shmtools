{
 "cells": [
  {
   "cell_type": "markdown",
   "metadata": {},
   "source": [
    "# Example using DAQ plus AR Parameters plus Mahalanobis Distance\n",
    "\n",
    "This notebook demonstrates an integrated approach combining:\n",
    "- Data acquisition (DAQ) systems\n",
    "- Autoregressive (AR) parameter extraction\n",
    "- Mahalanobis distance-based outlier detection"
   ]
  },
  {
   "cell_type": "code",
   "execution_count": null,
   "metadata": {},
   "outputs": [],
   "source": [
    "import numpy as np\n",
    "import matplotlib.pyplot as plt\n",
    "from shmtools.features import ARModelExtractor\n",
    "from shmtools.detection import MahalanobisDetector\n",
    "from shmtools.daq import simulate_daq_data"
   ]
  },
  {
   "cell_type": "markdown",
   "metadata": {},
   "source": [
    "## Step 1: Simulate DAQ Data Acquisition"
   ]
  },
  {
   "cell_type": "code",
   "execution_count": null,
   "metadata": {},
   "outputs": [],
   "source": [
    "# Simulate data acquisition from sensors\n",
    "fs = 1000  # Sampling frequency (Hz)\n",
    "duration = 10  # Duration (seconds)\n",
    "n_channels = 4  # Number of sensor channels\n",
    "\n",
    "# Generate simulated sensor data\n",
    "time = np.linspace(0, duration, int(fs * duration))\n",
    "data = np.random.randn(len(time), n_channels)\n",
    "\n",
    "# Add some structural response characteristics\n",
    "for i in range(n_channels):\n",
    "    freq = 10 + i * 5  # Different frequency content per channel\n",
    "    data[:, i] += 0.5 * np.sin(2 * np.pi * freq * time)\n",
    "\n",
    "print(f\"DAQ data shape: {data.shape}\")\n",
    "print(f\"Sampling rate: {fs} Hz\")\n",
    "print(f\"Number of channels: {n_channels}\")"
   ]
  },
  {
   "cell_type": "markdown",
   "metadata": {},
   "source": [
    "## Step 2: Extract AR Parameters"
   ]
  },
  {
   "cell_type": "code",
   "execution_count": null,
   "metadata": {},
   "outputs": [],
   "source": [
    "# Initialize AR model extractor\n",
    "ar_extractor = ARModelExtractor(order=10)\n",
    "\n",
    "# Extract AR features from each channel\n",
    "ar_features = []\n",
    "for ch in range(n_channels):\n",
    "    features = ar_extractor.extract(data[:, ch])\n",
    "    ar_features.append(features)\n",
    "\n",
    "ar_features = np.array(ar_features)\n",
    "print(f\"AR features shape: {ar_features.shape}\")"
   ]
  },
  {
   "cell_type": "markdown",
   "metadata": {},
   "source": [
    "## Step 3: Apply Mahalanobis Distance Detection"
   ]
  },
  {
   "cell_type": "code",
   "execution_count": null,
   "metadata": {},
   "outputs": [],
   "source": [
    "# Train Mahalanobis detector on baseline features\n",
    "detector = MahalanobisDetector()\n",
    "\n",
    "# Use first half as training (baseline) data\n",
    "train_features = ar_features[:n_channels//2]\n",
    "test_features = ar_features[n_channels//2:]\n",
    "\n",
    "# Fit detector on baseline\n",
    "detector.fit(train_features)\n",
    "\n",
    "# Detect outliers in test data\n",
    "distances = detector.decision_function(test_features)\n",
    "predictions = detector.predict(test_features)\n",
    "\n",
    "print(f\"Mahalanobis distances: {distances}\")\n",
    "print(f\"Outlier predictions: {predictions}\")"
   ]
  },
  {
   "cell_type": "markdown",
   "metadata": {},
   "source": [
    "## Step 4: Visualize Results"
   ]
  },
  {
   "cell_type": "code",
   "execution_count": null,
   "metadata": {},
   "outputs": [],
   "source": [
    "# Plot the integrated results\n",
    "fig, axes = plt.subplots(3, 1, figsize=(12, 10))\n",
    "\n",
    "# Plot raw DAQ data\n",
    "axes[0].plot(time[:1000], data[:1000, 0], label='Channel 1')\n",
    "axes[0].set_xlabel('Time (s)')\n",
    "axes[0].set_ylabel('Amplitude')\n",
    "axes[0].set_title('Raw DAQ Data Sample')\n",
    "axes[0].legend()\n",
    "axes[0].grid(True)\n",
    "\n",
    "# Plot AR coefficients\n",
    "axes[1].bar(range(len(ar_features[0])), ar_features[0])\n",
    "axes[1].set_xlabel('AR Coefficient Index')\n",
    "axes[1].set_ylabel('Value')\n",
    "axes[1].set_title('AR Parameters for Channel 1')\n",
    "axes[1].grid(True)\n",
    "\n",
    "# Plot Mahalanobis distances\n",
    "axes[2].bar(range(len(distances)), distances, \n",
    "           color=['red' if p == -1 else 'green' for p in predictions])\n",
    "axes[2].set_xlabel('Test Sample')\n",
    "axes[2].set_ylabel('Mahalanobis Distance')\n",
    "axes[2].set_title('Outlier Detection Results')\n",
    "axes[2].axhline(y=detector.threshold_, color='r', linestyle='--', label='Threshold')\n",
    "axes[2].legend()\n",
    "axes[2].grid(True)\n",
    "\n",
    "plt.tight_layout()\n",
    "plt.show()"
   ]
  },
  {
   "cell_type": "markdown",
   "metadata": {},
   "source": [
    "## Conclusion\n",
    "\n",
    "This integrated example demonstrates:\n",
    "1. Data acquisition from multiple sensor channels\n",
    "2. Feature extraction using AR model parameters\n",
    "3. Outlier detection using Mahalanobis distance\n",
    "4. Visualization of the complete pipeline\n",
    "\n",
    "This approach is commonly used in structural health monitoring to detect anomalies or damage in structures by combining signal processing with statistical outlier detection methods."
   ]
  }
 ],
 "metadata": {
  "kernelspec": {
   "display_name": "Python 3",
   "language": "python",
   "name": "python3"
  },
  "language_info": {
   "codemirror_mode": {
    "name": "ipython",
    "version": 3
   },
   "file_extension": ".py",
   "mimetype": "text/x-python",
   "name": "python",
   "nbconvert_exporter": "python",
   "pygments_lexer": "ipython3",
   "version": "3.8.0"
  }
 },
 "nbformat": 4,
 "nbformat_minor": 4
}