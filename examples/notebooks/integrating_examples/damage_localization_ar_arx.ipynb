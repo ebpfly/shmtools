{
 "cells": [
  {
   "cell_type": "markdown",
   "metadata": {},
   "source": [
    "# Damage Localization using AR and ARX Models\n",
    "\n",
    "This notebook demonstrates damage localization techniques using autoregressive (AR) and autoregressive with exogenous inputs (ARX) model parameters from an array of sensors. The example compares the effectiveness of AR vs ARX models for identifying and localizing structural damage.\n",
    "\n",
    "## Overview\n",
    "\n",
    "The goal is to locate the source of damage in a structure based on outlier/novelty detection. We extract AR and ARX parameters as damage-sensitive features and use the Mahalanobis distance to create damage indicators (DIs) that are invariant for normal conditions but increase for damaged conditions.\n",
    "\n",
    "### Key Concepts:\n",
    "\n",
    "1. **AR Model**: Output-only model that captures the system's dynamic behavior\n",
    "2. **ARX Model**: Input-output model that incorporates force measurements\n",
    "3. **Damage Localization**: Identifying which sensors are closest to damage\n",
    "4. **Mahalanobis Distance**: Statistical measure for outlier detection\n",
    "\n",
    "### Dataset:\n",
    "\n",
    "We use the 3-story structure dataset with:\n",
    "- 5 channels: 1 input force + 4 output accelerations\n",
    "- 170 conditions: 90 undamaged + 80 damaged (17 states × 10 tests each)\n",
    "- Damage is located near channels 4 and 5\n",
    "\n",
    "### References\n",
    "- Figueiredo, E., Park, G., Figueiras, J., Farrar, C., & Worden, K. (2009). Structural Health Monitoring Algorithm Comparisons using Standard Data Sets. Los Alamos National Laboratory Report: LA-14393."
   ]
  },
  {
   "cell_type": "markdown",
   "metadata": {},
   "source": [
    "## Setup and Imports"
   ]
  },
  {
   "cell_type": "code",
   "execution_count": null,
   "metadata": {},
   "outputs": [],
   "source": [
    "import numpy as np\n",
    "import matplotlib.pyplot as plt\n",
    "\n",
    "# Import shmtools (installed package)\n",
    "from examples.data import import_3story_structure_shm\n",
    "from shmtools.features import ar_model_shm, arx_model_shm\n",
    "from shmtools.classification import learn_mahalanobis_shm, score_mahalanobis_shm\n",
    "\n",
    "# Set up plotting\n",
    "plt.style.use('default')\n",
    "plt.rcParams['figure.figsize'] = (12, 8)\n",
    "plt.rcParams['font.size'] = 10"
   ]
  },
  {
   "cell_type": "markdown",
   "metadata": {},
   "source": [
    "## Helper Functions\n",
    "\n",
    "Define helper functions for damage localization analysis and visualization."
   ]
  },
  {
   "cell_type": "code",
   "execution_count": null,
   "metadata": {},
   "outputs": [],
   "source": "def compute_channel_wise_damage_indicators(features, states, undamaged_states, \n                                         n_channels, features_per_channel, method='mahalanobis'):\n    \"\"\"\n    Compute damage indicators for each channel separately.\n    \n    Parameters\n    ----------\n    features : ndarray\n        Feature matrix (n_instances, n_features)\n    states : ndarray\n        State labels for each instance\n    undamaged_states : list\n        List of state numbers considered undamaged\n    n_channels : int\n        Number of channels\n    features_per_channel : int\n        Number of features per channel\n    method : str\n        Method for computing damage indicators ('mahalanobis')\n        \n    Returns\n    -------\n    damage_indicators : ndarray\n        Damage indicators for each state and channel (n_states, n_channels)\n    models : list\n        List of trained models for each channel\n    \"\"\"\n    # Get unique states and sort them\n    unique_states = np.unique(states)\n    n_states = len(unique_states)\n    \n    # Initialize output arrays\n    damage_indicators = np.zeros((n_states, n_channels))\n    models = []\n    \n    # Process each channel separately\n    for ch in range(n_channels):\n        # Extract features for this channel\n        start_idx = ch * features_per_channel\n        end_idx = (ch + 1) * features_per_channel\n        channel_features = features[:, start_idx:end_idx]\n        \n        # Get undamaged data for training\n        undamaged_mask = np.isin(states, undamaged_states)\n        undamaged_features = channel_features[undamaged_mask, :]\n        \n        # Train model on undamaged data\n        if method == 'mahalanobis':\n            model = learn_mahalanobis_shm(undamaged_features)\n        else:\n            raise ValueError(f\"Unsupported method: {method}\")\n            \n        models.append(model)\n        \n        # Compute damage indicators for all states\n        for i, state in enumerate(unique_states):\n            # Get features for this state\n            state_mask = states == state\n            state_features = channel_features[state_mask, :]\n            \n            # Compute mean damage indicator for this state\n            if method == 'mahalanobis':\n                # Ensure state_features is 2D\n                if state_features.ndim == 1:\n                    state_features = state_features.reshape(1, -1)\n                scores = score_mahalanobis_shm(state_features, model)\n                # Make damage indicators positive (following MATLAB convention: DI = -DI)\n                # More positive values indicate more damage\n                damage_indicators[i, ch] = -np.mean(scores)\n    \n    return damage_indicators, models\n\n\ndef plot_damage_indicators(damage_indicators, channel_names, state_labels, \n                          undamaged_states, title=\"Damage Indicators\"):\n    \"\"\"\n    Plot damage indicators for multiple channels.\n    \n    Parameters\n    ----------\n    damage_indicators : ndarray\n        Damage indicators (n_states, n_channels)\n    channel_names : list\n        List of channel names\n    state_labels : ndarray\n        State labels for x-axis\n    undamaged_states : list\n        Indices of undamaged states for coloring\n    title : str\n        Plot title\n    \"\"\"\n    n_channels = len(channel_names)\n    fig, axes = plt.subplots(2, 2, figsize=(15, 10))\n    axes = axes.ravel()\n    \n    for ch in range(n_channels):\n        ax = axes[ch]\n        \n        # Create separate bars for undamaged and damaged states\n        undamaged_bars = []\n        damaged_bars = []\n        \n        for i, state_idx in enumerate(range(len(damage_indicators))):\n            if i in undamaged_states:\n                undamaged_bars.append((i, damage_indicators[state_idx, ch]))\n            else:\n                damaged_bars.append((i, damage_indicators[state_idx, ch]))\n        \n        # Plot undamaged bars in black\n        if undamaged_bars:\n            undamaged_x, undamaged_y = zip(*undamaged_bars)\n            ax.bar(undamaged_x, undamaged_y, color='k', alpha=0.7, label='Undamaged')\n        \n        # Plot damaged bars in red  \n        if damaged_bars:\n            damaged_x, damaged_y = zip(*damaged_bars)\n            ax.bar(damaged_x, damaged_y, color='r', alpha=0.7, label='Damaged')\n        \n        ax.set_title(f'{channel_names[ch]}', fontsize=12)\n        ax.set_xlim(-0.5, len(damage_indicators) - 0.5)\n        ax.set_xticks(range(len(damage_indicators)))\n        ax.set_xticklabels(state_labels)\n        ax.set_xlabel('State Condition')\n        ax.set_ylabel('Damage Indicator')\n        ax.grid(True, alpha=0.3)\n        \n        # Add legend only to the first subplot (to avoid duplicates)\n        if ch == 0:\n            ax.legend(loc='upper left')\n    \n    plt.tight_layout()\n    plt.suptitle(title, fontsize=16, y=1.02)\n    plt.show()\n\n\ndef analyze_damage_localization(damage_indicators, channel_names, undamaged_states):\n    \"\"\"\n    Analyze damage localization results.\n    \n    Parameters\n    ----------\n    damage_indicators : ndarray\n        Damage indicators (n_states, n_channels)\n    channel_names : list\n        List of channel names\n    undamaged_states : list\n        Indices of undamaged states\n        \n    Returns\n    -------\n    dict\n        Analysis results including sensitivity and ranking\n    \"\"\"\n    n_states, n_channels = damage_indicators.shape\n    \n    # Calculate channel sensitivity (mean DI for damaged states)\n    damaged_states = [i for i in range(n_states) if i not in undamaged_states]\n    channel_sensitivity = np.mean(damage_indicators[damaged_states, :], axis=0)\n    \n    # Rank channels by sensitivity (most sensitive first)\n    damage_ranking = np.argsort(channel_sensitivity)[::-1]\n    \n    # Create interpretation\n    most_sensitive = channel_names[damage_ranking[0]]\n    least_sensitive = channel_names[damage_ranking[-1]]\n    \n    interpretation = f\"\"\"\nChannel sensitivity ranking (most to least sensitive to damage):\n{', '.join([f\"{i+1}. {channel_names[idx]} ({channel_sensitivity[idx]:.3f})\" \n           for i, idx in enumerate(damage_ranking)])}\n\nAnalysis:\n- Most damage-sensitive: {most_sensitive} (closest to damage)\n- Least damage-sensitive: {least_sensitive} (furthest from damage)\n- This suggests damage is located closest to {most_sensitive}\n\"\"\".strip()\n    \n    return {\n        'channel_sensitivity': channel_sensitivity,\n        'damage_ranking': damage_ranking,\n        'interpretation': interpretation\n    }\n\n\ndef compare_ar_arx_localization(ar_indicators, arx_indicators, channel_names, undamaged_states):\n    \"\"\"\n    Compare AR and ARX damage localization results.\n    \n    Parameters\n    ----------\n    ar_indicators : ndarray\n        AR method damage indicators\n    arx_indicators : ndarray\n        ARX method damage indicators  \n    channel_names : list\n        List of channel names\n    undamaged_states : list\n        Indices of undamaged states\n        \n    Returns\n    -------\n    dict\n        Comparison results\n    \"\"\"\n    # Get sensitivity for damaged states\n    n_states = len(ar_indicators)\n    damaged_states = [i for i in range(n_states) if i not in undamaged_states]\n    \n    ar_sensitivity = np.mean(ar_indicators[damaged_states, :], axis=0)\n    arx_sensitivity = np.mean(arx_indicators[damaged_states, :], axis=0)\n    \n    # Calculate improvement ratio\n    sensitivity_ratio = arx_sensitivity / ar_sensitivity\n    \n    # Determine which method is better overall\n    overall_improvement = np.mean(sensitivity_ratio)\n    \n    if overall_improvement > 1.1:\n        winner = \"ARX method shows superior damage localization\"\n    elif overall_improvement < 0.9:\n        winner = \"AR method shows superior damage localization\"\n    else:\n        winner = \"Both methods show comparable performance\"\n    \n    summary = f\"\"\"\nMETHOD COMPARISON SUMMARY:\n- {winner}\n- Overall sensitivity ratio (ARX/AR): {overall_improvement:.2f}×\n\nChannel-wise improvements:\n{chr(10).join([f\"  {channel_names[i]}: {sensitivity_ratio[i]:.2f}× {'(improved)' if sensitivity_ratio[i] > 1 else '(degraded)'}\" \n               for i in range(len(channel_names))])}\n\nRecommendation:\n{'Use ARX method for better damage sensitivity and localization.' if overall_improvement > 1.05 \n else 'Use AR method for simplicity; ARX does not provide significant improvement.' if overall_improvement < 0.95\n else 'Either method can be used; consider implementation complexity and available measurements.'}\n\"\"\".strip()\n    \n    return {\n        'ar_sensitivity': ar_sensitivity,\n        'arx_sensitivity': arx_sensitivity,\n        'sensitivity_ratio': sensitivity_ratio,\n        'overall_improvement': overall_improvement,\n        'summary': summary\n    }\n\nprint(\"Helper functions defined successfully.\")"
  },
  {
   "cell_type": "markdown",
   "metadata": {},
   "source": [
    "## Load Data\n",
    "\n",
    "Load the 3-story structure dataset. This dataset contains time series data from a base-excited three-story structure with various damage conditions."
   ]
  },
  {
   "cell_type": "code",
   "execution_count": null,
   "metadata": {},
   "outputs": [],
   "source": [
    "# Load the 3-story structure dataset\n",
    "try:\n",
    "    dataset, damage_states, state_list = import_3story_structure_shm()\n",
    "    states = state_list.flatten().astype(int)\n",
    "    \n",
    "    print(f\"Dataset shape: {dataset.shape}\")\n",
    "    print(f\"Shape explanation: ({dataset.shape[0]} time points, {dataset.shape[1]} channels, {dataset.shape[2]} instances)\")\n",
    "    print(f\"\\nChannels:\")\n",
    "    \n",
    "    # Use default channel names\n",
    "    channels = ['Force', 'Channel 2', 'Channel 3', 'Channel 4', 'Channel 5']\n",
    "    for i, ch in enumerate(channels):\n",
    "        print(f\"  Channel {i+1}: {ch}\")\n",
    "        \n",
    "    print(f\"\\nDamage states: {np.unique(states)}\")\n",
    "    print(f\"Instances per state: {np.sum(states == 1)}\")\n",
    "    print(f\"Total instances: {len(states)}\")\n",
    "    \n",
    "    # Verify data structure\n",
    "    print(f\"\\nData verification:\")\n",
    "    print(f\"- States 1-9: Undamaged conditions ({np.sum(states <= 9)} instances)\")\n",
    "    print(f\"- States 10-17: Damaged conditions ({np.sum(states > 9)} instances)\")\n",
    "    \n",
    "except FileNotFoundError as e:\n",
    "    print(f\"Error: {e}\")\n",
    "    print(\"\\nPlease download the example datasets following the instructions in:\")\n",
    "    print(\"examples/data/README.md\")\n",
    "    raise"
   ]
  },
  {
   "cell_type": "markdown",
   "metadata": {},
   "source": [
    "## Plot Sample Time Histories\n",
    "\n",
    "Let's visualize the time histories from the baseline condition to understand the data structure."
   ]
  },
  {
   "cell_type": "code",
   "execution_count": null,
   "metadata": {},
   "outputs": [],
   "source": [
    "# Plot time histories from baseline condition (channels 2-5)\n",
    "fig, axes = plt.subplots(2, 2, figsize=(12, 8))\n",
    "axes = axes.ravel()\n",
    "\n",
    "for i in range(4):\n",
    "    channel_data = dataset[:, i+1, 0]  # Channel i+2, first instance\n",
    "    axes[i].plot(channel_data, 'k', linewidth=0.5)\n",
    "    axes[i].set_title(f'Channel {i+2}')\n",
    "    axes[i].set_xlim(0, dataset.shape[0])\n",
    "    axes[i].set_ylim(-2.5, 2.5)\n",
    "    axes[i].set_yticks([-2, -1, 0, 1, 2])\n",
    "    \n",
    "    if i >= 2:\n",
    "        axes[i].set_xlabel('Observations')\n",
    "    if i % 2 == 0:\n",
    "        axes[i].set_ylabel('Acceleration (g)')\n",
    "\n",
    "plt.tight_layout()\n",
    "plt.suptitle('Baseline Condition Time Histories (Channels 2-5)', fontsize=14, y=1.02)\n",
    "plt.show()"
   ]
  },
  {
   "cell_type": "markdown",
   "metadata": {},
   "source": [
    "## Part 1: Damage Localization using AR Parameters\n",
    "\n",
    "First, we'll use the traditional AR model approach, which only uses the output acceleration measurements (channels 2-5)."
   ]
  },
  {
   "cell_type": "code",
   "execution_count": null,
   "metadata": {},
   "outputs": [],
   "source": [
    "# Extract AR(15) parameters from channels 2-5\n",
    "ar_order = 15\n",
    "output_data = dataset[:, 1:5, :]  # Channels 2-5 only\n",
    "\n",
    "print(f\"AR data shape: {output_data.shape}\")\n",
    "print(f\"Estimating AR({ar_order}) parameters...\")\n",
    "\n",
    "ar_params_fv, ar_rms_fv, ar_params, _, _ = ar_model_shm(output_data, ar_order)\n",
    "\n",
    "print(f\"\\nAR parameters shape: {ar_params_fv.shape}\")\n",
    "print(f\"Shape explanation: ({ar_params_fv.shape[0]} instances, {ar_params_fv.shape[1]} features)\")\n",
    "print(f\"Features per channel: {ar_order}\")\n",
    "print(f\"Total features: {4} channels × {ar_order} parameters = {ar_params_fv.shape[1]}\")"
   ]
  },
  {
   "cell_type": "markdown",
   "metadata": {},
   "source": [
    "### Visualize AR Parameters"
   ]
  },
  {
   "cell_type": "code",
   "execution_count": null,
   "metadata": {},
   "outputs": [],
   "source": [
    "# Plot AR parameters for all instances\n",
    "plt.figure(figsize=(14, 8))\n",
    "\n",
    "# Separate undamaged (1-90) and damaged (91-170) instances\n",
    "undamaged_mask = states <= 9\n",
    "damaged_mask = states > 9\n",
    "\n",
    "# Plot undamaged in black, damaged in red\n",
    "plt.plot(ar_params_fv[undamaged_mask, :].T, 'k-', alpha=0.3, linewidth=0.5, label='Undamaged')\n",
    "plt.plot(ar_params_fv[damaged_mask, :].T, 'r-', alpha=0.3, linewidth=0.5, label='Damaged')\n",
    "\n",
    "# Add channel separators\n",
    "for i in range(1, 4):\n",
    "    plt.axvline(i * ar_order, color='k', linestyle='--', alpha=0.7)\n",
    "\n",
    "# Add channel labels\n",
    "channel_positions = [ar_order//2 + i*ar_order for i in range(4)]\n",
    "channel_labels = ['Channel 2', 'Channel 3', 'Channel 4', 'Channel 5']\n",
    "for pos, label in zip(channel_positions, channel_labels):\n",
    "    plt.text(pos, plt.ylim()[0] + 0.1*(plt.ylim()[1] - plt.ylim()[0]), \n",
    "             label, ha='center', va='bottom', fontweight='bold')\n",
    "\n",
    "plt.xlabel('AR Parameters')\n",
    "plt.ylabel('Amplitude')\n",
    "plt.title(f'Concatenated AR({ar_order}) Parameters for all Instances')\n",
    "plt.legend(loc='upper right')\n",
    "plt.grid(True, alpha=0.3)\n",
    "plt.show()"
   ]
  },
  {
   "cell_type": "markdown",
   "metadata": {},
   "source": [
    "### Compute Channel-wise Damage Indicators (AR)"
   ]
  },
  {
   "cell_type": "code",
   "execution_count": null,
   "metadata": {},
   "outputs": [],
   "source": [
    "# Compute damage indicators for each channel using AR parameters\n",
    "print(\"Computing channel-wise damage indicators using AR parameters...\")\n",
    "\n",
    "undamaged_states = list(range(1, 10))  # States 1-9\n",
    "n_channels = 4\n",
    "features_per_channel = ar_order\n",
    "\n",
    "ar_damage_indicators, ar_models = compute_channel_wise_damage_indicators(\n",
    "    ar_params_fv, \n",
    "    states,\n",
    "    undamaged_states=undamaged_states,\n",
    "    n_channels=n_channels,\n",
    "    features_per_channel=features_per_channel,\n",
    "    method='mahalanobis'\n",
    ")\n",
    "\n",
    "print(f\"AR damage indicators shape: {ar_damage_indicators.shape}\")\n",
    "print(f\"(states, channels) = ({ar_damage_indicators.shape[0]}, {ar_damage_indicators.shape[1]})\")"
   ]
  },
  {
   "cell_type": "markdown",
   "metadata": {},
   "source": [
    "### Plot AR Damage Indicators"
   ]
  },
  {
   "cell_type": "code",
   "execution_count": null,
   "metadata": {},
   "outputs": [],
   "source": [
    "# Plot damage indicators for AR method\n",
    "channel_names = ['Channel 2', 'Channel 3', 'Channel 4', 'Channel 5']\n",
    "state_labels = np.arange(1, 18)\n",
    "undamaged_indices = list(range(9))  # First 9 states\n",
    "\n",
    "plot_damage_indicators(\n",
    "    ar_damage_indicators,\n",
    "    channel_names=channel_names,\n",
    "    state_labels=state_labels,\n",
    "    undamaged_states=undamaged_indices,\n",
    "    title=\"AR Method: Channel-wise Damage Indicators\"\n",
    ")"
   ]
  },
  {
   "cell_type": "markdown",
   "metadata": {},
   "source": [
    "## Part 2: Damage Localization using ARX Parameters\n",
    "\n",
    "Now we'll use the ARX model, which incorporates the input force measurement (channel 1) along with the output accelerations."
   ]
  },
  {
   "cell_type": "code",
   "execution_count": null,
   "metadata": {},
   "outputs": [],
   "source": [
    "# Extract ARX(10,5,0) parameters\n",
    "arx_orders = [10, 5, 0]  # a=10 (output order), b=5 (input order), tau=0 (no delay)\n",
    "\n",
    "print(f\"ARX data shape: {dataset.shape}\")\n",
    "print(f\"Estimating ARX({arx_orders[0]},{arx_orders[1]},{arx_orders[2]}) parameters...\")\n",
    "\n",
    "arx_params_fv, arx_rms_fv, arx_params, _, _, _ = arx_model_shm(dataset, arx_orders)\n",
    "arx_features_per_channel = arx_orders[0] + arx_orders[1]  # a + b = 15\n",
    "\n",
    "print(f\"\\nARX parameters shape: {arx_params_fv.shape}\")\n",
    "print(f\"Shape explanation: ({arx_params_fv.shape[0]} instances, {arx_params_fv.shape[1]} features)\")\n",
    "print(f\"Features per channel: {arx_features_per_channel} ({arx_orders[0]} AR + {arx_orders[1]} input terms)\")\n",
    "print(f\"Total features: {4} channels × {arx_features_per_channel} parameters = {arx_params_fv.shape[1]}\")"
   ]
  },
  {
   "cell_type": "markdown",
   "metadata": {},
   "source": [
    "### Visualize ARX Parameters"
   ]
  },
  {
   "cell_type": "code",
   "execution_count": null,
   "metadata": {},
   "outputs": [],
   "source": [
    "# Plot ARX parameters for all instances\n",
    "plt.figure(figsize=(14, 8))\n",
    "\n",
    "# Plot undamaged in black, damaged in red\n",
    "plt.plot(arx_params_fv[undamaged_mask, :].T, 'k-', alpha=0.3, linewidth=0.5, label='Undamaged')\n",
    "plt.plot(arx_params_fv[damaged_mask, :].T, 'r-', alpha=0.3, linewidth=0.5, label='Damaged')\n",
    "\n",
    "# Add channel separators\n",
    "for i in range(1, 4):\n",
    "    plt.axvline(i * arx_features_per_channel, color='k', linestyle='--', alpha=0.7)\n",
    "\n",
    "# Add channel labels\n",
    "channel_positions = [arx_features_per_channel//2 + i*arx_features_per_channel for i in range(4)]\n",
    "for pos, label in zip(channel_positions, channel_labels):\n",
    "    plt.text(pos, plt.ylim()[0] + 0.1*(plt.ylim()[1] - plt.ylim()[0]), \n",
    "             label, ha='center', va='bottom', fontweight='bold')\n",
    "\n",
    "plt.xlabel('ARX Parameters')\n",
    "plt.ylabel('Amplitude')\n",
    "plt.title(f'Concatenated ARX({arx_orders[0]},{arx_orders[1]}) Parameters from all Instances')\n",
    "plt.legend(loc='upper right')\n",
    "plt.grid(True, alpha=0.3)\n",
    "plt.show()"
   ]
  },
  {
   "cell_type": "markdown",
   "metadata": {},
   "source": [
    "### Compute Channel-wise Damage Indicators (ARX)"
   ]
  },
  {
   "cell_type": "code",
   "execution_count": null,
   "metadata": {},
   "outputs": [],
   "source": [
    "# Compute damage indicators for each channel using ARX parameters\n",
    "print(\"Computing channel-wise damage indicators using ARX parameters...\")\n",
    "\n",
    "arx_damage_indicators, arx_models = compute_channel_wise_damage_indicators(\n",
    "    arx_params_fv,\n",
    "    states,\n",
    "    undamaged_states=undamaged_states,\n",
    "    n_channels=n_channels,\n",
    "    features_per_channel=arx_features_per_channel,\n",
    "    method='mahalanobis'\n",
    ")\n",
    "\n",
    "print(f\"ARX damage indicators shape: {arx_damage_indicators.shape}\")\n",
    "print(f\"(states, channels) = ({arx_damage_indicators.shape[0]}, {arx_damage_indicators.shape[1]})\")"
   ]
  },
  {
   "cell_type": "markdown",
   "metadata": {},
   "source": [
    "### Plot ARX Damage Indicators"
   ]
  },
  {
   "cell_type": "code",
   "execution_count": null,
   "metadata": {},
   "outputs": [],
   "source": [
    "# Plot damage indicators for ARX method\n",
    "plot_damage_indicators(\n",
    "    arx_damage_indicators,\n",
    "    channel_names=channel_names,\n",
    "    state_labels=state_labels,\n",
    "    undamaged_states=undamaged_indices,\n",
    "    title=\"ARX Method: Channel-wise Damage Indicators\"\n",
    ")"
   ]
  },
  {
   "cell_type": "markdown",
   "metadata": {},
   "source": [
    "## Analysis and Comparison"
   ]
  },
  {
   "cell_type": "markdown",
   "metadata": {},
   "source": [
    "### AR Method Analysis"
   ]
  },
  {
   "cell_type": "code",
   "execution_count": null,
   "metadata": {},
   "outputs": [],
   "source": [
    "# Analyze AR method results\n",
    "ar_analysis = analyze_damage_localization(\n",
    "    ar_damage_indicators,\n",
    "    channel_names=channel_names,\n",
    "    undamaged_states=undamaged_indices\n",
    ")\n",
    "\n",
    "print(\"=\" * 60)\n",
    "print(\"AR METHOD DAMAGE LOCALIZATION ANALYSIS\")\n",
    "print(\"=\" * 60)\n",
    "print(ar_analysis['interpretation'])\n",
    "\n",
    "# Show channel sensitivity ranking\n",
    "print(f\"\\nChannel sensitivity values:\")\n",
    "for i, (channel, sensitivity) in enumerate(zip(channel_names, ar_analysis['channel_sensitivity'])):\n",
    "    rank = np.where(ar_analysis['damage_ranking'] == i)[0][0] + 1\n",
    "    print(f\"  {channel}: {sensitivity:.3f} (rank {rank})\")"
   ]
  },
  {
   "cell_type": "markdown",
   "metadata": {},
   "source": [
    "### ARX Method Analysis"
   ]
  },
  {
   "cell_type": "code",
   "execution_count": null,
   "metadata": {},
   "outputs": [],
   "source": [
    "# Analyze ARX method results\n",
    "arx_analysis = analyze_damage_localization(\n",
    "    arx_damage_indicators,\n",
    "    channel_names=channel_names,\n",
    "    undamaged_states=undamaged_indices\n",
    ")\n",
    "\n",
    "print(\"=\" * 60)\n",
    "print(\"ARX METHOD DAMAGE LOCALIZATION ANALYSIS\")\n",
    "print(\"=\" * 60)\n",
    "print(arx_analysis['interpretation'])\n",
    "\n",
    "# Show channel sensitivity ranking\n",
    "print(f\"\\nChannel sensitivity values:\")\n",
    "for i, (channel, sensitivity) in enumerate(zip(channel_names, arx_analysis['channel_sensitivity'])):\n",
    "    rank = np.where(arx_analysis['damage_ranking'] == i)[0][0] + 1\n",
    "    print(f\"  {channel}: {sensitivity:.3f} (rank {rank})\")"
   ]
  },
  {
   "cell_type": "markdown",
   "metadata": {},
   "source": [
    "### AR vs ARX Comparison"
   ]
  },
  {
   "cell_type": "code",
   "execution_count": null,
   "metadata": {},
   "outputs": [],
   "source": [
    "# Compare AR and ARX methods\n",
    "comparison = compare_ar_arx_localization(\n",
    "    ar_damage_indicators,\n",
    "    arx_damage_indicators,\n",
    "    channel_names=channel_names,\n",
    "    undamaged_states=undamaged_indices\n",
    ")\n",
    "\n",
    "print(\"=\" * 60)\n",
    "print(\"AR vs ARX COMPARISON\")\n",
    "print(\"=\" * 60)\n",
    "print(comparison['summary'])"
   ]
  },
  {
   "cell_type": "markdown",
   "metadata": {},
   "source": [
    "### Side-by-Side Comparison Plot"
   ]
  },
  {
   "cell_type": "code",
   "execution_count": null,
   "metadata": {},
   "outputs": [],
   "source": [
    "# Create side-by-side comparison plot\n",
    "fig, axes = plt.subplots(2, 4, figsize=(16, 10))\n",
    "\n",
    "# AR method plots (top row)\n",
    "for i in range(4):\n",
    "    ax = axes[0, i]\n",
    "    colors = ['k' if j < 9 else 'r' for j in range(17)]\n",
    "    bars = ax.bar(range(17), ar_damage_indicators[:, i], color=colors)\n",
    "    ax.set_title(f'{channel_names[i]} (AR)', fontsize=12)\n",
    "    ax.set_xlim(-0.5, 16.5)\n",
    "    ax.set_xticks(range(17))\n",
    "    ax.set_xticklabels(range(1, 18))\n",
    "    ax.grid(True, alpha=0.3)\n",
    "    \n",
    "    if i == 0:\n",
    "        ax.set_ylabel('AR Damage Indicator')\n",
    "\n",
    "# ARX method plots (bottom row)\n",
    "for i in range(4):\n",
    "    ax = axes[1, i]\n",
    "    colors = ['k' if j < 9 else 'r' for j in range(17)]\n",
    "    bars = ax.bar(range(17), arx_damage_indicators[:, i], color=colors)\n",
    "    ax.set_title(f'{channel_names[i]} (ARX)', fontsize=12)\n",
    "    ax.set_xlim(-0.5, 16.5)\n",
    "    ax.set_xticks(range(17))\n",
    "    ax.set_xticklabels(range(1, 18))\n",
    "    ax.set_xlabel('State Condition')\n",
    "    ax.grid(True, alpha=0.3)\n",
    "    \n",
    "    if i == 0:\n",
    "        ax.set_ylabel('ARX Damage Indicator')\n",
    "\n",
    "plt.tight_layout()\n",
    "plt.suptitle('AR vs ARX Damage Localization Comparison', fontsize=16, y=1.02)\n",
    "plt.show()"
   ]
  },
  {
   "cell_type": "markdown",
   "metadata": {},
   "source": [
    "### Sensitivity Improvement Analysis"
   ]
  },
  {
   "cell_type": "code",
   "execution_count": null,
   "metadata": {},
   "outputs": [],
   "source": [
    "# Plot sensitivity comparison\n",
    "fig, (ax1, ax2) = plt.subplots(1, 2, figsize=(15, 6))\n",
    "\n",
    "# Sensitivity values comparison\n",
    "x_pos = np.arange(len(channel_names))\n",
    "width = 0.35\n",
    "\n",
    "bars1 = ax1.bar(x_pos - width/2, ar_analysis['channel_sensitivity'], width, \n",
    "               label='AR Method', color='lightblue', alpha=0.8)\n",
    "bars2 = ax1.bar(x_pos + width/2, arx_analysis['channel_sensitivity'], width,\n",
    "               label='ARX Method', color='lightcoral', alpha=0.8)\n",
    "\n",
    "ax1.set_xlabel('Channel')\n",
    "ax1.set_ylabel('Mean Damage Indicator')\n",
    "ax1.set_title('Channel Sensitivity Comparison')\n",
    "ax1.set_xticks(x_pos)\n",
    "ax1.set_xticklabels(channel_names)\n",
    "ax1.legend()\n",
    "ax1.grid(True, alpha=0.3)\n",
    "\n",
    "# Add value labels on bars\n",
    "for bar1, bar2 in zip(bars1, bars2):\n",
    "    height1 = bar1.get_height()\n",
    "    height2 = bar2.get_height()\n",
    "    ax1.text(bar1.get_x() + bar1.get_width()/2., height1 + 0.01,\n",
    "             f'{height1:.2f}', ha='center', va='bottom', fontsize=10)\n",
    "    ax1.text(bar2.get_x() + bar2.get_width()/2., height2 + 0.01,\n",
    "             f'{height2:.2f}', ha='center', va='bottom', fontsize=10)\n",
    "\n",
    "# Improvement ratio\n",
    "improvement_ratio = comparison['sensitivity_ratio']\n",
    "bars3 = ax2.bar(channel_names, improvement_ratio, \n",
    "               color=['green' if r > 1 else 'orange' for r in improvement_ratio],\n",
    "               alpha=0.7)\n",
    "\n",
    "ax2.axhline(y=1, color='red', linestyle='--', alpha=0.7, label='No improvement')\n",
    "ax2.set_xlabel('Channel')\n",
    "ax2.set_ylabel('ARX/AR Sensitivity Ratio')\n",
    "ax2.set_title('ARX Improvement over AR')\n",
    "ax2.legend()\n",
    "ax2.grid(True, alpha=0.3)\n",
    "\n",
    "# Add value labels\n",
    "for bar, ratio in zip(bars3, improvement_ratio):\n",
    "    height = bar.get_height()\n",
    "    ax2.text(bar.get_x() + bar.get_width()/2., height + 0.02,\n",
    "             f'{ratio:.2f}×', ha='center', va='bottom', fontsize=10)\n",
    "\n",
    "plt.tight_layout()\n",
    "plt.show()"
   ]
  },
  {
   "cell_type": "markdown",
   "metadata": {},
   "source": [
    "## Summary and Conclusions\n",
    "\n",
    "This analysis demonstrates spatial damage localization using both AR and ARX model parameters:\n",
    "\n",
    "### Key Findings\n",
    "\n",
    "1. **Damage Localization**: Both methods successfully identify that Channels 4 and 5 are more sensitive to damage than Channels 2 and 3, indicating damage is located closer to the upper floors of the 3-story structure.\n",
    "\n",
    "2. **AR Method Results**: \n",
    "   - Uses only output measurements (accelerations)\n",
    "   - Provides good discrimination between undamaged and damaged states\n",
    "   - Simple to implement and interpret\n",
    "\n",
    "3. **ARX Method Results**:\n",
    "   - Incorporates input force information\n",
    "   - Can provide improved damage localization in some cases\n",
    "   - Captures input-output relationships for better physics-based analysis\n",
    "\n",
    "### Method Comparison\n",
    "\n",
    "**AR Model Advantages:**\n",
    "- Simpler implementation (output-only)\n",
    "- No need for input measurement\n",
    "- Robust to input measurement noise\n",
    "- Faster computation\n",
    "\n",
    "**ARX Model Advantages:**\n",
    "- Better physics representation (input-output relationships)\n",
    "- Potential for improved damage sensitivity\n",
    "- Input normalization can reduce environmental effects\n",
    "- Better for systems with known excitation\n",
    "\n",
    "### Practical Implications\n",
    "\n",
    "- **Channel-wise analysis** enables spatial damage localization across sensor arrays\n",
    "- **Mahalanobis distance** provides effective outlier detection for each channel\n",
    "- **Multiple model comparison** increases confidence in damage localization results\n",
    "- **Structural knowledge** helps interpret which channels correspond to different structural locations\n",
    "\n",
    "### Recommendations\n",
    "\n",
    "1. **For new applications**: Start with AR analysis for simplicity, then consider ARX if input measurements are available\n",
    "2. **For critical structures**: Use both methods as complementary approaches\n",
    "3. **For environmental robustness**: Consider ARX models when input forces can be measured\n",
    "4. **For sensor network design**: Use these results to optimize sensor placement for damage localization"
   ]
  }
 ],
 "metadata": {
  "kernelspec": {
   "display_name": "SHM Python (venv)",
   "language": "python",
   "name": "shm-venv"
  },
  "language_info": {
   "codemirror_mode": {
    "name": "ipython",
    "version": 3
   },
   "file_extension": ".py",
   "mimetype": "text/x-python",
   "name": "python",
   "nbconvert_exporter": "python",
   "pygments_lexer": "ipython3",
   "version": "3.11.6"
  }
 },
 "nbformat": 4,
 "nbformat_minor": 4
}