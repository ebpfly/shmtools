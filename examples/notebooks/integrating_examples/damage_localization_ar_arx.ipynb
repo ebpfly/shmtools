{
 "cells": [
  {
   "cell_type": "markdown",
   "metadata": {},
   "source": [
    "## Setup and Imports"
   ]
  },
  {
   "cell_type": "markdown",
   "metadata": {},
   "source": [
    "# Damage Localization using AR and ARX Models\n",
    "\n",
    "This notebook demonstrates damage localization techniques using autoregressive (AR) and autoregressive with exogenous inputs (ARX) model parameters from an array of sensors. The example compares the effectiveness of AR vs ARX models for identifying and localizing structural damage.\n",
    "\n",
    "## Overview\n",
    "\n",
    "The goal is to locate the source of damage in a structure based on outlier/novelty detection. We extract AR and ARX parameters as damage-sensitive features and use the Mahalanobis distance to create damage indicators (DIs) that are invariant for normal conditions but increase for damaged conditions.\n",
    "\n",
    "### Key Concepts:\n",
    "\n",
    "1. **AR Model**: Output-only model that captures the system's dynamic behavior\n",
    "2. **ARX Model**: Input-output model that incorporates force measurements\n",
    "3. **Damage Localization**: Identifying which sensors are closest to damage\n",
    "4. **Mahalanobis Distance**: Statistical measure for outlier detection\n",
    "\n",
    "### Dataset:\n",
    "\n",
    "We use the 3-story structure dataset with:\n",
    "- 5 channels: 1 input force + 4 output accelerations\n",
    "- 170 conditions: 90 undamaged + 80 damaged (17 states \u00d7 10 tests each)\n",
    "- Damage is located near channels 4 and 5"
   ]
  },
  {
   "cell_type": "markdown",
   "metadata": {},
   "source": [
    "# Damage Localization using AR/ARX Models\n",
    "\n",
    "This notebook demonstrates spatial damage analysis using autoregressive (AR) and autoregressive with exogenous inputs (ARX) model parameters across sensor arrays. It shows how to localize damage by comparing damage indicators across different channels.\n",
    "\n",
    "## Overview\n",
    "\n",
    "The goal is to locate the source of damage in a structure using:\n",
    "\n",
    "1. **DLAR (Damage Location using AR)**: Channel-wise analysis using AR(15) parameters\n",
    "2. **DLARX (Damage Location using ARX)**: Input-output analysis using ARX(10,5,0) parameters\n",
    "\n",
    "**Key Concepts:**\n",
    "- Each sensor channel is analyzed independently\n",
    "- Mahalanobis distance creates damage indicators for each channel\n",
    "- Channels closest to damage show higher sensitivity\n",
    "- ARX models incorporate input force information for better localization\n",
    "\n",
    "**References:**\n",
    "- Figueiredo, E., Park, G., Figueiras, J., Farrar, C., & Worden, K. (2009). Structural Health Monitoring Algorithm Comparisons using Standard Data Sets. Los Alamos National Laboratory Report: LA-14393."
   ]
  },
  {
   "cell_type": "code",
   "execution_count": null,
   "metadata": {},
   "outputs": [],
   "source": [
    "import numpy as npimport matplotlib.pyplot as plt# Import shmtools (installed package)from examples.data import load_3story_datafrom shmtools.features import ar_model_shm, arx_model_shmfrom shmtools.classification import learn_mahalanobis_shm, score_mahalanobis_shm# Set up plottingplt.style.use('default')plt.rcParams['figure.figsize'] = (12, 8)plt.rcParams['font.size'] = 10"
   ]
  },
  {
   "cell_type": "code",
   "execution_count": null,
   "metadata": {},
   "outputs": [],
   "source": [
    "# Load data\n",
    "data = load_3story_data()\n",
    "dataset = data['dataset']\n",
    "states = data['damage_states']\n",
    "\n",
    "print(f\"Dataset shape: {dataset.shape}\")\n",
    "print(f\"Shape explanation: ({dataset.shape[0]} time points, {dataset.shape[1]} channels, {dataset.shape[2]} instances)\")\n",
    "print(f\"\\nChannels:\")\n",
    "for i, ch in enumerate(data['channels']):\n",
    "    print(f\"  Channel {i}: {ch}\")\n",
    "print(f\"\\nDamage states: {np.unique(states)}\")\n",
    "print(f\"Instances per state: {np.sum(states == 1)}\")"
   ]
  },
  {
   "cell_type": "markdown",
   "metadata": {},
   "source": [
    "## Load Data\n",
    "\n",
    "Load the 3-story structure dataset. This dataset contains time series data from a base-excited three-story structure with various damage conditions."
   ]
  },
  {
   "cell_type": "markdown",
   "metadata": {},
   "source": [
    "## Load Raw Data\n",
    "\n",
    "We use the 3-story structure dataset with both force input (channel 1) and acceleration outputs (channels 2-5)."
   ]
  },
  {
   "cell_type": "code",
   "execution_count": null,
   "metadata": {},
   "outputs": [],
   "source": [
    "# Load the 3-story structure dataset\n",
    "try:\n",
    "    data_dict = load_3story_data()\n",
    "    dataset = data_dict['dataset']  # Shape: (8192, 5, 170)\n",
    "    states = data_dict['damage_states']\n",
    "    print(f\"Dataset shape: {dataset.shape}\")\n",
    "    print(f\"(time points, channels, instances)\")\n",
    "    print(f\"\\nChannels: Force (1), Accelerations (2-5)\")\n",
    "    print(f\"Damage states: 1-9 (undamaged), 10-17 (damaged)\")\n",
    "    print(f\"Instances per state: 10\")\n",
    "except FileNotFoundError as e:\n",
    "    print(f\"Error: {e}\")\n",
    "    print(\"\\nPlease download the example datasets following the instructions in:\")\n",
    "    print(\"examples/data/README.md\")\n",
    "    raise"
   ]
  },
  {
   "cell_type": "markdown",
   "metadata": {},
   "source": [
    "## Plot Sample Time Histories\n",
    "\n",
    "Let's visualize the time histories from the baseline condition to understand the data structure."
   ]
  },
  {
   "cell_type": "code",
   "execution_count": null,
   "metadata": {},
   "outputs": [],
   "source": [
    "# Plot time histories from baseline condition (channels 2-5)\n",
    "fig, axes = plt.subplots(2, 2, figsize=(12, 8))\n",
    "axes = axes.ravel()\n",
    "\n",
    "for i in range(4):\n",
    "    channel_data = dataset[:, i+1, 0]  # Channel i+2, first instance\n",
    "    axes[i].plot(channel_data, 'k', linewidth=0.5)\n",
    "    axes[i].set_title(f'Channel {i+2}')\n",
    "    axes[i].set_xlim(0, 8192)\n",
    "    axes[i].set_ylim(-2.5, 2.5)\n",
    "    axes[i].set_yticks([-2, -1, 0, 1, 2])\n",
    "    \n",
    "    if i >= 2:\n",
    "        axes[i].set_xlabel('Observations')\n",
    "    if i % 2 == 0:\n",
    "        axes[i].set_ylabel('Acceleration (g)')\n",
    "\n",
    "plt.tight_layout()\n",
    "plt.suptitle('Baseline Condition Time Histories (Channels 2-5)', fontsize=14, y=1.02)\n",
    "plt.show()"
   ]
  },
  {
   "cell_type": "markdown",
   "metadata": {},
   "source": [
    "## DLAR: Damage Localization using AR Parameters\n",
    "\n",
    "First, we'll analyze damage localization using AR model parameters from output channels only."
   ]
  },
  {
   "cell_type": "markdown",
   "metadata": {},
   "source": [
    "### Extract AR Model Features"
   ]
  },
  {
   "cell_type": "code",
   "execution_count": null,
   "metadata": {},
   "outputs": [],
   "source": [
    "# Extract data for AR analysis (channels 2-5 only)\n",
    "ar_data = dataset[:, 1:5, :]  # Exclude force channel\n",
    "print(f\"AR data shape: {ar_data.shape}\")\n",
    "\n",
    "# Extract AR(15) parameters\n",
    "ar_order = 15\n",
    "print(f\"\\nExtracting AR({ar_order}) parameters...\")\n",
    "\n",
    "ar_parameters_fv, rms_residuals_fv, ar_parameters, ar_residuals, ar_prediction = ar_model_shm(ar_data, ar_order)\n",
    "print(f\"AR parameters shape: {ar_parameters_fv.shape}\")\n",
    "print(f\"Features per channel: {ar_order}\")\n",
    "print(f\"Total features: {ar_parameters_fv.shape[1]} (4 channels \u00d7 {ar_order})\")"
   ]
  },
  {
   "cell_type": "markdown",
   "metadata": {},
   "source": [
    "### Visualize AR Parameters"
   ]
  },
  {
   "cell_type": "code",
   "execution_count": null,
   "metadata": {},
   "outputs": [],
   "source": [
    "# Plot AR parameters for all instances\n",
    "plt.figure(figsize=(14, 8))\n",
    "\n",
    "# Separate undamaged (1-90) and damaged (91-170) instances\n",
    "undamaged_mask = states <= 9\n",
    "damaged_mask = states > 9\n",
    "\n",
    "# Plot undamaged in black, damaged in red\n",
    "plt.plot(ar_parameters_fv[undamaged_mask, :].T, 'k-', alpha=0.3, linewidth=0.5)\n",
    "plt.plot(ar_parameters_fv[damaged_mask, :].T, 'r-', alpha=0.3, linewidth=0.5)\n",
    "\n",
    "# Add channel separators\n",
    "for i in range(1, 4):\n",
    "    plt.axvline(i * ar_order, color='k', linestyle='--', alpha=0.7)\n",
    "\n",
    "# Add channel labels\n",
    "channel_positions = [ar_order//2 + i*ar_order for i in range(4)]\n",
    "channel_labels = ['Channel 2', 'Channel 3', 'Channel 4', 'Channel 5']\n",
    "for pos, label in zip(channel_positions, channel_labels):\n",
    "    plt.text(pos, plt.ylim()[0] + 0.1*(plt.ylim()[1] - plt.ylim()[0]), \n",
    "             label, ha='center', va='bottom', fontweight='bold')\n",
    "\n",
    "plt.xlabel('AR Parameters')\n",
    "plt.ylabel('Amplitude')\n",
    "plt.title(f'Concatenated AR({ar_order}) Parameters for all Instances')\n",
    "plt.legend(['Undamaged', 'Damaged'], loc='upper right')\n",
    "plt.grid(True, alpha=0.3)\n",
    "plt.show()"
   ]
  },
  {
   "cell_type": "markdown",
   "metadata": {},
   "source": [
    "### Compute Channel-wise Damage Indicators (AR)"
   ]
  },
  {
   "cell_type": "code",
   "execution_count": null,
   "metadata": {},
   "outputs": [],
   "source": [
    "# Compute damage indicators for each channel using AR parameters\n",
    "print(\"Computing channel-wise damage indicators using AR parameters...\")\n",
    "\n",
    "undamaged_states = list(range(1, 10))  # States 1-9\n",
    "n_channels = 4\n",
    "features_per_channel = ar_order\n",
    "\n",
    "ar_damage_indicators, ar_models = compute_channel_wise_damage_indicators(\n",
    "    ar_parameters_fv, \n",
    "    states,\n",
    "    undamaged_states=undamaged_states,\n",
    "    n_channels=n_channels,\n",
    "    features_per_channel=features_per_channel,\n",
    "    method='mahalanobis'\n",
    ")\n",
    "\n",
    "print(f\"AR damage indicators shape: {ar_damage_indicators.shape}\")\n",
    "print(f\"(states, channels) = ({ar_damage_indicators.shape[0]}, {ar_damage_indicators.shape[1]})\")"
   ]
  },
  {
   "cell_type": "markdown",
   "metadata": {},
   "source": [
    "### Plot AR Damage Indicators"
   ]
  },
  {
   "cell_type": "code",
   "execution_count": null,
   "metadata": {},
   "outputs": [],
   "source": [
    "# Plot damage indicators for AR method\n",
    "channel_names = ['Channel 2', 'Channel 3', 'Channel 4', 'Channel 5']\n",
    "state_labels = np.arange(1, 18)\n",
    "undamaged_indices = list(range(9))  # First 9 states\n",
    "\n",
    "plot_damage_indicators(\n",
    "    ar_damage_indicators,\n",
    "    channel_names=channel_names,\n",
    "    state_labels=state_labels,\n",
    "    undamaged_states=undamaged_indices,\n",
    "    title=\"AR Method: Channel-wise Damage Indicators\"\n",
    ")"
   ]
  },
  {
   "cell_type": "markdown",
   "metadata": {},
   "source": [
    "## DLARX: Damage Localization using ARX Parameters\n",
    "\n",
    "Now we'll analyze damage localization using ARX model parameters that incorporate the input force information."
   ]
  },
  {
   "cell_type": "markdown",
   "metadata": {},
   "source": [
    "### Extract ARX Model Features"
   ]
  },
  {
   "cell_type": "code",
   "execution_count": null,
   "metadata": {},
   "outputs": [],
   "source": [
    "# Use full dataset for ARX analysis (input + outputs)\n",
    "arx_data = dataset  # All 5 channels: force (input) + 4 accelerations (outputs)\n",
    "print(f\"ARX data shape: {arx_data.shape}\")\n",
    "\n",
    "# Extract ARX(10,5,0) parameters\n",
    "arx_orders = [10, 5, 0]  # [output_order, input_order, delay]\n",
    "print(f\"\\nExtracting ARX({arx_orders[0]},{arx_orders[1]},{arx_orders[2]}) parameters...\")\n",
    "\n",
    "arx_parameters_fv, rms_residuals_fv, arx_parameters, arx_residuals, arx_prediction, actual_orders = arx_model_shm(arx_data, arx_orders)\n",
    "print(f\"ARX parameters shape: {arx_parameters_fv.shape}\")\n",
    "arx_features_per_channel = arx_orders[0] + arx_orders[1]  # a + b = 15\n",
    "print(f\"Features per channel: {arx_features_per_channel} ({arx_orders[0]} AR + {arx_orders[1]} input terms)\")\n",
    "print(f\"Total features: {arx_parameters_fv.shape[1]} (4 output channels \u00d7 {arx_features_per_channel})\")"
   ]
  },
  {
   "cell_type": "markdown",
   "metadata": {},
   "source": [
    "### Visualize ARX Parameters"
   ]
  },
  {
   "cell_type": "code",
   "execution_count": null,
   "metadata": {},
   "outputs": [],
   "source": [
    "# Plot ARX parameters for all instances\n",
    "plt.figure(figsize=(14, 8))\n",
    "\n",
    "# Plot undamaged in black, damaged in red\n",
    "plt.plot(arx_parameters_fv[undamaged_mask, :].T, 'k-', alpha=0.3, linewidth=0.5)\n",
    "plt.plot(arx_parameters_fv[damaged_mask, :].T, 'r-', alpha=0.3, linewidth=0.5)\n",
    "\n",
    "# Add channel separators\n",
    "for i in range(1, 4):\n",
    "    plt.axvline(i * arx_features_per_channel, color='k', linestyle='--', alpha=0.7)\n",
    "\n",
    "# Add channel labels\n",
    "channel_positions = [arx_features_per_channel//2 + i*arx_features_per_channel for i in range(4)]\n",
    "for pos, label in zip(channel_positions, channel_labels):\n",
    "    plt.text(pos, plt.ylim()[0] + 0.1*(plt.ylim()[1] - plt.ylim()[0]), \n",
    "             label, ha='center', va='bottom', fontweight='bold')\n",
    "\n",
    "plt.xlabel('ARX Parameters')\n",
    "plt.ylabel('Amplitude')\n",
    "plt.title(f'Concatenated ARX({arx_orders[0]},{arx_orders[1]}) Parameters from all Instances')\n",
    "plt.legend(['Undamaged', 'Damaged'], loc='upper right')\n",
    "plt.grid(True, alpha=0.3)\n",
    "plt.show()"
   ]
  },
  {
   "cell_type": "markdown",
   "metadata": {},
   "source": [
    "### Compute Channel-wise Damage Indicators (ARX)"
   ]
  },
  {
   "cell_type": "code",
   "execution_count": null,
   "metadata": {},
   "outputs": [],
   "source": [
    "# Compute damage indicators for each channel using ARX parameters\n",
    "print(\"Computing channel-wise damage indicators using ARX parameters...\")\n",
    "\n",
    "arx_damage_indicators, arx_models = compute_channel_wise_damage_indicators(\n",
    "    arx_parameters_fv,\n",
    "    states,\n",
    "    undamaged_states=undamaged_states,\n",
    "    n_channels=n_channels,\n",
    "    features_per_channel=arx_features_per_channel,\n",
    "    method='mahalanobis'\n",
    ")\n",
    "\n",
    "print(f\"ARX damage indicators shape: {arx_damage_indicators.shape}\")\n",
    "print(f\"(states, channels) = ({arx_damage_indicators.shape[0]}, {arx_damage_indicators.shape[1]})\")"
   ]
  },
  {
   "cell_type": "markdown",
   "metadata": {},
   "source": [
    "### Plot ARX Damage Indicators"
   ]
  },
  {
   "cell_type": "code",
   "execution_count": null,
   "metadata": {},
   "outputs": [],
   "source": [
    "# Plot damage indicators for ARX method\n",
    "plot_damage_indicators(\n",
    "    arx_damage_indicators,\n",
    "    channel_names=channel_names,\n",
    "    state_labels=state_labels,\n",
    "    undamaged_states=undamaged_indices,\n",
    "    title=\"ARX Method: Channel-wise Damage Indicators\"\n",
    ")"
   ]
  },
  {
   "cell_type": "markdown",
   "metadata": {},
   "source": [
    "### AR Method Analysis"
   ]
  },
  {
   "cell_type": "code",
   "execution_count": null,
   "metadata": {},
   "outputs": [],
   "source": [
    "# Analyze AR method results\n",
    "ar_analysis = analyze_damage_localization(\n",
    "    ar_damage_indicators,\n",
    "    channel_names=channel_names,\n",
    "    undamaged_states=undamaged_indices\n",
    ")\n",
    "\n",
    "print(\"=\" * 60)\n",
    "print(\"AR METHOD DAMAGE LOCALIZATION ANALYSIS\")\n",
    "print(\"=\" * 60)\n",
    "print(ar_analysis['interpretation'])\n",
    "\n",
    "# Show channel sensitivity ranking\n",
    "print(f\"\\nChannel sensitivity values:\")\n",
    "for i, (channel, sensitivity) in enumerate(zip(channel_names, ar_analysis['channel_sensitivity'])):\n",
    "    rank = np.where(ar_analysis['damage_ranking'] == i)[0][0] + 1\n",
    "    print(f\"  {channel}: {sensitivity:.3f} (rank {rank})\")"
   ]
  },
  {
   "cell_type": "markdown",
   "metadata": {},
   "source": [
    "### ARX Method Analysis"
   ]
  },
  {
   "cell_type": "code",
   "execution_count": null,
   "metadata": {},
   "outputs": [],
   "source": [
    "# Analyze ARX method results\n",
    "arx_analysis = analyze_damage_localization(\n",
    "    arx_damage_indicators,\n",
    "    channel_names=channel_names,\n",
    "    undamaged_states=undamaged_indices\n",
    ")\n",
    "\n",
    "print(\"=\" * 60)\n",
    "print(\"ARX METHOD DAMAGE LOCALIZATION ANALYSIS\")\n",
    "print(\"=\" * 60)\n",
    "print(arx_analysis['interpretation'])\n",
    "\n",
    "# Show channel sensitivity ranking\n",
    "print(f\"\\nChannel sensitivity values:\")\n",
    "for i, (channel, sensitivity) in enumerate(zip(channel_names, arx_analysis['channel_sensitivity'])):\n",
    "    rank = np.where(arx_analysis['damage_ranking'] == i)[0][0] + 1\n",
    "    print(f\"  {channel}: {sensitivity:.3f} (rank {rank})\")"
   ]
  },
  {
   "cell_type": "markdown",
   "metadata": {},
   "source": [
    "### AR vs ARX Comparison"
   ]
  },
  {
   "cell_type": "code",
   "execution_count": null,
   "metadata": {},
   "outputs": [],
   "source": [
    "# Compare AR and ARX methods\n",
    "comparison = compare_ar_arx_localization(\n",
    "    ar_damage_indicators,\n",
    "    arx_damage_indicators,\n",
    "    channel_names=channel_names,\n",
    "    undamaged_states=undamaged_indices\n",
    ")\n",
    "\n",
    "print(\"=\" * 60)\n",
    "print(\"AR vs ARX COMPARISON\")\n",
    "print(\"=\" * 60)\n",
    "print(comparison['summary'])"
   ]
  },
  {
   "cell_type": "markdown",
   "metadata": {},
   "source": [
    "### Side-by-Side Comparison Plot"
   ]
  },
  {
   "cell_type": "code",
   "execution_count": null,
   "metadata": {},
   "outputs": [],
   "source": [
    "# Create side-by-side comparison plot\n",
    "fig, axes = plt.subplots(2, 4, figsize=(16, 10))\n",
    "\n",
    "# AR method plots (top row)\n",
    "for i in range(4):\n",
    "    ax = axes[0, i]\n",
    "    colors = ['k' if j < 9 else 'r' for j in range(17)]\n",
    "    bars = ax.bar(range(17), ar_damage_indicators[:, i], color=colors)\n",
    "    ax.set_title(f'{channel_names[i]} (AR)', fontsize=12)\n",
    "    ax.set_xlim(-0.5, 16.5)\n",
    "    ax.set_xticks(range(17))\n",
    "    ax.set_xticklabels(range(1, 18))\n",
    "    ax.grid(True, alpha=0.3)\n",
    "    \n",
    "    if i == 0:\n",
    "        ax.set_ylabel('AR Damage Indicator')\n",
    "\n",
    "# ARX method plots (bottom row)\n",
    "for i in range(4):\n",
    "    ax = axes[1, i]\n",
    "    colors = ['k' if j < 9 else 'r' for j in range(17)]\n",
    "    bars = ax.bar(range(17), arx_damage_indicators[:, i], color=colors)\n",
    "    ax.set_title(f'{channel_names[i]} (ARX)', fontsize=12)\n",
    "    ax.set_xlim(-0.5, 16.5)\n",
    "    ax.set_xticks(range(17))\n",
    "    ax.set_xticklabels(range(1, 18))\n",
    "    ax.set_xlabel('State Condition')\n",
    "    ax.grid(True, alpha=0.3)\n",
    "    \n",
    "    if i == 0:\n",
    "        ax.set_ylabel('ARX Damage Indicator')\n",
    "\n",
    "plt.tight_layout()\n",
    "plt.suptitle('AR vs ARX Damage Localization Comparison', fontsize=16, y=1.02)\n",
    "plt.show()"
   ]
  },
  {
   "cell_type": "markdown",
   "metadata": {},
   "source": [
    "### Sensitivity Improvement Analysis"
   ]
  },
  {
   "cell_type": "code",
   "execution_count": null,
   "metadata": {},
   "outputs": [],
   "source": [
    "# Plot sensitivity comparison\n",
    "fig, (ax1, ax2) = plt.subplots(1, 2, figsize=(15, 6))\n",
    "\n",
    "# Sensitivity values comparison\n",
    "x_pos = np.arange(len(channel_names))\n",
    "width = 0.35\n",
    "\n",
    "bars1 = ax1.bar(x_pos - width/2, ar_analysis['channel_sensitivity'], width, \n",
    "               label='AR Method', color='lightblue', alpha=0.8)\n",
    "bars2 = ax1.bar(x_pos + width/2, arx_analysis['channel_sensitivity'], width,\n",
    "               label='ARX Method', color='lightcoral', alpha=0.8)\n",
    "\n",
    "ax1.set_xlabel('Channel')\n",
    "ax1.set_ylabel('Mean Damage Indicator')\n",
    "ax1.set_title('Channel Sensitivity Comparison')\n",
    "ax1.set_xticks(x_pos)\n",
    "ax1.set_xticklabels(channel_names)\n",
    "ax1.legend()\n",
    "ax1.grid(True, alpha=0.3)\n",
    "\n",
    "# Add value labels on bars\n",
    "for bar1, bar2 in zip(bars1, bars2):\n",
    "    height1 = bar1.get_height()\n",
    "    height2 = bar2.get_height()\n",
    "    ax1.text(bar1.get_x() + bar1.get_width()/2., height1 + 0.01,\n",
    "             f'{height1:.2f}', ha='center', va='bottom', fontsize=10)\n",
    "    ax1.text(bar2.get_x() + bar2.get_width()/2., height2 + 0.01,\n",
    "             f'{height2:.2f}', ha='center', va='bottom', fontsize=10)\n",
    "\n",
    "# Improvement ratio\n",
    "improvement_ratio = comparison['sensitivity_ratio']\n",
    "bars3 = ax2.bar(channel_names, improvement_ratio, \n",
    "               color=['green' if r > 1 else 'orange' for r in improvement_ratio],\n",
    "               alpha=0.7)\n",
    "\n",
    "ax2.axhline(y=1, color='red', linestyle='--', alpha=0.7, label='No improvement')\n",
    "ax2.set_xlabel('Channel')\n",
    "ax2.set_ylabel('ARX/AR Sensitivity Ratio')\n",
    "ax2.set_title('ARX Improvement over AR')\n",
    "ax2.legend()\n",
    "ax2.grid(True, alpha=0.3)\n",
    "\n",
    "# Add value labels\n",
    "for bar, ratio in zip(bars3, improvement_ratio):\n",
    "    height = bar.get_height()\n",
    "    ax2.text(bar.get_x() + bar.get_width()/2., height + 0.02,\n",
    "             f'{ratio:.2f}\u00d7', ha='center', va='bottom', fontsize=10)\n",
    "\n",
    "plt.tight_layout()\n",
    "plt.show()"
   ]
  },
  {
   "cell_type": "markdown",
   "metadata": {},
   "source": [
    "## Summary and Conclusions\n",
    "\n",
    "This analysis demonstrates spatial damage localization using both AR and ARX model parameters:\n",
    "\n",
    "### Key Findings\n",
    "\n",
    "1. **Damage Localization**: Both methods successfully identify that Channels 4 and 5 are more sensitive to damage than Channels 2 and 3, indicating damage is located closer to the upper floors of the 3-story structure.\n",
    "\n",
    "2. **AR Method Results**: \n",
    "   - Uses only output measurements (accelerations)\n",
    "   - Provides good discrimination between undamaged and damaged states\n",
    "   - Simple to implement and interpret\n",
    "\n",
    "3. **ARX Method Results**:\n",
    "   - Incorporates input force information\n",
    "   - Can provide improved damage localization in some cases\n",
    "   - Captures input-output relationships for better physics-based analysis\n",
    "\n",
    "### Method Comparison\n",
    "\n",
    "**AR Model Advantages:**\n",
    "- Simpler implementation (output-only)\n",
    "- No need for input measurement\n",
    "- Robust to input measurement noise\n",
    "- Faster computation\n",
    "\n",
    "**ARX Model Advantages:**\n",
    "- Better physics representation (input-output relationships)\n",
    "- Potential for improved damage sensitivity\n",
    "- Input normalization can reduce environmental effects\n",
    "- Better for systems with known excitation\n",
    "\n",
    "### Practical Implications\n",
    "\n",
    "- **Channel-wise analysis** enables spatial damage localization across sensor arrays\n",
    "- **Mahalanobis distance** provides effective outlier detection for each channel\n",
    "- **Multiple model comparison** increases confidence in damage localization results\n",
    "- **Structural knowledge** helps interpret which channels correspond to different structural locations\n",
    "\n",
    "### Recommendations\n",
    "\n",
    "1. **For new applications**: Start with AR analysis for simplicity, then consider ARX if input measurements are available\n",
    "2. **For critical structures**: Use both methods as complementary approaches\n",
    "3. **For environmental robustness**: Consider ARX models when input forces can be measured\n",
    "4. **For sensor network design**: Use these results to optimize sensor placement for damage localization"
   ]
  },
  {
   "cell_type": "markdown",
   "id": "d6b14567",
   "metadata": {},
   "source": [
    "## Part 1: Damage Localization using AR Parameters\n",
    "\n",
    "First, we'll use the traditional AR model approach, which only uses the output acceleration measurements (channels 2-5)."
   ]
  },
  {
   "cell_type": "code",
   "execution_count": null,
   "id": "b5db1e57",
   "metadata": {},
   "outputs": [],
   "source": [
    "# Extract AR(15) parameters from channels 2-5\n",
    "ar_order = 15\n",
    "output_data = dataset[:, 1:5, :]  # Channels 2-5 only\n",
    "\n",
    "print(\"Estimating AR parameters...\")\n",
    "ar_params_fv, ar_rms_fv, ar_params, _, _ = ar_model_shm(output_data, ar_order)\n",
    "\n",
    "print(f\"\\nAR parameters shape: {ar_params_fv.shape}\")\n",
    "print(f\"Shape explanation: ({ar_params_fv.shape[0]} instances, {ar_params_fv.shape[1]} features)\")\n",
    "print(f\"Features per channel: {ar_order}\")\n",
    "print(f\"Total features: {4} channels \u00d7 {ar_order} parameters = {ar_params_fv.shape[1]}\")"
   ]
  },
  {
   "cell_type": "markdown",
   "id": "c15c59e7",
   "metadata": {},
   "source": [
    "## Part 2: Damage Localization using ARX Parameters\n",
    "\n",
    "Now we'll use the ARX model, which incorporates the input force measurement (channel 1) along with the output accelerations."
   ]
  },
  {
   "cell_type": "code",
   "execution_count": null,
   "id": "c8ab7992",
   "metadata": {},
   "outputs": [],
   "source": [
    "# Extract ARX(10,5,0) parameters\n",
    "arx_orders = [10, 5, 0]  # a=10 (output order), b=5 (input order), tau=0 (no delay)\n",
    "\n",
    "print(\"Estimating ARX parameters...\")\n",
    "arx_params_fv, arx_rms_fv, arx_params, _, _, _ = arx_model_shm(dataset, arx_orders)\n",
    "\n",
    "print(f\"\\nARX parameters shape: {arx_params_fv.shape}\")\n",
    "print(f\"Shape explanation: ({arx_params_fv.shape[0]} instances, {arx_params_fv.shape[1]} features)\")\n",
    "print(f\"Features per channel: {arx_orders[0] + arx_orders[1]} = {15}\")\n",
    "print(f\"Total features: {4} channels \u00d7 {15} parameters = {arx_params_fv.shape[1]}\")"
   ]
  },
  {
   "cell_type": "markdown",
   "id": "2d513e32",
   "metadata": {},
   "source": [
    "## Conclusions\n",
    "\n",
    "This notebook demonstrated damage localization using AR and ARX model parameters:\n",
    "\n",
    "### Key Findings:\n",
    "1. **ARX Model Advantage**: ARX models provide better damage discrimination by incorporating input-output relationships\n",
    "2. **Damage Location**: Both models correctly identify damage near channels 4 and 5\n",
    "3. **Practical Application**: ARX models are preferred when force measurements are available\n",
    "\n",
    "### References\n",
    "- Figueiredo, E., Park, G., Figueiras, J., Farrar, C., & Worden, K. (2009). Structural Health Monitoring Algorithm Comparisons using Standard Data Sets. Los Alamos National Laboratory Report: LA-14393."
   ]
  }
 ],
 "metadata": {
  "kernelspec": {
   "display_name": "Python 3",
   "language": "python",
   "name": "python3"
  },
  "language_info": {
   "codemirror_mode": {
    "name": "ipython",
    "version": 3
   },
   "file_extension": ".py",
   "mimetype": "text/x-python",
   "name": "python",
   "nbconvert_exporter": "python",
   "pygments_lexer": "ipython3",
   "version": "3.9.0"
  }
 },
 "nbformat": 4,
 "nbformat_minor": 4
}