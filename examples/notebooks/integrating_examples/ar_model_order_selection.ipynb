{
 "cells": [
  {
   "cell_type": "markdown",
   "id": "cell-0",
   "metadata": {},
   "source": [
    "# Appropriate Autoregressive Model Order\n",
    "\n",
    "## Introduction\n",
    "\n",
    "The goal of this example is to find out the appropriate autoregressive (AR) model order using an algorithm based on the partial autocorrelation function (PAF). One acceleration time history from the baseline condition is used to carry out the analysis.\n",
    "\n",
    "Data sets from **Channel 5** of the 3-story structure are used in this example. More details about the data sets can be found in the [3-Story Data Sets documentation](https://www.lanl.gov/projects/ei).\n",
    "\n",
    "The PAF-based algorithm suggests an AR model order as a reference starting point. Other algorithms should be tried in order to find out a possible range of AR model orders. (Note that the arModelOrder_shm function contains other techniques, namely, the SVD, AIC, BIC, and RMS.)\n",
    "\n",
    "**References:**\n",
    "\n",
    "Figueiredo, E., Park, G., Figueiras, J., Farrar, C., & Worden, K. (2009). Structural Health Monitoring Algorithm Comparisons using Standard Data Sets. Los Alamos National Laboratory Report: LA-14393.\n",
    "\n",
    "**SHMTools functions used:**\n",
    "- `ar_model_order_shm`"
   ]
  },
  {
   "cell_type": "code",
   "execution_count": 2,
   "id": "cell-1",
   "metadata": {},
   "outputs": [
    {
     "name": "stderr",
     "output_type": "stream",
     "text": [
      "/Users/eric/repo/shm/shmtools/classification/nlpca.py:27: UserWarning: TensorFlow not available. NLPCA functions will not work. Install TensorFlow: pip install tensorflow\n",
      "  warnings.warn(\n"
     ]
    }
   ],
   "source": [
    "import numpy as np\n",
    "import matplotlib.pyplot as plt\n",
    "\n",
    "# Import shmtools (installed package)\n",
    "from examples.data import import_3story_structure_shm\n",
    "from shmtools.features.time_series import ar_model_order_shm, ar_model_shm\n",
    "\n",
    "# Set up plotting\n",
    "plt.style.use('default')\n",
    "plt.rcParams['figure.figsize'] = (12, 8)\n",
    "plt.rcParams['font.size'] = 10"
   ]
  },
  {
   "cell_type": "markdown",
   "id": "cell-2",
   "metadata": {},
   "source": [
    "## Load Raw Data\n",
    "\n",
    "Load the 3-story structure dataset and extract Channel 5 data from a baseline condition for AR model order analysis."
   ]
  },
  {
   "cell_type": "code",
   "execution_count": null,
   "id": "cell-3",
   "metadata": {},
   "outputs": [],
   "source": "# Load data set\ndataset, damage_states, state_list = import_3story_structure_shm()\n\nprint(f\"Dataset shape: {dataset.shape}\")\n\n# Acceleration time history from the baseline condition (Channel 5)\ndata = dataset[:, 4, 0]  # Channel 5 (index 4), first condition (index 0)\n\nprint(f\"Channel 5 baseline data shape: {data.shape}\")\nprint(f\"Mean: {np.mean(data):.6f}\")\nprint(f\"Std: {np.std(data):.6f}\")"
  },
  {
   "cell_type": "markdown",
   "id": "cell-4",
   "metadata": {},
   "source": [
    "### Plot Time History\n",
    "\n",
    "Visualize the baseline acceleration time history from Channel 5."
   ]
  },
  {
   "cell_type": "code",
   "execution_count": null,
   "id": "cell-5",
   "metadata": {},
   "outputs": [],
   "source": [
    "# Plot time series\n",
    "plt.figure(figsize=(12, 6))\n",
    "\n",
    "plt.plot(data, 'k-', linewidth=0.8)\n",
    "plt.title('Acceleration Time History (Channel 5)')\n",
    "plt.xlabel('Data Points')\n",
    "plt.ylabel('Acceleration (g)')\n",
    "plt.xlim([0, len(data)])\n",
    "plt.ylim([-2, 2])\n",
    "plt.yticks([-2, -1, 0, 1, 2])\n",
    "plt.grid(True, alpha=0.3)\n",
    "\n",
    "plt.tight_layout()\n",
    "plt.show()"
   ]
  },
  {
   "cell_type": "markdown",
   "id": "cell-6",
   "metadata": {},
   "source": [
    "## Run Algorithm to find out the Appropriate AR Model Order\n",
    "\n",
    "Using the PAF-based algorithm."
   ]
  },
  {
   "cell_type": "code",
   "execution_count": null,
   "id": "cell-7",
   "metadata": {},
   "outputs": [],
   "source": [
    "# Set parameters\n",
    "method = 'PAF'\n",
    "ar_order_max = 30\n",
    "tolerance = 0.078\n",
    "\n",
    "print(f\"Running AR model order selection...\")\n",
    "print(f\"Method: {method}\")\n",
    "print(f\"Maximum order: {ar_order_max}\")\n",
    "print(f\"Tolerance: {tolerance}\")\n",
    "\n",
    "# Run algorithm (following MATLAB exactly)\n",
    "mean_ar_order, ar_orders, model = ar_model_order_shm(data, method, ar_order_max, tolerance)\n",
    "\n",
    "# Extract results from model structure\n",
    "out_data = model['out_data']\n",
    "ar_order_list = np.arange(1, len(out_data) + 1)  # Create order list\n",
    "control_limit = model['control_limits']\n",
    "\n",
    "print(f\"\\nResults:\")\n",
    "print(f\"Mean AR order: {mean_ar_order[0]:.0f}\")\n",
    "print(f\"AR order for this instance: {ar_orders[0, 0]:.0f}\")\n",
    "print(f\"Control limits: {control_limit}\")\n",
    "print(f\"Method used: {model['method']}\")\n",
    "print(f\"Maximum order computed: {model['ar_order_max']}\")\n",
    "print(f\"Tolerance: {model['tolerance']}\")"
   ]
  },
  {
   "cell_type": "markdown",
   "id": "cell-8",
   "metadata": {},
   "source": [
    "### Plot Results\n",
    "\n",
    "Display the PAF values along with the confidence interval thresholds."
   ]
  },
  {
   "cell_type": "code",
   "execution_count": null,
   "id": "cell-9",
   "metadata": {},
   "outputs": [],
   "source": [
    "# Plot results with threshold (following MATLAB exactly)\n",
    "plt.figure(figsize=(12, 8))\n",
    "\n",
    "plt.plot(ar_order_list, out_data, '.-k', linewidth=2, markersize=6)\n",
    "plt.title(f'Appropriate Model Order Selection using {method} Technique')\n",
    "plt.xlabel('AR Order (p)')\n",
    "plt.ylabel('Magnitude')\n",
    "plt.xlim([1, max(ar_order_list)])\n",
    "plt.grid(True, alpha=0.3)\n",
    "\n",
    "# Add legend with AR order\n",
    "plt.legend([f'AR Order: {int(mean_ar_order[0])}'])\n",
    "\n",
    "# Add control limit lines\n",
    "plt.axhline(y=control_limit[0], color='r', linestyle='-.', linewidth=1, \n",
    "           label=f'Upper limit: {control_limit[0]:.4f}')\n",
    "\n",
    "if method == 'PAF':\n",
    "    plt.axhline(y=control_limit[1], color='r', linestyle='-.', linewidth=1,\n",
    "               label=f'Lower limit: {control_limit[1]:.4f}')\n",
    "\n",
    "plt.legend()\n",
    "plt.tight_layout()\n",
    "plt.show()\n",
    "\n",
    "# Summary message (following MATLAB)\n",
    "print(f\"\\nThe {method}-based algorithm suggests an AR model of {int(mean_ar_order[0])}th order.\")\n",
    "print(\"This indication should be taken as a reference for a starting point.\")\n",
    "print(\"Other algorithms should be tried in order to find out a possible range of\")\n",
    "print(\"AR model orders. (Note that the arModelOrder_shm function contains other\")\n",
    "print(\"techniques, namely, the SVD, AIC, BIC, and RMS.)\")"
   ]
  },
  {
   "cell_type": "markdown",
   "id": "fn70djc9cye",
   "metadata": {},
   "source": [
    "## Summary\n",
    "\n",
    "This example demonstrated AR model order selection using the Partial Autocorrelation Function (PAF) method. The algorithm suggests an AR model order by finding the first order where the PAF value falls within the confidence bounds for white noise.\n",
    "\n",
    "**Key Results:**\n",
    "\n",
    "- The PAF method suggested an AR order based on 95% confidence intervals (±2/√N)\n",
    "- This provides a starting point for AR model selection in SHM applications\n",
    "- Other methods (AIC, BIC, SVD, RMS) are available in the `ar_model_order_shm` function for comparison\n",
    "\n",
    "**For Structural Health Monitoring:**\n",
    "\n",
    "The choice of AR order affects the quality of damage-sensitive features extracted from time series data. This systematic approach to order selection helps ensure that AR models capture the essential dynamics while avoiding overfitting.\n",
    "\n",
    "**See also:**\n",
    "- [Outlier Detection based on Principal Component Analysis](pca_outlier_detection.ipynb)\n",
    "- [Outlier Detection based on Mahalanobis Distance](mahalanobis_outlier_detection.ipynb)\n",
    "- [Outlier Detection based on Singular Value Decomposition](svd_outlier_detection.ipynb)\n",
    "- [Outlier Detection based on Factor Analysis](../intermediate/factor_analysis_outlier_detection.ipynb)"
   ]
  },
  {
   "cell_type": "markdown",
   "id": "cell-12",
   "metadata": {},
   "source": [
    "### Visualize Model Predictions and Residuals\n",
    "\n",
    "Compare the prediction accuracy and residual patterns for different AR model orders."
   ]
  }
 ],
 "metadata": {
  "kernelspec": {
   "display_name": "venv",
   "language": "python",
   "name": "python3"
  },
  "language_info": {
   "codemirror_mode": {
    "name": "ipython",
    "version": 3
   },
   "file_extension": ".py",
   "mimetype": "text/x-python",
   "name": "python",
   "nbconvert_exporter": "python",
   "pygments_lexer": "ipython3",
   "version": "3.11.13"
  }
 },
 "nbformat": 4,
 "nbformat_minor": 5
}