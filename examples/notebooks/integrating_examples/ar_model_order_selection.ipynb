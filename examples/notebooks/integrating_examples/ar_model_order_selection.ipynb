{
 "cells": [
  {
   "cell_type": "markdown",
   "id": "cell-0",
   "metadata": {},
   "source": "# Appropriate Autoregressive Model Order\n\n## Introduction\n\nThe goal of this example is to find out the appropriate autoregressive (AR) model order using an algorithm based on the partial autocorrelation function (PAF). One acceleration time history from the baseline condition is used to carry out the analysis.\n\nData sets from **Channel 5** of the 3-story structure are used in this example. More details about the data sets can be found in the [3-Story Data Sets documentation](https://www.lanl.gov/projects/ei).\n\nThe PAF-based algorithm suggests an AR model order as a reference starting point. Other algorithms should be tried in order to find out a possible range of AR model orders. (Note that the arModelOrder_shm function contains other techniques, namely, the SVD, AIC, BIC, and RMS.)\n\n**References:**\n\nFigueiredo, E., Park, G., Figueiras, J., Farrar, C., & Worden, K. (2009). Structural Health Monitoring Algorithm Comparisons using Standard Data Sets. Los Alamos National Laboratory Report: LA-14393.\n\n**SHMTools functions used:**\n- `ar_model_order_shm`"
  },
  {
   "cell_type": "code",
   "execution_count": null,
   "id": "cell-1",
   "metadata": {},
   "outputs": [],
   "source": "import numpy as np\nimport matplotlib.pyplot as plt\n\n# Import shmtools (installed package)\nfrom shmtools.utils.data_loading import load_3story_data\nfrom shmtools.features.time_series import ar_model_order_shm, ar_model_shm\n\n# Set up plotting\nplt.style.use('default')\nplt.rcParams['figure.figsize'] = (12, 8)\nplt.rcParams['font.size'] = 10"
  },
  {
   "cell_type": "markdown",
   "id": "cell-2",
   "metadata": {},
   "source": "## Load Raw Data\n\nLoad the 3-story structure dataset and extract Channel 5 data from a baseline condition for AR model order analysis."
  },
  {
   "cell_type": "code",
   "execution_count": null,
   "id": "cell-3",
   "metadata": {},
   "outputs": [],
   "source": "# Load data set\ndata_dict = load_3story_data()\ndataset = data_dict['dataset']\n\nprint(f\"Dataset shape: {dataset.shape}\")\n\n# Acceleration time history from the baseline condition (Channel 5)\ndata = dataset[:, 4, 0]  # Channel 5 (index 4), first condition (index 0)\n\nprint(f\"Channel 5 baseline data shape: {data.shape}\")\nprint(f\"Mean: {np.mean(data):.6f}\")\nprint(f\"Std: {np.std(data):.6f}\")"
  },
  {
   "cell_type": "markdown",
   "id": "cell-4",
   "metadata": {},
   "source": "### Plot Time History\n\nVisualize the baseline acceleration time history from Channel 5."
  },
  {
   "cell_type": "code",
   "execution_count": null,
   "id": "cell-5",
   "metadata": {},
   "outputs": [],
   "source": "# Plot time series\nplt.figure(figsize=(12, 6))\n\nplt.plot(data, 'k-', linewidth=0.8)\nplt.title('Acceleration Time History (Channel 5)')\nplt.xlabel('Data Points')\nplt.ylabel('Acceleration (g)')\nplt.xlim([0, len(data)])\nplt.ylim([-2, 2])\nplt.yticks([-2, -1, 0, 1, 2])\nplt.grid(True, alpha=0.3)\n\nplt.tight_layout()\nplt.show()"
  },
  {
   "cell_type": "markdown",
   "id": "cell-6",
   "metadata": {},
   "source": "## Run Algorithm to find out the Appropriate AR Model Order\n\nUsing the PAF-based algorithm."
  },
  {
   "cell_type": "code",
   "execution_count": null,
   "id": "cell-7",
   "metadata": {},
   "outputs": [],
   "source": "# Set parameters\nmethod = 'PAF'\nar_order_max = 30\ntolerance = 0.078\n\nprint(f\"Running AR model order selection...\")\nprint(f\"Method: {method}\")\nprint(f\"Maximum order: {ar_order_max}\")\nprint(f\"Tolerance: {tolerance}\")\n\n# Run algorithm (following MATLAB exactly)\nmean_ar_order, ar_orders, model = ar_model_order_shm(data, method, ar_order_max, tolerance)\n\n# Extract results from model structure\nout_data = model['out_data']\nar_order_list = np.arange(1, len(out_data) + 1)  # Create order list\ncontrol_limit = model['control_limits']\n\nprint(f\"\\nResults:\")\nprint(f\"Mean AR order: {mean_ar_order[0]:.0f}\")\nprint(f\"AR order for this instance: {ar_orders[0, 0]:.0f}\")\nprint(f\"Control limits: {control_limit}\")\nprint(f\"Method used: {model['method']}\")\nprint(f\"Maximum order computed: {model['ar_order_max']}\")\nprint(f\"Tolerance: {model['tolerance']}\")"
  },
  {
   "cell_type": "markdown",
   "id": "cell-8",
   "metadata": {},
   "source": "### Plot Results\n\nDisplay the PAF values along with the confidence interval thresholds."
  },
  {
   "cell_type": "code",
   "execution_count": null,
   "id": "cell-9",
   "metadata": {},
   "outputs": [],
   "source": "# Plot results with threshold (following MATLAB exactly)\nplt.figure(figsize=(12, 8))\n\nplt.plot(ar_order_list, out_data, '.-k', linewidth=2, markersize=6)\nplt.title(f'Appropriate Model Order Selection using {method} Technique')\nplt.xlabel('AR Order (p)')\nplt.ylabel('Magnitude')\nplt.xlim([1, max(ar_order_list)])\nplt.grid(True, alpha=0.3)\n\n# Add legend with AR order\nplt.legend([f'AR Order: {int(mean_ar_order[0])}'])\n\n# Add control limit lines\nplt.axhline(y=control_limit[0], color='r', linestyle='-.', linewidth=1, \n           label=f'Upper limit: {control_limit[0]:.4f}')\n\nif method == 'PAF':\n    plt.axhline(y=control_limit[1], color='r', linestyle='-.', linewidth=1,\n               label=f'Lower limit: {control_limit[1]:.4f}')\n\nplt.legend()\nplt.tight_layout()\nplt.show()\n\n# Summary message (following MATLAB)\nprint(f\"\\nThe {method}-based algorithm suggests an AR model of {int(mean_ar_order[0])}th order.\")\nprint(\"This indication should be taken as a reference for a starting point.\")\nprint(\"Other algorithms should be tried in order to find out a possible range of\")\nprint(\"AR model orders. (Note that the arModelOrder_shm function contains other\")\nprint(\"techniques, namely, the SVD, AIC, BIC, and RMS.)\")"
  },
  {
   "cell_type": "markdown",
   "id": "fn70djc9cye",
   "source": "## Summary\n\nThis example demonstrated AR model order selection using the Partial Autocorrelation Function (PAF) method. The algorithm suggests an AR model order by finding the first order where the PAF value falls within the confidence bounds for white noise.\n\n**Key Results:**\n\n- The PAF method suggested an AR order based on 95% confidence intervals (±2/√N)\n- This provides a starting point for AR model selection in SHM applications\n- Other methods (AIC, BIC, SVD, RMS) are available in the `ar_model_order_shm` function for comparison\n\n**For Structural Health Monitoring:**\n\nThe choice of AR order affects the quality of damage-sensitive features extracted from time series data. This systematic approach to order selection helps ensure that AR models capture the essential dynamics while avoiding overfitting.\n\n**See also:**\n- [Outlier Detection based on Principal Component Analysis](pca_outlier_detection.ipynb)\n- [Outlier Detection based on Mahalanobis Distance](mahalanobis_outlier_detection.ipynb)\n- [Outlier Detection based on Singular Value Decomposition](svd_outlier_detection.ipynb)\n- [Outlier Detection based on Factor Analysis](../intermediate/factor_analysis_outlier_detection.ipynb)",
   "metadata": {}
  },
  {
   "cell_type": "markdown",
   "id": "cell-12",
   "metadata": {},
   "source": [
    "### Visualize Model Predictions and Residuals\n",
    "\n",
    "Compare the prediction accuracy and residual patterns for different AR model orders."
   ]
  }
 ],
 "metadata": {
  "kernelspec": {
   "display_name": "Python 3",
   "language": "python",
   "name": "python3"
  },
  "language_info": {
   "codemirror_mode": {
    "name": "ipython",
    "version": 3
   },
   "file_extension": ".py",
   "name": "python",
   "nbconvert_exporter": "python",
   "pygments_lexer": "ipython3",
   "version": "3.9.6"
  }
 },
 "nbformat": 4,
 "nbformat_minor": 5
}