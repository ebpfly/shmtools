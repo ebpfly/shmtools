{
 "cells": [
  {
   "cell_type": "markdown",
   "metadata": {},
   "source": [
    "# Damage Localization using AR/ARX Models\n",
    "\n",
    "This notebook demonstrates spatial damage analysis using autoregressive (AR) and autoregressive with exogenous inputs (ARX) model parameters across sensor arrays. It shows how to localize damage by comparing damage indicators across different channels.\n",
    "\n",
    "## Overview\n",
    "\n",
    "The goal is to locate the source of damage in a structure using:\n",
    "\n",
    "1. **DLAR (Damage Location using AR)**: Channel-wise analysis using AR(15) parameters\n",
    "2. **DLARX (Damage Location using ARX)**: Input-output analysis using ARX(10,5,0) parameters\n",
    "\n",
    "**Key Concepts:**\n",
    "- Each sensor channel is analyzed independently\n",
    "- Mahalanobis distance creates damage indicators for each channel\n",
    "- Channels closest to damage show higher sensitivity\n",
    "- ARX models incorporate input force information for better localization\n",
    "\n",
    "**References:**\n",
    "- Figueiredo, E., Park, G., Figueiras, J., Farrar, C., & Worden, K. (2009). Structural Health Monitoring Algorithm Comparisons using Standard Data Sets. Los Alamos National Laboratory Report: LA-14393."
   ]
  },
  {
   "cell_type": "markdown",
   "metadata": {},
   "source": [
    "## Setup and Imports"
   ]
  },
  {
   "cell_type": "code",
   "execution_count": null,
   "metadata": {},
   "outputs": [],
   "source": [
    "import numpy as np\n",
    "import matplotlib.pyplot as plt\n",
    "from pathlib import Path\n",
    "import sys\n",
    "\n",
    "# Add shmtools to path\n",
    "notebook_dir = Path.cwd()\n",
    "shmtools_root = notebook_dir.parent.parent.parent\n",
    "if str(shmtools_root) not in sys.path:\n",
    "    sys.path.insert(0, str(shmtools_root))\n",
    "    print(f\"Added {shmtools_root} to Python path\")\n",
    "\n",
    "# Import SHMTools functions\n",
    "from shmtools.utils import (\n",
    "    load_3story_data,\n",
    "    compute_channel_wise_damage_indicators,\n",
    "    plot_damage_indicators,\n",
    "    analyze_damage_localization,\n",
    "    compare_ar_arx_localization\n",
    ")\n",
    "from shmtools.features import ar_model_shm, arx_model_shm\n",
    "\n",
    "# Set random seed for reproducibility\n",
    "np.random.seed(42)\n",
    "\n",
    "# Configure plotting\n",
    "plt.style.use('seaborn-v0_8-darkgrid')\n",
    "plt.rcParams['figure.figsize'] = (12, 8)\n",
    "plt.rcParams['font.size'] = 12"
   ]
  },
  {
   "cell_type": "markdown",
   "metadata": {},
   "source": [
    "## Load Raw Data\n",
    "\n",
    "We use the 3-story structure dataset with both force input (channel 1) and acceleration outputs (channels 2-5)."
   ]
  },
  {
   "cell_type": "code",
   "execution_count": null,
   "metadata": {},
   "outputs": [],
   "source": [
    "# Load the 3-story structure dataset\n",
    "try:\n",
    "    data_dict = load_3story_data()\n",
    "    dataset = data_dict['dataset']  # Shape: (8192, 5, 170)\n",
    "    states = data_dict['damage_states']\n",
    "    print(f\"Dataset shape: {dataset.shape}\")\n",
    "    print(f\"(time points, channels, instances)\")\n",
    "    print(f\"\\nChannels: Force (1), Accelerations (2-5)\")\n",
    "    print(f\"Damage states: 1-9 (undamaged), 10-17 (damaged)\")\n",
    "    print(f\"Instances per state: 10\")\n",
    "except FileNotFoundError as e:\n",
    "    print(f\"Error: {e}\")\n",
    "    print(\"\\nPlease download the example datasets following the instructions in:\")\n",
    "    print(\"examples/data/README.md\")\n",
    "    raise"
   ]
  },
  {
   "cell_type": "markdown",
   "metadata": {},
   "source": [
    "## Plot Sample Time Histories\n",
    "\n",
    "Let's visualize the time histories from the baseline condition to understand the data structure."
   ]
  },
  {
   "cell_type": "code",
   "execution_count": null,
   "metadata": {},
   "outputs": [],
   "source": [
    "# Plot time histories from baseline condition (channels 2-5)\n",
    "fig, axes = plt.subplots(2, 2, figsize=(12, 8))\n",
    "axes = axes.ravel()\n",
    "\n",
    "for i in range(4):\n",
    "    channel_data = dataset[:, i+1, 0]  # Channel i+2, first instance\n",
    "    axes[i].plot(channel_data, 'k', linewidth=0.5)\n",
    "    axes[i].set_title(f'Channel {i+2}')\n",
    "    axes[i].set_xlim(0, 8192)\n",
    "    axes[i].set_ylim(-2.5, 2.5)\n",
    "    axes[i].set_yticks([-2, -1, 0, 1, 2])\n",
    "    \n",
    "    if i >= 2:\n",
    "        axes[i].set_xlabel('Observations')\n",
    "    if i % 2 == 0:\n",
    "        axes[i].set_ylabel('Acceleration (g)')\n",
    "\n",
    "plt.tight_layout()\n",
    "plt.suptitle('Baseline Condition Time Histories (Channels 2-5)', fontsize=14, y=1.02)\n",
    "plt.show()"
   ]
  },
  {
   "cell_type": "markdown",
   "metadata": {},
   "source": [
    "## DLAR: Damage Localization using AR Parameters\n",
    "\n",
    "First, we'll analyze damage localization using AR model parameters from output channels only."
   ]
  },
  {
   "cell_type": "markdown",
   "metadata": {},
   "source": [
    "### Extract AR Model Features"
   ]
  },
  {
   "cell_type": "code",
   "execution_count": null,
   "metadata": {},
   "outputs": [],
   "source": "# Extract data for AR analysis (channels 2-5 only)\nar_data = dataset[:, 1:5, :]  # Exclude force channel\nprint(f\"AR data shape: {ar_data.shape}\")\n\n# Extract AR(15) parameters\nar_order = 15\nprint(f\"\\nExtracting AR({ar_order}) parameters...\")\n\nar_parameters_fv, rms_residuals_fv, ar_parameters, ar_residuals, ar_prediction = ar_model_shm(ar_data, ar_order)\nprint(f\"AR parameters shape: {ar_parameters_fv.shape}\")\nprint(f\"Features per channel: {ar_order}\")\nprint(f\"Total features: {ar_parameters_fv.shape[1]} (4 channels × {ar_order})\")"
  },
  {
   "cell_type": "markdown",
   "metadata": {},
   "source": [
    "### Visualize AR Parameters"
   ]
  },
  {
   "cell_type": "code",
   "execution_count": null,
   "metadata": {},
   "outputs": [],
   "source": [
    "# Plot AR parameters for all instances\n",
    "plt.figure(figsize=(14, 8))\n",
    "\n",
    "# Separate undamaged (1-90) and damaged (91-170) instances\n",
    "undamaged_mask = states <= 9\n",
    "damaged_mask = states > 9\n",
    "\n",
    "# Plot undamaged in black, damaged in red\n",
    "plt.plot(ar_parameters_fv[undamaged_mask, :].T, 'k-', alpha=0.3, linewidth=0.5)\n",
    "plt.plot(ar_parameters_fv[damaged_mask, :].T, 'r-', alpha=0.3, linewidth=0.5)\n",
    "\n",
    "# Add channel separators\n",
    "for i in range(1, 4):\n",
    "    plt.axvline(i * ar_order, color='k', linestyle='--', alpha=0.7)\n",
    "\n",
    "# Add channel labels\n",
    "channel_positions = [ar_order//2 + i*ar_order for i in range(4)]\n",
    "channel_labels = ['Channel 2', 'Channel 3', 'Channel 4', 'Channel 5']\n",
    "for pos, label in zip(channel_positions, channel_labels):\n",
    "    plt.text(pos, plt.ylim()[0] + 0.1*(plt.ylim()[1] - plt.ylim()[0]), \n",
    "             label, ha='center', va='bottom', fontweight='bold')\n",
    "\n",
    "plt.xlabel('AR Parameters')\n",
    "plt.ylabel('Amplitude')\n",
    "plt.title(f'Concatenated AR({ar_order}) Parameters for all Instances')\n",
    "plt.legend(['Undamaged', 'Damaged'], loc='upper right')\n",
    "plt.grid(True, alpha=0.3)\n",
    "plt.show()"
   ]
  },
  {
   "cell_type": "markdown",
   "metadata": {},
   "source": [
    "### Compute Channel-wise Damage Indicators (AR)"
   ]
  },
  {
   "cell_type": "code",
   "execution_count": null,
   "metadata": {},
   "outputs": [],
   "source": [
    "# Compute damage indicators for each channel using AR parameters\n",
    "print(\"Computing channel-wise damage indicators using AR parameters...\")\n",
    "\n",
    "undamaged_states = list(range(1, 10))  # States 1-9\n",
    "n_channels = 4\n",
    "features_per_channel = ar_order\n",
    "\n",
    "ar_damage_indicators, ar_models = compute_channel_wise_damage_indicators(\n",
    "    ar_parameters_fv, \n",
    "    states,\n",
    "    undamaged_states=undamaged_states,\n",
    "    n_channels=n_channels,\n",
    "    features_per_channel=features_per_channel,\n",
    "    method='mahalanobis'\n",
    ")\n",
    "\n",
    "print(f\"AR damage indicators shape: {ar_damage_indicators.shape}\")\n",
    "print(f\"(states, channels) = ({ar_damage_indicators.shape[0]}, {ar_damage_indicators.shape[1]})\")"
   ]
  },
  {
   "cell_type": "markdown",
   "metadata": {},
   "source": [
    "### Plot AR Damage Indicators"
   ]
  },
  {
   "cell_type": "code",
   "execution_count": null,
   "metadata": {},
   "outputs": [],
   "source": [
    "# Plot damage indicators for AR method\n",
    "channel_names = ['Channel 2', 'Channel 3', 'Channel 4', 'Channel 5']\n",
    "state_labels = np.arange(1, 18)\n",
    "undamaged_indices = list(range(9))  # First 9 states\n",
    "\n",
    "plot_damage_indicators(\n",
    "    ar_damage_indicators,\n",
    "    channel_names=channel_names,\n",
    "    state_labels=state_labels,\n",
    "    undamaged_states=undamaged_indices,\n",
    "    title=\"AR Method: Channel-wise Damage Indicators\"\n",
    ")"
   ]
  },
  {
   "cell_type": "markdown",
   "metadata": {},
   "source": [
    "## DLARX: Damage Localization using ARX Parameters\n",
    "\n",
    "Now we'll analyze damage localization using ARX model parameters that incorporate the input force information."
   ]
  },
  {
   "cell_type": "markdown",
   "metadata": {},
   "source": [
    "### Extract ARX Model Features"
   ]
  },
  {
   "cell_type": "code",
   "execution_count": null,
   "metadata": {},
   "outputs": [],
   "source": "# Use full dataset for ARX analysis (input + outputs)\narx_data = dataset  # All 5 channels: force (input) + 4 accelerations (outputs)\nprint(f\"ARX data shape: {arx_data.shape}\")\n\n# Extract ARX(10,5,0) parameters\narx_orders = [10, 5, 0]  # [output_order, input_order, delay]\nprint(f\"\\nExtracting ARX({arx_orders[0]},{arx_orders[1]},{arx_orders[2]}) parameters...\")\n\narx_parameters_fv, rms_residuals_fv, arx_parameters, arx_residuals, arx_prediction, actual_orders = arx_model_shm(arx_data, arx_orders)\nprint(f\"ARX parameters shape: {arx_parameters_fv.shape}\")\narx_features_per_channel = arx_orders[0] + arx_orders[1]  # a + b = 15\nprint(f\"Features per channel: {arx_features_per_channel} ({arx_orders[0]} AR + {arx_orders[1]} input terms)\")\nprint(f\"Total features: {arx_parameters_fv.shape[1]} (4 output channels × {arx_features_per_channel})\")"
  },
  {
   "cell_type": "markdown",
   "metadata": {},
   "source": [
    "### Visualize ARX Parameters"
   ]
  },
  {
   "cell_type": "code",
   "execution_count": null,
   "metadata": {},
   "outputs": [],
   "source": [
    "# Plot ARX parameters for all instances\n",
    "plt.figure(figsize=(14, 8))\n",
    "\n",
    "# Plot undamaged in black, damaged in red\n",
    "plt.plot(arx_parameters_fv[undamaged_mask, :].T, 'k-', alpha=0.3, linewidth=0.5)\n",
    "plt.plot(arx_parameters_fv[damaged_mask, :].T, 'r-', alpha=0.3, linewidth=0.5)\n",
    "\n",
    "# Add channel separators\n",
    "for i in range(1, 4):\n",
    "    plt.axvline(i * arx_features_per_channel, color='k', linestyle='--', alpha=0.7)\n",
    "\n",
    "# Add channel labels\n",
    "channel_positions = [arx_features_per_channel//2 + i*arx_features_per_channel for i in range(4)]\n",
    "for pos, label in zip(channel_positions, channel_labels):\n",
    "    plt.text(pos, plt.ylim()[0] + 0.1*(plt.ylim()[1] - plt.ylim()[0]), \n",
    "             label, ha='center', va='bottom', fontweight='bold')\n",
    "\n",
    "plt.xlabel('ARX Parameters')\n",
    "plt.ylabel('Amplitude')\n",
    "plt.title(f'Concatenated ARX({arx_orders[0]},{arx_orders[1]}) Parameters from all Instances')\n",
    "plt.legend(['Undamaged', 'Damaged'], loc='upper right')\n",
    "plt.grid(True, alpha=0.3)\n",
    "plt.show()"
   ]
  },
  {
   "cell_type": "markdown",
   "metadata": {},
   "source": [
    "### Compute Channel-wise Damage Indicators (ARX)"
   ]
  },
  {
   "cell_type": "code",
   "execution_count": null,
   "metadata": {},
   "outputs": [],
   "source": [
    "# Compute damage indicators for each channel using ARX parameters\n",
    "print(\"Computing channel-wise damage indicators using ARX parameters...\")\n",
    "\n",
    "arx_damage_indicators, arx_models = compute_channel_wise_damage_indicators(\n",
    "    arx_parameters_fv,\n",
    "    states,\n",
    "    undamaged_states=undamaged_states,\n",
    "    n_channels=n_channels,\n",
    "    features_per_channel=arx_features_per_channel,\n",
    "    method='mahalanobis'\n",
    ")\n",
    "\n",
    "print(f\"ARX damage indicators shape: {arx_damage_indicators.shape}\")\n",
    "print(f\"(states, channels) = ({arx_damage_indicators.shape[0]}, {arx_damage_indicators.shape[1]})\")"
   ]
  },
  {
   "cell_type": "markdown",
   "metadata": {},
   "source": [
    "### Plot ARX Damage Indicators"
   ]
  },
  {
   "cell_type": "code",
   "execution_count": null,
   "metadata": {},
   "outputs": [],
   "source": [
    "# Plot damage indicators for ARX method\n",
    "plot_damage_indicators(\n",
    "    arx_damage_indicators,\n",
    "    channel_names=channel_names,\n",
    "    state_labels=state_labels,\n",
    "    undamaged_states=undamaged_indices,\n",
    "    title=\"ARX Method: Channel-wise Damage Indicators\"\n",
    ")"
   ]
  },
  {
   "cell_type": "markdown",
   "metadata": {},
   "source": [
    "## Damage Localization Analysis\n",
    "\n",
    "Let's analyze and compare the damage localization results from both methods."
   ]
  },
  {
   "cell_type": "markdown",
   "metadata": {},
   "source": [
    "### AR Method Analysis"
   ]
  },
  {
   "cell_type": "code",
   "execution_count": null,
   "metadata": {},
   "outputs": [],
   "source": [
    "# Analyze AR method results\n",
    "ar_analysis = analyze_damage_localization(\n",
    "    ar_damage_indicators,\n",
    "    channel_names=channel_names,\n",
    "    undamaged_states=undamaged_indices\n",
    ")\n",
    "\n",
    "print(\"=\" * 60)\n",
    "print(\"AR METHOD DAMAGE LOCALIZATION ANALYSIS\")\n",
    "print(\"=\" * 60)\n",
    "print(ar_analysis['interpretation'])\n",
    "\n",
    "# Show channel sensitivity ranking\n",
    "print(f\"\\nChannel sensitivity values:\")\n",
    "for i, (channel, sensitivity) in enumerate(zip(channel_names, ar_analysis['channel_sensitivity'])):\n",
    "    rank = np.where(ar_analysis['damage_ranking'] == i)[0][0] + 1\n",
    "    print(f\"  {channel}: {sensitivity:.3f} (rank {rank})\")"
   ]
  },
  {
   "cell_type": "markdown",
   "metadata": {},
   "source": [
    "### ARX Method Analysis"
   ]
  },
  {
   "cell_type": "code",
   "execution_count": null,
   "metadata": {},
   "outputs": [],
   "source": [
    "# Analyze ARX method results\n",
    "arx_analysis = analyze_damage_localization(\n",
    "    arx_damage_indicators,\n",
    "    channel_names=channel_names,\n",
    "    undamaged_states=undamaged_indices\n",
    ")\n",
    "\n",
    "print(\"=\" * 60)\n",
    "print(\"ARX METHOD DAMAGE LOCALIZATION ANALYSIS\")\n",
    "print(\"=\" * 60)\n",
    "print(arx_analysis['interpretation'])\n",
    "\n",
    "# Show channel sensitivity ranking\n",
    "print(f\"\\nChannel sensitivity values:\")\n",
    "for i, (channel, sensitivity) in enumerate(zip(channel_names, arx_analysis['channel_sensitivity'])):\n",
    "    rank = np.where(arx_analysis['damage_ranking'] == i)[0][0] + 1\n",
    "    print(f\"  {channel}: {sensitivity:.3f} (rank {rank})\")"
   ]
  },
  {
   "cell_type": "markdown",
   "metadata": {},
   "source": [
    "### AR vs ARX Comparison"
   ]
  },
  {
   "cell_type": "code",
   "execution_count": null,
   "metadata": {},
   "outputs": [],
   "source": [
    "# Compare AR and ARX methods\n",
    "comparison = compare_ar_arx_localization(\n",
    "    ar_damage_indicators,\n",
    "    arx_damage_indicators,\n",
    "    channel_names=channel_names,\n",
    "    undamaged_states=undamaged_indices\n",
    ")\n",
    "\n",
    "print(\"=\" * 60)\n",
    "print(\"AR vs ARX COMPARISON\")\n",
    "print(\"=\" * 60)\n",
    "print(comparison['summary'])"
   ]
  },
  {
   "cell_type": "markdown",
   "metadata": {},
   "source": [
    "### Side-by-Side Comparison Plot"
   ]
  },
  {
   "cell_type": "code",
   "execution_count": null,
   "metadata": {},
   "outputs": [],
   "source": [
    "# Create side-by-side comparison plot\n",
    "fig, axes = plt.subplots(2, 4, figsize=(16, 10))\n",
    "\n",
    "# AR method plots (top row)\n",
    "for i in range(4):\n",
    "    ax = axes[0, i]\n",
    "    colors = ['k' if j < 9 else 'r' for j in range(17)]\n",
    "    bars = ax.bar(range(17), ar_damage_indicators[:, i], color=colors)\n",
    "    ax.set_title(f'{channel_names[i]} (AR)', fontsize=12)\n",
    "    ax.set_xlim(-0.5, 16.5)\n",
    "    ax.set_xticks(range(17))\n",
    "    ax.set_xticklabels(range(1, 18))\n",
    "    ax.grid(True, alpha=0.3)\n",
    "    \n",
    "    if i == 0:\n",
    "        ax.set_ylabel('AR Damage Indicator')\n",
    "\n",
    "# ARX method plots (bottom row)\n",
    "for i in range(4):\n",
    "    ax = axes[1, i]\n",
    "    colors = ['k' if j < 9 else 'r' for j in range(17)]\n",
    "    bars = ax.bar(range(17), arx_damage_indicators[:, i], color=colors)\n",
    "    ax.set_title(f'{channel_names[i]} (ARX)', fontsize=12)\n",
    "    ax.set_xlim(-0.5, 16.5)\n",
    "    ax.set_xticks(range(17))\n",
    "    ax.set_xticklabels(range(1, 18))\n",
    "    ax.set_xlabel('State Condition')\n",
    "    ax.grid(True, alpha=0.3)\n",
    "    \n",
    "    if i == 0:\n",
    "        ax.set_ylabel('ARX Damage Indicator')\n",
    "\n",
    "plt.tight_layout()\n",
    "plt.suptitle('AR vs ARX Damage Localization Comparison', fontsize=16, y=1.02)\n",
    "plt.show()"
   ]
  },
  {
   "cell_type": "markdown",
   "metadata": {},
   "source": [
    "### Sensitivity Improvement Analysis"
   ]
  },
  {
   "cell_type": "code",
   "execution_count": null,
   "metadata": {},
   "outputs": [],
   "source": [
    "# Plot sensitivity comparison\n",
    "fig, (ax1, ax2) = plt.subplots(1, 2, figsize=(15, 6))\n",
    "\n",
    "# Sensitivity values comparison\n",
    "x_pos = np.arange(len(channel_names))\n",
    "width = 0.35\n",
    "\n",
    "bars1 = ax1.bar(x_pos - width/2, ar_analysis['channel_sensitivity'], width, \n",
    "               label='AR Method', color='lightblue', alpha=0.8)\n",
    "bars2 = ax1.bar(x_pos + width/2, arx_analysis['channel_sensitivity'], width,\n",
    "               label='ARX Method', color='lightcoral', alpha=0.8)\n",
    "\n",
    "ax1.set_xlabel('Channel')\n",
    "ax1.set_ylabel('Mean Damage Indicator')\n",
    "ax1.set_title('Channel Sensitivity Comparison')\n",
    "ax1.set_xticks(x_pos)\n",
    "ax1.set_xticklabels(channel_names)\n",
    "ax1.legend()\n",
    "ax1.grid(True, alpha=0.3)\n",
    "\n",
    "# Add value labels on bars\n",
    "for bar1, bar2 in zip(bars1, bars2):\n",
    "    height1 = bar1.get_height()\n",
    "    height2 = bar2.get_height()\n",
    "    ax1.text(bar1.get_x() + bar1.get_width()/2., height1 + 0.01,\n",
    "             f'{height1:.2f}', ha='center', va='bottom', fontsize=10)\n",
    "    ax1.text(bar2.get_x() + bar2.get_width()/2., height2 + 0.01,\n",
    "             f'{height2:.2f}', ha='center', va='bottom', fontsize=10)\n",
    "\n",
    "# Improvement ratio\n",
    "improvement_ratio = comparison['sensitivity_ratio']\n",
    "bars3 = ax2.bar(channel_names, improvement_ratio, \n",
    "               color=['green' if r > 1 else 'orange' for r in improvement_ratio],\n",
    "               alpha=0.7)\n",
    "\n",
    "ax2.axhline(y=1, color='red', linestyle='--', alpha=0.7, label='No improvement')\n",
    "ax2.set_xlabel('Channel')\n",
    "ax2.set_ylabel('ARX/AR Sensitivity Ratio')\n",
    "ax2.set_title('ARX Improvement over AR')\n",
    "ax2.legend()\n",
    "ax2.grid(True, alpha=0.3)\n",
    "\n",
    "# Add value labels\n",
    "for bar, ratio in zip(bars3, improvement_ratio):\n",
    "    height = bar.get_height()\n",
    "    ax2.text(bar.get_x() + bar.get_width()/2., height + 0.02,\n",
    "             f'{ratio:.2f}×', ha='center', va='bottom', fontsize=10)\n",
    "\n",
    "plt.tight_layout()\n",
    "plt.show()"
   ]
  },
  {
   "cell_type": "markdown",
   "metadata": {},
   "source": [
    "## Summary and Conclusions\n",
    "\n",
    "This analysis demonstrates spatial damage localization using both AR and ARX model parameters:\n",
    "\n",
    "### Key Findings\n",
    "\n",
    "1. **Damage Localization**: Both methods successfully identify that Channels 4 and 5 are more sensitive to damage than Channels 2 and 3, indicating damage is located closer to the upper floors of the 3-story structure.\n",
    "\n",
    "2. **AR Method Results**: \n",
    "   - Uses only output measurements (accelerations)\n",
    "   - Provides good discrimination between undamaged and damaged states\n",
    "   - Simple to implement and interpret\n",
    "\n",
    "3. **ARX Method Results**:\n",
    "   - Incorporates input force information\n",
    "   - Can provide improved damage localization in some cases\n",
    "   - Captures input-output relationships for better physics-based analysis\n",
    "\n",
    "### Method Comparison\n",
    "\n",
    "**AR Model Advantages:**\n",
    "- Simpler implementation (output-only)\n",
    "- No need for input measurement\n",
    "- Robust to input measurement noise\n",
    "- Faster computation\n",
    "\n",
    "**ARX Model Advantages:**\n",
    "- Better physics representation (input-output relationships)\n",
    "- Potential for improved damage sensitivity\n",
    "- Input normalization can reduce environmental effects\n",
    "- Better for systems with known excitation\n",
    "\n",
    "### Practical Implications\n",
    "\n",
    "- **Channel-wise analysis** enables spatial damage localization across sensor arrays\n",
    "- **Mahalanobis distance** provides effective outlier detection for each channel\n",
    "- **Multiple model comparison** increases confidence in damage localization results\n",
    "- **Structural knowledge** helps interpret which channels correspond to different structural locations\n",
    "\n",
    "### Recommendations\n",
    "\n",
    "1. **For new applications**: Start with AR analysis for simplicity, then consider ARX if input measurements are available\n",
    "2. **For critical structures**: Use both methods as complementary approaches\n",
    "3. **For environmental robustness**: Consider ARX models when input forces can be measured\n",
    "4. **For sensor network design**: Use these results to optimize sensor placement for damage localization"
   ]
  }
 ],
 "metadata": {
  "kernelspec": {
   "display_name": "Python 3",
   "language": "python",
   "name": "python3"
  },
  "language_info": {
   "codemirror_mode": {
    "name": "ipython",
    "version": 3
   },
   "file_extension": ".py",
   "mimetype": "text/x-python",
   "name": "python",
   "nbconvert_exporter": "python",
   "pygments_lexer": "ipython3",
   "version": "3.9.0"
  }
 },
 "nbformat": 4,
 "nbformat_minor": 4
}