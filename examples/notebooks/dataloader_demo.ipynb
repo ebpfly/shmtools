{
 "cells": [
  {
   "cell_type": "markdown",
   "metadata": {},
   "source": [
    "# SHMTools Dataloader Demo\n",
    "\n",
    "This notebook demonstrates the new simplified dataloader functions that make it easy to reproduce the conversion-plan.md examples.\n",
    "\n",
    "## Three ways to load data:\n",
    "\n",
    "1. **Quick setup**: `setup_notebook_environment()` - handles imports and path setup\n",
    "2. **Example-specific**: `load_example_data('pca')` - preprocessed data for specific examples\n",
    "3. **Direct loading**: `load_3story_data()` - raw data loading functions"
   ]
  },
  {
   "cell_type": "markdown",
   "metadata": {},
   "source": [
    "## Method 1: Quick Setup (Recommended for new notebooks)"
   ]
  },
  {
   "cell_type": "code",
   "execution_count": null,
   "metadata": {},
   "outputs": [],
   "source": [
    "# One-line setup for notebooks\n",
    "from shmtools.utils.data_loading import setup_notebook_environment\n",
    "nb = setup_notebook_environment()\n",
    "\n",
    "# Now you have everything you need\n",
    "np = nb['np']\n",
    "plt = nb['plt']\n",
    "load_3story_data = nb['load_3story_data']\n",
    "check_data_availability = nb['check_data_availability']\n",
    "\n",
    "print(\"Available functions:\", list(nb.keys()))"
   ]
  },
  {
   "cell_type": "code",
   "execution_count": null,
   "metadata": {},
   "outputs": [],
   "source": [
    "# Check what data is available\n",
    "check_data_availability()"
   ]
  },
  {
   "cell_type": "markdown",
   "metadata": {},
   "source": [
    "## Method 2: Example-Specific Loading (Best for reproducing conversion-plan.md examples)"
   ]
  },
  {
   "cell_type": "code",
   "execution_count": null,
   "metadata": {},
   "outputs": [],
   "source": [
    "from shmtools.utils.data_loading import load_example_data\n",
    "\n",
    "# Load preprocessed data for PCA/Mahalanobis/SVD examples\n",
    "data = load_example_data('pca')\n",
    "\n",
    "# Data is ready to use - channels 2-5 already extracted\n",
    "signals = data['signals']  # Shape: (8192, 4, 170)\n",
    "fs = data['fs']\n",
    "damage_states = data['damage_states']\n",
    "t, m, n = data['t'], data['m'], data['n']  # Same variables as in notebooks\n",
    "\n",
    "print(f\"Signals shape: {signals.shape}\")\n",
    "print(f\"Channels: {data['channels']}\")\n",
    "print(f\"Time points: {t}, Channels: {m}, Conditions: {n}\")"
   ]
  },
  {
   "cell_type": "code",
   "execution_count": null,
   "metadata": {},
   "outputs": [],
   "source": [
    "# Quick visualization\n",
    "plt.figure(figsize=(10, 6))\n",
    "plt.plot(signals[:, 0, 0], 'k-', label='Channel 2, Condition 1')\n",
    "plt.plot(signals[:, 0, 90], 'r--', label='Channel 2, Condition 91 (Damage)')\n",
    "plt.title('Sample time histories from loaded data')\n",
    "plt.xlabel('Time points')\n",
    "plt.ylabel('Acceleration')\n",
    "plt.legend()\n",
    "plt.grid(True)\n",
    "plt.show()"
   ]
  },
  {
   "cell_type": "markdown",
   "metadata": {},
   "source": [
    "## Method 3: Direct Loading (For custom data processing)"
   ]
  },
  {
   "cell_type": "code",
   "execution_count": null,
   "metadata": {},
   "outputs": [],
   "source": [
    "# Direct access to raw data loading functions\n",
    "data_dict = load_3story_data()\n",
    "\n",
    "# Full dataset with all channels\n",
    "dataset = data_dict['dataset']  # Shape: (8192, 5, 170)\n",
    "channels = data_dict['channels']\n",
    "\n",
    "print(f\"Full dataset shape: {dataset.shape}\")\n",
    "print(f\"All channels: {channels}\")\n",
    "\n",
    "# Manual extraction of channels 2-5 (like in original notebooks)\n",
    "data = dataset[:, 1:5, :]\n",
    "print(f\"Extracted channels 2-5 shape: {data.shape}\")"
   ]
  },
  {
   "cell_type": "markdown",
   "metadata": {},
   "source": [
    "## Loading Other Dataset Types"
   ]
  },
  {
   "cell_type": "code",
   "execution_count": null,
   "metadata": {},
   "outputs": [],
   "source": [
    "# Load different dataset types\n",
    "cbm_data = load_example_data('cbm')\n",
    "sensor_data = load_example_data('sensor_diagnostic')\n",
    "active_data = load_example_data('active_sensing')\n",
    "\n",
    "print(f\"CBM data keys: {list(cbm_data.keys())}\")\n",
    "print(f\"Sensor diagnostic keys: {list(sensor_data.keys())}\")\n",
    "print(f\"Active sensing keys: {list(active_data.keys())}\")"
   ]
  },
  {
   "cell_type": "markdown",
   "metadata": {},
   "source": [
    "## Summary\n",
    "\n",
    "These dataloader functions make it much easier to:\n",
    "\n",
    "1. **Get started quickly** with `setup_notebook_environment()`\n",
    "2. **Reproduce examples** with `load_example_data('pca')` etc.\n",
    "3. **Handle different execution contexts** automatically (different working directories)\n",
    "4. **Reduce repetitive code** in notebook imports\n",
    "\n",
    "**For conversion-plan.md examples**, use Method 2 with the appropriate example type:\n",
    "- Phase 1-3: `load_example_data('pca')`, `load_example_data('mahalanobis')`, `load_example_data('svd')`\n",
    "- Phase 4-5: `load_example_data('factor_analysis')`, `load_example_data('nlpca')`\n",
    "- Phase 6: `load_example_data('ar_model_order')`"
   ]
  }
 ],
 "metadata": {
  "kernelspec": {
   "display_name": "Python 3",
   "language": "python",
   "name": "python3"
  },
  "language_info": {
   "codemirror_mode": {
    "name": "ipython",
    "version": 3
   },
   "file_extension": ".py",
   "mimetype": "text/x-python",
   "name": "python",
   "nbconvert_exporter": "python",
   "pygments_lexer": "ipython3",
   "version": "3.8.5"
  }
 },
 "nbformat": 4,
 "nbformat_minor": 4
}