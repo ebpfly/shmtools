{
 "cells": [
  {
   "cell_type": "markdown",
   "metadata": {},
   "source": [
    "# SHM Function Selector - Phase 3 Context Menu Test\n",
    "\n",
    "This notebook tests the Phase 3 context menu functionality of the SHM Function Selector JupyterLab extension.\n",
    "\n",
    "## Features to Test:\n",
    "\n",
    "1. **Parameter Detection**: Right-click on function parameter values\n",
    "2. **Smart Variable Compatibility**: Recommended vs other variables\n",
    "3. **Professional Context Menu**: Clean interface with type information\n",
    "4. **Code Modification**: Automatic parameter linking with variable selection\n",
    "\n",
    "## Instructions:\n",
    "\n",
    "1. Run the first few cells to create test variables\n",
    "2. In the SHM function calls below, **right-click on parameter values** (like `data=None` or `fs=1000`)\n",
    "3. Select variables from the context menu to link them\n",
    "4. Observe the automatic code modification"
   ]
  },
  {
   "cell_type": "code",
   "execution_count": null,
   "metadata": {},
   "outputs": [],
   "source": [
    "import numpy as np\n",
    "import pandas as pd\n",
    "import matplotlib.pyplot as plt\n",
    "\n",
    "# Make sure shmtools is available\n",
    "import sys\n",
    "import os\n",
    "sys.path.insert(0, os.path.join(os.getcwd(), '../../'))\n",
    "\n",
    "try:\n",
    "    import shmtools\n",
    "    print(\"✅ shmtools imported successfully\")\n",
    "except ImportError as e:\n",
    "    print(f\"❌ shmtools not available: {e}\")\n",
    "    print(\"Run: pip install -e . from the shmtools-python directory\")"
   ]
  },
  {
   "cell_type": "markdown",
   "metadata": {},
   "source": [
    "## Step 1: Create Test Variables\n",
    "\n",
    "These variables will be detected by the context menu system:"
   ]
  },
  {
   "cell_type": "code",
   "execution_count": null,
   "metadata": {},
   "outputs": [],
   "source": [
    "# Create test data arrays (should be recommended for 'data' parameters)\n",
    "acceleration_data = np.random.randn(1000, 4)  # 4-channel acceleration data\n",
    "vibration_signals = np.random.randn(2048, 2)  # 2-channel vibration data\n",
    "sensor_readings = pd.DataFrame(np.random.randn(500, 3), columns=['x', 'y', 'z'])\n",
    "\n",
    "print(f\"Created acceleration_data: {acceleration_data.shape}\")\n",
    "print(f\"Created vibration_signals: {vibration_signals.shape}\")\n",
    "print(f\"Created sensor_readings: {sensor_readings.shape}\")"
   ]
  },
  {
   "cell_type": "code",
   "execution_count": null,
   "metadata": {},
   "outputs": [],
   "source": [
    "# Create frequency and sampling rate variables (should be recommended for 'fs' parameters)\n",
    "sampling_frequency = 1000.0  # Hz\n",
    "fs_accel = 2048.0           # Hz  \n",
    "data_rate = 500             # Hz\n",
    "freq_nyquist = 250.0        # Hz\n",
    "\n",
    "print(f\"Sampling rates: {sampling_frequency}, {fs_accel}, {data_rate} Hz\")"
   ]
  },
  {
   "cell_type": "code",
   "execution_count": null,
   "metadata": {},
   "outputs": [],
   "source": [
    "# Create order and component variables (should be recommended for model order parameters)\n",
    "model_order = 15\n",
    "ar_order = 20\n",
    "n_components = 5\n",
    "n_features = 10\n",
    "\n",
    "print(f\"Model parameters: order={model_order}, ar_order={ar_order}\")\n",
    "print(f\"Component parameters: n_components={n_components}, n_features={n_features}\")"
   ]
  },
  {
   "cell_type": "code",
   "execution_count": null,
   "metadata": {},
   "outputs": [],
   "source": [
    "# Create some other variables that should appear in \"Other variables\" section\n",
    "results_dict = {'mae': 0.05, 'rmse': 0.12}\n",
    "channel_names = ['X', 'Y', 'Z', 'R']\n",
    "timestamp = '2025-07-21'\n",
    "\n",
    "print(f\"Other variables created: results_dict, channel_names, timestamp\")"
   ]
  },
  {
   "cell_type": "markdown",
   "metadata": {},
   "source": [
    "## Step 2: Test Context Menu on SHM Function Calls\n",
    "\n",
    "**Instructions**: Right-click on the parameter values in the cells below to test the context menu:\n",
    "\n",
    "- Right-click on `None` in `data=None` → Should show recommended data arrays\n",
    "- Right-click on `1000` in `fs=1000` → Should show recommended frequency variables  \n",
    "- Right-click on `15` in `order=15` → Should show recommended order variables"
   ]
  },
  {
   "cell_type": "code",
   "execution_count": null,
   "metadata": {},
   "outputs": [],
   "source": [
    "# TEST 1: AR Model Parameter Linking\n",
    "# Right-click on 'None' and 'order=15' to test parameter detection and linking\n",
    "\n",
    "if 'shmtools' in globals():\n",
    "    # Right-click on the parameter values below:\n",
    "    ar_coeffs, residuals = shmtools.ar_model_shm(\n",
    "        data=None,      # ← RIGHT-CLICK HERE - should show data arrays\n",
    "        order=15        # ← RIGHT-CLICK HERE - should show order variables\n",
    "    )\n",
    "else:\n",
    "    print(\"shmtools not available - showing syntax only\")\n",
    "    # ar_coeffs, residuals = shmtools.ar_model_shm(data=None, order=15)"
   ]
  },
  {
   "cell_type": "code",
   "execution_count": null,
   "metadata": {},
   "outputs": [],
   "source": [
    "# TEST 2: PSD Analysis Parameter Linking  \n",
    "# Right-click on parameter values to test smart compatibility\n",
    "\n",
    "if 'shmtools' in globals():\n",
    "    # Right-click on the parameter values below:\n",
    "    frequencies, psd_values = shmtools.psd_welch_shm(\n",
    "        data=None,           # ← RIGHT-CLICK HERE - should show acceleration_data, vibration_signals\n",
    "        fs=1000,            # ← RIGHT-CLICK HERE - should show sampling_frequency, fs_accel  \n",
    "        nperseg=256         # ← RIGHT-CLICK HERE - should show n_features or other numeric vars\n",
    "    )\n",
    "else:\n",
    "    print(\"shmtools not available - showing syntax only\")\n",
    "    # frequencies, psd_values = shmtools.psd_welch_shm(data=None, fs=1000, nperseg=256)"
   ]
  },
  {
   "cell_type": "code",
   "execution_count": null,
   "metadata": {},
   "outputs": [],
   "source": [
    "# TEST 3: TODO Comments (should also trigger context menu)\n",
    "# The extension should detect TODO comments as parameter placeholders\n",
    "\n",
    "if 'shmtools' in globals():\n",
    "    # Right-click anywhere in the TODO comment lines:\n",
    "    filtered_data = shmtools.filter_butterworth_shm(\n",
    "        data=None,        # TODO: Set data parameter  ← RIGHT-CLICK HERE\n",
    "        fs=None,          # TODO: Set sampling rate     ← RIGHT-CLICK HERE  \n",
    "        lowcut=1.0,\n",
    "        highcut=100.0,\n",
    "        order=4\n",
    "    )\n",
    "else:\n",
    "    print(\"shmtools not available - showing syntax only\")"
   ]
  },
  {
   "cell_type": "code",
   "execution_count": null,
   "metadata": {},
   "outputs": [],
   "source": [
    "# TEST 4: Multi-line Function Calls\n",
    "# Test context menu on parameters spanning multiple lines\n",
    "\n",
    "if 'shmtools' in globals():\n",
    "    try:\n",
    "        # Right-click on parameter values in this multi-line call:\n",
    "        pca_model, explained_variance = shmtools.learn_pca_shm(\n",
    "            features=None,           # ← RIGHT-CLICK HERE\n",
    "            n_components=5,          # ← RIGHT-CLICK HERE\n",
    "            whiten=True,\n",
    "            random_state=42\n",
    "        )\n",
    "    except AttributeError:\n",
    "        print(\"Function not available in current shmtools version\")\n",
    "else:\n",
    "    print(\"shmtools not available - showing syntax only\")"
   ]
  },
  {
   "cell_type": "markdown",
   "metadata": {},
   "source": [
    "## Step 3: Expected Behavior\n",
    "\n",
    "When you right-click on parameter values, you should see:\n",
    "\n",
    "### ✅ **Context Menu Features**:\n",
    "1. **Header**: \"Link parameter: [parameter_name]\"\n",
    "2. **Recommended Variables** (green background):\n",
    "   - For `data` parameters: `acceleration_data`, `vibration_signals`, `sensor_readings`\n",
    "   - For `fs` parameters: `sampling_frequency`, `fs_accel`, `data_rate`, `freq_nyquist`\n",
    "   - For `order`/`n_components` parameters: `model_order`, `ar_order`, `n_components`\n",
    "3. **Other Variables** (gray background): All other variables\n",
    "4. **Variable Information**: Type and source cell for each variable\n",
    "\n",
    "### ✅ **Code Modification**:\n",
    "- Clicking a variable should replace the parameter value automatically\n",
    "- TODO comments should be removed\n",
    "- Success notification should appear\n",
    "\n",
    "### 🔧 **Toolbar Button**:\n",
    "- Look for the \"🔗 SHM Parameter Linker\" button in the notebook toolbar\n",
    "- Click it for more information about the extension"
   ]
  },
  {
   "cell_type": "markdown",
   "metadata": {},
   "source": [
    "## Troubleshooting\n",
    "\n",
    "If the context menu doesn't appear:\n",
    "\n",
    "1. **Check Browser Console**: Open browser dev tools (F12) and check for errors\n",
    "2. **Extension Loading**: Look for the \"🔗 SHM Parameter Linker\" button in the toolbar\n",
    "3. **Cursor Position**: Make sure you're right-clicking directly on parameter values\n",
    "4. **JupyterLab Version**: Extension requires JupyterLab 4.0+\n",
    "\n",
    "### Debug Information:\n",
    "Run this cell to check if the extension is properly loaded:"
   ]
  },
  {
   "cell_type": "code",
   "execution_count": null,
   "metadata": {},
   "outputs": [],
   "source": [
    "# Check JupyterLab version and extensions\n",
    "import subprocess\n",
    "import sys\n",
    "\n",
    "try:\n",
    "    # Check JupyterLab version\n",
    "    result = subprocess.run([sys.executable, '-m', 'jupyter', '--version'], \n",
    "                          capture_output=True, text=True)\n",
    "    print(\"Jupyter versions:\")\n",
    "    print(result.stdout)\n",
    "    \n",
    "    # Check installed extensions\n",
    "    result = subprocess.run([sys.executable, '-m', 'jupyter', 'labextension', 'list'], \n",
    "                          capture_output=True, text=True)\n",
    "    print(\"\\nInstalled JupyterLab extensions:\")\n",
    "    print(result.stdout)\n",
    "    \n",
    "except Exception as e:\n",
    "    print(f\"Error checking versions: {e}\")"
   ]
  },
  {
   "cell_type": "markdown",
   "metadata": {},
   "source": [
    "## Success Criteria\n",
    "\n",
    "Phase 3 is working correctly if:\n",
    "\n",
    "- ✅ Right-clicking on parameter values shows the context menu\n",
    "- ✅ Variables are properly categorized as \"Recommended\" vs \"Other variables\"\n",
    "- ✅ Menu shows variable types and source cells\n",
    "- ✅ Clicking a variable replaces the parameter value in the code\n",
    "- ✅ TODO comments are automatically removed\n",
    "- ✅ Success notifications appear after linking\n",
    "- ✅ Multi-line function calls work correctly\n",
    "\n",
    "**Phase 3 Complete!** 🎉 The context menu system provides intelligent parameter linking with a professional interface."
   ]
  }
 ],
 "metadata": {
  "kernelspec": {
   "display_name": "Python 3 (ipykernel)",
   "language": "python",
   "name": "python3"
  },
  "language_info": {
   "codemirror_mode": {
    "name": "ipython",
    "version": 3
   },
   "file_extension": ".py",
   "mimetype": "text/x-python",
   "name": "python",
   "nbconvert_exporter": "python",
   "pygments_lexer": "ipython3",
   "version": "3.9.6"
  }
 },
 "nbformat": 4,
 "nbformat_minor": 4
}