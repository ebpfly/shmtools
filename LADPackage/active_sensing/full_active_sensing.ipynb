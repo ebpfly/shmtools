{
 "cells": [
  {
   "cell_type": "markdown",
   "id": "15df99f0",
   "metadata": {},
   "source": [
    "# Full Active Sensing\n",
    "\n",
    "## Introduction\n",
    "\n",
    "This notebook demonstrates a complete active sensing workflow for structural health monitoring using guided waves. The process includes:\n",
    "\n",
    "1. **Data Import**: Loading baseline and test waveforms from piezoelectric sensors\n",
    "2. **Waveform Processing**: Baseline subtraction and matched filtering\n",
    "3. **Arrival Time Filtering**: Maximum likelihood estimation of wave arrival times\n",
    "4. **Geometry Mapping**: Mapping processed signals to structural geometry\n",
    "5. **Visualization**: Creating damage localization images\n",
    "\n",
    "Active sensing uses guided ultrasonic waves propagating through a structure to detect and locate damage. By comparing baseline (undamaged) and test (potentially damaged) measurements, we can identify changes in wave propagation that indicate structural damage.\n",
    "\n",
    "**Auto-Generated Script by mFUSE**\n",
    "\n",
    "Author: Auto-Generated Script by mFUSE  \n",
    "Date Created: 3/19/2016  \n",
    "Python Conversion: 2025"
   ]
  },
  {
   "cell_type": "markdown",
   "id": "0cc00297",
   "metadata": {},
   "source": [
    "## Setup and Imports"
   ]
  },
  {
   "cell_type": "code",
   "execution_count": null,
   "id": "bab3478b",
   "metadata": {},
   "outputs": [],
   "source": [
    "import numpy as np\n",
    "import matplotlib.pyplot as plt\n",
    "import sys\n",
    "from pathlib import Path\n",
    "import warnings\n",
    "warnings.filterwarnings('ignore', category=RuntimeWarning)\n",
    "\n",
    "# Add project root to path for imports\n",
    "notebook_dir = Path().resolve()\n",
    "project_root = notebook_dir.parent.parent\n",
    "sys.path.insert(0, str(project_root))\n",
    "\n",
    "print(f\"Working directory: {notebook_dir}\")\n",
    "print(f\"Project root: {project_root}\")\n",
    "\n",
    "# Import LADPackage active sensing utilities\n",
    "from LADPackage.active_sensing.active_sensing_utils import (\n",
    "    import_active_sense_data,\n",
    "    process_active_sensing_waveforms,\n",
    "    arrival_filter,\n",
    "    map_active_sensing_geometry,\n",
    "    plot_as_result\n",
    ")\n",
    "\n",
    "print(\"\\nSuccessfully imported all required functions!\")"
   ]
  },
  {
   "cell_type": "markdown",
   "id": "80d9cc47",
   "metadata": {},
   "source": [
    "## Step 1: Import Active Sensing Dataset\n",
    "\n",
    "Import active sensing dataset #1. This dataset contains:\n",
    "- Baseline waveforms (undamaged state)\n",
    "- Test waveforms (with simulated damage)\n",
    "- Sensor layout and positions\n",
    "- Structure boundary definitions\n",
    "- Excitation waveform used"
   ]
  },
  {
   "cell_type": "code",
   "execution_count": null,
   "id": "080a9040",
   "metadata": {},
   "outputs": [],
   "source": [
    "# Import the active sensing data\n",
    "try:\n",
    "    (waveformBase_1out, waveformTest_1out, sensorLayout_1out, pairList_1out, \n",
    "     borderStruct_1out, sampleRate_1out, actuationWaveform_1out, \n",
    "     damageLocation_1out) = import_active_sense_data()\n",
    "    \n",
    "    print(\"Dataset loaded successfully!\")\n",
    "    print(f\"\\nData dimensions:\")\n",
    "    print(f\"  Baseline waveforms: {waveformBase_1out.shape}\")\n",
    "    print(f\"  Test waveforms: {waveformTest_1out.shape}\")\n",
    "    print(f\"  Number of sensors: {sensorLayout_1out.shape[1]}\")\n",
    "    print(f\"  Number of sensor pairs: {pairList_1out.shape[1]}\")\n",
    "    print(f\"  Sample rate: {sampleRate_1out} Hz\")\n",
    "    print(f\"  Damage location: ({damageLocation_1out[0]:.1f}, {damageLocation_1out[1]:.1f}) cm\")\n",
    "    \n",
    "except FileNotFoundError as e:\n",
    "    print(f\"\\n⚠️ Data file not found: {e}\")\n",
    "    print(\"\\nPlease download 'data_example_ActiveSense.mat' and place it in:\")\n",
    "    print(\"  LADPackage/active_sensing/data/\")\n",
    "    print(\"  or\")\n",
    "    print(\"  examples/data/\")\n",
    "    raise"
   ]
  },
  {
   "cell_type": "markdown",
   "id": "a5dc9d29",
   "metadata": {},
   "source": [
    "## Step 2: Process Active Sensing Waveforms\n",
    "\n",
    "Process active sensing waveforms by:\n",
    "1. Selecting a subset of sensors for computational efficiency\n",
    "2. Performing baseline subtraction to highlight changes\n",
    "3. Applying matched filtering to enhance signal-to-noise ratio"
   ]
  },
  {
   "cell_type": "code",
   "execution_count": null,
   "id": "9aa91321",
   "metadata": {},
   "outputs": [],
   "source": [
    "# Define sensor subset (use every 5th sensor from 1 to 31)\n",
    "# Note: Using 1-based indexing for MATLAB compatibility\n",
    "sensorSubset_1in_2in = np.arange(1, 32, 5)  # 1:5:31 in MATLAB notation\n",
    "\n",
    "print(f\"Selected sensor subset: {sensorSubset_1in_2in}\")\n",
    "print(f\"Number of sensors in subset: {len(sensorSubset_1in_2in)}\")\n",
    "\n",
    "# Process the waveforms\n",
    "(filterResult_3out_2out, layoutSubset_1out_2out, \n",
    " pairSubset_1out_2out) = process_active_sensing_waveforms(\n",
    "    sensorSubset_1in_2in, \n",
    "    sensorLayout_1out, \n",
    "    pairList_1out, \n",
    "    waveformBase_1out, \n",
    "    waveformTest_1out, \n",
    "    actuationWaveform_1out\n",
    ")\n",
    "\n",
    "print(f\"\\nProcessing results:\")\n",
    "print(f\"  Filtered waveforms shape: {filterResult_3out_2out.shape}\")\n",
    "print(f\"  Layout subset shape: {layoutSubset_1out_2out.shape}\")\n",
    "print(f\"  Pair subset shape: {pairSubset_1out_2out.shape}\")"
   ]
  },
  {
   "cell_type": "markdown",
   "id": "5fb828f5",
   "metadata": {},
   "source": [
    "## Step 3: Arrival Filter\n",
    "\n",
    "Filter guided wave envelopes to identify first arrivals. This step:\n",
    "- Removes initial noise by clipping the front of the signal\n",
    "- Applies maximum likelihood estimation to detect wave arrivals\n",
    "- Compensates for the excitation waveform width"
   ]
  },
  {
   "cell_type": "code",
   "execution_count": null,
   "id": "b6673450",
   "metadata": {},
   "outputs": [],
   "source": [
    "# Define arrival filter parameters\n",
    "frontClip_3in = 450  # Samples to skip at beginning\n",
    "arrivalOffset_3in = 450  # Offset for excitation width\n",
    "\n",
    "print(f\"Arrival filter parameters:\")\n",
    "print(f\"  Front clip: {frontClip_3in} samples\")\n",
    "print(f\"  Arrival offset: {arrivalOffset_3in} samples\")\n",
    "\n",
    "# Apply arrival filter\n",
    "filteredWaveforms_3out = arrival_filter(\n",
    "    filterResult_3out_2out, \n",
    "    frontClip_3in, \n",
    "    arrivalOffset_3in\n",
    ")\n",
    "\n",
    "print(f\"\\nFiltered waveforms shape: {filteredWaveforms_3out.shape}\")\n",
    "print(f\"Min value: {np.min(filteredWaveforms_3out):.2f}\")\n",
    "print(f\"Max value: {np.max(filteredWaveforms_3out):.2f}\")"
   ]
  },
  {
   "cell_type": "markdown",
   "id": "1d120790",
   "metadata": {},
   "source": [
    "## Step 4: Map Active Sensing Geometry\n",
    "\n",
    "Map processed active sensing waveforms to the structural geometry. This creates a 2D image showing damage likelihood at each point based on:\n",
    "- Wave propagation velocity\n",
    "- Time-of-flight calculations\n",
    "- Geometric constraints from structure boundaries"
   ]
  },
  {
   "cell_type": "code",
   "execution_count": null,
   "id": "d1d7f2c9",
   "metadata": {},
   "outputs": [],
   "source": [
    "# Define mapping parameters\n",
    "velocity_5in_4in = 66000  # Wave velocity in cm/s\n",
    "distanceAllowance_10in_4in = np.inf  # No distance restriction\n",
    "\n",
    "print(f\"Geometry mapping parameters:\")\n",
    "print(f\"  Wave velocity: {velocity_5in_4in} cm/s\")\n",
    "print(f\"  Distance allowance: {distanceAllowance_10in_4in}\")\n",
    "\n",
    "# Map to geometry\n",
    "(xMatrix_3out_4out, yMatrix_3out_4out, combinedMatrix_2out_4out, \n",
    " dataMap2D_13out_4out) = map_active_sensing_geometry(\n",
    "    velocity_5in_4in,\n",
    "    None,  # Default subset window\n",
    "    distanceAllowance_10in_4in,\n",
    "    borderStruct_1out,\n",
    "    None,  # Default X spacing\n",
    "    None,  # Default Y spacing\n",
    "    sampleRate_1out,\n",
    "    actuationWaveform_1out,\n",
    "    filteredWaveforms_3out,\n",
    "    pairSubset_1out_2out,\n",
    "    layoutSubset_1out_2out\n",
    ")\n",
    "\n",
    "print(f\"\\nMapping results:\")\n",
    "print(f\"  X matrix shape: {xMatrix_3out_4out.shape}\")\n",
    "print(f\"  Y matrix shape: {yMatrix_3out_4out.shape}\")\n",
    "print(f\"  Data map shape: {dataMap2D_13out_4out.shape}\")\n",
    "print(f\"  Non-NaN pixels: {np.sum(~np.isnan(dataMap2D_13out_4out))}\")"
   ]
  },
  {
   "cell_type": "markdown",
   "id": "babb23a1",
   "metadata": {},
   "source": [
    "## Step 5: Plot Active Sensing Map\n",
    "\n",
    "Visualize the mapped active sensing result along with:\n",
    "- Structure boundaries\n",
    "- Sensor positions\n",
    "- Damage likelihood heat map\n",
    "\n",
    "Areas with higher values (warmer colors) indicate higher likelihood of damage."
   ]
  },
  {
   "cell_type": "code",
   "execution_count": null,
   "id": "92062c4e",
   "metadata": {},
   "outputs": [],
   "source": [
    "# Create the active sensing visualization\n",
    "plot_as_result(\n",
    "    xMatrix_3out_4out, \n",
    "    yMatrix_3out_4out, \n",
    "    dataMap2D_13out_4out, \n",
    "    combinedMatrix_2out_4out, \n",
    "    layoutSubset_1out_2out\n",
    ")\n",
    "\n",
    "# Add the true damage location if available\n",
    "if damageLocation_1out is not None and len(damageLocation_1out) == 2:\n",
    "    plt.plot(damageLocation_1out[0], damageLocation_1out[1], 'k*', \n",
    "             markersize=15, markeredgewidth=2, label='True Damage')\n",
    "    plt.legend()\n",
    "    plt.show()\n",
    "    print(f\"\\nTrue damage location marked with red star at ({damageLocation_1out[0]:.1f}, {damageLocation_1out[1]:.1f}) cm\")"
   ]
  },
  {
   "cell_type": "markdown",
   "id": "87829879",
   "metadata": {},
   "source": [
    "## Analysis Summary\n",
    "\n",
    "This notebook demonstrated a complete active sensing workflow for damage detection and localization:\n",
    "\n",
    "1. **Data Loading**: Successfully imported baseline and test waveforms from piezoelectric sensors\n",
    "2. **Signal Processing**: Applied baseline subtraction and matched filtering to enhance damage signatures\n",
    "3. **Arrival Detection**: Used maximum likelihood estimation to identify guided wave arrivals\n",
    "4. **Imaging**: Mapped processed signals to structural geometry for damage localization\n",
    "5. **Visualization**: Created heat map showing damage likelihood across the structure\n",
    "\n",
    "The resulting image shows areas of high signal change that correlate with structural damage. The technique is particularly effective for:\n",
    "- Composite structures\n",
    "- Metallic plates and shells\n",
    "- Complex geometries with known boundaries\n",
    "\n",
    "### Key Parameters\n",
    "- **Wave Velocity**: 66,000 cm/s (typical for aluminum)\n",
    "- **Sensor Subset**: Every 5th sensor used for efficiency\n",
    "- **Front Clipping**: 450 samples to remove initial noise\n",
    "- **Arrival Offset**: 450 samples to account for excitation width\n",
    "\n",
    "### References\n",
    "Flynn EB, Todd MD, Wilcox PD, Drinkwater BW, Croxford AJ. Maximum-likelihood estimation of damage location in guided-wave structural health monitoring. Proceedings of the Royal Society A, 2011."
   ]
  },
  {
   "cell_type": "code",
   "execution_count": null,
   "id": "0abff41d",
   "metadata": {},
   "outputs": [],
   "source": [
    "print(\"\\n\" + \"=\"*60)\n",
    "print(\"Full Active Sensing Analysis Complete!\")\n",
    "print(\"=\"*60)"
   ]
  }
 ],
 "metadata": {
  "kernelspec": {
   "display_name": "Python 3",
   "language": "python",
   "name": "python3"
  }
 },
 "nbformat": 4,
 "nbformat_minor": 5
}
