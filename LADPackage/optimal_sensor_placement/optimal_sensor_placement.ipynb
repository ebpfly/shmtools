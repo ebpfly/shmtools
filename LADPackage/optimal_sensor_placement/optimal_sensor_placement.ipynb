{
 "cells": [
  {
   "cell_type": "markdown",
   "metadata": {},
   "source": [
    "# Optimal Sensor Placement for Modal Analysis\n",
    "\n",
    "**LADPackage Demo: Optimal Sensor Placement**\n",
    "\n",
    "This notebook demonstrates optimal sensor placement methods for structural health monitoring using modal analysis. The example compares two optimization approaches:\n",
    "\n",
    "1. **Fisher Information Method**: Maximizes determinant of Fisher Information Matrix using Effective Independence algorithm\n",
    "2. **Maximum Norm Method**: Maximizes weighted norm of modal responses with distance constraints\n",
    "\n",
    "Both methods determine optimal locations for 12 sensors on a structural system to maximize modal observability.\n",
    "\n",
    "---\n",
    "\n",
    "**Reference**: Auto-Generated Script by mFUSE (3/19/2016)  \n",
    "**Authors**: Eric Flynn, Dustin Harvey\n",
    "\n",
    "**Educational Goals**:\n",
    "- Understand sensor placement optimization criteria\n",
    "- Compare Fisher Information vs Maximum Norm approaches\n",
    "- Visualize optimal sensor configurations on structural geometry\n",
    "- Learn modal observability concepts for SHM system design"
   ]
  },
  {
   "cell_type": "markdown",
   "metadata": {},
   "source": [
    "## Setup and Imports\n",
    "\n",
    "Import necessary modules and set up the path for SHMTools and LADPackage utilities access."
   ]
  },
  {
   "cell_type": "code",
   "execution_count": null,
   "metadata": {},
   "outputs": [],
   "source": [
    "import numpy as np\n",
    "import matplotlib.pyplot as plt\n",
    "from mpl_toolkits.mplot3d import Axes3D\n",
    "import sys\n",
    "from pathlib import Path\n",
    "\n",
    "# Add project root to path for imports\n",
    "notebook_dir = Path().resolve()\n",
    "project_root = notebook_dir.parent.parent\n",
    "sys.path.insert(0, str(project_root))\n",
    "\n",
    "print(f\"Notebook directory: {notebook_dir}\")\n",
    "print(f\"Project root: {project_root}\")\n",
    "\n",
    "# Import SHMTools modules\n",
    "from examples.data.data_imports import import_modal_osp_shm\n",
    "from shmtools.modal.osp import osp_fisher_info_eiv_shm, osp_max_norm_shm\n",
    "\n",
    "# Import LADPackage plotting utilities\n",
    "from LADPackage.utils import plot_nodal_response, plot_sensors_with_mesh\n",
    "\n",
    "print(\"\\nSHMTools and LADPackage imports successful!\")\n",
    "print(\"Ready for optimal sensor placement analysis.\")"
   ]
  },
  {
   "cell_type": "markdown",
   "metadata": {},
   "source": [
    "## Step 1: Import Modal Optimal Sensor Placement Dataset\n",
    "\n",
    "Import Modal Optimal Sensor Placement Data including finite element model geometry, mode shapes, and degree-of-freedom definitions.\n",
    "\n",
    "**Dataset Contents**:\n",
    "- **Node layout**: 3D coordinates of finite element nodes\n",
    "- **Elements**: Connectivity matrix defining mesh topology \n",
    "- **Mode shapes**: Modal response vectors for structural dynamics\n",
    "- **Response DOFs**: Degree-of-freedom definitions linking modal data to geometry"
   ]
  },
  {
   "cell_type": "code",
   "execution_count": null,
   "metadata": {},
   "outputs": [],
   "source": [
    "# Import Modal Optimal Sensor Placement Data\n",
    "[node_layout, elements, mode_shapes, resp_dof] = import_modal_osp_shm()\n",
    "\n",
    "print(f\"Modal OSP data loaded successfully:\")\n",
    "print(f\"  Node layout shape: {node_layout.shape}\")\n",
    "print(f\"  Elements shape: {elements.shape}\")\n",
    "print(f\"  Mode shapes shape: {mode_shapes.shape}\")\n",
    "print(f\"  Response DOF shape: {resp_dof.shape}\")\n",
    "\n",
    "print(f\"\\nStructural Model Summary:\")\n",
    "print(f\"  Number of nodes: {node_layout.shape[1]}\")\n",
    "print(f\"  Number of elements: {elements.shape[1]}\")\n",
    "print(f\"  Number of DOFs: {mode_shapes.shape[0]}\")\n",
    "print(f\"  Number of modes: {mode_shapes.shape[1]}\")\n",
    "\n",
    "# Display geometry bounds\n",
    "x_range = [node_layout[0,:].min(), node_layout[0,:].max()]\n",
    "y_range = [node_layout[1,:].min(), node_layout[1,:].max()]  \n",
    "z_range = [node_layout[2,:].min(), node_layout[2,:].max()]\n",
    "print(f\"\\nGeometry bounds:\")\n",
    "print(f\"  X: {x_range[0]:.1f} to {x_range[1]:.1f}\")\n",
    "print(f\"  Y: {y_range[0]:.1f} to {y_range[1]:.1f}\")\n",
    "print(f\"  Z: {z_range[0]:.1f} to {z_range[1]:.1f}\")"
   ]
  },
  {
   "cell_type": "markdown",
   "metadata": {},
   "source": [
    "## Step 2: Plot Nodal Response (Mode 3)\n",
    "\n",
    "Visualize the nodal response for mode 3 to understand the structural dynamics and modal characteristics.\n",
    "\n",
    "**Nodal Response Visualization**:\n",
    "- **3D mesh**: Shows finite element model geometry\n",
    "- **Color mapping**: Response amplitude at each node\n",
    "- **Modal pattern**: Reveals characteristic deformation shape"
   ]
  },
  {
   "cell_type": "code",
   "execution_count": null,
   "metadata": {},
   "outputs": [],
   "source": [
    "# Plot nodal response for mode 3\n",
    "mode_number_1 = 3\n",
    "\n",
    "axes_handle_1 = plot_nodal_response(node_layout, mode_shapes, resp_dof, elements, mode_number_1)\n",
    "\n",
    "plt.title(f'Mode {mode_number_1} Nodal Response\\nStructural Modal Analysis')\n",
    "plt.tight_layout()\n",
    "plt.show()\n",
    "\n",
    "print(f\"\\nMode {mode_number_1} visualization completed\")\n",
    "print(f\"Color map shows response amplitude distribution across structure\")\n",
    "print(f\"This mode shape will influence optimal sensor placement strategy\")"
   ]
  },
  {
   "cell_type": "markdown",
   "metadata": {},
   "source": [
    "## Step 3: Plot Nodal Response (Mode 10) \n",
    "\n",
    "Visualize the nodal response for mode 10 to compare with mode 3 and understand higher-order modal characteristics.\n",
    "\n",
    "**Higher-Order Modes**:\n",
    "- **Increased complexity**: More variation across structure\n",
    "- **Local effects**: Higher spatial frequency content\n",
    "- **Sensor requirements**: May need different optimal locations"
   ]
  },
  {
   "cell_type": "code",
   "execution_count": null,
   "metadata": {},
   "outputs": [],
   "source": [
    "# Plot nodal response for mode 10\n",
    "mode_number_2 = 10\n",
    "\n",
    "axes_handle_2 = plot_nodal_response(node_layout, mode_shapes, resp_dof, elements, mode_number_2)\n",
    "\n",
    "plt.title(f'Mode {mode_number_2} Nodal Response\\nHigher-Order Modal Pattern')\n",
    "plt.tight_layout()\n",
    "plt.show()\n",
    "\n",
    "print(f\"\\nMode {mode_number_2} visualization completed\")\n",
    "print(f\"Higher-order modes show increased spatial complexity\")\n",
    "print(f\"Comparison with Mode {mode_number_1} reveals different response patterns\")"
   ]
  },
  {
   "cell_type": "markdown",
   "metadata": {},
   "source": [
    "## Step 4: OSP Fisher Information EIV\n",
    "\n",
    "Calculate the 12 optimal DOFs to place sensors by maximizing the determinant of the Fisher Information Matrix using the Equivalent Independence method.\n",
    "\n",
    "**Fisher Information Method**:\n",
    "- **Objective**: Maximize det(Fisher Information Matrix)\n",
    "- **Algorithm**: Effective Independence (EI) - greedy sequential selection\n",
    "- **Criterion**: Maximizes information content for modal parameter estimation\n",
    "- **Advantage**: Theoretically optimal for parameter estimation accuracy"
   ]
  },
  {
   "cell_type": "code",
   "execution_count": null,
   "metadata": {},
   "outputs": [],
   "source": "# OSP using Fisher Information Matrix with Effective Independence method\nnum_sensors_fisher = 12\n\n[optimal_list_fisher, det_q] = osp_fisher_info_eiv_shm(num_sensors_fisher, mode_shapes, None)\n\nprint(f\"Fisher Information EIV optimization completed:\")\nprint(f\"  Number of optimal sensors: {num_sensors_fisher}\")\nprint(f\"  Determinant of Q matrix: {det_q}\")\nprint(f\"  Optimal DOF indices: {optimal_list_fisher}\")\n\n# Display sensor statistics\nprint(f\"\\nOptimal sensor DOFs (Fisher Information):\")\nfor i, dof in enumerate(optimal_list_fisher):\n    if dof-1 < len(resp_dof):  # Convert to 0-based indexing\n        node_id, direction = resp_dof[dof-1, :]\n        print(f\"  Sensor {i+1:2d}: DOF {dof:3d} -> Node {node_id:.0f}, Direction {direction:.0f}\")\n    else:\n        print(f\"  Sensor {i+1:2d}: DOF {dof:3d} (index out of range)\")\n\nprint(f\"\\nFisher Information criterion maximizes modal parameter estimation accuracy\")"
  },
  {
   "cell_type": "markdown",
   "metadata": {},
   "source": [
    "## Step 5: Plot Sensors With Mesh (Fisher Information)\n",
    "\n",
    "Visualize the optimal sensor locations determined by the Fisher Information method overlaid on the structural mesh.\n",
    "\n",
    "**Visualization Features**:\n",
    "- **3D wireframe mesh**: Structural geometry \n",
    "- **Sensor locations**: Red markers at optimal positions\n",
    "- **Sensor numbering**: Labels for identification\n",
    "- **Spatial distribution**: Shows coverage across structure"
   ]
  },
  {
   "cell_type": "code",
   "execution_count": null,
   "metadata": {},
   "outputs": [],
   "source": [
    "# Plot optimal sensors on mesh (Fisher Information method)\n",
    "[axes_handle_fisher_1, axes_handle_fisher_2, sensor_handle_fisher] = plot_sensors_with_mesh(\n",
    "    elements, node_layout, optimal_list_fisher, resp_dof)\n",
    "\n",
    "plt.title(f'Optimal Sensor Placement: Fisher Information Method\\n{num_sensors_fisher} Sensors, det(Q) = {det_q:.2e}')\n",
    "plt.tight_layout()\n",
    "plt.show()\n",
    "\n",
    "print(f\"\\nFisher Information sensor placement visualization completed\")\n",
    "print(f\"Red markers show optimal locations for {num_sensors_fisher} sensors\")\n",
    "print(f\"Sensor distribution maximizes information for modal parameter estimation\")"
   ]
  },
  {
   "cell_type": "markdown",
   "metadata": {},
   "source": [
    "## Step 6: OSP Using Maximum Norm\n",
    "\n",
    "Calculate the 12 optimal DOFs using the Maximum Norm method with linear mode weighting and minimum separation constraints.\n",
    "\n",
    "**Maximum Norm Method**:\n",
    "- **Objective**: Maximize weighted norm of modal responses  \n",
    "- **Weighting**: Linear weights (13, 12, 11, ..., 1) favor lower modes\n",
    "- **Distance constraint**: Minimum separation of 20 units between sensors\n",
    "- **\"Dueling\"**: Eliminates sensors that are too close together\n",
    "- **Advantage**: Ensures good spatial distribution and practical placement"
   ]
  },
  {
   "cell_type": "code",
   "execution_count": null,
   "metadata": {},
   "outputs": [],
   "source": [
    "# OSP using Maximum Norm method with constraints\n",
    "num_sensors_norm = 12\n",
    "weights = np.array(range(13, 0, -1))  # Linear weights: 13, 12, 11, ..., 1\n",
    "dueling_distance = 20  # Minimum separation distance\n",
    "\n",
    "[optimal_list_norm] = osp_max_norm_shm(\n",
    "    num_sensors_norm, mode_shapes, weights, dueling_distance, resp_dof, node_layout)\n",
    "\n",
    "print(f\"Maximum Norm optimization completed:\")\n",
    "print(f\"  Number of optimal sensors: {num_sensors_norm}\")\n",
    "print(f\"  Mode weights: {weights}\")\n",
    "print(f\"  Minimum separation distance: {dueling_distance}\")\n",
    "print(f\"  Optimal DOF indices: {optimal_list_norm}\")\n",
    "\n",
    "# Display sensor statistics\n",
    "print(f\"\\nOptimal sensor DOFs (Maximum Norm):\")\n",
    "for i, dof in enumerate(optimal_list_norm):\n",
    "    if dof-1 < len(resp_dof):  # Convert to 0-based indexing\n",
    "        node_id, direction = resp_dof[dof-1, :]\n",
    "        print(f\"  Sensor {i+1:2d}: DOF {dof:3d} -> Node {node_id:.0f}, Direction {direction:.0f}\")\n",
    "    else:\n",
    "        print(f\"  Sensor {i+1:2d}: DOF {dof:3d} (index out of range)\")\n",
    "\n",
    "print(f\"\\nMaximum Norm method ensures good spatial distribution with distance constraints\")"
   ]
  },
  {
   "cell_type": "markdown",
   "metadata": {},
   "source": [
    "## Step 7: Plot Sensors With Mesh (Maximum Norm)\n",
    "\n",
    "Visualize the optimal sensor locations determined by the Maximum Norm method overlaid on the structural mesh.\n",
    "\n",
    "**Comparison with Fisher Information**:\n",
    "- **Different distribution**: May show different spatial patterns\n",
    "- **Distance constraints**: Enforced minimum separation\n",
    "- **Mode weighting effects**: Lower modes have higher influence\n",
    "- **Practical considerations**: Better for real-world sensor deployment"
   ]
  },
  {
   "cell_type": "code",
   "execution_count": null,
   "metadata": {},
   "outputs": [],
   "source": [
    "# Plot optimal sensors on mesh (Maximum Norm method)\n",
    "[axes_handle_norm_1, axes_handle_norm_2, sensor_handle_norm] = plot_sensors_with_mesh(\n",
    "    elements, node_layout, optimal_list_norm, resp_dof)\n",
    "\n",
    "plt.title(f'Optimal Sensor Placement: Maximum Norm Method\\n{num_sensors_norm} Sensors, Min Distance = {dueling_distance}')\n",
    "plt.tight_layout()\n",
    "plt.show()\n",
    "\n",
    "print(f\"\\nMaximum Norm sensor placement visualization completed\")\n",
    "print(f\"Red markers show optimal locations for {num_sensors_norm} sensors\")\n",
    "print(f\"Sensor distribution balances modal observability with practical constraints\")"
   ]
  },
  {
   "cell_type": "markdown",
   "metadata": {},
   "source": [
    "## Analysis Summary\n",
    "\n",
    "This LADPackage optimal sensor placement demo demonstrates two fundamental approaches for designing sensor networks in structural health monitoring:\n",
    "\n",
    "### Key Results:\n",
    "\n",
    "1. **Modal Visualization**: Successfully visualized mode shapes 3 and 10 showing different spatial complexity\n",
    "2. **Fisher Information Method**: Determined 12 optimal sensors maximizing modal parameter estimation accuracy\n",
    "3. **Maximum Norm Method**: Computed 12 optimal sensors with spatial distribution constraints and mode weighting\n",
    "\n",
    "### Method Comparison:\n",
    "\n",
    "| Method | Objective | Advantages | Considerations |\n",
    "|--------|-----------|------------|----------------|\n",
    "| **Fisher Information** | Maximize det(FIM) | Theoretically optimal for estimation | May cluster sensors |\n",
    "| **Maximum Norm** | Maximize weighted response | Good spatial distribution | Requires distance tuning |\n",
    "\n",
    "### Practical Implications:\n",
    "\n",
    "- **Fisher Information**: Best for parameter estimation accuracy when sensor clustering is acceptable\n",
    "- **Maximum Norm**: Better for practical deployments requiring distributed coverage\n",
    "- **Hybrid approaches**: Can combine both criteria for balanced solutions\n",
    "\n",
    "### SHM System Design Guidelines:\n",
    "\n",
    "1. **Modal coverage**: Ensure sensors can observe critical modes\n",
    "2. **Spatial distribution**: Balance coverage with installation constraints\n",
    "3. **Mode weighting**: Prioritize modes based on damage sensitivity\n",
    "4. **Physical constraints**: Consider accessibility and wiring requirements\n",
    "\n",
    "---\n",
    "\n",
    "**Note**: This analysis provides the foundation for designing effective SHM sensor networks using modal-based optimization criteria."
   ]
  }
 ],
 "metadata": {
  "kernelspec": {
   "display_name": "Python 3",
   "language": "python",
   "name": "python3"
  },
  "language_info": {
   "codemirror_mode": {
    "name": "ipython",
    "version": 3
   },
   "file_extension": ".py",
   "mimetype": "text/x-python",
   "name": "python",
   "nbconvert_exporter": "python",
   "pygments_lexer": "ipython3",
   "version": "3.8.10"
  }
 },
 "nbformat": 4,
 "nbformat_minor": 4
}