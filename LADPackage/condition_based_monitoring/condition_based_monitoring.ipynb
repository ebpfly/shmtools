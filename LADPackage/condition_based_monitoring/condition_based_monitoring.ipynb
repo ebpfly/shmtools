{
 "cells": [
  {
   "cell_type": "markdown",
   "metadata": {},
   "source": [
    "# Condition-Based Monitoring with Power Spectral Density Analysis\n",
    "\n",
    "**LADPackage Demo: Condition-Based Monitoring**\n",
    "\n",
    "This notebook demonstrates condition-based monitoring using power spectral density (PSD) analysis for rotating machinery diagnostics. The example shows how to:\n",
    "\n",
    "1. **Import CBM data**: Load condition-based monitoring experimental data with healthy and faulty conditions\n",
    "2. **Estimate PSD**: Calculate power spectral density using Welch's method for frequency domain analysis\n",
    "3. **Visualize spectra**: Plot PSD to identify spectral signatures of different machine conditions\n",
    "\n",
    "This workflow is fundamental for bearing fault detection, gear mesh analysis, and other rotating machinery diagnostics.\n",
    "\n",
    "---\n",
    "\n",
    "**Reference**: Auto-Generated Script by mFUSE (3/19/2016)\n",
    "\n",
    "**Educational Goals**:\n",
    "- Understand frequency domain analysis for CBM applications\n",
    "- Learn to identify fault signatures in power spectra\n",
    "- Apply SHMTools for rotating machinery diagnostics"
   ]
  },
  {
   "cell_type": "markdown",
   "metadata": {},
   "source": [
    "## Setup and Imports\n",
    "\n",
    "Import necessary modules and set up the path for SHMTools access."
   ]
  },
  {
   "cell_type": "code",
   "execution_count": null,
   "metadata": {},
   "outputs": [],
   "source": [
    "import numpy as np\n",
    "import matplotlib.pyplot as plt\n",
    "import sys\n",
    "from pathlib import Path\n",
    "\n",
    "# Add project root to path for imports\n",
    "notebook_dir = Path().resolve()\n",
    "project_root = notebook_dir.parent.parent\n",
    "sys.path.insert(0, str(project_root))\n",
    "\n",
    "print(f\"Notebook directory: {notebook_dir}\")\n",
    "print(f\"Project root: {project_root}\")\n",
    "\n",
    "# Import SHMTools modules\n",
    "from examples.data.data_imports import import_cbm_data_shm\n",
    "from shmtools.core.spectral import psd_welch_shm\n",
    "from shmtools.plotting.spectral_plots import plot_psd_shm\n",
    "\n",
    "print(\"\\nSHMTools imports successful!\")\n",
    "print(\"Ready for condition-based monitoring analysis.\")"
   ]
  },
  {
   "cell_type": "markdown",
   "metadata": {},
   "source": [
    "## Step 1: Import Condition Based Monitoring Data\n",
    "\n",
    "Import condition-based monitoring example data including vibration measurements from rotating machinery under different operating conditions.\n",
    "\n",
    "**Data Description**:\n",
    "- **Vibration data**: Multi-channel time series from accelerometers\n",
    "- **Damage states**: Different bearing conditions (healthy, faulty)\n",
    "- **State list**: Condition identifiers for each measurement\n",
    "- **Sampling frequency**: Data acquisition sampling rate"
   ]
  },
  {
   "cell_type": "code",
   "execution_count": null,
   "metadata": {},
   "outputs": [],
   "source": [
    "# Import condition-based monitoring experimental data\n",
    "[dataset, damage_states, state_list, fs] = import_cbm_data_shm()\n",
    "\n",
    "print(f\"CBM Data loaded successfully:\")\n",
    "print(f\"  Dataset shape: {dataset.shape}\")\n",
    "print(f\"  Sampling frequency: {fs} Hz\")\n",
    "print(f\"  Number of conditions: {len(np.unique(damage_states))}\")\n",
    "print(f\"  Recording duration: {dataset.shape[0]/fs:.2f} seconds per channel\")\n",
    "\n",
    "# Display damage states information\n",
    "print(f\"\\nDamage states: {np.unique(damage_states)}\")\n",
    "print(f\"State list shape: {state_list.shape}\")\n",
    "\n",
    "# Show basic statistics\n",
    "print(f\"\\nData statistics:\")\n",
    "print(f\"  Mean amplitude: {np.mean(dataset):.4f}\")\n",
    "print(f\"  RMS value: {np.sqrt(np.mean(dataset**2)):.4f}\")\n",
    "print(f\"  Peak amplitude: {np.max(np.abs(dataset)):.4f}\")"
   ]
  },
  {
   "cell_type": "markdown",
   "metadata": {},
   "source": [
    "## Step 2: Power Spectral Density Via Welch's Method\n",
    "\n",
    "Estimate power spectral density via Welch's method to transform the time-domain vibration signals into the frequency domain. This reveals the spectral content and enables identification of characteristic frequencies associated with different machine conditions.\n",
    "\n",
    "**Welch's Method**:\n",
    "- **Segments data**: Divides signal into overlapping segments\n",
    "- **Applies windowing**: Reduces spectral leakage\n",
    "- **Averages periodograms**: Improves statistical reliability\n",
    "- **One-sided spectrum**: For real-valued signals"
   ]
  },
  {
   "cell_type": "code",
   "execution_count": null,
   "metadata": {},
   "outputs": [],
   "source": "# Estimate power spectral density via Welch's method\n# Using default parameters for window length, overlap, and FFT size\n[psd_matrix, f, is_one_sided] = psd_welch_shm(dataset, None, None, None, fs, None)\n\nprint(f\"PSD estimation completed:\")\nprint(f\"  PSD matrix shape: {psd_matrix.shape}\")\nprint(f\"  Frequency vector length: {len(f)}\")\nprint(f\"  One-sided spectrum: {is_one_sided}\")\nprint(f\"  Frequency range: {f[0]:.2f} to {f[-1]:.2f} Hz\")\nprint(f\"  Frequency resolution: {f[1] - f[0]:.3f} Hz\")\n\n# Display PSD statistics\nprint(f\"\\nPSD statistics:\")\nprint(f\"  Mean PSD: {np.mean(psd_matrix):.2e}\")\nprint(f\"  Peak PSD: {np.max(psd_matrix):.2e}\")\nprint(f\"  Dynamic range: {10*np.log10(np.max(psd_matrix)/np.min(psd_matrix[psd_matrix>0])):.1f} dB\")"
  },
  {
   "cell_type": "markdown",
   "metadata": {},
   "source": [
    "## Step 3: Plot Power Spectral Density\n",
    "\n",
    "Create a plot of power spectral densities to visualize the frequency content of the vibration data. This enables identification of:\n",
    "\n",
    "- **Fundamental frequencies**: Basic machine operating frequencies\n",
    "- **Harmonic content**: Integer multiples of fundamental frequencies\n",
    "- **Fault signatures**: Specific frequencies associated with defects\n",
    "- **Sidebands**: Modulation patterns indicating fault conditions\n",
    "\n",
    "**Channel Selection**: We'll analyze channel 3 as specified in the original MATLAB script."
   ]
  },
  {
   "cell_type": "code",
   "execution_count": null,
   "metadata": {},
   "outputs": [],
   "source": "# Plot power spectral density for channel 3\nchannel_index = 3  # MATLAB indexing (1-based) converted to display parameter\n\n# Create the PSD plot\naxes_handle = plot_psd_shm(psd_matrix, channel_index, is_one_sided, f)\n\n# Enhance the plot with additional information\nplt.title(f'Power Spectral Density - Channel {channel_index}\\nCondition-Based Monitoring Analysis')\nplt.xlabel('Frequency (Hz)')\nplt.ylabel('Power Spectral Density (V²/Hz)')\nplt.grid(True, alpha=0.3)\n\n# Add frequency range information\nnyquist_freq = fs / 2\nplt.axvline(x=nyquist_freq, color='r', linestyle='--', alpha=0.5, \n           label=f'Nyquist Frequency ({nyquist_freq:.0f} Hz)')\nplt.legend()\n\nplt.tight_layout()\nplt.show()\n\nprint(f\"\\nPSD plot completed for channel {channel_index}\")\nprint(f\"Analysis shows frequency content from 0 to {f[-1]:.0f} Hz\")\nprint(f\"Plot enables identification of machine condition signatures\")"
  },
  {
   "cell_type": "markdown",
   "metadata": {},
   "source": [
    "## Analysis Summary\n",
    "\n",
    "This LADPackage condition-based monitoring demo demonstrates the fundamental workflow for frequency domain analysis of rotating machinery:\n",
    "\n",
    "### Key Results:\n",
    "\n",
    "1. **Data Import**: Successfully loaded CBM experimental data with multiple channels and conditions\n",
    "2. **PSD Estimation**: Applied Welch's method to compute reliable power spectral density estimates\n",
    "3. **Visualization**: Generated frequency domain plots showing spectral characteristics\n",
    "\n",
    "### CBM Applications:\n",
    "\n",
    "- **Bearing fault detection**: Look for characteristic defect frequencies\n",
    "- **Gear mesh analysis**: Identify gear mesh frequencies and sidebands\n",
    "- **Imbalance detection**: Monitor fundamental frequency amplitudes\n",
    "- **Misalignment diagnosis**: Analyze harmonic content patterns\n",
    "\n",
    "### Next Steps:\n",
    "\n",
    "For advanced CBM analysis, consider:\n",
    "- **Envelope analysis** for bearing diagnostics\n",
    "- **Order tracking** for variable speed conditions\n",
    "- **Statistical monitoring** of spectral features over time\n",
    "- **Machine learning** for automated fault classification\n",
    "\n",
    "---\n",
    "\n",
    "**Note**: This example provides the foundation for more sophisticated condition-based monitoring systems using the SHMTools framework."
   ]
  }
 ],
 "metadata": {
  "kernelspec": {
   "display_name": "Python 3",
   "language": "python",
   "name": "python3"
  },
  "language_info": {
   "codemirror_mode": {
    "name": "ipython",
    "version": 3
   },
   "file_extension": ".py",
   "mimetype": "text/x-python",
   "name": "python",
   "nbconvert_exporter": "python",
   "pygments_lexer": "ipython3",
   "version": "3.8.10"
  }
 },
 "nbformat": 4,
 "nbformat_minor": 4
}