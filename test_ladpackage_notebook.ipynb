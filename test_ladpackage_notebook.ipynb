{
 "cells": [
  {
   "cell_type": "markdown",
   "metadata": {},
   "source": [
    "# LADPackage Function Discovery Test\n",
    "\n",
    "This notebook tests that LADPackage functions are discovered by the extension."
   ]
  },
  {
   "cell_type": "code",
   "execution_count": null,
   "metadata": {},
   "outputs": [],
   "source": [
    "import sys\n",
    "import json\n",
    "from pathlib import Path\n",
    "\n",
    "# Add project root to path\n",
    "sys.path.insert(0, '.')\n",
    "\n",
    "from shmtools.introspection import discover_functions_locally"
   ]
  },
  {
   "cell_type": "code",
   "execution_count": null,
   "metadata": {},
   "outputs": [],
   "source": [
    "# Load the config\n",
    "config_path = Path('shm_function_selector/config.json')\n",
    "with open(config_path, 'r') as f:\n",
    "    config = json.load(f)\n",
    "\n",
    "print(f\"Config has {len(config['function_discovery']['modules_to_scan'])} modules to scan\")\n",
    "print(f\"LADPackage in list: {'LADPackage' in config['function_discovery']['modules_to_scan']}\")"
   ]
  },
  {
   "cell_type": "code",
   "execution_count": null,
   "metadata": {},
   "outputs": [],
   "source": [
    "# Discover functions\n",
    "functions = discover_functions_locally(config)\n",
    "print(f\"\\nTotal functions discovered: {len(functions)}\")\n",
    "\n",
    "# Group by category\n",
    "by_category = {}\n",
    "for func in functions:\n",
    "    cat = func.get('category', 'Unknown')\n",
    "    if cat not in by_category:\n",
    "        by_category[cat] = []\n",
    "    by_category[cat].append(func)\n",
    "\n",
    "# Show LADPackage categories\n",
    "print(\"\\nLADPackage categories found:\")\n",
    "for cat in sorted(by_category.keys()):\n",
    "    if 'LADPackage' in cat:\n",
    "        print(f\"  • {cat}: {len(by_category[cat])} functions\")\n",
    "        for func in by_category[cat][:3]:  # Show first 3\n",
    "            print(f\"      - {func['name']}\")"
   ]
  },
  {
   "cell_type": "code",
   "execution_count": null,
   "metadata": {},
   "outputs": [],
   "source": [
    "# Test importing a LADPackage function directly\n",
    "from LADPackage.utils.data_import import import_3story_structure_sub_floors\n",
    "\n",
    "print(\"\\nSuccessfully imported LADPackage function!\")\n",
    "print(f\"Function: {import_3story_structure_sub_floors.__name__}\")\n",
    "print(f\"Module: {import_3story_structure_sub_floors.__module__}\")"
   ]
  },
  {
   "cell_type": "markdown",
   "metadata": {},
   "source": [
    "## Test Extension Integration\n",
    "\n",
    "Now right-click on a variable name below and check if LADPackage functions appear in the context menu:"
   ]
  },
  {
   "cell_type": "code",
   "execution_count": null,
   "metadata": {},
   "outputs": [],
   "source": [
    "# Create test variables for context menu\n",
    "import numpy as np\n",
    "\n",
    "test_data = np.random.randn(1000, 5)\n",
    "floor_numbers = [1, 2, 3]\n",
    "\n",
    "print(\"Variables created. Right-click on 'test_data' or 'floor_numbers' to see LADPackage functions.\")"
   ]
  }
 ],
 "metadata": {
  "kernelspec": {
   "display_name": "Python 3",
   "language": "python",
   "name": "python3"
  },
  "language_info": {
   "codemirror_mode": {
    "name": "ipython",
    "version": 3
   },
   "file_extension": ".py",
   "mimetype": "text/x-python",
   "name": "python",
   "nbconvert_exporter": "python",
   "pygments_lexer": "ipython3",
   "version": "3.10.0"
  }
 },
 "nbformat": 4,
 "nbformat_minor": 4
}