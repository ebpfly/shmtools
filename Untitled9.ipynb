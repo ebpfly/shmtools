{
 "cells": [
  {
   "cell_type": "code",
   "execution_count": 1,
   "id": "c107fcc8-7401-4d68-abf3-ff124b06bc0f",
   "metadata": {},
   "outputs": [
    {
     "data": {
      "text/html": [
       "\n",
       "        <div style=\"background: #007bff; color: white; padding: 10px; border-radius: 5px; margin-bottom: 10px;\">\n",
       "            <h3 style=\"margin: 0;\">🔧 SHM Function Selector</h3>\n",
       "            <p style=\"margin: 5px 0 0 0; font-size: 14px;\">Click any button to insert code into the next cell</p>\n",
       "        </div>\n",
       "        "
      ],
      "text/plain": [
       "<IPython.core.display.HTML object>"
      ]
     },
     "metadata": {},
     "output_type": "display_data"
    },
    {
     "data": {
      "text/html": [
       "\n",
       "            <div style=\"background: #f8f9fa; padding: 8px 12px; border-left: 4px solid #007bff; margin: 15px 0 8px 0;\">\n",
       "                <strong>Spectral</strong>\n",
       "            </div>\n",
       "            "
      ],
      "text/plain": [
       "<IPython.core.display.HTML object>"
      ]
     },
     "metadata": {},
     "output_type": "display_data"
    },
    {
     "data": {
      "application/vnd.jupyter.widget-view+json": {
       "model_id": "dc15ee204cdf4637a81eb4db38f3a177",
       "version_major": 2,
       "version_minor": 0
      },
      "text/plain": [
       "HBox(children=(Button(button_style='info', description='PSD Welch', layout=Layout(margin='2px 5px 2px 0', widt…"
      ]
     },
     "metadata": {},
     "output_type": "display_data"
    },
    {
     "data": {
      "text/html": [
       "\n",
       "            <div style=\"background: #f8f9fa; padding: 8px 12px; border-left: 4px solid #007bff; margin: 15px 0 8px 0;\">\n",
       "                <strong>Time Series</strong>\n",
       "            </div>\n",
       "            "
      ],
      "text/plain": [
       "<IPython.core.display.HTML object>"
      ]
     },
     "metadata": {},
     "output_type": "display_data"
    },
    {
     "data": {
      "application/vnd.jupyter.widget-view+json": {
       "model_id": "f29c4690d6a240a1a75981ab179dac91",
       "version_major": 2,
       "version_minor": 0
      },
      "text/plain": [
       "HBox(children=(Button(button_style='info', description='AR Model', layout=Layout(margin='2px 5px 2px 0', width…"
      ]
     },
     "metadata": {},
     "output_type": "display_data"
    },
    {
     "data": {
      "text/html": [
       "\n",
       "            <div style=\"background: #f8f9fa; padding: 8px 12px; border-left: 4px solid #007bff; margin: 15px 0 8px 0;\">\n",
       "                <strong>Outlier Detection</strong>\n",
       "            </div>\n",
       "            "
      ],
      "text/plain": [
       "<IPython.core.display.HTML object>"
      ]
     },
     "metadata": {},
     "output_type": "display_data"
    },
    {
     "data": {
      "application/vnd.jupyter.widget-view+json": {
       "model_id": "f36a2082d6b0424d8fcf7d02b501753d",
       "version_major": 2,
       "version_minor": 0
      },
      "text/plain": [
       "HBox(children=(Button(button_style='info', description='Learn PCA', layout=Layout(margin='2px 5px 2px 0', widt…"
      ]
     },
     "metadata": {},
     "output_type": "display_data"
    },
    {
     "data": {
      "text/html": [
       "\n",
       "            <div style=\"background: #f8f9fa; padding: 8px 12px; border-left: 4px solid #007bff; margin: 15px 0 8px 0;\">\n",
       "                <strong>Filtering</strong>\n",
       "            </div>\n",
       "            "
      ],
      "text/plain": [
       "<IPython.core.display.HTML object>"
      ]
     },
     "metadata": {},
     "output_type": "display_data"
    },
    {
     "data": {
      "application/vnd.jupyter.widget-view+json": {
       "model_id": "256a991bc19f41be99cc4e7e62a6d1e1",
       "version_major": 2,
       "version_minor": 0
      },
      "text/plain": [
       "HBox(children=(Button(button_style='info', description='Bandpass', layout=Layout(margin='2px 5px 2px 0', width…"
      ]
     },
     "metadata": {},
     "output_type": "display_data"
    }
   ],
   "source": [
    "import shmtools\n",
    "shmtools.gui()"
   ]
  },
  {
   "cell_type": "code",
   "execution_count": null,
   "id": "63fdd03b-b6c2-4c91-ad7e-1f4ec0cfd96b",
   "metadata": {},
   "outputs": [],
   "source": []
  }
 ],
 "metadata": {
  "kernelspec": {
   "display_name": "Python 3 (ipykernel)",
   "language": "python",
   "name": "python3"
  },
  "language_info": {
   "codemirror_mode": {
    "name": "ipython",
    "version": 3
   },
   "file_extension": ".py",
   "mimetype": "text/x-python",
   "name": "python",
   "nbconvert_exporter": "python",
   "pygments_lexer": "ipython3",
   "version": "3.9.6"
  }
 },
 "nbformat": 4,
 "nbformat_minor": 5
}
