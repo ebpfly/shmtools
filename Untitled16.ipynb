{
 "cells": [
  {
   "cell_type": "code",
   "execution_count": 3,
   "id": "c675d644-e920-4ff0-9f48-55b195ab2a33",
   "metadata": {},
   "outputs": [
    {
     "data": {
      "application/javascript": [
       "\n",
       "// Remove existing panels\n",
       "document.querySelectorAll('[id*=\"shm-\"]').forEach(el => el.remove());\n",
       "\n",
       "// Generate insert commands\n",
       "function generateInsert(codeKey) {\n",
       "    const insertCmd = `insert_shm_code(shm_codes[\"${codeKey}\"])`;\n",
       "    \n",
       "    // Copy to clipboard for easy pasting\n",
       "    navigator.clipboard.writeText(insertCmd).then(() => {\n",
       "        console.log('✅ Insert command copied to clipboard:', insertCmd);\n",
       "    }).catch(() => {\n",
       "        console.log('Insert command:', insertCmd);\n",
       "    });\n",
       "    \n",
       "    // Also display it prominently\n",
       "    const display = document.getElementById('insert-display');\n",
       "    display.innerHTML = `\n",
       "        <div style=\"background: #e7f3ff; padding: 15px; border-radius: 5px; margin: 10px 0; border: 2px solid #007bff;\">\n",
       "            <strong>📋 Run this in next cell:</strong><br>\n",
       "            <code style=\"font-size: 14px; background: white; padding: 5px; border-radius: 3px; display: block; margin-top: 5px;\">\n",
       "                ${insertCmd}\n",
       "            </code>\n",
       "        </div>\n",
       "    `;\n",
       "}\n",
       "\n",
       "// Create working GUI\n",
       "const panel = document.createElement('div');\n",
       "panel.id = 'shm-simple-panel';\n",
       "panel.style.cssText = \\`\n",
       "    position: fixed;\n",
       "    top: 60px;\n",
       "    right: 20px;\n",
       "    background: white;\n",
       "    border: 2px solid #007bff;\n",
       "    border-radius: 8px;\n",
       "    box-shadow: 0 4px 20px rgba(0,0,0,0.15);\n",
       "    z-index: 1000;\n",
       "    width: 320px;\n",
       "    font-family: Arial;\n",
       "\\`;\n",
       "\n",
       "panel.innerHTML = \\`\n",
       "    <div style=\"background: #007bff; color: white; padding: 12px 16px; font-weight: bold; border-radius: 6px 6px 0 0;\">\n",
       "        🔧 SHM Functions\n",
       "    </div>\n",
       "    <div id=\"insert-display\"></div>\n",
       "    <div style=\"padding: 10px;\">\n",
       "        <div style=\"background: #f8f9fa; padding: 8px; margin-bottom: 8px; font-weight: bold; color: #495057; font-size: 12px;\">\n",
       "            Spectral Analysis\n",
       "        </div>\n",
       "        <button onclick=\"generateInsert('psd_welch')\" style=\"width: 100%; padding: 8px; margin: 2px 0; background: #007bff; color: white; border: none; border-radius: 4px; cursor: pointer;\">\n",
       "            PSD Welch\n",
       "        </button>\n",
       "        <button onclick=\"generateInsert('spectrogram')\" style=\"width: 100%; padding: 8px; margin: 2px 0; background: #007bff; color: white; border: none; border-radius: 4px; cursor: pointer;\">\n",
       "            Spectrogram  \n",
       "        </button>\n",
       "        \n",
       "        <div style=\"background: #f8f9fa; padding: 8px; margin: 8px 0 8px 0; font-weight: bold; color: #495057; font-size: 12px;\">\n",
       "            Time Series\n",
       "        </div>\n",
       "        <button onclick=\"generateInsert('ar_model')\" style=\"width: 100%; padding: 8px; margin: 2px 0; background: #007bff; color: white; border: none; border-radius: 4px; cursor: pointer;\">\n",
       "            AR Model\n",
       "        </button>\n",
       "        \n",
       "        <div style=\"background: #f8f9fa; padding: 8px; margin: 8px 0 8px 0; font-weight: bold; color: #495057; font-size: 12px;\">\n",
       "            Outlier Detection\n",
       "        </div>\n",
       "        <button onclick=\"generateInsert('learn_pca')\" style=\"width: 100%; padding: 8px; margin: 2px 0; background: #007bff; color: white; border: none; border-radius: 4px; cursor: pointer;\">\n",
       "            Learn PCA\n",
       "        </button>\n",
       "        <button onclick=\"generateInsert('score_pca')\" style=\"width: 100%; padding: 8px; margin: 2px 0; background: #007bff; color: white; border: none; border-radius: 4px; cursor: pointer;\">\n",
       "            Score PCA\n",
       "        </button>\n",
       "        \n",
       "        <div style=\"background: #f8f9fa; padding: 8px; margin: 8px 0 8px 0; font-weight: bold; color: #495057; font-size: 12px;\">\n",
       "            Filtering\n",
       "        </div>\n",
       "        <button onclick=\"generateInsert('bandpass')\" style=\"width: 100%; padding: 8px; margin: 2px 0; background: #007bff; color: white; border: none; border-radius: 4px; cursor: pointer;\">\n",
       "            Bandpass Filter\n",
       "        </button>\n",
       "    </div>\n",
       "\\`;\n",
       "\n",
       "window.generateInsert = generateInsert;\n",
       "document.body.appendChild(panel);\n",
       "\n",
       "console.log('✅ Simple SHM GUI loaded');\n"
      ],
      "text/plain": [
       "<IPython.core.display.Javascript object>"
      ]
     },
     "metadata": {},
     "output_type": "display_data"
    },
    {
     "name": "stdout",
     "output_type": "stream",
     "text": [
      "🔧 Simple SHM GUI loaded!\n",
      "💡 Click any function button → run the generated command in next cell\n",
      "💡 Commands are automatically copied to clipboard!\n"
     ]
    }
   ],
   "source": [
    "%run simple_solution.py"
   ]
  },
  {
   "cell_type": "code",
   "execution_count": null,
   "id": "64c376e2-1248-4da5-ac25-2c563d1cc9c2",
   "metadata": {},
   "outputs": [],
   "source": []
  }
 ],
 "metadata": {
  "kernelspec": {
   "display_name": "Python 3 (ipykernel)",
   "language": "python",
   "name": "python3"
  },
  "language_info": {
   "codemirror_mode": {
    "name": "ipython",
    "version": 3
   },
   "file_extension": ".py",
   "mimetype": "text/x-python",
   "name": "python",
   "nbconvert_exporter": "python",
   "pygments_lexer": "ipython3",
   "version": "3.9.6"
  }
 },
 "nbformat": 4,
 "nbformat_minor": 5
}
