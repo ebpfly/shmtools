{
 "cells": [
  {
   "cell_type": "code",
   "execution_count": 1,
   "id": "2eb68d92-3052-4e92-9062-d5107d9f2407",
   "metadata": {},
   "outputs": [
    {
     "data": {
      "application/javascript": [
       "\n",
       "document.querySelectorAll('[id*=\"shm-dropdown\"]').forEach(el => el.remove());\n",
       "\n",
       "const funcs = {\n",
       "    'Spectral': [\n",
       "        {name: 'PSD Welch', code: 'frequencies, psd = shmtools.psd_welch(x=data, fs=fs, nperseg=1024)'},\n",
       "        {name: 'Spectrogram', code: 'f, t, Sxx = shmtools.spectrogram(x=data, fs=fs, nperseg=1024)'}\n",
       "    ],\n",
       "    'Time Series': [\n",
       "        {name: 'AR Model', code: 'features, residuals = shmtools.ar_model(X=data, ar_order=15)'}\n",
       "    ],\n",
       "    'Outlier Detection': [\n",
       "        {name: 'Learn PCA', code: 'model = shmtools.learn_pca(X=features, per_var=0.95)'},\n",
       "        {name: 'Score PCA', code: 'scores, outliers = shmtools.score_pca(Y=test_data, model=model)'}\n",
       "    ],\n",
       "    'Filtering': [\n",
       "        {name: 'Bandpass', code: 'filtered = shmtools.bandpass_filter(x=signal, lowcut=10, highcut=100, fs=fs)'}\n",
       "    ]\n",
       "};\n",
       "\n",
       "const panel = document.createElement('div');\n",
       "panel.id = 'shm-dropdown-panel';\n",
       "panel.style.cssText = 'position:fixed; top:60px; right:20px; background:white; border:2px solid #007bff; border-radius:8px; box-shadow:0 4px 20px rgba(0,0,0,0.15); z-index:1000; width:280px; font-family:Arial,sans-serif;';\n",
       "\n",
       "const header = document.createElement('div');\n",
       "header.innerHTML = '🔧 SHM Functions';\n",
       "header.style.cssText = 'background:#007bff; color:white; padding:12px 16px; font-weight:bold; font-size:14px; border-radius:6px 6px 0 0; cursor:move;';\n",
       "\n",
       "let isDragging = false, dragOffset = {x:0, y:0};\n",
       "header.onmousedown = e => {\n",
       "    isDragging = true;\n",
       "    dragOffset.x = e.clientX - panel.offsetLeft;\n",
       "    dragOffset.y = e.clientY - panel.offsetTop;\n",
       "};\n",
       "document.onmousemove = e => {\n",
       "    if (isDragging) {\n",
       "        panel.style.left = (e.clientX - dragOffset.x) + 'px';\n",
       "        panel.style.top = (e.clientY - dragOffset.y) + 'px';\n",
       "        panel.style.right = 'auto';\n",
       "    }\n",
       "};\n",
       "document.onmouseup = () => isDragging = false;\n",
       "\n",
       "panel.appendChild(header);\n",
       "\n",
       "const content = document.createElement('div');\n",
       "content.style.cssText = 'max-height:400px; overflow-y:auto;';\n",
       "\n",
       "Object.keys(funcs).forEach(category => {\n",
       "    const catHeader = document.createElement('div');\n",
       "    catHeader.textContent = category;\n",
       "    catHeader.style.cssText = 'padding:10px 16px; background:#f8f9fa; font-weight:bold; color:#495057; font-size:12px; border-bottom:1px solid #dee2e6;';\n",
       "    content.appendChild(catHeader);\n",
       "    \n",
       "    funcs[category].forEach(func => {\n",
       "        const item = document.createElement('div');\n",
       "        item.textContent = func.name;\n",
       "        item.style.cssText = 'padding:10px 16px; cursor:pointer; border-bottom:1px solid #f1f3f4; transition:background-color 0.2s;';\n",
       "        \n",
       "        item.onmouseover = () => item.style.backgroundColor = '#e3f2fd';\n",
       "        item.onmouseout = () => item.style.backgroundColor = 'transparent';\n",
       "        item.onclick = () => {\n",
       "            navigator.clipboard.writeText(func.code);\n",
       "            console.log('Copied to clipboard:', func.code);\n",
       "        };\n",
       "        \n",
       "        content.appendChild(item);\n",
       "    });\n",
       "});\n",
       "\n",
       "panel.appendChild(content);\n",
       "document.body.appendChild(panel);\n",
       "console.log('✅ SHM Extension loaded - click functions to copy code');\n"
      ],
      "text/plain": [
       "<IPython.core.display.Javascript object>"
      ]
     },
     "metadata": {},
     "output_type": "display_data"
    },
    {
     "name": "stdout",
     "output_type": "stream",
     "text": [
      "🔧 SHM Function Selector loaded! Click functions to copy code to clipboard.\n"
     ]
    }
   ],
   "source": [
    "%run shm.py"
   ]
  },
  {
   "cell_type": "code",
   "execution_count": null,
   "id": "26521374-588b-4343-800d-4462eef7e453",
   "metadata": {},
   "outputs": [],
   "source": [
    "model = shmtools.learn_pca(X=features, per_var=0.95)"
   ]
  }
 ],
 "metadata": {
  "kernelspec": {
   "display_name": "Python 3 (ipykernel)",
   "language": "python",
   "name": "python3"
  },
  "language_info": {
   "codemirror_mode": {
    "name": "ipython",
    "version": 3
   },
   "file_extension": ".py",
   "mimetype": "text/x-python",
   "name": "python",
   "nbconvert_exporter": "python",
   "pygments_lexer": "ipython3",
   "version": "3.9.6"
  }
 },
 "nbformat": 4,
 "nbformat_minor": 5
}
